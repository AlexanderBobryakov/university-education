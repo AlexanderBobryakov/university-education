{
 "cells": [
  {
   "cell_type": "markdown",
   "metadata": {},
   "source": [
    "<center>\n",
    "\n",
    "# Курс \"Основы Python для анализа данных\"\n",
    "\n",
    "## Артамонов Игорь Михайлович\n",
    "## Факультет \"Прикладная математика\" МАИ\n",
    "\n",
    "### Занятие № 3.  Объектно ориентированное и функциональное программирование\n",
    "\n",
    "</center>\n"
   ]
  },
  {
   "cell_type": "markdown",
   "metadata": {},
   "source": [
    "## Общение / вопросы по курсу\n",
    "\n",
    "Платформа для групповой работы Atlassian Confluence факультета \"Прикладная математика\"\n",
    "\n",
    "https://mai.moscow/display/PYTML"
   ]
  },
  {
   "cell_type": "markdown",
   "metadata": {},
   "source": [
    "* <b>Занятие 3. Объектно ориентированное и функциональное программирование</b>\n",
    "       * Объектно ориентированное программирование\n",
    "           * Общие понятия\n",
    "           * ООП в Python\n",
    "       * Функциональное программирование\n",
    "           * Общие понятия\n",
    "           * ФП в Python"
   ]
  },
  {
   "cell_type": "markdown",
   "metadata": {},
   "source": [
    "## virtualenv + Jupyter notebook"
   ]
  },
  {
   "cell_type": "markdown",
   "metadata": {},
   "source": [
    "```\n",
    "<Ctrl> + <Alt> + T - новое окно терминала\n",
    "```"
   ]
  },
  {
   "cell_type": "markdown",
   "metadata": {},
   "source": [
    "```\n",
    "$ conda -V\n",
    "\n",
    "$ conda update conda\n",
    "\n",
    "$ conda search \"^python$\"\n",
    "\n",
    "$ conda create -n yourenvname python=x.x anaconda\n",
    "\n",
    "$ source activate yourenvname\n",
    "\n",
    "$ jupyter notebook\n",
    "\n",
    "$ conda install -n yourenvname [package]\n",
    "```"
   ]
  },
  {
   "cell_type": "markdown",
   "metadata": {},
   "source": [
    "# Общее"
   ]
  },
  {
   "cell_type": "markdown",
   "metadata": {},
   "source": [
    "* Python позволяет писать в рамках большинства подходов к программированию. Часто говорят, что он поддерживает несколько __парадигм__ программирования:\n",
    "    - императивное\n",
    "    - структурное\n",
    "    - объектно-ориентированное\n",
    "    - функциональное\n",
    "* При наличии дополнительных пакетов (Kanren + SymPy) поддерживает даже логическое программирование\n",
    "* Такие языки называют многопарадигменными (_multi-paradigm programming language_)"
   ]
  },
  {
   "cell_type": "markdown",
   "metadata": {},
   "source": [
    "### Когда недостаточно императивного программирования:"
   ]
  },
  {
   "cell_type": "markdown",
   "metadata": {},
   "source": [
    "* много (в том числе - очень) кода\n",
    "* можно выделить структуру задачи через функции или объекты\n",
    "* использование внешних библиотек, использующих определенный подход (например, почти все интерфейсные\n",
    "  библиотеки используют объектно-ориентированный подход\n",
    "* рефакторинг кода для улучшения его структуры\n",
    "* хорошее понимание одной из парадигм и умение \"раскладывать\" в неё задачи"
   ]
  },
  {
   "cell_type": "markdown",
   "metadata": {},
   "source": [
    "## <font color=blue>ВАЖНО!</font>"
   ]
  },
  {
   "cell_type": "markdown",
   "metadata": {},
   "source": [
    "* наличие инструментов и использование парадигмы - это __разные__ вещи\n",
    "* правильное понимание и использование парадигмы часто __важнее__, чем наличие инструментов\n",
    "* многие инструменты могут успешно использоваться __вне__ \"чистого\" объектно-ориентированного или функционального кода"
   ]
  },
  {
   "cell_type": "code",
   "execution_count": 47,
   "metadata": {},
   "outputs": [],
   "source": [
    "import numpy as np\n",
    "import pandas as pd\n",
    "import matplotlib.pyplot as plt\n",
    "import scipy as sc\n",
    "%matplotlib inline"
   ]
  },
  {
   "cell_type": "markdown",
   "metadata": {},
   "source": [
    "# Объектно-ориентированное программирование"
   ]
  },
  {
   "cell_type": "markdown",
   "metadata": {},
   "source": [
    "## Основные принципы"
   ]
  },
  {
   "cell_type": "markdown",
   "metadata": {},
   "source": [
    "* способ __структурирования__ программы\n",
    "* поведение и свойства (чего-то) помещены в индивидуальные __объекты__\n",
    "* объект является представителем __класса__"
   ]
  },
  {
   "cell_type": "markdown",
   "metadata": {},
   "source": [
    "__Класс__ - определяет поведение __группы объектов__"
   ]
  },
  {
   "cell_type": "markdown",
   "metadata": {},
   "source": [
    "__Объект__ (__пример__ класса) - содержит реальные значения, относящиеся непосредственно к нему"
   ]
  },
  {
   "cell_type": "markdown",
   "metadata": {},
   "source": [
    "```python\n",
    "class my_class(superclass(es)):\n",
    "    \n",
    "    def __init__(self):\n",
    "        my_list = []\n",
    "        my_dict = {1:1}\n",
    "        n = 0\n",
    "        pass\n",
    "    \n",
    "    def method1(self, *args):\n",
    "        pass\n",
    "    \n",
    "    def method2(self, *args)\n",
    "        return x\n",
    "    \n",
    "    def __len__(self):\n",
    "        return n\n",
    "```"
   ]
  },
  {
   "cell_type": "markdown",
   "metadata": {},
   "source": [
    "self - обращение к переменной объекта\n",
    "var != self.var"
   ]
  },
  {
   "cell_type": "code",
   "execution_count": 2,
   "metadata": {},
   "outputs": [],
   "source": [
    "class Gender:\n",
    "    def __init__(self, gender):\n",
    "        self.gender = gender\n",
    "\n",
    "    def __str__(self):\n",
    "        return self.gender\n",
    "    \n",
    "    def get():\n",
    "        return self.gender\n",
    "    \n",
    "    def set(gender):\n",
    "        self.gender = gender\n"
   ]
  },
  {
   "cell_type": "code",
   "execution_count": 3,
   "metadata": {
    "scrolled": true
   },
   "outputs": [],
   "source": [
    "class Human:\n",
    "    \n",
    "    population = 0\n",
    "    \n",
    "    def __init__(self, name, age, gender):\n",
    "        self.name = name\n",
    "        self.age = age\n",
    "        self.gender = gender\n",
    "        Human.population += 1\n",
    "    \n",
    "    def __str__(self):\n",
    "        return 'Имя: {}, возраст: {}, пол: {}'.format(self.name, self.age, self.gender)\n",
    "    \n",
    "    def get_name(self):\n",
    "        return self.name\n",
    "\n",
    "    @classmethod\n",
    "    def how_many(cls):\n",
    "        return  Human.population\n"
   ]
  },
  {
   "cell_type": "code",
   "execution_count": 4,
   "metadata": {},
   "outputs": [
    {
     "data": {
      "text/plain": [
       "0"
      ]
     },
     "execution_count": 4,
     "metadata": {},
     "output_type": "execute_result"
    }
   ],
   "source": [
    "Human.how_many()"
   ]
  },
  {
   "cell_type": "code",
   "execution_count": 5,
   "metadata": {},
   "outputs": [
    {
     "name": "stdout",
     "output_type": "stream",
     "text": [
      "<class '__main__.Human'> Имя: Вася, возраст: 30, пол: М\n"
     ]
    }
   ],
   "source": [
    "vasya = Human('Вася', 30, Gender('М'))\n",
    "print(type(vasya), vasya)"
   ]
  },
  {
   "cell_type": "code",
   "execution_count": 6,
   "metadata": {},
   "outputs": [
    {
     "data": {
      "text/plain": [
       "<__main__.Human at 0x17973f08>"
      ]
     },
     "execution_count": 6,
     "metadata": {},
     "output_type": "execute_result"
    }
   ],
   "source": [
    "Human('Петя', 32, Gender('М'))"
   ]
  },
  {
   "cell_type": "code",
   "execution_count": 7,
   "metadata": {},
   "outputs": [],
   "source": [
    "class Man(Human):\n",
    "    def __init__(self, name, age, gender):\n",
    "        Human.__init__(self, name, age, Gender('M'))\n",
    "    \n",
    "    def get_name(self):\n",
    "        return 'Меня зовут ' + Human.get_name(self)"
   ]
  },
  {
   "cell_type": "code",
   "execution_count": null,
   "metadata": {},
   "outputs": [],
   "source": []
  },
  {
   "cell_type": "code",
   "execution_count": 8,
   "metadata": {},
   "outputs": [
    {
     "name": "stdout",
     "output_type": "stream",
     "text": [
      "2\n"
     ]
    }
   ],
   "source": [
    "print(Human.how_many())"
   ]
  },
  {
   "cell_type": "code",
   "execution_count": 9,
   "metadata": {},
   "outputs": [],
   "source": [
    "vasya = Man('Вася', 30, Gender('М'))"
   ]
  },
  {
   "cell_type": "code",
   "execution_count": 10,
   "metadata": {},
   "outputs": [
    {
     "name": "stdout",
     "output_type": "stream",
     "text": [
      "Имя: Вася, возраст: 30, пол: M\n"
     ]
    }
   ],
   "source": [
    "print(vasya)"
   ]
  },
  {
   "cell_type": "code",
   "execution_count": 11,
   "metadata": {},
   "outputs": [
    {
     "name": "stdout",
     "output_type": "stream",
     "text": [
      "Имя: Вася, возраст: 30, пол: M\n"
     ]
    },
    {
     "data": {
      "text/plain": [
       "(None, __main__.Man)"
      ]
     },
     "execution_count": 11,
     "metadata": {},
     "output_type": "execute_result"
    }
   ],
   "source": [
    "print(vasya), type(vasya)"
   ]
  },
  {
   "cell_type": "code",
   "execution_count": 12,
   "metadata": {},
   "outputs": [
    {
     "data": {
      "text/plain": [
       "True"
      ]
     },
     "execution_count": 12,
     "metadata": {},
     "output_type": "execute_result"
    }
   ],
   "source": [
    "isinstance(vasya, object)"
   ]
  },
  {
   "cell_type": "code",
   "execution_count": null,
   "metadata": {},
   "outputs": [],
   "source": []
  },
  {
   "cell_type": "code",
   "execution_count": 13,
   "metadata": {},
   "outputs": [
    {
     "data": {
      "text/plain": [
       "True"
      ]
     },
     "execution_count": 13,
     "metadata": {},
     "output_type": "execute_result"
    }
   ],
   "source": [
    "isinstance(vasya, Man)"
   ]
  },
  {
   "cell_type": "code",
   "execution_count": 14,
   "metadata": {},
   "outputs": [
    {
     "data": {
      "text/plain": [
       "False"
      ]
     },
     "execution_count": 14,
     "metadata": {},
     "output_type": "execute_result"
    }
   ],
   "source": [
    "isinstance(vasya, list)"
   ]
  },
  {
   "cell_type": "code",
   "execution_count": 15,
   "metadata": {},
   "outputs": [
    {
     "data": {
      "text/plain": [
       "True"
      ]
     },
     "execution_count": 15,
     "metadata": {},
     "output_type": "execute_result"
    }
   ],
   "source": [
    "isinstance([1,2,3], list)"
   ]
  },
  {
   "cell_type": "markdown",
   "metadata": {},
   "source": [
    "## <font color=red>ЗАДАНИЕ</font>"
   ]
  },
  {
   "cell_type": "markdown",
   "metadata": {},
   "source": [
    "Реализуйте класс клеток (cell) со следующими функциями:<br>\n",
    "* при создании у клетки задается имя (строка)\n",
    "* hello - клетка печатает \"Клетка:\" плюс свое имя\n",
    "* die - клетка погибает\n",
    "* divide - возвращяет tuple из двух новых клеток, к имени старой клетки добавлются 0 и 1\n",
    "    старая клетка погибает\n",
    "* Надо сохранять количество клеток в переменной класса"
   ]
  },
  {
   "cell_type": "code",
   "execution_count": 96,
   "metadata": {},
   "outputs": [],
   "source": [
    "class cell:\n",
    "    \n",
    "    counter = 0\n",
    "    \n",
    "    def __init__(self, name):\n",
    "        self.name = name\n",
    "        cell.counter += 1\n",
    "        pass\n",
    "    \n",
    "    def hello(self):\n",
    "        print(\"Клетка: \", self.name)\n",
    "        pass\n",
    "    \n",
    "    def die(self):\n",
    "        cell.counter = cell.counter - 1\n",
    "        self = None\n",
    "        \n",
    "    def divide(self):\n",
    "        cell1 = cell(self.name+\"0\")\n",
    "        cell2 = cell(self.name+\"1\")\n",
    "        cell.counter = cell.counter - 1\n",
    "        self = None\n",
    "        return (cell1, cell2)\n",
    "    \n",
    "    @classmethod\n",
    "    def how_many(cls):\n",
    "        return  cell.counter\n",
    "    "
   ]
  },
  {
   "cell_type": "code",
   "execution_count": 99,
   "metadata": {},
   "outputs": [
    {
     "name": "stdout",
     "output_type": "stream",
     "text": [
      "5\n",
      "Клетка:  cell\n",
      "Клетка:  cell\n",
      "6\n"
     ]
    }
   ],
   "source": [
    "mycell = cell(\"cell\")\n",
    "print(cell.how_many())\n",
    "mycell.hello()\n",
    "mycell.die\n",
    "mycell.divide()\n",
    "mycell.hello()\n",
    "print(cell.how_many())"
   ]
  },
  {
   "cell_type": "markdown",
   "metadata": {},
   "source": [
    "#### Чего в Python нет:\n",
    "    * Перегрузки функций"
   ]
  },
  {
   "cell_type": "markdown",
   "metadata": {},
   "source": [
    "#### Что есть:\n",
    "    * Перегрузка операторов\n",
    "        * Арифметических\n",
    "        * Сравнения\n",
    "        * Как бинарных (+,-), так и унарных (-)\n",
    "    * Определение \"стандартных\" функций (len, str)"
   ]
  },
  {
   "cell_type": "code",
   "execution_count": 17,
   "metadata": {},
   "outputs": [],
   "source": [
    "class MyVector: \n",
    "    def __init__(self, a, b): \n",
    "        self.a = a \n",
    "        self.b = b \n",
    "    \n",
    "    def __len__(self):\n",
    "        return math.sqrt(self.a**2 + self.b**2)\n",
    "\n",
    "    # adding two objects  \n",
    "    def __add__(self, other): \n",
    "        return MyVector(self.a + other.a, self.b + other.b )\n",
    "  \n",
    "    def __neg__(self): \n",
    "        return MyVector(-self.a, -self.b)\n",
    "  \n",
    "    def __str__(self): \n",
    "        return f\"({self.a}, {self.b})\"\n",
    "    \n",
    "    def __lt__(self, other): \n",
    "        return self.__len__() < other.__len__()\n",
    "        \n",
    "    def __eq__(self, other):\n",
    "        return self.a == other.a and self.b == other.b\n"
   ]
  },
  {
   "cell_type": "code",
   "execution_count": 18,
   "metadata": {},
   "outputs": [
    {
     "name": "stdout",
     "output_type": "stream",
     "text": [
      "(2, 3) (2, 3) (3, 5)\n"
     ]
    }
   ],
   "source": [
    "a = MyVector(2,3)\n",
    "b = MyVector(2,3)\n",
    "c = MyVector(3,5)\n",
    "\n",
    "print(a, b, c)"
   ]
  },
  {
   "cell_type": "code",
   "execution_count": 19,
   "metadata": {},
   "outputs": [
    {
     "data": {
      "text/plain": [
       "<__main__.MyVector at 0x1797bdc8>"
      ]
     },
     "execution_count": 19,
     "metadata": {},
     "output_type": "execute_result"
    }
   ],
   "source": [
    "a + b"
   ]
  },
  {
   "cell_type": "code",
   "execution_count": 20,
   "metadata": {},
   "outputs": [],
   "source": [
    "z = b + c + c"
   ]
  },
  {
   "cell_type": "code",
   "execution_count": 21,
   "metadata": {},
   "outputs": [
    {
     "name": "stdout",
     "output_type": "stream",
     "text": [
      "(8, 13)\n"
     ]
    }
   ],
   "source": [
    "print(z)"
   ]
  },
  {
   "cell_type": "code",
   "execution_count": 22,
   "metadata": {},
   "outputs": [
    {
     "data": {
      "text/plain": [
       "<__main__.MyVector at 0x1797e1c8>"
      ]
     },
     "execution_count": 22,
     "metadata": {},
     "output_type": "execute_result"
    }
   ],
   "source": [
    "-a"
   ]
  },
  {
   "cell_type": "markdown",
   "metadata": {},
   "source": [
    "# Функциональное программирование"
   ]
  },
  {
   "cell_type": "markdown",
   "metadata": {},
   "source": [
    "## Основные принципы"
   ]
  },
  {
   "cell_type": "markdown",
   "metadata": {},
   "source": [
    "__\"Чистое\" функциональное программирование__<br>\n",
    "\n",
    "* Функциональное программирование основано на испольовании функций и их композиций\n",
    "* Переменные отсутствуют, только константы\n",
    "* Используются только неизменяемые структуры данных\n",
    "* Нет циклов, нелокальных переходов и исключений\n",
    "* Нет побочных эффектов. Для операций с побочными эффектами используются монады"
   ]
  },
  {
   "cell_type": "markdown",
   "metadata": {},
   "source": [
    "В начале оно кажется очень сложным и непонятным ..."
   ]
  },
  {
   "cell_type": "markdown",
   "metadata": {},
   "source": [
    "### Чистота функций\n",
    "* функция возвращает одинаковый результат при одинаковых значениях аргументов\n",
    "* у функции отсутствуют побочные эффекты -> не зависит от контекста\n"
   ]
  },
  {
   "cell_type": "code",
   "execution_count": 23,
   "metadata": {},
   "outputs": [],
   "source": [
    "def pure_func(x):\n",
    "    return 2 * 3.1415926 * x \n",
    "\n",
    "y = 2\n",
    " \n",
    "def impure_func(x):\n",
    "    y = y + 2 * 3.1415926 * x\n",
    "    return y"
   ]
  },
  {
   "cell_type": "markdown",
   "metadata": {},
   "source": [
    "### Следствия\n",
    "* могут выполняться (оцениваться) в любом порядке\n",
    "* удобны для параллельного выполнения<br>"
   ]
  },
  {
   "cell_type": "markdown",
   "metadata": {},
   "source": [
    "### Вызов чистой функции всегда может быть заменен на результат (ссылочная прозрачность)\n",
    "* проще  тестирование (функция \"изолирована\")\n",
    "* читаемость (не надо анализировать другие функции)\n",
    "* возможность анализа и валидации кода"
   ]
  },
  {
   "cell_type": "markdown",
   "metadata": {},
   "source": [
    "### Первоклассные функции"
   ]
  },
  {
   "cell_type": "markdown",
   "metadata": {},
   "source": [
    "* Функции имеют те же свойства, что и остальные значения\n",
    "* Им пожно присвоить имя или присвоить их объекту\n",
    "* Их можно передать, как аргумент функции\n",
    "* Их можно возвращать"
   ]
  },
  {
   "cell_type": "markdown",
   "metadata": {},
   "source": [
    "## <font color=red>ЗАДАНИЕ</font>"
   ]
  },
  {
   "cell_type": "markdown",
   "metadata": {},
   "source": [
    "Реализуйте класс, принимающий имя функции в виде строки и функцию, связанную с этой строкой. <br>\n",
    "При выполнении метода __execute__ с кодом и переменной или значением выполняет функцию, связанную с кодом.<br>\n",
    "Если кода нет, то методы генерирует прерывание __KeyError__"
   ]
  },
  {
   "cell_type": "code",
   "execution_count": 119,
   "metadata": {},
   "outputs": [],
   "source": [
    "class FDict():\n",
    "    def __init__(self):\n",
    "        self.funcs = {}\n",
    "        pass\n",
    "\n",
    "    # добавляет функцию с кодом\n",
    "    def add(self, code, func):\n",
    "        self.funcs[code] = func\n",
    "        pass\n",
    "    \n",
    "    # удаляет функцию по коду\n",
    "    def remove(self, code):\n",
    "        del self.funcs[code]\n",
    "        pass\n",
    "\n",
    "    # выполняет функцию с аргументом\n",
    "    def execute(self, code, arg):\n",
    "        if code in self.funcs:\n",
    "            return (self.funcs[code])(arg)\n",
    "        else: \n",
    "            raise Exception(\"ошибка\")\n",
    "    \n",
    "    # возвращает функцию по коду\n",
    "    def get_func(self, code):\n",
    "        return self.funcs[code]\n",
    "    \n",
    "    # получает 2*N аргументов (код, значение, код, значение ..) и возвращает кортеж из значений\n",
    "    def execute_many(self, *args):\n",
    "        # TODO\n",
    "        return tuple([1] * int(len(args)/2) )"
   ]
  },
  {
   "cell_type": "markdown",
   "metadata": {},
   "source": [
    "Проверьте функционирование Вашего кода. Проверьте работу с отсутствующим кодом и добавьте обработку исключения."
   ]
  },
  {
   "cell_type": "code",
   "execution_count": null,
   "metadata": {},
   "outputs": [],
   "source": []
  },
  {
   "cell_type": "code",
   "execution_count": 121,
   "metadata": {},
   "outputs": [
    {
     "name": "stdout",
     "output_type": "stream",
     "text": [
      "1. sin(1.0472)=0.8660, cos(1.0472)=0.5000\n",
      "2. sin(1.047198)=1.000000, cos(1.047198)=1.000000\n"
     ]
    }
   ],
   "source": [
    "import math\n",
    "from math import sin, cos\n",
    "\n",
    "x = math.pi / 3\n",
    "\n",
    "func_dict = FDict()\n",
    "func_dict.add('sin', math.sin)\n",
    "func_dict.add('cos', math.cos)\n",
    "\n",
    "try:\n",
    "    y1 = func_dict.execute('sin', x)\n",
    "    y2 = func_dict.execute('cos', x)\n",
    "    \n",
    "    print(\"1. sin({0:.4f})={1:.4f}, cos({0:.4f})={2:.4f}\".format(x, y1, y2))\n",
    "\n",
    "    y1, y2 = func_dict.execute_many('sin', x*2, 'cos', x*3)\n",
    "    print(\"2. sin({0:4f})={1:4f}, cos({0:4f})={2:4f}\".format(x, y1, y2))\n",
    "except:\n",
    "    print(\"Ошибка\")\n"
   ]
  },
  {
   "cell_type": "markdown",
   "metadata": {},
   "source": [
    "### Лямбда-функции (анонимные функции)"
   ]
  },
  {
   "cell_type": "code",
   "execution_count": 122,
   "metadata": {},
   "outputs": [
    {
     "data": {
      "text/plain": [
       "-0.15694593947078894"
      ]
     },
     "execution_count": 122,
     "metadata": {},
     "output_type": "execute_result"
    }
   ],
   "source": [
    "f = lambda x, y: sin(x**2) + cos(y**2)\n",
    "\n",
    "def func(x,y):\n",
    "    return sin(x**2) + cos(y**2)\n",
    "\n",
    "f(math.pi/2, math.pi/2)"
   ]
  },
  {
   "cell_type": "markdown",
   "metadata": {},
   "source": [
    "## <font color=green>ВСПОМИНАЕМ</font> генераторы списков, словарей и просто генераторы"
   ]
  },
  {
   "cell_type": "code",
   "execution_count": 27,
   "metadata": {},
   "outputs": [
    {
     "data": {
      "text/plain": [
       "[0.0,\n",
       " 1.4142135623730951,\n",
       " 2.0,\n",
       " 2.449489742783178,\n",
       " 2.8284271247461903,\n",
       " 3.1622776601683795,\n",
       " 3.4641016151377544,\n",
       " 3.7416573867739413,\n",
       " 4.0,\n",
       " 4.242640687119285,\n",
       " 4.47213595499958,\n",
       " 4.69041575982343,\n",
       " 4.898979485566356,\n",
       " 5.0990195135927845,\n",
       " 5.291502622129181,\n",
       " 5.477225575051661,\n",
       " 5.656854249492381,\n",
       " 5.830951894845301,\n",
       " 6.0]"
      ]
     },
     "execution_count": 27,
     "metadata": {},
     "output_type": "execute_result"
    }
   ],
   "source": [
    "import math\n",
    "\n",
    "even_square_roots = [(lambda x: math.sqrt(x))(x) for x in range(37) if x % 2 == 0]\n",
    "even_square_roots\n"
   ]
  },
  {
   "cell_type": "markdown",
   "metadata": {},
   "source": [
    "## <font color=red>ЗАДАНИЕ</font>"
   ]
  },
  {
   "cell_type": "markdown",
   "metadata": {},
   "source": [
    "1. Преобразуйте этот код в формирование словаря, в котором число - ключ, а корень из него - значение"
   ]
  },
  {
   "cell_type": "code",
   "execution_count": 123,
   "metadata": {},
   "outputs": [
    {
     "data": {
      "text/plain": [
       "{0: 0.0,\n",
       " 2: 1.4142135623730951,\n",
       " 4: 2.0,\n",
       " 6: 2.449489742783178,\n",
       " 8: 2.8284271247461903,\n",
       " 10: 3.1622776601683795,\n",
       " 12: 3.4641016151377544,\n",
       " 14: 3.7416573867739413,\n",
       " 16: 4.0,\n",
       " 18: 4.242640687119285,\n",
       " 20: 4.47213595499958,\n",
       " 22: 4.69041575982343,\n",
       " 24: 4.898979485566356,\n",
       " 26: 5.0990195135927845,\n",
       " 28: 5.291502622129181,\n",
       " 30: 5.477225575051661,\n",
       " 32: 5.656854249492381,\n",
       " 34: 5.830951894845301,\n",
       " 36: 6.0}"
      ]
     },
     "execution_count": 123,
     "metadata": {},
     "output_type": "execute_result"
    }
   ],
   "source": [
    "## Ваш код\n",
    "d = {x:(lambda x: math.sqrt(x))(x) for x in range(37) if x % 2 == 0}\n",
    "d\n"
   ]
  },
  {
   "cell_type": "markdown",
   "metadata": {},
   "source": [
    "2. Преобразуйте этот код в формирование генератора и пройтиде по нему с помощью цикла for"
   ]
  },
  {
   "cell_type": "code",
   "execution_count": 124,
   "metadata": {},
   "outputs": [
    {
     "name": "stdout",
     "output_type": "stream",
     "text": [
      "0.0\n",
      "1.4142135623730951\n",
      "2.0\n",
      "2.449489742783178\n",
      "2.8284271247461903\n",
      "3.1622776601683795\n",
      "3.4641016151377544\n",
      "3.7416573867739413\n",
      "4.0\n",
      "4.242640687119285\n",
      "4.47213595499958\n",
      "4.69041575982343\n",
      "4.898979485566356\n",
      "5.0990195135927845\n",
      "5.291502622129181\n",
      "5.477225575051661\n",
      "5.656854249492381\n",
      "5.830951894845301\n",
      "6.0\n"
     ]
    }
   ],
   "source": [
    "even_square_roots = [(lambda x: math.sqrt(x))(x) for x in range(37) if x % 2 == 0]\n",
    "for i in even_square_roots:\n",
    "    print(i)\n"
   ]
  },
  {
   "cell_type": "markdown",
   "metadata": {},
   "source": [
    "### Функции для работы с итерируемыми"
   ]
  },
  {
   "cell_type": "markdown",
   "metadata": {},
   "source": [
    "```python\n",
    "    map()\n",
    "    filter()\n",
    "    reduce()\n",
    "```"
   ]
  },
  {
   "cell_type": "markdown",
   "metadata": {},
   "source": [
    "__map__ - выполняет функцию над всеми элементами итерируемого"
   ]
  },
  {
   "cell_type": "code",
   "execution_count": 30,
   "metadata": {},
   "outputs": [
    {
     "data": {
      "text/plain": [
       "<map at 0x17996e88>"
      ]
     },
     "execution_count": 30,
     "metadata": {},
     "output_type": "execute_result"
    }
   ],
   "source": [
    "squared =  map(lambda x: x**2, [1,2,3])\n",
    "squared"
   ]
  },
  {
   "cell_type": "code",
   "execution_count": 31,
   "metadata": {},
   "outputs": [
    {
     "data": {
      "text/plain": [
       "map"
      ]
     },
     "execution_count": 31,
     "metadata": {},
     "output_type": "execute_result"
    }
   ],
   "source": [
    "type(squared)"
   ]
  },
  {
   "cell_type": "code",
   "execution_count": 32,
   "metadata": {},
   "outputs": [
    {
     "data": {
      "text/plain": [
       "generator"
      ]
     },
     "execution_count": 32,
     "metadata": {},
     "output_type": "execute_result"
    }
   ],
   "source": [
    "x = (i for i in range(10))\n",
    "type(x)"
   ]
  },
  {
   "cell_type": "code",
   "execution_count": 33,
   "metadata": {},
   "outputs": [
    {
     "data": {
      "text/plain": [
       "True"
      ]
     },
     "execution_count": 33,
     "metadata": {},
     "output_type": "execute_result"
    }
   ],
   "source": [
    "isinstance(squared, map)"
   ]
  },
  {
   "cell_type": "markdown",
   "metadata": {},
   "source": [
    "__<font color=blue>??</font>__ Какой тип возвращает __map__? Почему?"
   ]
  },
  {
   "cell_type": "markdown",
   "metadata": {},
   "source": [
    "## <font color=red>ЗАДАНИЕ</font>"
   ]
  },
  {
   "cell_type": "markdown",
   "metadata": {},
   "source": [
    "Найдите длину самой длинной строки в списке с помощью __map__"
   ]
  },
  {
   "cell_type": "code",
   "execution_count": 134,
   "metadata": {},
   "outputs": [],
   "source": [
    "l = ['abc', 'xyz', 'ab', 'qwer', 'trench', 'm', '17', 'www.mai.ru', 'd', 'plot']"
   ]
  },
  {
   "cell_type": "code",
   "execution_count": 136,
   "metadata": {},
   "outputs": [
    {
     "data": {
      "text/plain": [
       "10"
      ]
     },
     "execution_count": 136,
     "metadata": {},
     "output_type": "execute_result"
    }
   ],
   "source": [
    "# Ваш код\n",
    "a = max(map(lambda x: len(x), l))\n",
    "a"
   ]
  },
  {
   "cell_type": "markdown",
   "metadata": {},
   "source": [
    "__filter__ - возвращает те значения из итерируемого, для которых верна функция"
   ]
  },
  {
   "cell_type": "code",
   "execution_count": 140,
   "metadata": {},
   "outputs": [
    {
     "data": {
      "text/plain": [
       "[2, 4, 6, 2, 10, 4]"
      ]
     },
     "execution_count": 140,
     "metadata": {},
     "output_type": "execute_result"
    }
   ],
   "source": [
    "even = list(filter(lambda x:x % 2 == 0, (map(lambda x: len(x), l))))\n",
    "even"
   ]
  },
  {
   "cell_type": "markdown",
   "metadata": {},
   "source": [
    "## <font color=red>ЗАДАНИЕ</font>"
   ]
  },
  {
   "cell_type": "markdown",
   "metadata": {},
   "source": [
    "Найдите все строки, в которых присутствует буква __'a'__"
   ]
  },
  {
   "cell_type": "code",
   "execution_count": 138,
   "metadata": {},
   "outputs": [
    {
     "data": {
      "text/plain": [
       "['abc', 'ab', 'www.mai.ru']"
      ]
     },
     "execution_count": 138,
     "metadata": {},
     "output_type": "execute_result"
    }
   ],
   "source": [
    "# Ваш код\n",
    "list(filter(lambda x: 'a' in x,l))"
   ]
  },
  {
   "cell_type": "code",
   "execution_count": null,
   "metadata": {},
   "outputs": [],
   "source": []
  },
  {
   "cell_type": "markdown",
   "metadata": {},
   "source": [
    "__reduce()__ - сворачивает итерируемое в одно значение<br>\n",
    "В отличие от map и filter у функции 2 аргумента"
   ]
  },
  {
   "cell_type": "code",
   "execution_count": 38,
   "metadata": {},
   "outputs": [],
   "source": [
    "from functools import reduce"
   ]
  },
  {
   "cell_type": "code",
   "execution_count": 39,
   "metadata": {},
   "outputs": [
    {
     "data": {
      "text/plain": [
       "45"
      ]
     },
     "execution_count": 39,
     "metadata": {},
     "output_type": "execute_result"
    }
   ],
   "source": [
    "values = list(range(10))\n",
    "summed = reduce( lambda x,y: x+y, values)\n",
    "summed"
   ]
  },
  {
   "cell_type": "markdown",
   "metadata": {},
   "source": [
    "## <font color=red>ЗАДАНИЕ</font>"
   ]
  },
  {
   "cell_type": "markdown",
   "metadata": {},
   "source": [
    "Верните самую длинную строку из списка с помощью reduce<br><br>\n",
    "__<font color=green>Уложившимся в 1 строку с lambda-функцией - 1 балл</font>__"
   ]
  },
  {
   "cell_type": "code",
   "execution_count": 141,
   "metadata": {},
   "outputs": [
    {
     "ename": "TypeError",
     "evalue": "'int' object is not iterable",
     "output_type": "error",
     "traceback": [
      "\u001b[1;31m---------------------------------------------------------------------------\u001b[0m",
      "\u001b[1;31mTypeError\u001b[0m                                 Traceback (most recent call last)",
      "\u001b[1;32m<ipython-input-141-8d60eac671b9>\u001b[0m in \u001b[0;36m<module>\u001b[1;34m\u001b[0m\n\u001b[0;32m      1\u001b[0m \u001b[1;31m# Ваш код\u001b[0m\u001b[1;33m\u001b[0m\u001b[1;33m\u001b[0m\u001b[1;33m\u001b[0m\u001b[0m\n\u001b[1;32m----> 2\u001b[1;33m \u001b[0mreduce\u001b[0m\u001b[1;33m(\u001b[0m \u001b[1;32mlambda\u001b[0m \u001b[0mx\u001b[0m\u001b[1;33m,\u001b[0m\u001b[0my\u001b[0m\u001b[1;33m:\u001b[0m \u001b[0mx\u001b[0m\u001b[1;33m+\u001b[0m\u001b[0my\u001b[0m\u001b[1;33m,\u001b[0m \u001b[0mlist\u001b[0m\u001b[1;33m(\u001b[0m\u001b[0mfilter\u001b[0m\u001b[1;33m(\u001b[0m\u001b[1;32mlambda\u001b[0m \u001b[0mx\u001b[0m\u001b[1;33m:\u001b[0m \u001b[0mmax\u001b[0m\u001b[1;33m(\u001b[0m\u001b[0mx\u001b[0m\u001b[1;33m)\u001b[0m\u001b[1;33m,\u001b[0m \u001b[0mlist\u001b[0m\u001b[1;33m(\u001b[0m\u001b[0mfilter\u001b[0m\u001b[1;33m(\u001b[0m\u001b[1;32mlambda\u001b[0m \u001b[0mx\u001b[0m\u001b[1;33m:\u001b[0m\u001b[0mx\u001b[0m \u001b[1;33m%\u001b[0m \u001b[1;36m2\u001b[0m \u001b[1;33m==\u001b[0m \u001b[1;36m0\u001b[0m\u001b[1;33m,\u001b[0m \u001b[1;33m(\u001b[0m\u001b[0mmap\u001b[0m\u001b[1;33m(\u001b[0m\u001b[1;32mlambda\u001b[0m \u001b[0mx\u001b[0m\u001b[1;33m:\u001b[0m \u001b[0mlen\u001b[0m\u001b[1;33m(\u001b[0m\u001b[0mx\u001b[0m\u001b[1;33m)\u001b[0m\u001b[1;33m,\u001b[0m \u001b[0ml\u001b[0m\u001b[1;33m)\u001b[0m\u001b[1;33m)\u001b[0m\u001b[1;33m)\u001b[0m\u001b[1;33m)\u001b[0m\u001b[1;33m)\u001b[0m\u001b[1;33m)\u001b[0m\u001b[1;33m)\u001b[0m\u001b[1;33m\u001b[0m\u001b[1;33m\u001b[0m\u001b[0m\n\u001b[0m",
      "\u001b[1;32m<ipython-input-141-8d60eac671b9>\u001b[0m in \u001b[0;36m<lambda>\u001b[1;34m(x)\u001b[0m\n\u001b[0;32m      1\u001b[0m \u001b[1;31m# Ваш код\u001b[0m\u001b[1;33m\u001b[0m\u001b[1;33m\u001b[0m\u001b[1;33m\u001b[0m\u001b[0m\n\u001b[1;32m----> 2\u001b[1;33m \u001b[0mreduce\u001b[0m\u001b[1;33m(\u001b[0m \u001b[1;32mlambda\u001b[0m \u001b[0mx\u001b[0m\u001b[1;33m,\u001b[0m\u001b[0my\u001b[0m\u001b[1;33m:\u001b[0m \u001b[0mx\u001b[0m\u001b[1;33m+\u001b[0m\u001b[0my\u001b[0m\u001b[1;33m,\u001b[0m \u001b[0mlist\u001b[0m\u001b[1;33m(\u001b[0m\u001b[0mfilter\u001b[0m\u001b[1;33m(\u001b[0m\u001b[1;32mlambda\u001b[0m \u001b[0mx\u001b[0m\u001b[1;33m:\u001b[0m \u001b[0mmax\u001b[0m\u001b[1;33m(\u001b[0m\u001b[0mx\u001b[0m\u001b[1;33m)\u001b[0m\u001b[1;33m,\u001b[0m \u001b[0mlist\u001b[0m\u001b[1;33m(\u001b[0m\u001b[0mfilter\u001b[0m\u001b[1;33m(\u001b[0m\u001b[1;32mlambda\u001b[0m \u001b[0mx\u001b[0m\u001b[1;33m:\u001b[0m\u001b[0mx\u001b[0m \u001b[1;33m%\u001b[0m \u001b[1;36m2\u001b[0m \u001b[1;33m==\u001b[0m \u001b[1;36m0\u001b[0m\u001b[1;33m,\u001b[0m \u001b[1;33m(\u001b[0m\u001b[0mmap\u001b[0m\u001b[1;33m(\u001b[0m\u001b[1;32mlambda\u001b[0m \u001b[0mx\u001b[0m\u001b[1;33m:\u001b[0m \u001b[0mlen\u001b[0m\u001b[1;33m(\u001b[0m\u001b[0mx\u001b[0m\u001b[1;33m)\u001b[0m\u001b[1;33m,\u001b[0m \u001b[0ml\u001b[0m\u001b[1;33m)\u001b[0m\u001b[1;33m)\u001b[0m\u001b[1;33m)\u001b[0m\u001b[1;33m)\u001b[0m\u001b[1;33m)\u001b[0m\u001b[1;33m)\u001b[0m\u001b[1;33m)\u001b[0m\u001b[1;33m\u001b[0m\u001b[1;33m\u001b[0m\u001b[0m\n\u001b[0m",
      "\u001b[1;31mTypeError\u001b[0m: 'int' object is not iterable"
     ]
    }
   ],
   "source": [
    "# Ваш код\n",
    "reduce( lambda x,y: x+y, values)"
   ]
  },
  {
   "cell_type": "markdown",
   "metadata": {},
   "source": [
    "### Ещё полезности из __functools__"
   ]
  },
  {
   "cell_type": "markdown",
   "metadata": {},
   "source": [
    "__functools__ - работа с функциями высшего порядка, то есть функциями, которые работают с функциями\n",
    "или возвращают другие функции"
   ]
  },
  {
   "cell_type": "code",
   "execution_count": 41,
   "metadata": {},
   "outputs": [],
   "source": [
    "from functools import partial"
   ]
  },
  {
   "cell_type": "code",
   "execution_count": 42,
   "metadata": {},
   "outputs": [
    {
     "data": {
      "text/plain": [
       "6"
      ]
     },
     "execution_count": 42,
     "metadata": {},
     "output_type": "execute_result"
    }
   ],
   "source": [
    "def f(a, b, c):\n",
    "    return a + b + c\n",
    "\n",
    "f(1, 2, 3)"
   ]
  },
  {
   "cell_type": "code",
   "execution_count": 43,
   "metadata": {},
   "outputs": [
    {
     "data": {
      "text/plain": [
       "109"
      ]
     },
     "execution_count": 43,
     "metadata": {},
     "output_type": "execute_result"
    }
   ],
   "source": [
    "part_f = partial(f, 100)\n",
    "part_f(4, 5)"
   ]
  },
  {
   "cell_type": "code",
   "execution_count": 44,
   "metadata": {},
   "outputs": [
    {
     "data": {
      "text/plain": [
       "19"
      ]
     },
     "execution_count": 44,
     "metadata": {},
     "output_type": "execute_result"
    }
   ],
   "source": [
    "part_f = partial(f, b=10)\n",
    "part_f(a=4, c=5)"
   ]
  },
  {
   "cell_type": "markdown",
   "metadata": {},
   "source": [
    "## <font color=red>ДОМАШНЕЕ ЗАДАНИЕ</font>"
   ]
  },
  {
   "cell_type": "markdown",
   "metadata": {},
   "source": [
    "Сделайте класс бинарного дерева, который наполняется строками. <br>\n",
    "Все функции добавления, поиска, удаления, длины должны быть рекурсивными<br><br>\n",
    "<font color=red>__deadline - 18:00 27.09__</font>"
   ]
  },
  {
   "cell_type": "code",
   "execution_count": 45,
   "metadata": {},
   "outputs": [],
   "source": [
    "class StrBinTree:\n",
    "    '''\n",
    "    Класс бинарного дерева с функциями поиска и выдачи расстояния до ближайшей сохраненной строки:\n",
    "     '''\n",
    "    def __init__(self):\n",
    "        pass\n",
    "    \n",
    "    def add(self, s):\n",
    "        '''\n",
    "        добавляет строку в дерево\n",
    "        '''\n",
    "        pass\n",
    "    \n",
    "    # Каков смысл этой функции?\n",
    "    def __add__(self, s):\n",
    "        '''\n",
    "        ваше описание\n",
    "        '''\n",
    "        add(self, s)\n",
    "    \n",
    "    def isin(self, str):\n",
    "        '''\n",
    "        возвращает True, если есть точно такая же строка, или False, если её нет\n",
    "        '''\n",
    "        pass\n",
    "        \n",
    "    def remove(self, str):\n",
    "        '''\n",
    "        удаляет строку. Удаление производится только в случае точного совпадения\n",
    "        строки с указанной. Возвращает 0, если удаление выполнено, и 1 в остальных случаях\n",
    "        '''\n",
    "        pass\n",
    "        \n",
    "    def get(self, str):\n",
    "        '''\n",
    "        возвращает ближайшую с лексической точки зрения строку и расстояние строки-аргумента\n",
    "        до нее\n",
    "        '''\n",
    "        pass\n",
    "\n",
    "    def __len__(self):\n",
    "        '''\n",
    "        возвращает количество строк в дереве\n",
    "        '''\n",
    "        pass\n",
    "    \n",
    "    def to_list(self):\n",
    "        '''\n",
    "        возвращает все строки в виде упорядоченного списка\n",
    "        '''\n",
    "        # почитать про yeld\n",
    "        pass"
   ]
  },
  {
   "cell_type": "code",
   "execution_count": 46,
   "metadata": {},
   "outputs": [
    {
     "name": "stdout",
     "output_type": "stream",
     "text": [
      "Help on class StrBinTree in module __main__:\n",
      "\n",
      "class StrBinTree(builtins.object)\n",
      " |  Класс бинарного дерева с функциями поиска и выдачи расстояния до ближайшей сохраненной строки:\n",
      " |  \n",
      " |  Methods defined here:\n",
      " |  \n",
      " |  __add__(self, s)\n",
      " |      ваше описание\n",
      " |  \n",
      " |  __init__(self)\n",
      " |      Initialize self.  See help(type(self)) for accurate signature.\n",
      " |  \n",
      " |  __len__(self)\n",
      " |      возвращает количество строк в дереве\n",
      " |  \n",
      " |  add(self, s)\n",
      " |      добавляет строку в дерево\n",
      " |  \n",
      " |  get(self, str)\n",
      " |      возвращает ближайшую с лексической точки зрения строку и расстояние строки-аргумента\n",
      " |      до нее\n",
      " |  \n",
      " |  isin(self, str)\n",
      " |      возвращает True, если есть точно такая же строка, или False, если её нет\n",
      " |  \n",
      " |  remove(self, str)\n",
      " |      удаляет строку. Удаление производится только в случае точного совпадения\n",
      " |      строки с указанной. Возвращает 0, если удаление выполнено, и 1 в остальных случаях\n",
      " |  \n",
      " |  to_list(self)\n",
      " |      возвращает все строки в виде упорядоченного списка\n",
      " |  \n",
      " |  ----------------------------------------------------------------------\n",
      " |  Data descriptors defined here:\n",
      " |  \n",
      " |  __dict__\n",
      " |      dictionary for instance variables (if defined)\n",
      " |  \n",
      " |  __weakref__\n",
      " |      list of weak references to the object (if defined)\n",
      "\n"
     ]
    }
   ],
   "source": [
    "help( StrBinTree)"
   ]
  },
  {
   "cell_type": "markdown",
   "metadata": {},
   "source": [
    "ДЗ посылать по адресу __mai-ml AT mail.ru__"
   ]
  },
  {
   "cell_type": "markdown",
   "metadata": {},
   "source": [
    "## Экзаменационные вопросы:"
   ]
  },
  {
   "cell_type": "markdown",
   "metadata": {},
   "source": [
    "* Объектно-оринетированное программирование. Основные положения\n",
    "* Классы и объекты в Python\n",
    "* Функциональное программирование. Основные положения\n",
    "* Функциональное программирование в Python\n",
    "* Генераторы списков, словарей и просто генераторы\n",
    "* Функции отображения: map, filter, reduce"
   ]
  },
  {
   "cell_type": "markdown",
   "metadata": {},
   "source": [
    "### К следующему занятию п(р)очитать:\n"
   ]
  },
  {
   "cell_type": "markdown",
   "metadata": {},
   "source": [
    "* что такое объектно ориентированное програмирование\n",
    "* что такое функциональное программирование"
   ]
  }
 ],
 "metadata": {
  "kernelspec": {
   "display_name": "Python 3",
   "language": "python",
   "name": "python3"
  },
  "language_info": {
   "codemirror_mode": {
    "name": "ipython",
    "version": 3
   },
   "file_extension": ".py",
   "mimetype": "text/x-python",
   "name": "python",
   "nbconvert_exporter": "python",
   "pygments_lexer": "ipython3",
   "version": "3.7.4"
  }
 },
 "nbformat": 4,
 "nbformat_minor": 2
}
