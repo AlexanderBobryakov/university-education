{
 "cells": [
  {
   "cell_type": "code",
   "execution_count": 1,
   "metadata": {},
   "outputs": [
    {
     "name": "stderr",
     "output_type": "stream",
     "text": [
      "G:\\Programs\\Anaconda3\\lib\\site-packages\\IPython\\core\\interactiveshell.py:3057: DtypeWarning: Columns (7,8) have mixed types. Specify dtype option on import or set low_memory=False.\n",
      "  interactivity=interactivity, compiler=compiler, result=result)\n"
     ]
    }
   ],
   "source": [
    "import pandas as pd, numpy as np, time\n",
    "from sklearn.model_selection import train_test_split\n",
    "\n",
    "data = pd.read_csv(\"flights.csv\")\n",
    "data = data.sample(frac = 0.1, random_state=10)\n",
    "\n",
    "data = data[[\"MONTH\",\"DAY\",\"DAY_OF_WEEK\",\"AIRLINE\",\"FLIGHT_NUMBER\",\"DESTINATION_AIRPORT\",\n",
    "                 \"ORIGIN_AIRPORT\",\"AIR_TIME\", \"DEPARTURE_TIME\",\"DISTANCE\",\"ARRIVAL_DELAY\"]]\n",
    "data.dropna(inplace=True)\n",
    "\n",
    "data[\"ARRIVAL_DELAY\"] = (data[\"ARRIVAL_DELAY\"]>10)*1\n",
    "\n",
    "cols = [\"AIRLINE\",\"FLIGHT_NUMBER\",\"DESTINATION_AIRPORT\",\"ORIGIN_AIRPORT\"]\n",
    "for item in cols:\n",
    "    data[item] = data[item].astype(\"category\").cat.codes +1\n",
    " \n",
    "train, test, y_train, y_test = train_test_split(data.drop([\"ARRIVAL_DELAY\"], axis=1), data[\"ARRIVAL_DELAY\"],\n",
    "                                                random_state=10, test_size=0.25)"
   ]
  },
  {
   "cell_type": "code",
   "execution_count": 2,
   "metadata": {},
   "outputs": [
    {
     "name": "stdout",
     "output_type": "stream",
     "text": [
      "Requirement already satisfied: lightgbm in g:\\programs\\anaconda3\\lib\\site-packages (2.3.1)\n",
      "Requirement already satisfied: scikit-learn in g:\\programs\\anaconda3\\lib\\site-packages (from lightgbm) (0.21.2)\n",
      "Requirement already satisfied: numpy in g:\\programs\\anaconda3\\lib\\site-packages (from lightgbm) (1.18.1)\n",
      "Requirement already satisfied: scipy in g:\\programs\\anaconda3\\lib\\site-packages (from lightgbm) (1.2.1)\n",
      "Requirement already satisfied: joblib>=0.11 in g:\\programs\\anaconda3\\lib\\site-packages (from scikit-learn->lightgbm) (0.13.2)\n"
     ]
    }
   ],
   "source": [
    "! pip install lightgbm\n",
    "import lightgbm as lgb\n",
    "from sklearn import metrics\n",
    "from sklearn.model_selection import GridSearchCV\n",
    "\n",
    "def auc2(m, train, test): \n",
    "    return (metrics.roc_auc_score(y_train,m.predict(train)),\n",
    "                            metrics.roc_auc_score(y_test,m.predict(test)))"
   ]
  },
  {
   "cell_type": "code",
   "execution_count": 3,
   "metadata": {},
   "outputs": [
    {
     "name": "stdout",
     "output_type": "stream",
     "text": [
      "Fitting 3 folds for each of 27 candidates, totalling 81 fits\n"
     ]
    },
    {
     "name": "stderr",
     "output_type": "stream",
     "text": [
      "[Parallel(n_jobs=-1)]: Using backend LokyBackend with 12 concurrent workers.\n",
      "[Parallel(n_jobs=-1)]: Done  48 tasks      | elapsed:  8.2min\n",
      "[Parallel(n_jobs=-1)]: Done  75 out of  81 | elapsed: 11.1min remaining:   53.0s\n",
      "[Parallel(n_jobs=-1)]: Done  81 out of  81 | elapsed: 11.2min finished\n"
     ]
    },
    {
     "data": {
      "text/plain": [
       "LGBMClassifier(boosting_type='gbdt', class_weight=None, colsample_bytree=1.0,\n",
       "               importance_type='split', learning_rate=0.05, max_depth=25,\n",
       "               min_child_samples=20, min_child_weight=0.001, min_split_gain=0.0,\n",
       "               n_estimators=200, n_jobs=-1, num_leaves=1200, objective=None,\n",
       "               random_state=None, reg_alpha=0.0, reg_lambda=0.0, silent=False,\n",
       "               subsample=1.0, subsample_for_bin=200000, subsample_freq=0)"
      ]
     },
     "execution_count": 3,
     "metadata": {},
     "output_type": "execute_result"
    }
   ],
   "source": [
    "lg = lgb.LGBMClassifier(silent=False)\n",
    "param_dist = {\"max_depth\": [25,50, 75],\n",
    "              \"learning_rate\" : [0.01,0.05,0.1],\n",
    "              \"num_leaves\": [300,900,1200],\n",
    "              \"n_estimators\": [200]\n",
    "             }\n",
    "grid_search = GridSearchCV(lg, n_jobs=-1, param_grid=param_dist, cv = 3, scoring=\"roc_auc\", verbose=5)\n",
    "grid_search.fit(train,y_train)\n",
    "grid_search.best_estimator_"
   ]
  },
  {
   "cell_type": "code",
   "execution_count": 4,
   "metadata": {},
   "outputs": [],
   "source": [
    "d_train = lgb.Dataset(train, label=y_train, free_raw_data=False)\n",
    "params = {\"max_depth\": 25, \"learning_rate\" : 0.05, \"num_leaves\": 1200,  \"n_estimators\": 200}"
   ]
  },
  {
   "cell_type": "code",
   "execution_count": 5,
   "metadata": {},
   "outputs": [
    {
     "name": "stderr",
     "output_type": "stream",
     "text": [
      "G:\\Programs\\Anaconda3\\lib\\site-packages\\lightgbm\\engine.py:148: UserWarning: Found `n_estimators` in params. Will use it instead of argument\n",
      "  warnings.warn(\"Found `{}` in params. Will use it instead of argument\".format(alias))\n"
     ]
    },
    {
     "data": {
      "text/plain": [
       "(0.9354031006819685, 0.7848275183623448)"
      ]
     },
     "execution_count": 5,
     "metadata": {},
     "output_type": "execute_result"
    }
   ],
   "source": [
    "# Without Categorical Features\n",
    "lgb_without_categorical = lgb.train(params, d_train)\n",
    "auc2(lgb_without_categorical, train, test)"
   ]
  },
  {
   "cell_type": "code",
   "execution_count": 6,
   "metadata": {},
   "outputs": [
    {
     "name": "stderr",
     "output_type": "stream",
     "text": [
      "G:\\Programs\\Anaconda3\\lib\\site-packages\\lightgbm\\engine.py:148: UserWarning: Found `n_estimators` in params. Will use it instead of argument\n",
      "  warnings.warn(\"Found `{}` in params. Will use it instead of argument\".format(alias))\n",
      "G:\\Programs\\Anaconda3\\lib\\site-packages\\lightgbm\\basic.py:1295: UserWarning: categorical_feature in Dataset is overridden.\n",
      "New categorical_feature is ['AIRLINE', 'DAY', 'DAY_OF_WEEK', 'DESTINATION_AIRPORT', 'MONTH', 'ORIGIN_AIRPORT']\n",
      "  'New categorical_feature is {}'.format(sorted(list(categorical_feature))))\n"
     ]
    },
    {
     "data": {
      "text/plain": [
       "(0.9852322228955841, 0.7777285267382876)"
      ]
     },
     "execution_count": 6,
     "metadata": {},
     "output_type": "execute_result"
    }
   ],
   "source": [
    "#With Catgeorical Features\n",
    "cate_features_name = [\"MONTH\",\"DAY\",\"DAY_OF_WEEK\",\"AIRLINE\",\"DESTINATION_AIRPORT\",\n",
    "                 \"ORIGIN_AIRPORT\"]\n",
    "lgb_with_categorical = lgb.train(params, d_train, categorical_feature = cate_features_name)\n",
    "auc2(lgb_with_categorical, train, test)"
   ]
  },
  {
   "cell_type": "code",
   "execution_count": 17,
   "metadata": {},
   "outputs": [
    {
     "data": {
      "image/png": "[encoded data removed]",
      "text/plain": [
       "<Figure size 1080x360 with 1 Axes>"
      ]
     },
     "metadata": {
      "needs_background": "light"
     },
     "output_type": "display_data"
    }
   ],
   "source": [
    "import numpy as np\n",
    "import matplotlib.pyplot as plt\n",
    "from matplotlib.pyplot import figure\n",
    "figure(num=None, figsize=(15, 5))\n",
    "\n",
    "# With Categorical Features\n",
    "height = lgb_without_categorical.feature_importance()\n",
    "bars = lgb_without_categorical.feature_name()\n",
    "y_pos = np.arange(len(bars_without_categorica))\n",
    " \n",
    "# Create bars\n",
    "plt.bar(y_pos, height)\n",
    "# Rotation of the bars names\n",
    "plt.xticks(y_pos, bars, rotation=90)\n",
    "# Custom the subplot layout\n",
    "plt.subplots_adjust(bottom=0.4, top=0.99)\n",
    "# Show graphic\n",
    "plt.show()"
   ]
  },
  {
   "cell_type": "code",
   "execution_count": null,
   "metadata": {},
   "outputs": [],
   "source": []
  },
  {
   "cell_type": "code",
   "execution_count": null,
   "metadata": {},
   "outputs": [],
   "source": []
  },
  {
   "cell_type": "code",
   "execution_count": 19,
   "metadata": {},
   "outputs": [
    {
     "name": "stderr",
     "output_type": "stream",
     "text": [
      "G:\\Programs\\Anaconda3\\lib\\site-packages\\IPython\\core\\interactiveshell.py:3057: DtypeWarning: Columns (7,8) have mixed types. Specify dtype option on import or set low_memory=False.\n",
      "  interactivity=interactivity, compiler=compiler, result=result)\n"
     ]
    }
   ],
   "source": [
    "import pandas as pd, numpy as np, time\n",
    "from sklearn.model_selection import train_test_split\n",
    "\n",
    "data = pd.read_csv(\"flights.csv\")\n",
    "data = data.sample(frac = 0.1, random_state=10)\n",
    "\n",
    "data = data[[\"MONTH\",\"DAY\",\"DAY_OF_WEEK\",\"AIRLINE\",\"FLIGHT_NUMBER\",\"DESTINATION_AIRPORT\",\n",
    "                 \"ORIGIN_AIRPORT\",\"AIR_TIME\", \"DEPARTURE_TIME\",\"DISTANCE\",\"ARRIVAL_DELAY\"]]\n",
    "data.dropna(inplace=True)\n",
    "\n",
    "data[\"ARRIVAL_DELAY\"] = (data[\"ARRIVAL_DELAY\"]>10)*1\n",
    "\n",
    "cols = [\"AIRLINE\",\"FLIGHT_NUMBER\",\"DESTINATION_AIRPORT\",\"ORIGIN_AIRPORT\"]\n",
    "for item in cols:\n",
    "    data[item] = data[item].astype(\"category\").cat.codes +1\n",
    " \n",
    "train, test, y_train, y_test = train_test_split(data.drop([\"ARRIVAL_DELAY\"], axis=1), data[\"ARRIVAL_DELAY\"],\n",
    "                                                random_state=10, test_size=0.25)"
   ]
  },
  {
   "cell_type": "code",
   "execution_count": 20,
   "metadata": {},
   "outputs": [],
   "source": [
    "# ! pip install catboost --no-cache-dir\n",
    "import catboost as cb\n",
    "from sklearn.model_selection import GridSearchCV\n",
    "\n",
    "def auc(m, train, test): \n",
    "    return (metrics.roc_auc_score(y_train,m.predict_proba(train)[:,1]),\n",
    "                            metrics.roc_auc_score(y_test,m.predict_proba(test)[:,1]))"
   ]
  },
  {
   "cell_type": "code",
   "execution_count": 21,
   "metadata": {},
   "outputs": [
    {
     "name": "stdout",
     "output_type": "stream",
     "text": [
      "Fitting 3 folds for each of 27 candidates, totalling 81 fits\n"
     ]
    },
    {
     "name": "stderr",
     "output_type": "stream",
     "text": [
      "[Parallel(n_jobs=-1)]: Using backend LokyBackend with 12 concurrent workers.\n",
      "[Parallel(n_jobs=-1)]: Done  48 tasks      | elapsed:  9.2min\n",
      "[Parallel(n_jobs=-1)]: Done  75 out of  81 | elapsed: 21.8min remaining:  1.7min\n",
      "[Parallel(n_jobs=-1)]: Done  81 out of  81 | elapsed: 22.6min finished\n"
     ]
    },
    {
     "name": "stdout",
     "output_type": "stream",
     "text": [
      "0:\tlearn: 0.6343475\ttotal: 157ms\tremaining: 47.1s\n",
      "1:\tlearn: 0.5935207\ttotal: 253ms\tremaining: 37.6s\n",
      "2:\tlearn: 0.5646820\ttotal: 342ms\tremaining: 33.9s\n",
      "3:\tlearn: 0.5444226\ttotal: 435ms\tremaining: 32.2s\n",
      "4:\tlearn: 0.5299909\ttotal: 539ms\tremaining: 31.8s\n",
      "5:\tlearn: 0.5193669\ttotal: 637ms\tremaining: 31.2s\n",
      "6:\tlearn: 0.5120606\ttotal: 724ms\tremaining: 30.3s\n",
      "7:\tlearn: 0.5056049\ttotal: 816ms\tremaining: 29.8s\n",
      "8:\tlearn: 0.5012633\ttotal: 907ms\tremaining: 29.3s\n",
      "9:\tlearn: 0.4979327\ttotal: 1s\tremaining: 29s\n",
      "10:\tlearn: 0.4948679\ttotal: 1.09s\tremaining: 28.6s\n",
      "11:\tlearn: 0.4923686\ttotal: 1.18s\tremaining: 28.3s\n",
      "12:\tlearn: 0.4901544\ttotal: 1.27s\tremaining: 28.1s\n",
      "13:\tlearn: 0.4886077\ttotal: 1.37s\tremaining: 27.9s\n",
      "14:\tlearn: 0.4875087\ttotal: 1.46s\tremaining: 27.7s\n",
      "15:\tlearn: 0.4860225\ttotal: 1.55s\tremaining: 27.5s\n",
      "16:\tlearn: 0.4850561\ttotal: 1.64s\tremaining: 27.3s\n",
      "17:\tlearn: 0.4840046\ttotal: 1.73s\tremaining: 27.1s\n",
      "18:\tlearn: 0.4829765\ttotal: 1.82s\tremaining: 27s\n",
      "19:\tlearn: 0.4821046\ttotal: 1.92s\tremaining: 26.8s\n",
      "20:\tlearn: 0.4811707\ttotal: 2.01s\tremaining: 26.7s\n",
      "21:\tlearn: 0.4806314\ttotal: 2.1s\tremaining: 26.5s\n",
      "22:\tlearn: 0.4798919\ttotal: 2.19s\tremaining: 26.3s\n",
      "23:\tlearn: 0.4792355\ttotal: 2.27s\tremaining: 26.2s\n",
      "24:\tlearn: 0.4783109\ttotal: 2.37s\tremaining: 26s\n",
      "25:\tlearn: 0.4777855\ttotal: 2.46s\tremaining: 25.9s\n",
      "26:\tlearn: 0.4770297\ttotal: 2.55s\tremaining: 25.8s\n",
      "27:\tlearn: 0.4765254\ttotal: 2.64s\tremaining: 25.6s\n",
      "28:\tlearn: 0.4758303\ttotal: 2.73s\tremaining: 25.5s\n",
      "29:\tlearn: 0.4754506\ttotal: 2.81s\tremaining: 25.3s\n",
      "30:\tlearn: 0.4748333\ttotal: 2.91s\tremaining: 25.2s\n",
      "31:\tlearn: 0.4741812\ttotal: 2.98s\tremaining: 25s\n",
      "32:\tlearn: 0.4737817\ttotal: 3.08s\tremaining: 24.9s\n",
      "33:\tlearn: 0.4731727\ttotal: 3.17s\tremaining: 24.8s\n",
      "34:\tlearn: 0.4726802\ttotal: 3.25s\tremaining: 24.6s\n",
      "35:\tlearn: 0.4723287\ttotal: 3.35s\tremaining: 24.5s\n",
      "36:\tlearn: 0.4718396\ttotal: 3.44s\tremaining: 24.4s\n",
      "37:\tlearn: 0.4712364\ttotal: 3.51s\tremaining: 24.2s\n",
      "38:\tlearn: 0.4707129\ttotal: 3.61s\tremaining: 24.1s\n",
      "39:\tlearn: 0.4704871\ttotal: 3.7s\tremaining: 24s\n",
      "40:\tlearn: 0.4700401\ttotal: 3.78s\tremaining: 23.9s\n",
      "41:\tlearn: 0.4696941\ttotal: 3.88s\tremaining: 23.8s\n",
      "42:\tlearn: 0.4693720\ttotal: 3.96s\tremaining: 23.7s\n",
      "43:\tlearn: 0.4689213\ttotal: 4.06s\tremaining: 23.6s\n",
      "44:\tlearn: 0.4683826\ttotal: 4.15s\tremaining: 23.5s\n",
      "45:\tlearn: 0.4678644\ttotal: 4.23s\tremaining: 23.3s\n",
      "46:\tlearn: 0.4674200\ttotal: 4.32s\tremaining: 23.2s\n",
      "47:\tlearn: 0.4671919\ttotal: 4.41s\tremaining: 23.1s\n",
      "48:\tlearn: 0.4668511\ttotal: 4.5s\tremaining: 23s\n",
      "49:\tlearn: 0.4664432\ttotal: 4.58s\tremaining: 22.9s\n",
      "50:\tlearn: 0.4660709\ttotal: 4.68s\tremaining: 22.8s\n",
      "51:\tlearn: 0.4657058\ttotal: 4.76s\tremaining: 22.7s\n",
      "52:\tlearn: 0.4652886\ttotal: 4.85s\tremaining: 22.6s\n",
      "53:\tlearn: 0.4650225\ttotal: 4.95s\tremaining: 22.5s\n",
      "54:\tlearn: 0.4646640\ttotal: 5.04s\tremaining: 22.4s\n",
      "55:\tlearn: 0.4643949\ttotal: 5.13s\tremaining: 22.3s\n",
      "56:\tlearn: 0.4641204\ttotal: 5.22s\tremaining: 22.2s\n",
      "57:\tlearn: 0.4638377\ttotal: 5.31s\tremaining: 22.1s\n",
      "58:\tlearn: 0.4635823\ttotal: 5.4s\tremaining: 22.1s\n",
      "59:\tlearn: 0.4632413\ttotal: 5.49s\tremaining: 22s\n",
      "60:\tlearn: 0.4629302\ttotal: 5.58s\tremaining: 21.9s\n",
      "61:\tlearn: 0.4625631\ttotal: 5.67s\tremaining: 21.8s\n",
      "62:\tlearn: 0.4622696\ttotal: 5.76s\tremaining: 21.7s\n",
      "63:\tlearn: 0.4619484\ttotal: 5.85s\tremaining: 21.6s\n",
      "64:\tlearn: 0.4616683\ttotal: 5.94s\tremaining: 21.5s\n",
      "65:\tlearn: 0.4613729\ttotal: 6.04s\tremaining: 21.4s\n",
      "66:\tlearn: 0.4609972\ttotal: 6.13s\tremaining: 21.3s\n",
      "67:\tlearn: 0.4607112\ttotal: 6.22s\tremaining: 21.2s\n",
      "68:\tlearn: 0.4604512\ttotal: 6.31s\tremaining: 21.1s\n",
      "69:\tlearn: 0.4601817\ttotal: 6.41s\tremaining: 21s\n",
      "70:\tlearn: 0.4598437\ttotal: 6.49s\tremaining: 20.9s\n",
      "71:\tlearn: 0.4595109\ttotal: 6.58s\tremaining: 20.8s\n",
      "72:\tlearn: 0.4592774\ttotal: 6.67s\tremaining: 20.7s\n",
      "73:\tlearn: 0.4590530\ttotal: 6.76s\tremaining: 20.6s\n",
      "74:\tlearn: 0.4587885\ttotal: 6.85s\tremaining: 20.5s\n",
      "75:\tlearn: 0.4584765\ttotal: 6.94s\tremaining: 20.5s\n",
      "76:\tlearn: 0.4582113\ttotal: 7.03s\tremaining: 20.4s\n",
      "77:\tlearn: 0.4579900\ttotal: 7.13s\tremaining: 20.3s\n",
      "78:\tlearn: 0.4577513\ttotal: 7.22s\tremaining: 20.2s\n",
      "79:\tlearn: 0.4574108\ttotal: 7.32s\tremaining: 20.1s\n",
      "80:\tlearn: 0.4572148\ttotal: 7.41s\tremaining: 20s\n",
      "81:\tlearn: 0.4568518\ttotal: 7.5s\tremaining: 19.9s\n",
      "82:\tlearn: 0.4566689\ttotal: 7.59s\tremaining: 19.8s\n",
      "83:\tlearn: 0.4564183\ttotal: 7.68s\tremaining: 19.8s\n",
      "84:\tlearn: 0.4562769\ttotal: 7.77s\tremaining: 19.7s\n",
      "85:\tlearn: 0.4559806\ttotal: 7.86s\tremaining: 19.6s\n",
      "86:\tlearn: 0.4557906\ttotal: 7.95s\tremaining: 19.5s\n",
      "87:\tlearn: 0.4555664\ttotal: 8.04s\tremaining: 19.4s\n",
      "88:\tlearn: 0.4553800\ttotal: 8.13s\tremaining: 19.3s\n",
      "89:\tlearn: 0.4551334\ttotal: 8.22s\tremaining: 19.2s\n",
      "90:\tlearn: 0.4549941\ttotal: 8.31s\tremaining: 19.1s\n",
      "91:\tlearn: 0.4548218\ttotal: 8.4s\tremaining: 19s\n",
      "92:\tlearn: 0.4545956\ttotal: 8.49s\tremaining: 18.9s\n",
      "93:\tlearn: 0.4544128\ttotal: 8.59s\tremaining: 18.8s\n",
      "94:\tlearn: 0.4541983\ttotal: 8.68s\tremaining: 18.7s\n",
      "95:\tlearn: 0.4539040\ttotal: 8.77s\tremaining: 18.6s\n",
      "96:\tlearn: 0.4536928\ttotal: 8.86s\tremaining: 18.5s\n",
      "97:\tlearn: 0.4534007\ttotal: 8.95s\tremaining: 18.4s\n",
      "98:\tlearn: 0.4531488\ttotal: 9.04s\tremaining: 18.4s\n",
      "99:\tlearn: 0.4529891\ttotal: 9.13s\tremaining: 18.3s\n",
      "100:\tlearn: 0.4526818\ttotal: 9.24s\tremaining: 18.2s\n",
      "101:\tlearn: 0.4524924\ttotal: 9.33s\tremaining: 18.1s\n",
      "102:\tlearn: 0.4523099\ttotal: 9.42s\tremaining: 18s\n",
      "103:\tlearn: 0.4520959\ttotal: 9.51s\tremaining: 17.9s\n",
      "104:\tlearn: 0.4519496\ttotal: 9.6s\tremaining: 17.8s\n",
      "105:\tlearn: 0.4517382\ttotal: 9.69s\tremaining: 17.7s\n",
      "106:\tlearn: 0.4514573\ttotal: 9.78s\tremaining: 17.6s\n",
      "107:\tlearn: 0.4511996\ttotal: 9.87s\tremaining: 17.5s\n",
      "108:\tlearn: 0.4510425\ttotal: 9.96s\tremaining: 17.4s\n",
      "109:\tlearn: 0.4508407\ttotal: 10.1s\tremaining: 17.4s\n",
      "110:\tlearn: 0.4505455\ttotal: 10.1s\tremaining: 17.3s\n",
      "111:\tlearn: 0.4503233\ttotal: 10.2s\tremaining: 17.2s\n",
      "112:\tlearn: 0.4499826\ttotal: 10.3s\tremaining: 17.1s\n",
      "113:\tlearn: 0.4497973\ttotal: 10.4s\tremaining: 17s\n",
      "114:\tlearn: 0.4495727\ttotal: 10.5s\tremaining: 16.9s\n",
      "115:\tlearn: 0.4494245\ttotal: 10.6s\tremaining: 16.8s\n",
      "116:\tlearn: 0.4490731\ttotal: 10.7s\tremaining: 16.8s\n",
      "117:\tlearn: 0.4487980\ttotal: 10.8s\tremaining: 16.7s\n",
      "118:\tlearn: 0.4485718\ttotal: 10.9s\tremaining: 16.6s\n",
      "119:\tlearn: 0.4483206\ttotal: 11s\tremaining: 16.5s\n",
      "120:\tlearn: 0.4481191\ttotal: 11.1s\tremaining: 16.4s\n",
      "121:\tlearn: 0.4479674\ttotal: 11.2s\tremaining: 16.3s\n",
      "122:\tlearn: 0.4477192\ttotal: 11.3s\tremaining: 16.2s\n",
      "123:\tlearn: 0.4476089\ttotal: 11.4s\tremaining: 16.1s\n",
      "124:\tlearn: 0.4473405\ttotal: 11.5s\tremaining: 16s\n",
      "125:\tlearn: 0.4472064\ttotal: 11.6s\tremaining: 15.9s\n",
      "126:\tlearn: 0.4470017\ttotal: 11.6s\tremaining: 15.9s\n",
      "127:\tlearn: 0.4468274\ttotal: 11.7s\tremaining: 15.8s\n",
      "128:\tlearn: 0.4465980\ttotal: 11.8s\tremaining: 15.7s\n",
      "129:\tlearn: 0.4464093\ttotal: 11.9s\tremaining: 15.6s\n",
      "130:\tlearn: 0.4462432\ttotal: 12s\tremaining: 15.5s\n",
      "131:\tlearn: 0.4461125\ttotal: 12.1s\tremaining: 15.4s\n",
      "132:\tlearn: 0.4459926\ttotal: 12.2s\tremaining: 15.3s\n",
      "133:\tlearn: 0.4458191\ttotal: 12.3s\tremaining: 15.3s\n",
      "134:\tlearn: 0.4456998\ttotal: 12.4s\tremaining: 15.2s\n",
      "135:\tlearn: 0.4453749\ttotal: 12.5s\tremaining: 15.1s\n",
      "136:\tlearn: 0.4451568\ttotal: 12.6s\tremaining: 15s\n",
      "137:\tlearn: 0.4449892\ttotal: 12.7s\tremaining: 14.9s\n",
      "138:\tlearn: 0.4446999\ttotal: 12.8s\tremaining: 14.8s\n",
      "139:\tlearn: 0.4445120\ttotal: 12.9s\tremaining: 14.7s\n",
      "140:\tlearn: 0.4442901\ttotal: 13s\tremaining: 14.6s\n",
      "141:\tlearn: 0.4440349\ttotal: 13.1s\tremaining: 14.5s\n",
      "142:\tlearn: 0.4438227\ttotal: 13.2s\tremaining: 14.5s\n",
      "143:\tlearn: 0.4435522\ttotal: 13.3s\tremaining: 14.4s\n",
      "144:\tlearn: 0.4433939\ttotal: 13.4s\tremaining: 14.3s\n",
      "145:\tlearn: 0.4432013\ttotal: 13.5s\tremaining: 14.2s\n",
      "146:\tlearn: 0.4429504\ttotal: 13.5s\tremaining: 14.1s\n",
      "147:\tlearn: 0.4427040\ttotal: 13.6s\tremaining: 14s\n",
      "148:\tlearn: 0.4423954\ttotal: 13.7s\tremaining: 13.9s\n",
      "149:\tlearn: 0.4422341\ttotal: 13.8s\tremaining: 13.8s\n",
      "150:\tlearn: 0.4419661\ttotal: 13.9s\tremaining: 13.7s\n",
      "151:\tlearn: 0.4417869\ttotal: 14s\tremaining: 13.6s\n",
      "152:\tlearn: 0.4415425\ttotal: 14.1s\tremaining: 13.6s\n",
      "153:\tlearn: 0.4412949\ttotal: 14.2s\tremaining: 13.5s\n",
      "154:\tlearn: 0.4411616\ttotal: 14.3s\tremaining: 13.4s\n",
      "155:\tlearn: 0.4409505\ttotal: 14.4s\tremaining: 13.3s\n",
      "156:\tlearn: 0.4406747\ttotal: 14.5s\tremaining: 13.2s\n",
      "157:\tlearn: 0.4405399\ttotal: 14.6s\tremaining: 13.1s\n",
      "158:\tlearn: 0.4403212\ttotal: 14.7s\tremaining: 13s\n",
      "159:\tlearn: 0.4400610\ttotal: 14.8s\tremaining: 12.9s\n",
      "160:\tlearn: 0.4398649\ttotal: 14.9s\tremaining: 12.8s\n",
      "161:\tlearn: 0.4396147\ttotal: 15s\tremaining: 12.7s\n"
     ]
    },
    {
     "name": "stdout",
     "output_type": "stream",
     "text": [
      "162:\tlearn: 0.4395152\ttotal: 15.1s\tremaining: 12.7s\n",
      "163:\tlearn: 0.4393075\ttotal: 15.1s\tremaining: 12.6s\n",
      "164:\tlearn: 0.4391918\ttotal: 15.2s\tremaining: 12.5s\n",
      "165:\tlearn: 0.4390232\ttotal: 15.3s\tremaining: 12.4s\n",
      "166:\tlearn: 0.4388796\ttotal: 15.4s\tremaining: 12.3s\n",
      "167:\tlearn: 0.4387004\ttotal: 15.5s\tremaining: 12.2s\n",
      "168:\tlearn: 0.4384628\ttotal: 15.6s\tremaining: 12.1s\n",
      "169:\tlearn: 0.4383313\ttotal: 15.7s\tremaining: 12s\n",
      "170:\tlearn: 0.4381037\ttotal: 15.8s\tremaining: 11.9s\n",
      "171:\tlearn: 0.4379949\ttotal: 15.9s\tremaining: 11.8s\n",
      "172:\tlearn: 0.4377887\ttotal: 16s\tremaining: 11.7s\n",
      "173:\tlearn: 0.4376257\ttotal: 16.1s\tremaining: 11.6s\n",
      "174:\tlearn: 0.4375156\ttotal: 16.2s\tremaining: 11.5s\n",
      "175:\tlearn: 0.4373833\ttotal: 16.3s\tremaining: 11.5s\n",
      "176:\tlearn: 0.4372399\ttotal: 16.3s\tremaining: 11.4s\n",
      "177:\tlearn: 0.4370521\ttotal: 16.4s\tremaining: 11.3s\n",
      "178:\tlearn: 0.4368748\ttotal: 16.5s\tremaining: 11.2s\n",
      "179:\tlearn: 0.4367692\ttotal: 16.6s\tremaining: 11.1s\n",
      "180:\tlearn: 0.4366424\ttotal: 16.7s\tremaining: 11s\n",
      "181:\tlearn: 0.4364795\ttotal: 16.8s\tremaining: 10.9s\n",
      "182:\tlearn: 0.4363500\ttotal: 16.9s\tremaining: 10.8s\n",
      "183:\tlearn: 0.4361512\ttotal: 17s\tremaining: 10.7s\n",
      "184:\tlearn: 0.4360115\ttotal: 17.1s\tremaining: 10.6s\n",
      "185:\tlearn: 0.4357970\ttotal: 17.2s\tremaining: 10.5s\n",
      "186:\tlearn: 0.4355650\ttotal: 17.3s\tremaining: 10.4s\n",
      "187:\tlearn: 0.4353154\ttotal: 17.4s\tremaining: 10.3s\n",
      "188:\tlearn: 0.4351932\ttotal: 17.5s\tremaining: 10.3s\n",
      "189:\tlearn: 0.4349737\ttotal: 17.5s\tremaining: 10.2s\n",
      "190:\tlearn: 0.4348054\ttotal: 17.6s\tremaining: 10.1s\n",
      "191:\tlearn: 0.4345802\ttotal: 17.7s\tremaining: 9.97s\n",
      "192:\tlearn: 0.4344101\ttotal: 17.8s\tremaining: 9.88s\n",
      "193:\tlearn: 0.4342272\ttotal: 17.9s\tremaining: 9.79s\n",
      "194:\tlearn: 0.4341462\ttotal: 18s\tremaining: 9.7s\n",
      "195:\tlearn: 0.4340172\ttotal: 18.1s\tremaining: 9.6s\n",
      "196:\tlearn: 0.4337673\ttotal: 18.2s\tremaining: 9.51s\n",
      "197:\tlearn: 0.4335767\ttotal: 18.3s\tremaining: 9.42s\n",
      "198:\tlearn: 0.4333739\ttotal: 18.4s\tremaining: 9.33s\n",
      "199:\tlearn: 0.4331809\ttotal: 18.5s\tremaining: 9.24s\n",
      "200:\tlearn: 0.4330409\ttotal: 18.6s\tremaining: 9.14s\n",
      "201:\tlearn: 0.4328101\ttotal: 18.7s\tremaining: 9.05s\n",
      "202:\tlearn: 0.4326857\ttotal: 18.8s\tremaining: 8.96s\n",
      "203:\tlearn: 0.4325943\ttotal: 18.8s\tremaining: 8.87s\n",
      "204:\tlearn: 0.4324525\ttotal: 18.9s\tremaining: 8.77s\n",
      "205:\tlearn: 0.4321801\ttotal: 19s\tremaining: 8.68s\n",
      "206:\tlearn: 0.4321033\ttotal: 19.1s\tremaining: 8.59s\n",
      "207:\tlearn: 0.4319475\ttotal: 19.2s\tremaining: 8.49s\n",
      "208:\tlearn: 0.4318239\ttotal: 19.3s\tremaining: 8.4s\n",
      "209:\tlearn: 0.4317143\ttotal: 19.4s\tremaining: 8.31s\n",
      "210:\tlearn: 0.4314619\ttotal: 19.5s\tremaining: 8.22s\n",
      "211:\tlearn: 0.4312330\ttotal: 19.6s\tremaining: 8.13s\n",
      "212:\tlearn: 0.4311543\ttotal: 19.7s\tremaining: 8.03s\n",
      "213:\tlearn: 0.4310441\ttotal: 19.8s\tremaining: 7.94s\n",
      "214:\tlearn: 0.4308932\ttotal: 19.9s\tremaining: 7.85s\n",
      "215:\tlearn: 0.4307520\ttotal: 19.9s\tremaining: 7.75s\n",
      "216:\tlearn: 0.4305492\ttotal: 20s\tremaining: 7.66s\n",
      "217:\tlearn: 0.4303114\ttotal: 20.1s\tremaining: 7.57s\n",
      "218:\tlearn: 0.4302169\ttotal: 20.2s\tremaining: 7.48s\n",
      "219:\tlearn: 0.4300570\ttotal: 20.3s\tremaining: 7.39s\n",
      "220:\tlearn: 0.4299162\ttotal: 20.4s\tremaining: 7.29s\n",
      "221:\tlearn: 0.4297534\ttotal: 20.5s\tremaining: 7.2s\n",
      "222:\tlearn: 0.4295856\ttotal: 20.6s\tremaining: 7.11s\n",
      "223:\tlearn: 0.4294113\ttotal: 20.7s\tremaining: 7.02s\n",
      "224:\tlearn: 0.4292618\ttotal: 20.8s\tremaining: 6.92s\n",
      "225:\tlearn: 0.4290405\ttotal: 20.9s\tremaining: 6.83s\n",
      "226:\tlearn: 0.4289041\ttotal: 21s\tremaining: 6.74s\n",
      "227:\tlearn: 0.4287602\ttotal: 21.1s\tremaining: 6.65s\n",
      "228:\tlearn: 0.4285387\ttotal: 21.1s\tremaining: 6.56s\n",
      "229:\tlearn: 0.4283570\ttotal: 21.2s\tremaining: 6.46s\n",
      "230:\tlearn: 0.4282635\ttotal: 21.3s\tremaining: 6.37s\n",
      "231:\tlearn: 0.4281651\ttotal: 21.4s\tremaining: 6.28s\n",
      "232:\tlearn: 0.4279503\ttotal: 21.5s\tremaining: 6.19s\n",
      "233:\tlearn: 0.4277986\ttotal: 21.6s\tremaining: 6.09s\n",
      "234:\tlearn: 0.4275527\ttotal: 21.7s\tremaining: 6s\n",
      "235:\tlearn: 0.4273197\ttotal: 21.8s\tremaining: 5.91s\n",
      "236:\tlearn: 0.4271745\ttotal: 21.9s\tremaining: 5.82s\n",
      "237:\tlearn: 0.4270026\ttotal: 22s\tremaining: 5.72s\n",
      "238:\tlearn: 0.4268252\ttotal: 22.1s\tremaining: 5.63s\n",
      "239:\tlearn: 0.4265225\ttotal: 22.2s\tremaining: 5.54s\n",
      "240:\tlearn: 0.4264172\ttotal: 22.3s\tremaining: 5.45s\n",
      "241:\tlearn: 0.4262063\ttotal: 22.4s\tremaining: 5.36s\n",
      "242:\tlearn: 0.4260488\ttotal: 22.5s\tremaining: 5.27s\n",
      "243:\tlearn: 0.4259075\ttotal: 22.5s\tremaining: 5.17s\n",
      "244:\tlearn: 0.4257644\ttotal: 22.6s\tremaining: 5.08s\n",
      "245:\tlearn: 0.4256387\ttotal: 22.7s\tremaining: 4.99s\n",
      "246:\tlearn: 0.4255506\ttotal: 22.8s\tremaining: 4.9s\n",
      "247:\tlearn: 0.4253744\ttotal: 22.9s\tremaining: 4.8s\n",
      "248:\tlearn: 0.4251622\ttotal: 23s\tremaining: 4.71s\n",
      "249:\tlearn: 0.4250430\ttotal: 23.1s\tremaining: 4.62s\n",
      "250:\tlearn: 0.4248672\ttotal: 23.2s\tremaining: 4.53s\n",
      "251:\tlearn: 0.4246418\ttotal: 23.3s\tremaining: 4.43s\n",
      "252:\tlearn: 0.4244719\ttotal: 23.4s\tremaining: 4.34s\n",
      "253:\tlearn: 0.4243708\ttotal: 23.5s\tremaining: 4.25s\n",
      "254:\tlearn: 0.4242286\ttotal: 23.6s\tremaining: 4.16s\n",
      "255:\tlearn: 0.4241218\ttotal: 23.7s\tremaining: 4.07s\n",
      "256:\tlearn: 0.4239060\ttotal: 23.8s\tremaining: 3.98s\n",
      "257:\tlearn: 0.4237423\ttotal: 23.8s\tremaining: 3.88s\n",
      "258:\tlearn: 0.4236049\ttotal: 23.9s\tremaining: 3.79s\n",
      "259:\tlearn: 0.4234915\ttotal: 24s\tremaining: 3.7s\n",
      "260:\tlearn: 0.4234164\ttotal: 24.1s\tremaining: 3.6s\n",
      "261:\tlearn: 0.4232368\ttotal: 24.2s\tremaining: 3.51s\n",
      "262:\tlearn: 0.4230145\ttotal: 24.3s\tremaining: 3.42s\n",
      "263:\tlearn: 0.4228206\ttotal: 24.4s\tremaining: 3.33s\n",
      "264:\tlearn: 0.4226736\ttotal: 24.5s\tremaining: 3.23s\n",
      "265:\tlearn: 0.4224546\ttotal: 24.6s\tremaining: 3.14s\n",
      "266:\tlearn: 0.4223282\ttotal: 24.7s\tremaining: 3.05s\n",
      "267:\tlearn: 0.4222146\ttotal: 24.8s\tremaining: 2.96s\n",
      "268:\tlearn: 0.4221113\ttotal: 24.9s\tremaining: 2.86s\n",
      "269:\tlearn: 0.4219867\ttotal: 24.9s\tremaining: 2.77s\n",
      "270:\tlearn: 0.4218100\ttotal: 25s\tremaining: 2.68s\n",
      "271:\tlearn: 0.4216216\ttotal: 25.1s\tremaining: 2.59s\n",
      "272:\tlearn: 0.4214891\ttotal: 25.2s\tremaining: 2.5s\n",
      "273:\tlearn: 0.4213047\ttotal: 25.3s\tremaining: 2.4s\n",
      "274:\tlearn: 0.4211788\ttotal: 25.4s\tremaining: 2.31s\n",
      "275:\tlearn: 0.4210051\ttotal: 25.5s\tremaining: 2.22s\n",
      "276:\tlearn: 0.4208956\ttotal: 25.6s\tremaining: 2.13s\n",
      "277:\tlearn: 0.4207688\ttotal: 25.7s\tremaining: 2.03s\n",
      "278:\tlearn: 0.4206509\ttotal: 25.8s\tremaining: 1.94s\n",
      "279:\tlearn: 0.4204700\ttotal: 25.9s\tremaining: 1.85s\n",
      "280:\tlearn: 0.4202427\ttotal: 26s\tremaining: 1.75s\n",
      "281:\tlearn: 0.4201383\ttotal: 26.1s\tremaining: 1.66s\n",
      "282:\tlearn: 0.4200386\ttotal: 26.1s\tremaining: 1.57s\n",
      "283:\tlearn: 0.4199202\ttotal: 26.2s\tremaining: 1.48s\n",
      "284:\tlearn: 0.4196993\ttotal: 26.3s\tremaining: 1.39s\n",
      "285:\tlearn: 0.4196207\ttotal: 26.4s\tremaining: 1.29s\n",
      "286:\tlearn: 0.4194972\ttotal: 26.5s\tremaining: 1.2s\n",
      "287:\tlearn: 0.4192558\ttotal: 26.6s\tremaining: 1.11s\n",
      "288:\tlearn: 0.4191547\ttotal: 26.7s\tremaining: 1.02s\n",
      "289:\tlearn: 0.4190474\ttotal: 26.8s\tremaining: 924ms\n",
      "290:\tlearn: 0.4189521\ttotal: 26.9s\tremaining: 832ms\n",
      "291:\tlearn: 0.4188132\ttotal: 27s\tremaining: 739ms\n",
      "292:\tlearn: 0.4186670\ttotal: 27.1s\tremaining: 647ms\n",
      "293:\tlearn: 0.4184742\ttotal: 27.2s\tremaining: 555ms\n",
      "294:\tlearn: 0.4183080\ttotal: 27.3s\tremaining: 462ms\n",
      "295:\tlearn: 0.4181756\ttotal: 27.4s\tremaining: 370ms\n",
      "296:\tlearn: 0.4180113\ttotal: 27.5s\tremaining: 277ms\n",
      "297:\tlearn: 0.4179004\ttotal: 27.5s\tremaining: 185ms\n",
      "298:\tlearn: 0.4178220\ttotal: 27.6s\tremaining: 92.4ms\n",
      "299:\tlearn: 0.4176906\ttotal: 27.7s\tremaining: 0us\n"
     ]
    },
    {
     "data": {
      "text/plain": [
       "<catboost.core.CatBoostClassifier at 0x15ecf15ef60>"
      ]
     },
     "execution_count": 21,
     "metadata": {},
     "output_type": "execute_result"
    }
   ],
   "source": [
    "cb = cb.CatBoostClassifier()\n",
    "param_dist = {'depth': [4, 7, 10],\n",
    "              'learning_rate' : [0.03, 0.1, 0.15],\n",
    "              'l2_leaf_reg': [1,4,9],\n",
    "              'iterations': [300]}\n",
    "cb_model = GridSearchCV(cb,  n_jobs=-1, param_grid=param_dist, cv = 3, scoring=\"roc_auc\", verbose=5)\n",
    "cb_model.fit(train, y_train)\n",
    "cb_model.best_estimator_"
   ]
  },
  {
   "cell_type": "code",
   "execution_count": 36,
   "metadata": {},
   "outputs": [
    {
     "data": {
      "text/plain": [
       "{'_init_params': {'depth': 10,\n",
       "  'iterations': 300,\n",
       "  'l2_leaf_reg': 9,\n",
       "  'learning_rate': 0.15},\n",
       " '_object': <_catboost._CatBoost at 0x15ecf053c60>,\n",
       " '_random_seed': 0,\n",
       " '_learning_rate': 0.15000000596046448,\n",
       " '_tree_count': 300,\n",
       " '_prediction_values_change': [13.625173237222091,\n",
       "  8.928120472482538,\n",
       "  5.7918877729679386,\n",
       "  9.16428395224229,\n",
       "  5.768848085221825,\n",
       "  6.751378879216918,\n",
       "  8.619663405549899,\n",
       "  10.784731485369035,\n",
       "  19.850356516398392,\n",
       "  10.715556193329075]}"
      ]
     },
     "execution_count": 36,
     "metadata": {},
     "output_type": "execute_result"
    }
   ],
   "source": [
    "cb_model.best_estimator_.__dict__"
   ]
  },
  {
   "cell_type": "code",
   "execution_count": 38,
   "metadata": {
    "scrolled": true
   },
   "outputs": [
    {
     "name": "stdout",
     "output_type": "stream",
     "text": [
      "0:\ttotal: 110ms\tremaining: 33s\n",
      "20:\ttotal: 2.01s\tremaining: 26.8s\n",
      "40:\ttotal: 3.88s\tremaining: 24.5s\n",
      "60:\ttotal: 5.7s\tremaining: 22.3s\n",
      "80:\ttotal: 7.51s\tremaining: 20.3s\n",
      "100:\ttotal: 9.32s\tremaining: 18.4s\n",
      "120:\ttotal: 11.2s\tremaining: 16.5s\n",
      "140:\ttotal: 13s\tremaining: 14.6s\n",
      "160:\ttotal: 14.9s\tremaining: 12.9s\n",
      "180:\ttotal: 16.8s\tremaining: 11.1s\n",
      "200:\ttotal: 18.7s\tremaining: 9.21s\n",
      "220:\ttotal: 20.6s\tremaining: 7.35s\n",
      "240:\ttotal: 22.5s\tremaining: 5.51s\n",
      "260:\ttotal: 24.4s\tremaining: 3.65s\n",
      "280:\ttotal: 26.3s\tremaining: 1.78s\n",
      "299:\ttotal: 28.1s\tremaining: 0us\n"
     ]
    },
    {
     "data": {
      "text/plain": [
       "(0.8013585721760655, 0.7532716812807292)"
      ]
     },
     "execution_count": 38,
     "metadata": {},
     "output_type": "execute_result"
    }
   ],
   "source": [
    "# Without Categorical features\n",
    "import catboost as cb\n",
    "clf_without_categorica = cb.CatBoostClassifier(eval_metric=\"AUC\", depth=10, iterations= 300, l2_leaf_reg= 9, learning_rate= 0.15,  verbose=20)\n",
    "clf_without_categorica.fit(train,y_train)\n",
    "auc(clf_without_categorica, train, test)"
   ]
  },
  {
   "cell_type": "code",
   "execution_count": 39,
   "metadata": {},
   "outputs": [
    {
     "name": "stdout",
     "output_type": "stream",
     "text": [
      "0:\ttotal: 420ms\tremaining: 2m 5s\n",
      "20:\ttotal: 7.65s\tremaining: 1m 41s\n",
      "40:\ttotal: 15.1s\tremaining: 1m 35s\n",
      "60:\ttotal: 22.7s\tremaining: 1m 28s\n",
      "80:\ttotal: 30s\tremaining: 1m 21s\n",
      "100:\ttotal: 37.6s\tremaining: 1m 14s\n",
      "120:\ttotal: 45.4s\tremaining: 1m 7s\n",
      "140:\ttotal: 53.4s\tremaining: 1m\n",
      "160:\ttotal: 1m 1s\tremaining: 52.9s\n",
      "180:\ttotal: 1m 8s\tremaining: 45.1s\n",
      "200:\ttotal: 1m 16s\tremaining: 37.5s\n",
      "220:\ttotal: 1m 23s\tremaining: 29.9s\n",
      "240:\ttotal: 1m 31s\tremaining: 22.4s\n",
      "260:\ttotal: 1m 39s\tremaining: 14.8s\n",
      "280:\ttotal: 1m 46s\tremaining: 7.21s\n",
      "299:\ttotal: 1m 53s\tremaining: 0us\n"
     ]
    },
    {
     "data": {
      "text/plain": [
       "(0.8651595108218882, 0.8045859964534174)"
      ]
     },
     "execution_count": 39,
     "metadata": {},
     "output_type": "execute_result"
    }
   ],
   "source": [
    "# With Categorical features\n",
    "clf_with_categorical = cb.CatBoostClassifier(eval_metric=\"AUC\", one_hot_max_size=31, depth=10, iterations= 300, l2_leaf_reg= 9, learning_rate= 0.15,  verbose=20)\n",
    "cat_features_index = [0,1,2,3,4,5,6]\n",
    "clf_with_categorical.fit(train,y_train, cat_features= cat_features_index)\n",
    "auc(clf_with_categorical, train, test)"
   ]
  },
  {
   "cell_type": "code",
   "execution_count": 51,
   "metadata": {},
   "outputs": [
    {
     "data": {
      "image/png": "[encoded data removed]",
      "text/plain": [
       "<Figure size 1080x360 with 1 Axes>"
      ]
     },
     "metadata": {
      "needs_background": "light"
     },
     "output_type": "display_data"
    }
   ],
   "source": [
    "figure(num=None, figsize=(15, 5))\n",
    "\n",
    "# With Categorical Features\n",
    "height = clf_with_categorical.get_feature_importance()\n",
    "bars = clf_with_categorical.feature_names_\n",
    "y_pos = np.arange(len(bars))\n",
    " \n",
    "# Create bars\n",
    "plt.bar(y_pos, height)\n",
    "# Rotation of the bars names\n",
    "plt.xticks(y_pos, bars, rotation=90)\n",
    "# Custom the subplot layout\n",
    "plt.subplots_adjust(bottom=0.4, top=0.99)\n",
    "# Show graphic\n",
    "plt.show()"
   ]
  },
  {
   "cell_type": "code",
   "execution_count": null,
   "metadata": {},
   "outputs": [],
   "source": []
  }
 ],
 "metadata": {
  "kernelspec": {
   "display_name": "Python 3",
   "language": "python",
   "name": "python3"
  },
  "language_info": {
   "codemirror_mode": {
    "name": "ipython",
    "version": 3
   },
   "file_extension": ".py",
   "mimetype": "text/x-python",
   "name": "python",
   "nbconvert_exporter": "python",
   "pygments_lexer": "ipython3",
   "version": "3.7.3"
  }
 },
 "nbformat": 4,
 "nbformat_minor": 2
}
