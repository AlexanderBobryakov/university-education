{
  "nbformat": 4,
  "nbformat_minor": 0,
  "metadata": {
    "kernelspec": {
      "display_name": "Python 3",
      "language": "python",
      "name": "python3"
    },
    "language_info": {
      "codemirror_mode": {
        "name": "ipython",
        "version": 3
      },
      "file_extension": ".py",
      "mimetype": "text/x-python",
      "name": "python",
      "nbconvert_exporter": "python",
      "pygments_lexer": "ipython3",
      "version": "3.7.4"
    },
    "colab": {
      "name": "python_2.ipynb",
      "provenance": []
    }
  },
  "cells": [
    {
      "cell_type": "markdown",
      "metadata": {
        "id": "zR1AS2S8GP0n",
        "colab_type": "text"
      },
      "source": [
        "## Домашнее задание №2 (курс \"Практикум по программированию на языке Python\")"
      ]
    },
    {
      "cell_type": "markdown",
      "metadata": {
        "id": "fnHa3ZXoGP0o",
        "colab_type": "text"
      },
      "source": [
        "__Задание 1 (2 балла):__ Дайте подробные ответы на следующие вопросы:\n",
        "\n",
        "1. В чём смысл инкапсуляции? Приведите пример конкретной ситуации в коде, в которой нарушение инкапсуляции приводит к проблемам.\n",
        "2. Какой метод называется статическим? Что такое параметр `self`?\n",
        "3. В чём отличия методов `__new__` и `__init__`?\n",
        "4. Какие виды отношений классов вы знаете? Для каждого приведите примеры. Укажите взаимные различия.\n",
        "5. Приведите 2 примера обоснованного использования шаблона Singleton в реальной жизни.\n",
        "6. Зачем нужны фабрики? Опишите смысл использования фабричного метода, фабрики и абстрактной фабрики, а также их взаимные отличия."
      ]
    },
    {
      "cell_type": "markdown",
      "metadata": {
        "id": "nI2_xJS9bQkz",
        "colab_type": "text"
      },
      "source": [
        "1) Смысл инкапсуляции сотстоит в размещении в одном компоненте данных и методов, которые с ним работают, а также сокрытие прямого доступа к данным  с целью их защиты. Пример  нарушения:"
      ]
    },
    {
      "cell_type": "code",
      "metadata": {
        "id": "DiHVq94BboS0",
        "colab_type": "code",
        "outputId": "eed35fa6-4f80-4e94-d6b3-53fe66d4d69c",
        "colab": {
          "base_uri": "https://localhost:8080/",
          "height": 68
        }
      },
      "source": [
        "class A():\n",
        "  def __init__(self):\n",
        "    self.field = 4\n",
        "  \n",
        "  def get_field(self):\n",
        "    return self.field\n",
        "\n",
        "  def set_field(self, value):\n",
        "    self.field = value + 10\n",
        "\n",
        "a = A()\n",
        "print(a.field)\n",
        "a.field = 5\n",
        "print(a.field)\n",
        "a.set_field(5)\n",
        "print(a.field)"
      ],
      "execution_count": 0,
      "outputs": [
        {
          "output_type": "stream",
          "text": [
            "4\n",
            "5\n",
            "15\n"
          ],
          "name": "stdout"
        }
      ]
    },
    {
      "cell_type": "markdown",
      "metadata": {
        "id": "2UUo34NwcQ7s",
        "colab_type": "text"
      },
      "source": [
        "2) Статическим методом класса называется метод, котрый не зависит от экземпляра этого класса. self - является ссылкой на объект класса внутри самого класса. Имя self используется по соглашению.    \n",
        "\n",
        "3) Функция __init__ - инициализатор, она ничего не создает и не возвращает. __init__ получает на вход объект класса и инициализирует его атрибуты. Функция __new__ является конструктором. Она возвращает объект класса.    \n",
        "\n",
        "4) Существуют 2 типа отношений классов: subclass-superclass (при наследовании), instance-type (объект класса). Пример: класс Машина наследуется от класса Транспорт. Но Audi является объектов класса Машина.    \n",
        "\n",
        "5) 1 пример: для создания единого объекта доступа к БД.     \n",
        "   2 пример: для получения одного экземпляра класса в любой точке программы\n",
        "\n",
        "6) Фабрики нужны для создания объектов с помощью какой-то другой сущности.\n",
        "Фабрика используется для создания объектов других классов, в зависимости от условий. Фабричный метод используется при определении общиего интерфейса для создания объектов в суперклассе, позволяя подклассам изменять тип создаваемых объектов. Абстрактная фабрика используется при создании семейства связанных объектов, не привязываясь к конкретным классам создаваемых объектов.\n",
        "Различия.    \n",
        "У простой фабрики, обычно, нет подклассов. Абстрактная фабрика используется только при наличии семейств продуктов, в отличие от фабричного метода."
      ]
    },
    {
      "cell_type": "markdown",
      "metadata": {
        "id": "UMs9AfoUGP0w",
        "colab_type": "text"
      },
      "source": [
        "__Задание 2 (1 балл):__ Описать класс комплексных чисел, поддерживающий представление в полярном виде. Произвести перегрузку магических методов для основных арифметических операций (+, -, \\*, /). Допускается использование модуля `math`."
      ]
    },
    {
      "cell_type": "code",
      "metadata": {
        "id": "gPexXYUQGP0y",
        "colab_type": "code",
        "colab": {}
      },
      "source": [
        "import math\n",
        "import copy\n",
        "class ComplexNumber():\n",
        "    def __init__(self, x, y):\n",
        "        self.x = x\n",
        "        self.y = y\n",
        "         \n",
        "    def get_rect(self):\n",
        "        x = copy.copy(self.x)\n",
        "        y = copy.copy(self.y)\n",
        "        self.x = x * math.cos(math.radians(y))\n",
        "        self.y = x * math.sin(math.radians(y))\n",
        "        return self\n",
        "        \n",
        "    def __add__(left, right):\n",
        "        left = left.get_rect()\n",
        "        right = right.get_rect()\n",
        "        real = left.x + right.x\n",
        "        imag = left.y + right.y\n",
        "        x = (real ** 2 + imag ** 2) ** .5\n",
        "        y = math.degrees(math.atan2(imag, real))\n",
        "        return ComplexNumber(x, y)\n",
        "\n",
        "  \n",
        "    def __sub__(left, right):\n",
        "        left = left.get_rect()\n",
        "        right = right.get_rect()\n",
        "        real = left.x - right.x\n",
        "        imag = left.y - right.y\n",
        "        x = (real ** 2 + imag ** 2) ** .5\n",
        "        y = math.degrees(math.atan2(imag, real))\n",
        "        return ComplexNumber(x, y)\n",
        "\n",
        "    \n",
        "    def __mul__(left, right):\n",
        "        left = left.get_rect()\n",
        "        right = right.get_rect()\n",
        "        real = left.x * right.x - left.y * right.y\n",
        "        imag = left.y * right.x + left.x * right.y\n",
        "        x = (real ** 2 + imag ** 2) ** .5\n",
        "        y = math.degrees(math.atan2(imag, real))\n",
        "        return ComplexNumber(x, y)\n",
        "        \n",
        "    def __truediv__(left, right):\n",
        "        left = left.get_rect()\n",
        "        right = right.get_rect()\n",
        "        real = (left.x * right.x - left.y * right.y) / ((right.x ** 2) + (right.y ** 2))\n",
        "        imag = (left.y * right.x + left.x * right.y) / ((right.x ** 2) + (right.y ** 2))\n",
        "        x = (real ** 2 + imag ** 2) ** .5\n",
        "        y = math.degrees(math.atan2(imag, real))\n",
        "        return ComplexNumber(x, y)\n"
      ],
      "execution_count": 0,
      "outputs": []
    },
    {
      "cell_type": "code",
      "metadata": {
        "id": "IDfJdY5rftwK",
        "colab_type": "code",
        "outputId": "f2cb1eee-6633-469d-cb15-5a0170d3f3cb",
        "colab": {
          "base_uri": "https://localhost:8080/",
          "height": 85
        }
      },
      "source": [
        "# тесты\n",
        "a = ComplexNumber(1, 2)\n",
        "b = ComplexNumber(1, 2)\n",
        "\n",
        "c1 = a + b\n",
        "print(c1.x, c1.y)\n",
        "c1 = a - b\n",
        "print(c1.x, c1.y)\n",
        "c1 = a * b\n",
        "print(c1.x, c1.y)\n",
        "c1 = a / b\n",
        "print(c1.x, c1.y)"
      ],
      "execution_count": 0,
      "outputs": [
        {
          "output_type": "stream",
          "text": [
            "2.0 2.0\n",
            "0.0 0.0\n",
            "0.9987816545654845 0.0012174800661317888\n",
            "0.9999999999999999 2.12360874530921e-05\n"
          ],
          "name": "stdout"
        }
      ]
    },
    {
      "cell_type": "markdown",
      "metadata": {
        "id": "9OgT_EQaGP04",
        "colab_type": "text"
      },
      "source": [
        "__Задание 3 (1.5 балл):__ Составить описание класса для объектов-векторов, задаваемых координатами концов в N-мерном пространстве. Основой является список значений координат вектора, задаваемый списком. Обеспечить операции сложения и вычитания векторов с получением нового вектора (суммы или разности), вычисления скалярного произведения двух векторов, длины вектора, косинуса угла между векторами. Все операции, которые можно перегрузить с помощью магических методов, должны быть реализованы именно через них. Класс должен производить проверку консистентности аргументов для каждой операции и в случаях ошибок выбрасывать исключение `ValueError` с исчерпывающим объяснением ошибки."
      ]
    },
    {
      "cell_type": "code",
      "metadata": {
        "id": "HBNEHGzyGP05",
        "colab_type": "code",
        "colab": {}
      },
      "source": [
        "class Vector:\n",
        "    def __init__(self, coordinates):\n",
        "        if len(coordinates) == 0:\n",
        "            raise ValueError('Размерность вектора = 0')\n",
        "        self.vector = coordinates\n",
        "        \n",
        "    def __add__(left, right):\n",
        "        if len(left.vector) != len(right.vector):\n",
        "            raise ValueError('Размерности векторов не совпадают')\n",
        "        return Vector(list(map(lambda x,y: x + y, left.vector, right.vector)))\n",
        "    \n",
        "    def __sub__(left, right):\n",
        "        if len(left.vector) != len(right.vector):\n",
        "            raise ValueError('Размерности векторов не совпадают')\n",
        "        return Vector(list(map(lambda x,y: x - y, left.vector, right.vector)))\n",
        "    \n",
        "    def __mul__(left, right):\n",
        "        if len(left.vector) != len(right.vector):\n",
        "            raise ValueError('Размерности векторов не совпадают')\n",
        "        return round(sum(list(map(lambda x,y: x * y, left.vector, right.vector))), 2)\n",
        "    \n",
        "    def get_length(left):\n",
        "        return round((sum(list(map(lambda x: x**x, left.vector)))) ** .5, 3)\n",
        "    \n",
        "    @staticmethod\n",
        "    def cosinus(vector1, vector2):\n",
        "        if len(vector1.vector) != len(vector2.vector):\n",
        "            raise ValueError('Размерности векторов не совпадают')\n",
        "        return round((vector1 * vector2) / (vector1.get_length() * vector2.get_length()), 10) \n"
      ],
      "execution_count": 0,
      "outputs": []
    },
    {
      "cell_type": "code",
      "metadata": {
        "id": "4iVTjIz5h8S4",
        "colab_type": "code",
        "outputId": "2f8d6713-f996-4f6e-fc72-0e965d10de7d",
        "colab": {
          "base_uri": "https://localhost:8080/",
          "height": 102
        }
      },
      "source": [
        "# тесты\n",
        "a = Vector([10, 20])\n",
        "b = Vector([1, 2])\n",
        "print((a + b).vector)\n",
        "print((a - b).vector)\n",
        "print(a * b)\n",
        "print(a.get_length())\n",
        "print(Vector.cosinus(a, b))"
      ],
      "execution_count": 0,
      "outputs": [
        {
          "output_type": "stream",
          "text": [
            "[11, 22]\n",
            "[9, 18]\n",
            "50\n",
            "10240000000000.0\n",
            "0.0\n"
          ],
          "name": "stdout"
        }
      ]
    },
    {
      "cell_type": "markdown",
      "metadata": {
        "id": "wjhF2pHaGP08",
        "colab_type": "text"
      },
      "source": [
        "__Задание 4 (1.5 балл):__ Опишите декоратор, который принимает на вход функцию и при каждом её вызове печатает строку \"This function was called N times\", где N - число раз, которое это функция была вызвана на текущий момент (пока функция существует как объект, это число, очевидно, может только неубывать)."
      ]
    },
    {
      "cell_type": "code",
      "metadata": {
        "id": "qnFOjNCoGP08",
        "colab_type": "code",
        "colab": {}
      },
      "source": [
        "def calls_counter(func):\n",
        "    #  для каждой функции храним счетчик\n",
        "    if not hasattr(calls_counter, 'count'):\n",
        "        calls_counter.count = {func.__name__: 0}\n",
        "\n",
        "    # запоминаем новую функцию\n",
        "    if func.__name__ not in list(calls_counter.count.keys()):\n",
        "        calls_counter.count[func.__name__] = 0\n",
        "    \n",
        "    def wrapper(*args, **kwargs):\n",
        "        result = func(*args, **kwargs)\n",
        "        calls_counter.count[func.__name__] += 1\n",
        "        print('This function was called', calls_counter.count[func.__name__], 'times')\n",
        "        return result\n",
        "    return wrapper\n",
        "\n",
        "@calls_counter\n",
        "def function_1():\n",
        "    return \n",
        "\n",
        "@calls_counter\n",
        "def function_2():\n",
        "    return \n",
        "    "
      ],
      "execution_count": 0,
      "outputs": []
    },
    {
      "cell_type": "code",
      "metadata": {
        "id": "4L70MO1ejmpr",
        "colab_type": "code",
        "outputId": "5e22850a-da91-40a8-e444-96b4d8c8c7ac",
        "colab": {
          "base_uri": "https://localhost:8080/",
          "height": 85
        }
      },
      "source": [
        "# тесты\n",
        "function_1()\n",
        "function_2()\n",
        "function_1()\n",
        "function_1()"
      ],
      "execution_count": 0,
      "outputs": [
        {
          "output_type": "stream",
          "text": [
            "This function was called 1 times\n",
            "This function was called 1 times\n",
            "This function was called 2 times\n",
            "This function was called 3 times\n"
          ],
          "name": "stdout"
        }
      ]
    },
    {
      "cell_type": "markdown",
      "metadata": {
        "id": "IcSOJbkaGP1B",
        "colab_type": "text"
      },
      "source": [
        "__Задание 5 (2.5 балла):__ Опишите декоратор класса, который принимает на вход другой класс и снабжает декорируемый класс всеми атрибутами входного класса, названия которых НЕ обрамлены с обеих сторон \"\\_\\_\". При этом приватные атрибуты-поля (начинающиеся в объявлении с \"\\_\\_\") должны иметь в декорируемом классе корректное имя.\n",
        "\n",
        "В случае конфликтов имён импортируемый атрибут должен получить имя с суффиксом \"\\_new\".\n",
        "\n",
        "Дополнительно для каждого полученного в итоге атрибута `attr_name` декорируемого класса, не являющегося публичным, должен быть добавлен метод `get_attr_name()`. Если такой метод в классе уже есть, то ничего делать не нужно."
      ]
    },
    {
      "cell_type": "code",
      "metadata": {
        "id": "9rX45BVzGP1B",
        "colab_type": "code",
        "colab": {}
      },
      "source": [
        "def copy_class_attrs(cls):\n",
        "    def decorate(basic_class):\n",
        "      class Wrapper_Class():\n",
        "        def __init__(self, *args, **kwargs):\n",
        "          # поля базового (декорируемого) класс\n",
        "          basic_object = basic_class(*args, **kwargs)\n",
        "          basic_attributes = list(filter(lambda x: not x.startswith('__') and not x.endswith('__'), basic_object.__dir__()))\n",
        "          for i in basic_attributes:\n",
        "            setattr(self, i, basic_object.__getattribute__(i))\n",
        "          # поля добавочного класса \n",
        "          dop_object = cls()\n",
        "          dop_attributes = list(filter(lambda x: not x.startswith('__') and not x.endswith('__'), dop_object.__dir__()))\n",
        "          for i in dop_attributes:\n",
        "              if i.startswith('_' + cls.__name__):\n",
        "                  j = i.replace('_' + cls.__name__ + '__', '_' + cls.__name__ + '__', 1)\n",
        "                  if j in basic_attributes:\n",
        "                      j += '_new'   \n",
        "                  setattr(self, j, getattr(dop_object, i))   \n",
        "              else:\n",
        "                  if i in basic_attributes:\n",
        "                      j = i + '_new'\n",
        "                      setattr(self, j, getattr(dop_object, i))\n",
        "           # добавим все методы\n",
        "          all_methods = list(filter(lambda x: not x.startswith('__') and not x.endswith('__') and x.startswith('_' + basic_class.__name__ + '__'), self.__dir__()))\n",
        "          for i in all_methods:\n",
        "              name = i[len('_' + basic_class.__name__ + '__'):]\n",
        "              if not hasattr(self, 'get_' + name):\n",
        "                  if name.endswith('_new'):\n",
        "                      if hasattr(dop_object, 'get_' + name[:-4]):\n",
        "                        setattr(self, 'get_' + name, getattr(dop_object, 'get_' + name[:-4]))\n",
        "                      else:\n",
        "                        setattr(self, ('get_' + name), lambda x=1: getattr(self, i))\n",
        "                  else:\n",
        "                      if hasattr(dop_object, 'get_' + name):\n",
        "                        setattr(self, 'get_' + name, getattr(dop_object, 'get_' + name))\n",
        "                      else:\n",
        "                        setattr(self, ('get_' + name), lambda x=1: getattr(self, i))\n",
        "      return Wrapper_Class\n",
        "    return decorate"
      ],
      "execution_count": 0,
      "outputs": []
    },
    {
      "cell_type": "code",
      "metadata": {
        "id": "I538Ij75qInj",
        "colab_type": "code",
        "outputId": "0a7c9cd2-cbfb-448f-9897-7570a192ea4b",
        "colab": {
          "base_uri": "https://localhost:8080/",
          "height": 71
        }
      },
      "source": [
        "# тесты\n",
        "class Dop_Class():\n",
        "    def __init__(self):\n",
        "        self.a = 1\n",
        "        self.__b = 4\n",
        "        \n",
        "    def get_a(self):\n",
        "        return self.a\n",
        "\n",
        "@copy_class_attrs(Dop_Class)\n",
        "class Basic_Class():\n",
        "    def __init__(self):\n",
        "        self.c = 2\n",
        "        self.__d = 40\n",
        "        \n",
        "    def get_d(self):\n",
        "        return self.__d\n",
        "obj = Basic_Class()\n",
        "print(obj.__dir__())\n",
        "print(obj._Dop_Class__b)"
      ],
      "execution_count": 0,
      "outputs": [
        {
          "output_type": "stream",
          "text": [
            "['c', '_Basic_Class__d', 'get_d', '_Dop_Class__b', '__module__', '__init__', '__dict__', '__weakref__', '__doc__', '__repr__', '__hash__', '__str__', '__getattribute__', '__setattr__', '__delattr__', '__lt__', '__le__', '__eq__', '__ne__', '__gt__', '__ge__', '__new__', '__reduce_ex__', '__reduce__', '__subclasshook__', '__init_subclass__', '__format__', '__sizeof__', '__dir__', '__class__']\n",
            "4\n"
          ],
          "name": "stdout"
        }
      ]
    },
    {
      "cell_type": "markdown",
      "metadata": {
        "id": "taPnpYOdGP1E",
        "colab_type": "text"
      },
      "source": [
        "__Задание 6 (4.5 баллов):__ Опишите класс для хранения двумерных числовых матриц на основе списков. Реализуйте поддержку индексирования, итерирования по столбцам и строкам, по-элементные математические операции (с помощью магических методов), операцию умножения матрицы (как метод `mat_prod` класса), транспонирование, поиска следа матрицы, а также поиск значения её определителя, если он существует, в противном случае соответствующий метод должен выводить сообщение об ошибке и возвращать `None`.\n",
        "\n",
        "Матрицу должно быть возможным создать из списка (в этом случае у неё будет одна строка), списка списков, или же передав явно три числа: число строк, число столбцов и значение по-умолчанию (которое можно не задавать, в этом случае оно принимается равным нулю). Все операции должны проверять корректность входных данных и бросать исключение с информативным сообщением в случае ошибки.\n",
        "\n",
        "Матрица должна поддерживать методы сохранения на диск в текстовом и бинарном файле и методы обратной загрузки с диска для обоих вариантов. Также она должна поддерживать метод копирования.\n",
        "\n",
        "В реализации математических операций запрещается пользоваться любыми функциями, требующими использования оператора `import`."
      ]
    },
    {
      "cell_type": "code",
      "metadata": {
        "id": "RjOBuMGKGP1E",
        "colab_type": "code",
        "colab": {}
      },
      "source": [
        "class Matrix():\n",
        "    def __init__(self, matrix=None, num_columns=0, default_value=0):\n",
        "        # Матрица из списка\n",
        "        if isinstance(matrix, list):\n",
        "            if len(matrix) == 0:\n",
        "                raise ValueError('Длина списка = 0 ')\n",
        "            else:\n",
        "                self.matrix = matrix\n",
        "        # Матрица из трех чисел\n",
        "        elif matrix is not None:\n",
        "            #  matrix - число строк\n",
        "            self.matrix = list(map(lambda x: list(map(lambda y: default_value, range(num_columns))), range(matrix)))\n",
        "        else:\n",
        "            self.matrix = None\n",
        "        \n",
        "    def __getitem__(self, i):\n",
        "        return self.matrix[i]\n",
        "    \n",
        "    \n",
        "    def __add__(left, right):\n",
        "        if not isinstance(left.matrix[0], list):\n",
        "            return (list(map(lambda x,y: x + y, left.matrix, right.matrix)))\n",
        "        # Матрица из списка\n",
        "        else:\n",
        "            if len(left.matrix[0]) != len(right.matrix[0]):\n",
        "                raise ValueError('Не совпадают размерности матриц')\n",
        "            else:\n",
        "                for i in range(len(left.matrix)):\n",
        "                    for j in range(len(left.matrix[i])):\n",
        "                        left.matrix[i][j] += right.matrix[i][j]\n",
        "                return Matrix(left.matrix)\n",
        "            \n",
        "    def __sub__(left, right):\n",
        "        if not isinstance(left.matrix[0], list):\n",
        "            return (list(map(lambda x,y: x - y, left.matrix, right.matrix)))\n",
        "        # Матрица из списка\n",
        "        else:\n",
        "            if len(left.matrix[0]) != len(right.matrix[0]):\n",
        "                raise ValueError('Не совпадают размерности матриц')\n",
        "            else:\n",
        "                for i in range(len(left.matrix)):\n",
        "                    for j in range(len(left.matrix[i])):\n",
        "                        left.matrix[i][j] -= right.matrix[i][j]\n",
        "                return Matrix(left.matrix)\n",
        "            \n",
        "    def mat_prod(left, right):\n",
        "        # умножение на число\n",
        "        if isinstance(right, int) or isinstance(right, float):\n",
        "            for i in range(len(left.matrix)):\n",
        "                    for j in range(len(left.matrix[i])):\n",
        "                        left.matrix[i][j] *= right\n",
        "            return(Matrix(left.matrix))\n",
        "        else:           \n",
        "            if not isinstance(left.matrix[0], list):\n",
        "                if len(left.matrix) != len(right.matrix):\n",
        "                    raise ValueError('Не совпадают размерности матриц')\n",
        "                return None\n",
        "            # Матрица из списка\n",
        "            else:\n",
        "                if len(left.matrix[0]) != len(right.matrix):\n",
        "                    raise ValueError('Не совпадают размерности матриц')\n",
        "                else:\n",
        "                    s=0\n",
        "                    t=[]\n",
        "                    m=[] \n",
        "                    for z in range(0, len(left.matrix)):\n",
        "                        for j in range(0, len(right.matrix[0])):\n",
        "                            for i in range(0, len(left.matrix[0])):\n",
        "                                s=s+left.matrix[z][i] * right.matrix[i][j]\n",
        "                            t.append(s)\n",
        "                            s=0\n",
        "                        m.append(t)\n",
        "                        t=[]           \n",
        "                    return Matrix(m)\n",
        "            \n",
        "    \n",
        "    def transpose(self):\n",
        "          return Matrix(list(map(list, zip(*self.matrix))))\n",
        "    \n",
        "    # след матрицы\n",
        "    def trace(self):\n",
        "        if len(self.matrix[0]) != len(self.matrix):\n",
        "            raise ValueError('Количество строк и столцов не совпадают')\n",
        "        else:\n",
        "            return sum(self.matrix[i][i] for i in range(len(self.matrix)))\n",
        "            \n",
        "    def det(self):\n",
        "        if len(self.matrix[0]) != len(self.matrix):\n",
        "            raise ValueError('num lines must be equal num columns')\n",
        "        else:\n",
        "            def minor(A, i, j):\n",
        "                M = []\n",
        "                for z in A:\n",
        "                    M.append(z[:])\n",
        "                del M[i]\n",
        "                for i in range(len( A[0]) - 1):\n",
        "                    del M[i][j]\n",
        "                return M   \n",
        "\n",
        "            def det(A):\n",
        "                m = len(A)\n",
        "                n = len(A[0])\n",
        "                if n == 1:\n",
        "                    return A[0][0]\n",
        "                signum = 1\n",
        "                determinant = 0\n",
        "                for j in range(n):\n",
        "                    determinant += A[0][j]*signum*det(minor(A, 0, j)) \n",
        "                    signum *= -1\n",
        "                return determinant \n",
        "            return det(self.matrix)\n",
        "                    \n",
        "    \n",
        "    def save_txt(self, path):\n",
        "        with open(path, 'w') as f:\n",
        "            f.write(self.__str__())\n",
        "         \n",
        "    def copy_matrix(self):\n",
        "        m = copy.deepcopy(self.matrix)\n",
        "        return Matrix(m)\n",
        "        "
      ],
      "execution_count": 0,
      "outputs": []
    },
    {
      "cell_type": "code",
      "metadata": {
        "id": "5PU2JL7m0FqV",
        "colab_type": "code",
        "outputId": "1b403d46-3391-46b8-8517-7a59442685fb",
        "colab": {
          "base_uri": "https://localhost:8080/",
          "height": 85
        }
      },
      "source": [
        "# Тесты\n",
        "matrix = Matrix(2, 2, 1)\n",
        "print(matrix.det())\n",
        "print((matrix.mat_prod(3)).matrix)\n",
        "\n",
        "matrix_1 = Matrix([[1, 2],[3, 4]])\n",
        "matrix_2 = Matrix([[1, 1],[1, 1]])\n",
        "print((matrix_1 - matrix_2).matrix)\n",
        "print(matrix_1.trace())"
      ],
      "execution_count": 0,
      "outputs": [
        {
          "output_type": "stream",
          "text": [
            "0\n",
            "[[3, 3], [3, 3]]\n",
            "[[0, 1], [2, 3]]\n",
            "3\n"
          ],
          "name": "stdout"
        }
      ]
    },
    {
      "cell_type": "markdown",
      "metadata": {
        "id": "SNrjucDsGP1H",
        "colab_type": "text"
      },
      "source": [
        "__Задание 7 (7 баллов):__ Спроектируйте программную архитектуру для кофе-машины исходя из следующих требований:\n",
        "\n",
        "- поддержка нескольких видов кофе;\n",
        "- возможность налития кофе в стаканы разных размеров (обычная порция, двойная порция);\n",
        "- возможность добавления в кофе разнообразных добавок в произвольных сочетаниях (одна добавка на одну обычную порцию, две - на двойную);\n",
        "- подсчёт стоимости заказа исходя из выбранного типа кофе и видов добавок;\n",
        "- учёт вносимых денежных средств (средства вносятся на депозит, после чего возможен заказ кофе);\n",
        "- возможность возвращения оставшихся на депозите средств по требованию пользователя;\n",
        "- учёт запасов кофе и добавок (в обычных порциях), информирование о невозможности выдачи продукта при его отсутствии;\n",
        "- возможность пополнения запасов кофе и выгрузки денег;\n",
        "- обеспечение консистентности (нельзя ни в какой ситуации выдать продукт без оплаты и не вернуть оплату в случае невыдачи продукта);\n",
        "- возможность установления и изменения цены на кофе, его различные порции и на добавки;\n",
        "- в случае выбора кофе без добавок машина должна перед подготовкой и выдачей продукта предложить пользователю рекламу добавки, подходящую именно для этого вида кофе, но только в том случае, если денег на депозите достаточно для оплаты кофе с добавкой (реализуется вызовом метода `suggest_add_on`, который возвращает в код True (согласие) или False (отказ));\n",
        "- для каждого вида кофе есть одна единственная максимально подходящая добавка, которая используется в рекламе в предыдущем пункте (у нескольких видов кофе добавка может быть одинаковой);\n",
        "- метод `suggest_add_on` печатает предложение добавить в указанный вид кофе подходящую для него добавку с указанием её стоимости (x2 для двойной порции кофе), после чего ожидает от пользователя ввод ответа с клавиатуры в виде \"да\" или \"нет\", на любой другой ввод функция должна запросить повторный ввод, указав на ошибку ввода и предложив снова ввести один из двух валидных ответов;\n",
        "\n",
        "В рамках решения задачи нужно спроектировать и описать набор интерфейсов и классов, реализующих указанную логику, подробно описать причины использования того или иного архитектурного решения, покрыть получившийся набор классов тестами. Архитектура должна получиться, с одной стороны, не избыточной, а с другой - гибкой и расширяемой.\n",
        "\n",
        "Следующие шаблоны проектирования и инструменты языка могут оказаться полезными для решения этой задачи (рекомендация не является строгой, можно использовать всё, что известно, главное - по делу):\n",
        "- декоратор\n",
        "- абстрактная фабрика\n",
        "- фасад\n",
        "- mixin\n",
        "- исключения\n",
        "- менеджер контекста\n",
        "\n",
        "\n",
        "Обратите внимание, что использование любого средства должно быть обоснованным, оценка ставится за качество и продуманность архитектуры решения, а не за использование как можно большего числа шаблонов. Допускается использование приёмов, не описанных в рамках курса.\n",
        "\n",
        "Дополнительно можно получить __до 5 бонусных баллов__ за описание получившейся архитектуры в виде [UML-диаграммы](https://habr.com/ru/post/458680/)."
      ]
    },
    {
      "cell_type": "code",
      "metadata": {
        "id": "obe0T1iTGP1I",
        "colab_type": "code",
        "colab": {}
      },
      "source": [
        "# Классы кофе\n",
        "class Coffee_1():\n",
        "    kind = 'Кофе номер 1'\n",
        "    price = 500\n",
        "\n",
        "    def __init__(self, portion):\n",
        "        self.portion = portion\n",
        "        self.additive = None\n",
        "        \n",
        "    # добавка к кофе\n",
        "    def add_additive(self, additive):\n",
        "        self.additive = additive\n",
        "    \n",
        "    def change_price(self, price):\n",
        "        self.price = price    \n",
        "        \n",
        "class Coffee_2():\n",
        "    kind = 'Кофе номер 2'\n",
        "    price = 200\n",
        "\n",
        "    def __init__(self, portion):\n",
        "        self.portion = portion\n",
        "        self.additive = None\n",
        "\n",
        "    # добавка к кофе\n",
        "    def add_additive(self, additive):\n",
        "        self.additive = additive\n",
        "    \n",
        "    def change_price(self, price):\n",
        "        self.price = price\n",
        "\n",
        "##########################################\n",
        "# Классы добавок\n",
        "class Additive_1():\n",
        "    count = 100;\n",
        "    def __init__(self):\n",
        "        self.kind = 'Добавка 1'\n",
        "        self.price = 25\n",
        "        \n",
        "    def change_price(self, price):\n",
        "        self.price = price\n",
        "\n",
        "        \n",
        "class Additive_2():\n",
        "    count = 100;\n",
        "    def __init__(self):\n",
        "        self.kind = 'Добавка 2'\n",
        "        self.price = 45\n",
        "        \n",
        "    def change_price(self, price):\n",
        "        self.price = price\n",
        "\n",
        "        \n",
        "class Additive_3():\n",
        "    count = 100;\n",
        "    def __init__(self):\n",
        "        self.kind = 'Добавка 3'\n",
        "        self.price = 5\n",
        "        \n",
        "    def change_price(self, price):\n",
        "        self.price = price\n",
        "\n",
        "#############################################\n",
        "# Класс кофе-машины\n",
        "class CoffeeMachine:\n",
        "    def __init__(self):\n",
        "        self.coffee = None  # кофе\n",
        "        self.portion = None   # количество порций\n",
        "        self.total_price = 0  # стоимость      \n",
        "\n",
        "    #  Выборк кофе\n",
        "    def select_coffee(self, kind, portions):\n",
        "        if (kind == Coffee_1.kind):\n",
        "          self.coffee = Coffee_1(portions)\n",
        "        else:\n",
        "          self.coffee = Coffee_2(portions)\n",
        "        self.portion = portions\n",
        "        self.total_price += portions * self.coffee.price\n",
        "        \n",
        "    # Добавить добавку\n",
        "    def select_additive(self, kind):\n",
        "        if (kind == Additive_1().kind):\n",
        "          if (Additive_1().count == 0):\n",
        "            print('Добавка закончилась.')\n",
        "          else: \n",
        "            self.coffee.add_additive(Additive_1())\n",
        "            Additive_1().count -= 1\n",
        "        elif (kind == Additive_2().kind):\n",
        "          if (Additive_2().count == 0):\n",
        "            print('Добавка закончилась.')\n",
        "          else: \n",
        "            self.coffee.add_additive(Additive_2())\n",
        "            Additive_2().count -= 1\n",
        "        else:\n",
        "          if (Additive_3().count == 0):\n",
        "            print('Добавка закончилась.')\n",
        "          else: \n",
        "            self.coffee.add_additive(Additive_3())\n",
        "            Additive_3().count -= 1\n",
        "        self.total_price += self.portion * self.coffee.additive.price  \n",
        "\n",
        "    # выдаем сумму покупки  \n",
        "    def print_price(self):\n",
        "        print('Сумма покупки =', self.total_price)\n",
        "\n",
        "    def pay(self, sum):\n",
        "        if (sum < self.total_price):\n",
        "          print('Недостаточно средств')\n",
        "        else:\n",
        "          # выдаем кофе\n",
        "          self.return_make_and_return_coffee()\n",
        "          # выдаем сдачу\n",
        "          print('Ваша сдача =', sum - self.total_price)\n",
        "\n",
        "    # приготовить кофе и отдать человеку \n",
        "    def return_make_and_return_coffee(self):\n",
        "        pass\n",
        "\n",
        "    #  печатаем результат всего выбора кофе\n",
        "    def print_result(self):\n",
        "      print('Вы закали кофе', self.coffee.kind, 'с количество порций', self.portion, 'с добавкой', self.coffee.additive.kind, 'на сумму', self.total_price)\n",
        "                \n",
        "    # Функции настройки кофе-машины для изменения цены кофе\n",
        "    def change_coffee_price(self, kind, new_price):\n",
        "      if (kind == Coffee_1.kind):\n",
        "        Coffee_1.price = new_price\n",
        "      else:\n",
        "        Coffee_2.price = new_price\n",
        "\n",
        "    # Функции настройки кофе-машины для изменения названия кофе\n",
        "    def change_coffee_price(self, kind, new_kind):\n",
        "      if (kind == Coffee_1.kind):\n",
        "          Coffee_1.kind = new_kind\n",
        "      else:\n",
        "          Coffee_2.kind = new_kind\n",
        "      "
      ],
      "execution_count": 0,
      "outputs": []
    },
    {
      "cell_type": "code",
      "metadata": {
        "id": "1pEpZ8RMGP1J",
        "colab_type": "code",
        "colab": {
          "base_uri": "https://localhost:8080/",
          "height": 68
        },
        "outputId": "5385e1fb-b9ab-4fa5-9da8-5e1353c8ca9e"
      },
      "source": [
        "# тесты\n",
        "cm = CoffeeMachine()\n",
        "cm.select_coffee('Кофе номер 1', 3)\n",
        "cm.select_additive('Добавка 2')\n",
        "cm.print_result()\n",
        "cm.pay(1600)  \n",
        "cm.pay(1650)       "
      ],
      "execution_count": 127,
      "outputs": [
        {
          "output_type": "stream",
          "text": [
            "Вы закали кофе Кофе номер 1 с количество порций 3 с добавкой Добавка 2 на сумму 1635\n",
            "Недостаточно средств\n",
            "Ваша сдача = 15\n"
          ],
          "name": "stdout"
        }
      ]
    },
    {
      "cell_type": "code",
      "metadata": {
        "id": "_Gpjpyun_gFI",
        "colab_type": "code",
        "colab": {}
      },
      "source": [
        ""
      ],
      "execution_count": 0,
      "outputs": []
    }
  ]
}