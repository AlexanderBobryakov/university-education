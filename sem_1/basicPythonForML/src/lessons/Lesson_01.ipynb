{
 "cells": [
  {
   "cell_type": "markdown",
   "metadata": {},
   "source": [
    "<center>\n",
    "\n",
    "# Курс \"Основы Python для анализа данных\"\n",
    "\n",
    "## Артамонов Игорь Михайлович\n",
    "## Факультет \"Прикладная математика\" МАИ\n",
    "\n",
    "### Занятие № 1 \n",
    "\n",
    "</center>\n"
   ]
  },
  {
   "cell_type": "markdown",
   "metadata": {},
   "source": [
    "## Организационные вопросы"
   ]
  },
  {
   "cell_type": "markdown",
   "metadata": {},
   "source": [
    "### Общение / вопросы по курсу\n",
    "\n",
    "Платформа для групповой работы Atlassian Confluence факультета \"Прикладная математика\"\n",
    "\n",
    "https://mai.moscow/display/PYTML "
   ]
  },
  {
   "cell_type": "markdown",
   "metadata": {},
   "source": [
    "### Оценка\n",
    "\n",
    "<b>Используется балльная оценка</b>\n",
    "\n",
    "|Критерий| Максимальное количество баллов|\n",
    "|---|---|\n",
    "|Посещаемость | 15 баллов|\n",
    "|Недельные задания | 15 баллов |\n",
    "|Промежуточные практические работы (<i>коллоквиумы</i>) | 30 баллов |\n",
    "|Мини-исследовательские работы (<i>проекты</i>) | 40 баллов |\n",
    "|Внешние курсы | 40 баллов |\n",
    "|Экзамен | 30 баллов |\n",
    "\n",
    "<b>Конвертация балльнай оценки в итоговую</b>\n",
    "\n",
    "| Сумма баллов | Оценка |\n",
    "|---|---|\n",
    "| 65+ баллов | <b>3</b><br> |\n",
    "| 75+ баллов | <b>4</b><br> |\n",
    "| 85+ баллов | <b>5</b><br> |\n"
   ]
  },
  {
   "cell_type": "markdown",
   "metadata": {},
   "source": [
    "### Как упростить сдачу\n",
    "#### Мини-исследовательские работы и учебные работы\n",
    "* Самостоятельный проект\n",
    "* Kaggle\n",
    "* https://mlcourse.ai/ (бывший mail.ru и ODS - <b>начался 02.09!</b>)\n",
    "* coursera.org\n",
    "    * Яндекс - специализация \"Машинное обучение и анализ данных\"\n",
    "    * coursera - курс \"Machine learning\" Andrew Ng (English)"
   ]
  },
  {
   "cell_type": "markdown",
   "metadata": {},
   "source": [
    "### Важно!\n",
    "\n",
    "Deadline (крайний срок сдачи):\n",
    "  * 23.59 <b>\\<\\></b> 00:00\n",
    "  * считается момент <b>доставки / получения / размещения</b>\n",
    "  * 0<b>+</b> баллов - <b>до</b>\n",
    "  * 0 баллов - <b>после</b>"
   ]
  },
  {
   "cell_type": "markdown",
   "metadata": {},
   "source": [
    "### Предварительные знания"
   ]
  },
  {
   "cell_type": "markdown",
   "metadata": {},
   "source": [
    "* Математический анализ\n",
    "* Линейная алгебра\n",
    "* Теория вероятности и статистика\n",
    "* Методы оптимизации\n",
    "* Программирование"
   ]
  },
  {
   "cell_type": "markdown",
   "metadata": {},
   "source": [
    "# Содержание курса\n",
    "## Курс состоит из 3х модулей\n",
    "###     Модуль 1.  Введение в Python\n",
    "###     Модуль 2.  Анализ данных\n",
    "###     Модуль 3.  Машинное обучение"
   ]
  },
  {
   "cell_type": "markdown",
   "metadata": {},
   "source": [
    "## Модуль 1. Введение в Python и средства разработки"
   ]
  },
  {
   "cell_type": "markdown",
   "metadata": {},
   "source": [
    "* <b>Занятие 1</b>\n",
    "     * Рабочее окружение: Ubuntu, virtualenv, PyCharm, Anaconda\n",
    "     * Работа Jupyter Notebook\n",
    "     * Система контроля версий git\n",
    "     * Сервисы GitHub, BitBucket и \n",
    "     * Kaggle\n",
    "     * Типы данных и операции с ними\n",
    "     * Операторы, условные конструкции, циклы\n",
    "     * Функции, аргументы и сигнатуры"
   ]
  },
  {
   "cell_type": "markdown",
   "metadata": {},
   "source": [
    "* <b>Занятие 2. Основные типы данных. Обработка исключений.</b>\n",
    "     * Последовательности: строка, список, кортеж, множество\n",
    "     * Словарь\n",
    "     * Стеки, очередь, дерево\n",
    "     * Случайные величины\n",
    "     * Исключения и их обработка"
   ]
  },
  {
   "cell_type": "markdown",
   "metadata": {},
   "source": [
    "* <b>Занятие  3. Объекто-ориентированное и функциональное программирование на Python</b>\n",
    "     * Основные положения ООП\n",
    "     * Классы и объекты\n",
    "     * Наследование\n",
    "     * Видимость переменных\n",
    "     * Основные положения ФП\n",
    "     * Итераторы и генераторы\n",
    "     * itertools\n",
    "     * functools\n",
    "     * lambda-функции"
   ]
  },
  {
   "cell_type": "markdown",
   "metadata": {},
   "source": [
    "* <b>Занятие  4. Ввод и вывод. Работа с реляционными базами данных</b>\n",
    "     * Ввод и вывод из файлов\n",
    "     * Форматированный вывод\n",
    "     * Подключение к Oracle\n",
    "     * Отображение запросов на типы Python\n",
    "     * Запросы на получение данных\n",
    "     * Запросы на изменение\n",
    "     * Путь обработки данных с РСУБД и Python"
   ]
  },
  {
   "cell_type": "markdown",
   "metadata": {},
   "source": [
    "* <b>Занятие  5. Numpy</b>\n",
    "     * Многомерные массисы\n",
    "     * Выборка и сечения (slicing)\n",
    "     * Условное индексирование\n",
    "     * Массив-ориентированное программирование\n",
    "     * Ввод и вывод массивов\n",
    "     * Широковещательные операции (broadcasting)\n",
    "     * Линейная алгебра"
   ]
  },
  {
   "cell_type": "markdown",
   "metadata": {},
   "source": [
    "* <b>Коллоквиум № 1</b>\n",
    "    - Общие знания\n",
    "    - Линейная алгебра\n",
    "    - Случайные величины\n",
    "    - numpy\n",
    "    <br><br>"
   ]
  },
  {
   "cell_type": "markdown",
   "metadata": {},
   "source": [
    "## Система контроля версий git"
   ]
  },
  {
   "cell_type": "markdown",
   "metadata": {},
   "source": [
    "<i>«Система управления версиями (от англ. Version Control System, VCS или Revision Control System) — \n",
    "программное обеспечение для облегчения работы с изменяющейся информацией. \n",
    "Система управления версиями позволяет хранить несколько версий одного и того же документа, \n",
    "при необходимости возвращаться к более ранним версиям, определять, кто и когда сделал\n",
    "то или иное изменение, и многое другое.»</i>\n",
    "<p>  (из wikipedia.com)</p>"
   ]
  },
  {
   "cell_type": "markdown",
   "metadata": {},
   "source": [
    "<b>git</b> - это <b>децентрализованная</b> система контроля версий. В них клиенты не просто скачивают снимок всех файлов\n",
    "(состояние файлов на определённый момент времени): они полностью копируют репозиторий. В этом случае, если\n",
    "один из серверов, через который разработчики обменивались данными, умрёт, любой клиентский репозиторий может\n",
    "быть скопирован на другой сервер для продолжения работы. Каждая копия репозитория является полным бэкапом\n",
    "всех данных."
   ]
  },
  {
   "cell_type": "markdown",
   "metadata": {},
   "source": [
    "Клонируем репозиторий:\n",
    "\n",
    "><p><i><b>git clone https://github.com/<< name >>/<< repo_name >>.git</b></i></p>\n",
    "\n",
    "><p><i><b>git add << file >>.py</b></i></p>\n",
    "\n",
    "Зафиксируем внесенные изменения в локальном репозитарии\n",
    "\n",
    "><p><i><b>git commit -m \"<< описание >>\"</b></i></p>\n",
    "\n",
    "Отправляем изменения на сервер в ветку master\n",
    "\n",
    "><p><i><b>git push -u origin master </b></i></p>\n"
   ]
  },
  {
   "cell_type": "markdown",
   "metadata": {},
   "source": [
    "### Веб-сервисы для хостинга IT-проектов и их совместной разработки\n",
    "\n",
    "GitHub\n",
    "* https://github.com\n",
    " \n",
    "BitBucket\n",
    "* https://bitbucket.org"
   ]
  },
  {
   "cell_type": "markdown",
   "metadata": {},
   "source": [
    "### ЗАДАНИЕ\n",
    "\n",
    "* Зарегистрироваться на любом из сервисов хостинга IT-проектов git\n",
    "* Создать свой репозиторий\n",
    "* Загрузить туда файл"
   ]
  },
  {
   "cell_type": "markdown",
   "metadata": {},
   "source": [
    "### Графические оболочки для Git (Windows / MacOS / Linux)"
   ]
  },
  {
   "cell_type": "markdown",
   "metadata": {},
   "source": [
    "SmartGit \n",
    "    <p><href a='https://www.syntevo.com/smartgit/'>https://www.syntevo.com/smartgit/</href></p>\n",
    "  \n",
    "GitEye\n",
    "    <p><href a='https://www.collab.net/downloads/giteye'>https://www.collab.net/downloads/giteye</href></p>\n"
   ]
  },
  {
   "cell_type": "markdown",
   "metadata": {},
   "source": [
    "### Полезные ресурсы\n",
    "\n",
    "<b>Pro Git v.2 by Scott Chacon and Ben Straub на русском</b>\n",
    "\n",
    "https://git-scm.com/book/ru/v2\n",
    "\n",
    "<b>Git How-To</b> - интерактивное введение в Git (English)\n",
    "\n",
    "https://githowto.com"
   ]
  },
  {
   "cell_type": "markdown",
   "metadata": {},
   "source": [
    "### Последовательность работы с данными\n",
    "\n",
    "* Получение \"сырых\" данных (симуляция, эксперимент, сбор)\n",
    "* Препроцессинг (обработка и манипуляция) данными\n",
    "* Визуализация данных в виде, понятном для понимания, отчетов и публикация"
   ]
  },
  {
   "cell_type": "markdown",
   "metadata": {},
   "source": [
    "### Why Python?"
   ]
  },
  {
   "cell_type": "markdown",
   "metadata": {},
   "source": [
    "* Входит в 5 наиболее популярных языков (Tiobe index: Sep 2018 - #3, Sep 2017 - #5)\n",
    "* Низкий порог вхождения\n",
    "* Пологая кривая обучения (Shallow learning curve)\n",
    "* Поддерживает много парадигм (императивный, объектно-ориентированный, функциональный)\n",
    "* Большое количество библиотек (язык, как способ доступа к библиотекам)\n",
    "* Отличное community"
   ]
  },
  {
   "cell_type": "markdown",
   "metadata": {},
   "source": [
    "### Библиотеки, используемые в курсе:\n",
    "\n",
    "* <b>Numpy</b> - базовый пакет для научных вычислений  для Python:\n",
    "    - эффективная работа с векторами, матрицами и тензорами\n",
    "    - \"широковещятельные\" функции выполнения операций (broadcasting)\n",
    "    - средства для интеграции с кодом C/C++ и Fortran\n",
    "    - линейная алгебра, преобразование Фурье, работа со случайными числами\n",
    "\n",
    "* <b>Pandas</b> - ключевой пакте для эффективного анализа анализа данных, построенный на базе аналога DataFrame из языка R. Позволяет быстро, гибко и удобно работать с реляционными и \"помеченными\" данными самой разной природы. В качестве цели его создатели ставят создание наиболее мощного и гибкого средства для анализа и манипуляции данных, независимо от языка программирования.\n",
    "\n",
    "* <b>Scikit-learn</b> - реализация всех наиболее распространенных методов машинного обучения и анализа данных (data mining). Отличительная особенность - отличная документация и множество примеров.\n",
    "\n",
    "* <b>SciPy</b> - высокоуровневая библиотека научных вычислений. Оптимизация, решение дифференциальных уравнений, интегрирование, линейная алгебра, оптимизация, обработка сигналов и изображений, работа с геоданными и статистикой.\n",
    "\n",
    "* <b>matplotlib</b> - библиотека визаулизации данных, в основном двухмерная графика (хотя есть и удобный \"псевдо-3D\"). Широкие возможности по изменению внешнего вида.\n",
    "\n",
    "* <b>seaborn</b> - библиотека визаулизации статистических данных."
   ]
  },
  {
   "cell_type": "markdown",
   "metadata": {},
   "source": [
    "## Делаем virtualenv и запускаем Jupyter notebook"
   ]
  },
  {
   "cell_type": "markdown",
   "metadata": {},
   "source": [
    "`$ conda -V\n",
    "\n",
    "conda update conda\n",
    "\n",
    "conda search \"^python$\"\n",
    "\n",
    "conda create -n yourenvname python=x.x anaconda\n",
    "\n",
    "source activate yourenvname\n",
    "\n",
    "conda install -n yourenvname [package]\n",
    "`"
   ]
  },
  {
   "cell_type": "markdown",
   "metadata": {},
   "source": [
    "### Python как калькулятор"
   ]
  },
  {
   "cell_type": "code",
   "execution_count": 5,
   "metadata": {},
   "outputs": [
    {
     "data": {
      "text/plain": [
       "10"
      ]
     },
     "execution_count": 5,
     "metadata": {},
     "output_type": "execute_result"
    }
   ],
   "source": [
    "2 * 5"
   ]
  },
  {
   "cell_type": "code",
   "execution_count": 38,
   "metadata": {},
   "outputs": [
    {
     "name": "stdout",
     "output_type": "stream",
     "text": [
      "16\n"
     ]
    }
   ],
   "source": [
    "i=2\n",
    "j=4\n",
    "print(i**j)"
   ]
  },
  {
   "cell_type": "code",
   "execution_count": 21,
   "metadata": {},
   "outputs": [
    {
     "data": {
      "text/plain": [
       "(4, 10, 121)"
      ]
     },
     "execution_count": 21,
     "metadata": {},
     "output_type": "execute_result"
    }
   ],
   "source": [
    "2*2, 3+7, 11**2"
   ]
  },
  {
   "cell_type": "code",
   "execution_count": 36,
   "metadata": {},
   "outputs": [],
   "source": [
    "(a, b, c) = 2*2, 3+7, 11**2"
   ]
  },
  {
   "cell_type": "code",
   "execution_count": 37,
   "metadata": {},
   "outputs": [
    {
     "name": "stdout",
     "output_type": "stream",
     "text": [
      "4 10 121\n"
     ]
    }
   ],
   "source": [
    "print(a, b, c)"
   ]
  },
  {
   "cell_type": "code",
   "execution_count": 15,
   "metadata": {},
   "outputs": [
    {
     "ename": "NameError",
     "evalue": "name 'sin' is not defined",
     "output_type": "error",
     "traceback": [
      "\u001b[0;31m---------------------------------------------------------------------------\u001b[0m",
      "\u001b[0;31mNameError\u001b[0m                                 Traceback (most recent call last)",
      "\u001b[0;32m<ipython-input-15-52ee457cd2c9>\u001b[0m in \u001b[0;36m<module>\u001b[0;34m()\u001b[0m\n\u001b[0;32m----> 1\u001b[0;31m \u001b[0;36m2\u001b[0m \u001b[0;34m*\u001b[0m \u001b[0msin\u001b[0m\u001b[0;34m(\u001b[0m\u001b[0;36m3.14159\u001b[0m \u001b[0;34m/\u001b[0m \u001b[0;36m2\u001b[0m\u001b[0;34m)\u001b[0m\u001b[0;34m\u001b[0m\u001b[0m\n\u001b[0m",
      "\u001b[0;31mNameError\u001b[0m: name 'sin' is not defined"
     ]
    }
   ],
   "source": [
    "2 * sin(3.14159 / 2)"
   ]
  },
  {
   "cell_type": "code",
   "execution_count": 16,
   "metadata": {},
   "outputs": [],
   "source": [
    "import math"
   ]
  },
  {
   "cell_type": "code",
   "execution_count": 23,
   "metadata": {},
   "outputs": [
    {
     "data": {
      "text/plain": [
       "2.0"
      ]
     },
     "execution_count": 23,
     "metadata": {},
     "output_type": "execute_result"
    }
   ],
   "source": [
    "2 * math.sin(math.pi / 2)"
   ]
  },
  {
   "cell_type": "code",
   "execution_count": 18,
   "metadata": {},
   "outputs": [],
   "source": [
    "from math import sin, cos, pi"
   ]
  },
  {
   "cell_type": "code",
   "execution_count": 24,
   "metadata": {},
   "outputs": [
    {
     "ename": "TypeError",
     "evalue": "unsupported operand type(s) for /: 'function' and 'int'",
     "output_type": "error",
     "traceback": [
      "\u001b[0;31m---------------------------------------------------------------------------\u001b[0m",
      "\u001b[0;31mTypeError\u001b[0m                                 Traceback (most recent call last)",
      "\u001b[0;32m<ipython-input-24-57dc511a3fa2>\u001b[0m in \u001b[0;36m<module>\u001b[0;34m()\u001b[0m\n\u001b[0;32m----> 1\u001b[0;31m \u001b[0;36m2\u001b[0m \u001b[0;34m*\u001b[0m \u001b[0msin\u001b[0m\u001b[0;34m(\u001b[0m\u001b[0mpi\u001b[0m \u001b[0;34m/\u001b[0m \u001b[0;36m2\u001b[0m\u001b[0;34m)\u001b[0m\u001b[0;34m\u001b[0m\u001b[0m\n\u001b[0m",
      "\u001b[0;31mTypeError\u001b[0m: unsupported operand type(s) for /: 'function' and 'int'"
     ]
    }
   ],
   "source": [
    "2 * sin(pi / 2)"
   ]
  },
  {
   "cell_type": "code",
   "execution_count": 26,
   "metadata": {},
   "outputs": [
    {
     "data": {
      "text/plain": [
       "2.0"
      ]
     },
     "execution_count": 26,
     "metadata": {},
     "output_type": "execute_result"
    }
   ],
   "source": [
    "# определим функцию\n",
    "def pi(n):\n",
    "    return math.pi * n\n",
    "\n",
    "2 * sin(pi(1/2))"
   ]
  },
  {
   "cell_type": "code",
   "execution_count": 42,
   "metadata": {},
   "outputs": [
    {
     "data": {
      "text/plain": [
       "-4*sin(2*x)"
      ]
     },
     "execution_count": 42,
     "metadata": {},
     "output_type": "execute_result"
    }
   ],
   "source": [
    "import sympy as sym\n",
    "\n",
    "x = sym.Symbol('x')\n",
    "\n",
    "# 2-я производная sin(2*x)\n",
    "sym.diff(sym.sin(2 * x), x, 2)"
   ]
  },
  {
   "cell_type": "code",
   "execution_count": 40,
   "metadata": {},
   "outputs": [
    {
     "name": "stdout",
     "output_type": "stream",
     "text": [
      "Collecting sympy\n",
      "  Downloading https://files.pythonhosted.org/packages/b0/47/54f3a752f3b88b9487f38e5e6b7bb96e0b60286b50fd818999f1ffead0cc/sympy-1.2.tar.gz (5.4MB)\n",
      "\u001b[K    100% |████████████████████████████████| 5.4MB 311kB/s eta 0:00:01\n",
      "\u001b[?25hCollecting mpmath>=0.19 (from sympy)\n",
      "  Downloading https://files.pythonhosted.org/packages/7a/05/b3d1472885d8dc0606936ea5da0ccb1b4785682e78ab15e34ada24aea8d5/mpmath-1.0.0.tar.gz (511kB)\n",
      "\u001b[K    100% |████████████████████████████████| 512kB 3.2MB/s eta 0:00:01\n",
      "\u001b[?25hBuilding wheels for collected packages: sympy, mpmath\n",
      "  Running setup.py bdist_wheel for sympy ... \u001b[?25ldone\n",
      "\u001b[?25h  Stored in directory: /home/art/.cache/pip/wheels/b4/af/81/7fad05f53f1e451e8ddb4b15aa3908dc98112a9459911ebb66\n",
      "  Running setup.py bdist_wheel for mpmath ... \u001b[?25ldone\n",
      "\u001b[?25h  Stored in directory: /home/art/.cache/pip/wheels/33/15/0f/9ca5f2ad88a5456803098daa189f382408a81556aa209e97ff\n",
      "Successfully built sympy mpmath\n",
      "Installing collected packages: mpmath, sympy\n",
      "Successfully installed mpmath-1.0.0 sympy-1.2\n"
     ]
    }
   ],
   "source": [
    "!pip install sympy"
   ]
  },
  {
   "cell_type": "markdown",
   "metadata": {},
   "source": [
    "## Cтрогая динамическая типизация "
   ]
  },
  {
   "cell_type": "code",
   "execution_count": 45,
   "metadata": {},
   "outputs": [
    {
     "data": {
      "text/plain": [
       "(2, int)"
      ]
     },
     "execution_count": 45,
     "metadata": {},
     "output_type": "execute_result"
    }
   ],
   "source": [
    "i = 2\n",
    "i, type(i)"
   ]
  },
  {
   "cell_type": "code",
   "execution_count": 62,
   "metadata": {},
   "outputs": [
    {
     "data": {
      "text/plain": [
       "('This is a string ', str, '4', str)"
      ]
     },
     "execution_count": 62,
     "metadata": {},
     "output_type": "execute_result"
    }
   ],
   "source": [
    "s = 'This is a string '\n",
    "j = '4'\n",
    "s, type(s), j, type(j)"
   ]
  },
  {
   "cell_type": "code",
   "execution_count": 68,
   "metadata": {},
   "outputs": [
    {
     "data": {
      "text/plain": [
       "'This is a string 4!'"
      ]
     },
     "execution_count": 68,
     "metadata": {},
     "output_type": "execute_result"
    }
   ],
   "source": [
    "s + j + '!'"
   ]
  },
  {
   "cell_type": "code",
   "execution_count": 64,
   "metadata": {},
   "outputs": [
    {
     "ename": "TypeError",
     "evalue": "unsupported operand type(s) for +: 'int' and 'str'",
     "output_type": "error",
     "traceback": [
      "\u001b[0;31m---------------------------------------------------------------------------\u001b[0m",
      "\u001b[0;31mTypeError\u001b[0m                                 Traceback (most recent call last)",
      "\u001b[0;32m<ipython-input-64-8f0483cc3638>\u001b[0m in \u001b[0;36m<module>\u001b[0;34m()\u001b[0m\n\u001b[0;32m----> 1\u001b[0;31m \u001b[0mi\u001b[0m \u001b[0;34m+\u001b[0m \u001b[0mj\u001b[0m\u001b[0;34m\u001b[0m\u001b[0m\n\u001b[0m",
      "\u001b[0;31mTypeError\u001b[0m: unsupported operand type(s) for +: 'int' and 'str'"
     ]
    }
   ],
   "source": [
    "i + j"
   ]
  },
  {
   "cell_type": "code",
   "execution_count": 65,
   "metadata": {},
   "outputs": [
    {
     "data": {
      "text/plain": [
       "6"
      ]
     },
     "execution_count": 65,
     "metadata": {},
     "output_type": "execute_result"
    }
   ],
   "source": [
    "i + int(j)float()"
   ]
  },
  {
   "cell_type": "code",
   "execution_count": 66,
   "metadata": {},
   "outputs": [
    {
     "ename": "TypeError",
     "evalue": "must be str, not int",
     "output_type": "error",
     "traceback": [
      "\u001b[0;31m---------------------------------------------------------------------------\u001b[0m",
      "\u001b[0;31mTypeError\u001b[0m                                 Traceback (most recent call last)",
      "\u001b[0;32m<ipython-input-66-c1921053b55e>\u001b[0m in \u001b[0;36m<module>\u001b[0;34m()\u001b[0m\n\u001b[0;32m----> 1\u001b[0;31m \u001b[0ms\u001b[0m \u001b[0;34m+\u001b[0m \u001b[0mi\u001b[0m\u001b[0;34m\u001b[0m\u001b[0m\n\u001b[0m",
      "\u001b[0;31mTypeError\u001b[0m: must be str, not int"
     ]
    }
   ],
   "source": [
    "s + i"
   ]
  },
  {
   "cell_type": "code",
   "execution_count": 67,
   "metadata": {},
   "outputs": [
    {
     "data": {
      "text/plain": [
       "'This is a string 2'"
      ]
     },
     "execution_count": 67,
     "metadata": {},
     "output_type": "execute_result"
    }
   ],
   "source": [
    "s + str(i)"
   ]
  },
  {
   "cell_type": "code",
   "execution_count": 101,
   "metadata": {},
   "outputs": [
    {
     "data": {
      "text/plain": [
       "18.0"
      ]
     },
     "execution_count": 101,
     "metadata": {},
     "output_type": "execute_result"
    }
   ],
   "source": [
    "float(i) + float(j)"
   ]
  },
  {
   "cell_type": "markdown",
   "metadata": {},
   "source": [
    "### Зарезервированные имена"
   ]
  },
  {
   "cell_type": "code",
   "execution_count": 97,
   "metadata": {},
   "outputs": [],
   "source": [
    "s = 'abc'\n",
    "i = 10"
   ]
  },
  {
   "cell_type": "code",
   "execution_count": 100,
   "metadata": {},
   "outputs": [
    {
     "ename": "SyntaxError",
     "evalue": "invalid syntax (<ipython-input-100-30707e5d35d7>, line 1)",
     "output_type": "error",
     "traceback": [
      "\u001b[0;36m  File \u001b[0;32m\"<ipython-input-100-30707e5d35d7>\"\u001b[0;36m, line \u001b[0;32m1\u001b[0m\n\u001b[0;31m    while = 'abc'\u001b[0m\n\u001b[0m          ^\u001b[0m\n\u001b[0;31mSyntaxError\u001b[0m\u001b[0;31m:\u001b[0m invalid syntax\n"
     ]
    }
   ],
   "source": [
    "while = 'abc'"
   ]
  },
  {
   "cell_type": "markdown",
   "metadata": {},
   "source": [
    "## Булевские значения и операции"
   ]
  },
  {
   "cell_type": "code",
   "execution_count": 69,
   "metadata": {},
   "outputs": [
    {
     "data": {
      "text/plain": [
       "False"
      ]
     },
     "execution_count": 69,
     "metadata": {},
     "output_type": "execute_result"
    }
   ],
   "source": [
    "x = 2\n",
    "x == 3"
   ]
  },
  {
   "cell_type": "code",
   "execution_count": 73,
   "metadata": {},
   "outputs": [
    {
     "data": {
      "text/plain": [
       "(True, False, bool)"
      ]
     },
     "execution_count": 73,
     "metadata": {},
     "output_type": "execute_result"
    }
   ],
   "source": [
    "x_is_2 = x == 2\n",
    "x_is_3 = x == 3\n",
    "x_is_2, x_is_3, type(x_is_2)"
   ]
  },
  {
   "cell_type": "code",
   "execution_count": 76,
   "metadata": {},
   "outputs": [
    {
     "data": {
      "text/plain": [
       "(False, True, True)"
      ]
     },
     "execution_count": 76,
     "metadata": {},
     "output_type": "execute_result"
    }
   ],
   "source": [
    "bool(0), bool(1), bool(2*8)"
   ]
  },
  {
   "cell_type": "code",
   "execution_count": 77,
   "metadata": {},
   "outputs": [
    {
     "data": {
      "text/plain": [
       "(1, 0)"
      ]
     },
     "execution_count": 77,
     "metadata": {},
     "output_type": "execute_result"
    }
   ],
   "source": [
    "int(True), int(False)"
   ]
  },
  {
   "cell_type": "markdown",
   "metadata": {},
   "source": [
    "## Условный оператор"
   ]
  },
  {
   "cell_type": "markdown",
   "metadata": {},
   "source": [
    "```python\n",
    "if expression1:\n",
    "   statement(s)\n",
    "elif expression2:\n",
    "   statement(s)\n",
    "elif expression3:\n",
    "   statement(s)\n",
    "else:\n",
    "   statement(s)\n",
    "```"
   ]
  },
  {
   "cell_type": "code",
   "execution_count": 8,
   "metadata": {
    "scrolled": true
   },
   "outputs": [
    {
     "name": "stdout",
     "output_type": "stream",
     "text": [
      "3<=a<6\n"
     ]
    }
   ],
   "source": [
    "import random\n",
    "\n",
    "a = random.uniform(0, 10)\n",
    "if a < 3:\n",
    "    print(\"a<3\")\n",
    "elif a < 6:\n",
    "    print (\"3<=a<6\")\n",
    "else:\n",
    "    print (\"a>=6\")"
   ]
  },
  {
   "cell_type": "markdown",
   "metadata": {},
   "source": [
    "## ЗАДАНИЕ\n",
    "* Создайте строку<br>\n",
    "* Проверьте, начитается ли строка с 3х символов \"ААА\" и заканчивается строкой \"RRR\"<br>\n",
    "* Используйте str.startwith() , str.endwith()"
   ]
  },
  {
   "cell_type": "code",
   "execution_count": null,
   "metadata": {},
   "outputs": [],
   "source": []
  },
  {
   "cell_type": "markdown",
   "metadata": {},
   "source": [
    "## Циклы"
   ]
  },
  {
   "cell_type": "markdown",
   "metadata": {},
   "source": [
    "```python\n",
    "while expression:\n",
    "   statement(s)\n",
    "```"
   ]
  },
  {
   "cell_type": "code",
   "execution_count": 112,
   "metadata": {},
   "outputs": [
    {
     "name": "stdout",
     "output_type": "stream",
     "text": [
      "3628800\n"
     ]
    }
   ],
   "source": [
    "n = 1\n",
    "n_fac = 10\n",
    "fac =  1\n",
    "while n <= n_fac:\n",
    "    fac *= n\n",
    "    n += 1\n",
    "print(fac)"
   ]
  },
  {
   "cell_type": "markdown",
   "metadata": {},
   "source": [
    "## ЗАДАНИЕ\n",
    "* Определите, насколько значение экспоненты отличается от полученного после 10 элементов\n",
    "ряда в абсолютном и относительном значении от максимально точного для python\n",
    "* для проверки используйте пакет <b><i>math.exp</i></b>"
   ]
  },
  {
   "cell_type": "markdown",
   "metadata": {},
   "source": [
    "$$e = (1+\\frac{1}{n})^n$$"
   ]
  },
  {
   "cell_type": "code",
   "execution_count": null,
   "metadata": {},
   "outputs": [],
   "source": []
  },
  {
   "cell_type": "markdown",
   "metadata": {},
   "source": [
    "```python\n",
    "for iterating_var in sequence:\n",
    "   statements(s)\n",
    "```"
   ]
  },
  {
   "cell_type": "markdown",
   "metadata": {},
   "source": [
    "### Управление выполнением цикла"
   ]
  },
  {
   "cell_type": "markdown",
   "metadata": {},
   "source": [
    "```python\n",
    "break\n",
    "\n",
    "continue\n",
    "```"
   ]
  },
  {
   "cell_type": "code",
   "execution_count": 89,
   "metadata": {},
   "outputs": [
    {
     "name": "stdout",
     "output_type": "stream",
     "text": [
      "val =   1\n",
      "val =   3\n",
      "val =   5\n",
      "val =   7\n",
      "val =  11\n",
      "val =  13\n",
      "val =  15\n",
      "val =  17\n",
      "val =  21\n",
      "val =  23\n",
      "val =  25\n",
      "val =  27\n",
      "val =  31\n",
      "val =  33\n",
      "val =  35\n",
      "val =  37\n",
      "val =  41\n",
      "val =  43\n",
      "val =  45\n",
      "val =  47\n",
      "val =  51\n",
      "val =  53\n",
      "val =  55\n",
      "val =  57\n",
      "val =  61\n",
      "val =  63\n",
      "val =  65\n",
      "val =  67\n"
     ]
    }
   ],
   "source": [
    "for i in range(10):\n",
    "    for j in range(10):\n",
    "        val = (i * 10 + j)\n",
    "        if j == 8:\n",
    "            break\n",
    "        elif val % 2 == 0:\n",
    "            continue\n",
    "        else:\n",
    "            print('val = {:3d}'.format(val))\n",
    "    if i > 5:\n",
    "        break"
   ]
  },
  {
   "cell_type": "markdown",
   "metadata": {},
   "source": [
    "## ЗАДАНИЕ\n",
    "* Найдите и распечатайте простые числа до 1000"
   ]
  },
  {
   "cell_type": "code",
   "execution_count": null,
   "metadata": {},
   "outputs": [],
   "source": []
  },
  {
   "cell_type": "markdown",
   "metadata": {},
   "source": [
    "### Unicode для переменных (избегайте этого!)"
   ]
  },
  {
   "cell_type": "code",
   "execution_count": 91,
   "metadata": {},
   "outputs": [],
   "source": [
    "переменная = 7\n",
    "str_переменная = 'Oops! I did it again!'"
   ]
  },
  {
   "cell_type": "code",
   "execution_count": 94,
   "metadata": {},
   "outputs": [
    {
     "name": "stdout",
     "output_type": "stream",
     "text": [
      "7 <class 'int'> \n",
      " Oops! I did it again! <class 'str'>\n"
     ]
    }
   ],
   "source": [
    "print(переменная, type(переменная), '\\n', str_переменная, type(str_переменная))"
   ]
  },
  {
   "cell_type": "markdown",
   "metadata": {},
   "source": [
    "\n",
    "## Функции, аргументы и сигнатуры"
   ]
  },
  {
   "cell_type": "markdown",
   "metadata": {},
   "source": [
    "```python\n",
    "def func(first, second, third='something'):\n",
    "    pass\n",
    "```"
   ]
  },
  {
   "cell_type": "markdown",
   "metadata": {},
   "source": [
    "```python\n",
    "def func(*args):\n",
    "     return args\n",
    "```"
   ]
  },
  {
   "cell_type": "markdown",
   "metadata": {},
   "source": [
    "```python\n",
    "def func(**kwargs):\n",
    "     return kwargs\n",
    "```"
   ]
  },
  {
   "cell_type": "code",
   "execution_count": 124,
   "metadata": {},
   "outputs": [],
   "source": [
    "from inspect import signature\n",
    "\n",
    "def func(first, second, third='something'):\n",
    "    \"\"\"\n",
    "    Description\n",
    "    1.\n",
    "    2. \n",
    "    3.\n",
    "    \"\"\"\n",
    "    pass\n"
   ]
  },
  {
   "cell_type": "code",
   "execution_count": 125,
   "metadata": {},
   "outputs": [
    {
     "name": "stdout",
     "output_type": "stream",
     "text": [
      "Help on function func in module __main__:\n",
      "\n",
      "func(first, second, third='something')\n",
      "    Description\n",
      "    1.\n",
      "    2. \n",
      "    3.\n",
      "\n"
     ]
    }
   ],
   "source": [
    "help(func)\n"
   ]
  },
  {
   "cell_type": "code",
   "execution_count": 126,
   "metadata": {
    "scrolled": true
   },
   "outputs": [
    {
     "name": "stdout",
     "output_type": "stream",
     "text": [
      "(first, second, third='something')\n"
     ]
    }
   ],
   "source": [
    "sig = signature(func)\n",
    "print(sig)"
   ]
  },
  {
   "cell_type": "code",
   "execution_count": null,
   "metadata": {},
   "outputs": [],
   "source": []
  },
  {
   "cell_type": "markdown",
   "metadata": {},
   "source": [
    "## Экзаменационные вопросы"
   ]
  },
  {
   "cell_type": "markdown",
   "metadata": {},
   "source": [
    "* Общая структура программы Python\n",
    "* Управляющие структуры Python\n",
    "* Простые типы в Python\n",
    "* Система управления версиями Git"
   ]
  },
  {
   "cell_type": "markdown",
   "metadata": {},
   "source": [
    "### <b>Задание №1</b>\n",
    "- завести свой репозиторий на GitHub или BitBucket\n",
    "- создать там проект по данному курсу\n",
    "- загрузить данный файл по ссылке ...\n",
    "- разместить данные на GitHub\n",
    "\n",
    "><b>deadline: </b>"
   ]
  },
  {
   "cell_type": "markdown",
   "metadata": {},
   "source": [
    "# This is the end, my friend! "
   ]
  }
 ],
 "metadata": {
  "kernelspec": {
   "display_name": "Python 3",
   "language": "python",
   "name": "python3"
  },
  "language_info": {
   "codemirror_mode": {
    "name": "ipython",
    "version": 3
   },
   "file_extension": ".py",
   "mimetype": "text/x-python",
   "name": "python",
   "nbconvert_exporter": "python",
   "pygments_lexer": "ipython3",
   "version": "3.7.4"
  }
 },
 "nbformat": 4,
 "nbformat_minor": 2
}
