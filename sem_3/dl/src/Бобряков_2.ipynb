{
 "cells": [
  {
   "cell_type": "markdown",
   "metadata": {},
   "source": [
    "![img](https://upload.wikimedia.org/wikipedia/commons/9/96/Pytorch_logo.png)"
   ]
  },
  {
   "cell_type": "code",
   "execution_count": 1,
   "metadata": {},
   "outputs": [],
   "source": [
    "%matplotlib inline\n",
    "\n",
    "import numpy as np\n",
    "import matplotlib.pyplot as plt\n",
    "from tqdm import tqdm, tqdm_notebook"
   ]
  },
  {
   "cell_type": "markdown",
   "metadata": {},
   "source": [
    "На этом занятии помимо базового функционала `pytorch` будет использоваться библиотека для зрения **`torchvision`**."
   ]
  },
  {
   "cell_type": "markdown",
   "metadata": {},
   "source": [
    "# Pytorch как конструктор"
   ]
  },
  {
   "cell_type": "markdown",
   "metadata": {},
   "source": [
    "## Работа с датасетами\n",
    "\n",
    "Для загрузки данных pytorch опирается на такую сущность, как **`Dataset`**.\n",
    "\n",
    "Этот абстрактный класс определен в `torch.utils.data.dataset`:\n",
    "\n",
    "```python\n",
    "class Dataset(object):\n",
    "    \"\"\"An abstract class representing a Dataset.\n",
    "\n",
    "    All other datasets should subclass it. All subclasses should override\n",
    "    ``__len__``, that provides the size of the dataset, and ``__getitem__``,\n",
    "    supporting integer indexing in range from 0 to len(self) exclusive.\n",
    "    \"\"\"\n",
    "\n",
    "    def __getitem__(self, index):\n",
    "        raise NotImplementedError\n",
    "\n",
    "    def __len__(self):\n",
    "        raise NotImplementedError\n",
    "\n",
    "    def __add__(self, other):\n",
    "        return ConcatDataset([self, other])\n",
    "```\n",
    "При определении нового источника данных мы создаем наследника данного класса и реализуем методы `__getitem__` и `__len__`.\n",
    "\n",
    "Пример готового такого класса — `torchvision.datasets.ImageFolder`, который позволяет создать датасет на основе директории с imagenet-подобной структурой поддиректорий (`./train/{class}` и `./val/{class}`):\n",
    "\n",
    "```python\n",
    "imagenet = torchvision.datasets.ImageFolder('path/to/imagenet_root/')\n",
    "```\n",
    "\n",
    "Кастомный пример — датасет, загружающий изображения на основе путей и классов из текстового файла:"
   ]
  },
  {
   "cell_type": "code",
   "execution_count": 3,
   "metadata": {},
   "outputs": [],
   "source": [
    "from torch.utils.data import Dataset\n",
    "# default_loader - стандартная функция для загрузки изображений, использует accimage или PIL\n",
    "from torchvision.datasets.folder import default_loader\n",
    "\n",
    "class TxtList(Dataset):\n",
    "    def __init__(self, path, transform=None, loader=default_loader):\n",
    "        with open(path) as fin:\n",
    "            self.imgs = [s.strip().split() for s in fin.readlines()]\n",
    "\n",
    "        print(f'=> Found {len(self.imgs)} entries in {path}')\n",
    "\n",
    "        self.classes = sorted(set([_[1] for _ in self.imgs]))\n",
    "        self.class_to_idx = {cls: idx for idx, cls in enumerate(self.classes)}\n",
    "        self.transform = transform\n",
    "        self.loader = loader\n",
    "\n",
    "    def __getitem__(self, index):\n",
    "        path, target = self.imgs[index]\n",
    "        target = self.class_to_idx[target]\n",
    "        img = self.loader(path)\n",
    "        if self.transform is not None:\n",
    "            img = self.transform(img)\n",
    "\n",
    "        return img, target\n",
    "\n",
    "    def __len__(self):\n",
    "        return len(self.imgs)"
   ]
  },
  {
   "cell_type": "code",
   "execution_count": 4,
   "metadata": {},
   "outputs": [],
   "source": [
    "!echo '/tmp/1.jpg\\tcat' > /tmp/dataset.tsv\n",
    "!echo '/tmp/2.jpg\\tcat' >> /tmp/dataset.tsv\n",
    "!echo '/tmp/3.jpg\\tdog' >> /tmp/dataset.tsv\n",
    "!echo '/tmp/4.jpg\\tcat' >> /tmp/dataset.tsv"
   ]
  },
  {
   "cell_type": "code",
   "execution_count": 5,
   "metadata": {},
   "outputs": [
    {
     "name": "stdout",
     "output_type": "stream",
     "text": [
      "=> Found 4 entries in /tmp/dataset.tsv\n"
     ]
    }
   ],
   "source": [
    "catdog = TxtList('/tmp/dataset.tsv')"
   ]
  },
  {
   "cell_type": "code",
   "execution_count": 6,
   "metadata": {},
   "outputs": [
    {
     "data": {
      "text/plain": [
       "['cat', 'dog']"
      ]
     },
     "execution_count": 6,
     "metadata": {},
     "output_type": "execute_result"
    }
   ],
   "source": [
    "catdog.classes"
   ]
  },
  {
   "cell_type": "code",
   "execution_count": 7,
   "metadata": {},
   "outputs": [
    {
     "data": {
      "text/plain": [
       "[['/tmp/1.jpg', 'cat'],\n",
       " ['/tmp/2.jpg', 'cat'],\n",
       " ['/tmp/3.jpg', 'dog'],\n",
       " ['/tmp/4.jpg', 'cat']]"
      ]
     },
     "execution_count": 7,
     "metadata": {},
     "output_type": "execute_result"
    }
   ],
   "source": [
    "catdog.imgs"
   ]
  },
  {
   "cell_type": "code",
   "execution_count": 8,
   "metadata": {},
   "outputs": [
    {
     "data": {
      "text/plain": [
       "4"
      ]
     },
     "execution_count": 8,
     "metadata": {},
     "output_type": "execute_result"
    }
   ],
   "source": [
    "len(catdog)"
   ]
  },
  {
   "cell_type": "code",
   "execution_count": 9,
   "metadata": {},
   "outputs": [
    {
     "ename": "FileNotFoundError",
     "evalue": "[Errno 2] No such file or directory: '/tmp/1.jpg'",
     "output_type": "error",
     "traceback": [
      "\u001b[0;31m---------------------------------------------------------------------------\u001b[0m",
      "\u001b[0;31mFileNotFoundError\u001b[0m                         Traceback (most recent call last)",
      "\u001b[0;32m<ipython-input-9-09c24881b9b8>\u001b[0m in \u001b[0;36m<module>\u001b[0;34m\u001b[0m\n\u001b[1;32m      1\u001b[0m \u001b[0;31m# FileNotFoundError\u001b[0m\u001b[0;34m\u001b[0m\u001b[0;34m\u001b[0m\u001b[0;34m\u001b[0m\u001b[0m\n\u001b[0;32m----> 2\u001b[0;31m \u001b[0mcatdog\u001b[0m\u001b[0;34m[\u001b[0m\u001b[0;36m0\u001b[0m\u001b[0;34m]\u001b[0m\u001b[0;34m\u001b[0m\u001b[0;34m\u001b[0m\u001b[0m\n\u001b[0m",
      "\u001b[0;32m<ipython-input-3-625a7e4cd763>\u001b[0m in \u001b[0;36m__getitem__\u001b[0;34m(self, index)\u001b[0m\n\u001b[1;32m     18\u001b[0m         \u001b[0mpath\u001b[0m\u001b[0;34m,\u001b[0m \u001b[0mtarget\u001b[0m \u001b[0;34m=\u001b[0m \u001b[0mself\u001b[0m\u001b[0;34m.\u001b[0m\u001b[0mimgs\u001b[0m\u001b[0;34m[\u001b[0m\u001b[0mindex\u001b[0m\u001b[0;34m]\u001b[0m\u001b[0;34m\u001b[0m\u001b[0;34m\u001b[0m\u001b[0m\n\u001b[1;32m     19\u001b[0m         \u001b[0mtarget\u001b[0m \u001b[0;34m=\u001b[0m \u001b[0mself\u001b[0m\u001b[0;34m.\u001b[0m\u001b[0mclass_to_idx\u001b[0m\u001b[0;34m[\u001b[0m\u001b[0mtarget\u001b[0m\u001b[0;34m]\u001b[0m\u001b[0;34m\u001b[0m\u001b[0;34m\u001b[0m\u001b[0m\n\u001b[0;32m---> 20\u001b[0;31m         \u001b[0mimg\u001b[0m \u001b[0;34m=\u001b[0m \u001b[0mself\u001b[0m\u001b[0;34m.\u001b[0m\u001b[0mloader\u001b[0m\u001b[0;34m(\u001b[0m\u001b[0mpath\u001b[0m\u001b[0;34m)\u001b[0m\u001b[0;34m\u001b[0m\u001b[0;34m\u001b[0m\u001b[0m\n\u001b[0m\u001b[1;32m     21\u001b[0m         \u001b[0;32mif\u001b[0m \u001b[0mself\u001b[0m\u001b[0;34m.\u001b[0m\u001b[0mtransform\u001b[0m \u001b[0;32mis\u001b[0m \u001b[0;32mnot\u001b[0m \u001b[0;32mNone\u001b[0m\u001b[0;34m:\u001b[0m\u001b[0;34m\u001b[0m\u001b[0;34m\u001b[0m\u001b[0m\n\u001b[1;32m     22\u001b[0m             \u001b[0mimg\u001b[0m \u001b[0;34m=\u001b[0m \u001b[0mself\u001b[0m\u001b[0;34m.\u001b[0m\u001b[0mtransform\u001b[0m\u001b[0;34m(\u001b[0m\u001b[0mimg\u001b[0m\u001b[0;34m)\u001b[0m\u001b[0;34m\u001b[0m\u001b[0;34m\u001b[0m\u001b[0m\n",
      "\u001b[0;32m~/anaconda3/lib/python3.7/site-packages/torchvision/datasets/folder.py\u001b[0m in \u001b[0;36mdefault_loader\u001b[0;34m(path)\u001b[0m\n\u001b[1;32m    172\u001b[0m         \u001b[0;32mreturn\u001b[0m \u001b[0maccimage_loader\u001b[0m\u001b[0;34m(\u001b[0m\u001b[0mpath\u001b[0m\u001b[0;34m)\u001b[0m\u001b[0;34m\u001b[0m\u001b[0;34m\u001b[0m\u001b[0m\n\u001b[1;32m    173\u001b[0m     \u001b[0;32melse\u001b[0m\u001b[0;34m:\u001b[0m\u001b[0;34m\u001b[0m\u001b[0;34m\u001b[0m\u001b[0m\n\u001b[0;32m--> 174\u001b[0;31m         \u001b[0;32mreturn\u001b[0m \u001b[0mpil_loader\u001b[0m\u001b[0;34m(\u001b[0m\u001b[0mpath\u001b[0m\u001b[0;34m)\u001b[0m\u001b[0;34m\u001b[0m\u001b[0;34m\u001b[0m\u001b[0m\n\u001b[0m\u001b[1;32m    175\u001b[0m \u001b[0;34m\u001b[0m\u001b[0m\n\u001b[1;32m    176\u001b[0m \u001b[0;34m\u001b[0m\u001b[0m\n",
      "\u001b[0;32m~/anaconda3/lib/python3.7/site-packages/torchvision/datasets/folder.py\u001b[0m in \u001b[0;36mpil_loader\u001b[0;34m(path)\u001b[0m\n\u001b[1;32m    153\u001b[0m \u001b[0;32mdef\u001b[0m \u001b[0mpil_loader\u001b[0m\u001b[0;34m(\u001b[0m\u001b[0mpath\u001b[0m\u001b[0;34m)\u001b[0m\u001b[0;34m:\u001b[0m\u001b[0;34m\u001b[0m\u001b[0;34m\u001b[0m\u001b[0m\n\u001b[1;32m    154\u001b[0m     \u001b[0;31m# open path as file to avoid ResourceWarning (https://github.com/python-pillow/Pillow/issues/835)\u001b[0m\u001b[0;34m\u001b[0m\u001b[0;34m\u001b[0m\u001b[0;34m\u001b[0m\u001b[0m\n\u001b[0;32m--> 155\u001b[0;31m     \u001b[0;32mwith\u001b[0m \u001b[0mopen\u001b[0m\u001b[0;34m(\u001b[0m\u001b[0mpath\u001b[0m\u001b[0;34m,\u001b[0m \u001b[0;34m'rb'\u001b[0m\u001b[0;34m)\u001b[0m \u001b[0;32mas\u001b[0m \u001b[0mf\u001b[0m\u001b[0;34m:\u001b[0m\u001b[0;34m\u001b[0m\u001b[0;34m\u001b[0m\u001b[0m\n\u001b[0m\u001b[1;32m    156\u001b[0m         \u001b[0mimg\u001b[0m \u001b[0;34m=\u001b[0m \u001b[0mImage\u001b[0m\u001b[0;34m.\u001b[0m\u001b[0mopen\u001b[0m\u001b[0;34m(\u001b[0m\u001b[0mf\u001b[0m\u001b[0;34m)\u001b[0m\u001b[0;34m\u001b[0m\u001b[0;34m\u001b[0m\u001b[0m\n\u001b[1;32m    157\u001b[0m         \u001b[0;32mreturn\u001b[0m \u001b[0mimg\u001b[0m\u001b[0;34m.\u001b[0m\u001b[0mconvert\u001b[0m\u001b[0;34m(\u001b[0m\u001b[0;34m'RGB'\u001b[0m\u001b[0;34m)\u001b[0m\u001b[0;34m\u001b[0m\u001b[0;34m\u001b[0m\u001b[0m\n",
      "\u001b[0;31mFileNotFoundError\u001b[0m: [Errno 2] No such file or directory: '/tmp/1.jpg'"
     ]
    }
   ],
   "source": [
    "# FileNotFoundError\n",
    "catdog[0]"
   ]
  },
  {
   "cell_type": "markdown",
   "metadata": {},
   "source": [
    "`torchvision` также содержит и другие готовые классы для стандартных датасетов: \n",
    "http://pytorch.org/docs/master/torchvision/datasets.html.\n",
    "\n",
    "Некоторые из них можно сразу и загрузить — например, **MNIST**:"
   ]
  },
  {
   "cell_type": "code",
   "execution_count": 10,
   "metadata": {},
   "outputs": [],
   "source": [
    "![ -d '/tmp/mnist/' ] && rm -r '/tmp/mnist/'"
   ]
  },
  {
   "cell_type": "code",
   "execution_count": 11,
   "metadata": {},
   "outputs": [
    {
     "name": "stdout",
     "output_type": "stream",
     "text": [
      "Downloading http://yann.lecun.com/exdb/mnist/train-images-idx3-ubyte.gz to /tmp/mnist/MNIST/raw/train-images-idx3-ubyte.gz\n"
     ]
    },
    {
     "data": {
      "application/vnd.jupyter.widget-view+json": {
       "model_id": "c977d7b4ab904dc0a17792d2a71b5743",
       "version_major": 2,
       "version_minor": 0
      },
      "text/plain": [
       "HBox(children=(IntProgress(value=1, bar_style='info', max=1), HTML(value='')))"
      ]
     },
     "metadata": {},
     "output_type": "display_data"
    },
    {
     "name": "stdout",
     "output_type": "stream",
     "text": [
      "Extracting /tmp/mnist/MNIST/raw/train-images-idx3-ubyte.gz to /tmp/mnist/MNIST/raw\n",
      "Downloading http://yann.lecun.com/exdb/mnist/train-labels-idx1-ubyte.gz to /tmp/mnist/MNIST/raw/train-labels-idx1-ubyte.gz\n"
     ]
    },
    {
     "data": {
      "application/vnd.jupyter.widget-view+json": {
       "model_id": "3bedc3a36c8d4bb9824601860de6eedd",
       "version_major": 2,
       "version_minor": 0
      },
      "text/plain": [
       "HBox(children=(IntProgress(value=1, bar_style='info', max=1), HTML(value='')))"
      ]
     },
     "metadata": {},
     "output_type": "display_data"
    },
    {
     "name": "stdout",
     "output_type": "stream",
     "text": [
      "Extracting /tmp/mnist/MNIST/raw/train-labels-idx1-ubyte.gz to /tmp/mnist/MNIST/raw\n",
      "Downloading http://yann.lecun.com/exdb/mnist/t10k-images-idx3-ubyte.gz to /tmp/mnist/MNIST/raw/t10k-images-idx3-ubyte.gz\n"
     ]
    },
    {
     "data": {
      "application/vnd.jupyter.widget-view+json": {
       "model_id": "2c44d4b90e7d4548b78594d538c2cf50",
       "version_major": 2,
       "version_minor": 0
      },
      "text/plain": [
       "HBox(children=(IntProgress(value=1, bar_style='info', max=1), HTML(value='')))"
      ]
     },
     "metadata": {},
     "output_type": "display_data"
    },
    {
     "name": "stdout",
     "output_type": "stream",
     "text": [
      "Extracting /tmp/mnist/MNIST/raw/t10k-images-idx3-ubyte.gz to /tmp/mnist/MNIST/raw\n",
      "Downloading http://yann.lecun.com/exdb/mnist/t10k-labels-idx1-ubyte.gz to /tmp/mnist/MNIST/raw/t10k-labels-idx1-ubyte.gz\n"
     ]
    },
    {
     "data": {
      "application/vnd.jupyter.widget-view+json": {
       "model_id": "4511c64ee7d945bdabad423c34ed29aa",
       "version_major": 2,
       "version_minor": 0
      },
      "text/plain": [
       "HBox(children=(IntProgress(value=1, bar_style='info', max=1), HTML(value='')))"
      ]
     },
     "metadata": {},
     "output_type": "display_data"
    },
    {
     "name": "stdout",
     "output_type": "stream",
     "text": [
      "Extracting /tmp/mnist/MNIST/raw/t10k-labels-idx1-ubyte.gz to /tmp/mnist/MNIST/raw\n",
      "Processing...\n"
     ]
    },
    {
     "name": "stderr",
     "output_type": "stream",
     "text": [
      "/home/serega/anaconda3/lib/python3.7/site-packages/torchvision/datasets/mnist.py:457: UserWarning: The given NumPy array is not writeable, and PyTorch does not support non-writeable tensors. This means you can write to the underlying (supposedly non-writeable) NumPy array using the tensor. You may want to copy the array to protect its data or make it writeable before converting it to a tensor. This type of warning will be suppressed for the rest of this program. (Triggered internally at  /pytorch/torch/csrc/utils/tensor_numpy.cpp:141.)\n",
      "  return torch.from_numpy(parsed.astype(m[2], copy=False)).view(*s)\n"
     ]
    },
    {
     "name": "stdout",
     "output_type": "stream",
     "text": [
      "Done!\n",
      "CPU times: user 1.85 s, sys: 476 ms, total: 2.33 s\n",
      "Wall time: 13.8 s\n"
     ]
    }
   ],
   "source": [
    "from torchvision.datasets import MNIST\n",
    "\n",
    "%time mnist = MNIST('/tmp/mnist/', train=True, download=True)"
   ]
  },
  {
   "cell_type": "code",
   "execution_count": 12,
   "metadata": {},
   "outputs": [
    {
     "data": {
      "text/plain": [
       "60000"
      ]
     },
     "execution_count": 12,
     "metadata": {},
     "output_type": "execute_result"
    }
   ],
   "source": [
    "len(mnist)"
   ]
  },
  {
   "cell_type": "code",
   "execution_count": 13,
   "metadata": {},
   "outputs": [
    {
     "name": "stdout",
     "output_type": "stream",
     "text": [
      "5\n"
     ]
    }
   ],
   "source": [
    "image, target = mnist[0]\n",
    "print(target)"
   ]
  },
  {
   "cell_type": "code",
   "execution_count": 14,
   "metadata": {},
   "outputs": [
    {
     "data": {
      "image/png": "[encoded data removed]",
      "text/plain": [
       "<Figure size 432x288 with 1 Axes>"
      ]
     },
     "metadata": {
      "needs_background": "light"
     },
     "output_type": "display_data"
    }
   ],
   "source": [
    "plt.imshow(np.array(image), 'gray')\n",
    "plt.show()"
   ]
  },
  {
   "cell_type": "markdown",
   "metadata": {},
   "source": [
    "## <font color='#cc6666'>Внимание, задача!</font>"
   ]
  },
  {
   "cell_type": "markdown",
   "metadata": {},
   "source": [
    "Релизуйте ниже датасет **`UrlList`**, конструктор которого на вход принимает список ссылок на изображения."
   ]
  },
  {
   "cell_type": "code",
   "execution_count": null,
   "metadata": {},
   "outputs": [],
   "source": [
    "class UrlList(Dataset):\n",
    "    pass"
   ]
  },
  {
   "cell_type": "markdown",
   "metadata": {},
   "source": [
    "Покажите его работу на примере:"
   ]
  },
  {
   "cell_type": "code",
   "execution_count": null,
   "metadata": {},
   "outputs": [],
   "source": [
    "pass"
   ]
  },
  {
   "cell_type": "markdown",
   "metadata": {},
   "source": [
    "## Преобразования данных\n",
    "\n",
    "Конструктор примера, приведенного выше, также как и стандартного `ImageFolder`, принимают параметр `transform` (и `target_transform`).\n",
    "\n",
    "Они служат для того, чтобы загружаемые изображения (обычно это `PIL.Image`) или таргеты преобразовывать в тензоры нужного вида.\n",
    "\n",
    "В `torchvision` входит модуль `transforms` для стандартных примеров таких преобразований:"
   ]
  },
  {
   "cell_type": "code",
   "execution_count": 15,
   "metadata": {},
   "outputs": [],
   "source": [
    "from torchvision import transforms"
   ]
  },
  {
   "cell_type": "markdown",
   "metadata": {},
   "source": [
    "Например, `transforms.ToTensor()` преобразует `PIL`-изображение типа uint8 с доменом [0, 256) в тензор с доменом [0, 1]."
   ]
  },
  {
   "cell_type": "code",
   "execution_count": 16,
   "metadata": {},
   "outputs": [],
   "source": [
    "from torchvision import transforms\n",
    "to_tensor = transforms.ToTensor()"
   ]
  },
  {
   "cell_type": "code",
   "execution_count": 17,
   "metadata": {},
   "outputs": [
    {
     "data": {
      "text/plain": [
       "(torch.Size([1, 28, 28]), tensor(0.), tensor(1.))"
      ]
     },
     "execution_count": 17,
     "metadata": {},
     "output_type": "execute_result"
    }
   ],
   "source": [
    "pil_image = mnist[0][0]\n",
    "th_image = to_tensor(pil_image)\n",
    "th_image.shape, th_image.min(), th_image.max()"
   ]
  },
  {
   "cell_type": "markdown",
   "metadata": {},
   "source": [
    "А для того, чтобы нормализовывать изображения из ImageNet'а по стандартной схеме, можно объявить"
   ]
  },
  {
   "cell_type": "code",
   "execution_count": 18,
   "metadata": {},
   "outputs": [],
   "source": [
    "normalize = transforms.Normalize(mean=[0.485, 0.456, 0.406], std=[0.229, 0.224, 0.225])"
   ]
  },
  {
   "cell_type": "markdown",
   "metadata": {},
   "source": [
    "Для объединения нескольких преобразваний в одно есть `Compose`:"
   ]
  },
  {
   "cell_type": "code",
   "execution_count": 19,
   "metadata": {},
   "outputs": [],
   "source": [
    "from torchvision import transforms\n",
    "crop_and_tensorize = transforms.Compose([\n",
    "    transforms.CenterCrop(16),\n",
    "    transforms.ToTensor(),\n",
    "])"
   ]
  },
  {
   "cell_type": "code",
   "execution_count": 20,
   "metadata": {},
   "outputs": [
    {
     "data": {
      "image/png": "[encoded data removed]",
      "text/plain": [
       "<Figure size 432x288 with 1 Axes>"
      ]
     },
     "metadata": {
      "needs_background": "light"
     },
     "output_type": "display_data"
    }
   ],
   "source": [
    "plt.imshow(crop_and_tensorize(pil_image)[0].numpy(), 'gray')\n",
    "plt.show()"
   ]
  },
  {
   "cell_type": "markdown",
   "metadata": {},
   "source": [
    "При определении кастомного трансформера помимо конструктора нужно реализовать лишь метод `__call__`:\n",
    "\n",
    "```python\n",
    "class HorizontalFlip(object):\n",
    "    def __init__(self, mode=0):\n",
    "        self.method = mode\n",
    "\n",
    "    def __call__(self, img):\n",
    "        \"\"\"\n",
    "        Args:\n",
    "            img (PIL.Image): Image to be flipped.\n",
    "\n",
    "        Returns:\n",
    "            PIL.Image: Randomly flipped image.\n",
    "        \"\"\"\n",
    "        if self.method:\n",
    "            return img.transpose(Image.FLIP_LEFT_RIGHT)\n",
    "        return img\n",
    "\n",
    "```\n",
    "\n",
    "С полным списком стандартных преобразований можно ознакомиться в http://pytorch.org/docs/master/torchvision/transforms.html."
   ]
  },
  {
   "cell_type": "markdown",
   "metadata": {},
   "source": [
    "## <font color='#cc6666'>Внимание, задача!</font>\n",
    "\n",
    "Реализуйте класс-трансформер, осуществляющий с подаваемым на вход изображением случайное преобразование из группы диэдра $D_4$."
   ]
  },
  {
   "cell_type": "code",
   "execution_count": 15,
   "metadata": {},
   "outputs": [],
   "source": [
    "class RandomD4(object):\n",
    "    def __call__(self, img):\n",
    "        pass"
   ]
  },
  {
   "cell_type": "markdown",
   "metadata": {},
   "source": [
    "Покажите его работу на примере из MNIST:"
   ]
  },
  {
   "cell_type": "code",
   "execution_count": 16,
   "metadata": {},
   "outputs": [],
   "source": [
    "pass"
   ]
  },
  {
   "cell_type": "markdown",
   "metadata": {},
   "source": [
    "## Загрузчики данных\n",
    "\n",
    "Основная магия, для которой и нужны датасеты в приведенном выше виде, это загрузчики:"
   ]
  },
  {
   "cell_type": "code",
   "execution_count": 21,
   "metadata": {},
   "outputs": [],
   "source": [
    "from torch.utils.data import DataLoader"
   ]
  },
  {
   "cell_type": "markdown",
   "metadata": {},
   "source": [
    "Загрузчики создаются на основе датасета и позволяют итерироваться по батчам из него.\n",
    "\n",
    "При этом батчи готовятся (загружаются картинки, обрабатываются и т.д.) сразу в нескольких фоновых процессах!\n",
    "\n",
    "Рассмотрим их на примере с MNIST, при этом добавим к нему трансформер, т.к. лоадеры работают с тензорами или скалярами, но не `PIL.Image`."
   ]
  },
  {
   "cell_type": "code",
   "execution_count": 22,
   "metadata": {},
   "outputs": [],
   "source": [
    "transformed_mnist = MNIST('/tmp/mnist/', train=True, transform=transforms.ToTensor())"
   ]
  },
  {
   "cell_type": "code",
   "execution_count": 23,
   "metadata": {},
   "outputs": [],
   "source": [
    "mnist_loader = DataLoader(transformed_mnist, batch_size=16, shuffle=True, num_workers=4)  # замечение про shuffle"
   ]
  },
  {
   "cell_type": "markdown",
   "metadata": {},
   "source": [
    "Стандартные параметры приведены выше. При добавлении **`pin_memory=True`** батчи еще и сразу раскладываются по видеокартам.\n",
    "\n",
    "Посмотрим на работу в деле:"
   ]
  },
  {
   "cell_type": "code",
   "execution_count": 24,
   "metadata": {},
   "outputs": [
    {
     "name": "stderr",
     "output_type": "stream",
     "text": [
      "100%|██████████| 3750/3750 [00:06<00:00, 621.95it/s]\n"
     ]
    }
   ],
   "source": [
    "for images, targets in tqdm(mnist_loader):\n",
    "    pass"
   ]
  },
  {
   "cell_type": "markdown",
   "metadata": {},
   "source": [
    "На выходе из лоадера получаем батчи:"
   ]
  },
  {
   "cell_type": "code",
   "execution_count": 25,
   "metadata": {},
   "outputs": [
    {
     "data": {
      "text/plain": [
       "torch.Size([16, 1, 28, 28])"
      ]
     },
     "execution_count": 25,
     "metadata": {},
     "output_type": "execute_result"
    }
   ],
   "source": [
    "images.shape"
   ]
  },
  {
   "cell_type": "code",
   "execution_count": 26,
   "metadata": {},
   "outputs": [
    {
     "data": {
      "text/plain": [
       "torch.Size([16])"
      ]
     },
     "execution_count": 26,
     "metadata": {},
     "output_type": "execute_result"
    }
   ],
   "source": [
    "targets.shape"
   ]
  },
  {
   "cell_type": "markdown",
   "metadata": {},
   "source": [
    "Количество батчей заранее известно (чему был рад `tqdm`):"
   ]
  },
  {
   "cell_type": "code",
   "execution_count": 28,
   "metadata": {},
   "outputs": [
    {
     "data": {
      "text/plain": [
       "3750"
      ]
     },
     "execution_count": 28,
     "metadata": {},
     "output_type": "execute_result"
    }
   ],
   "source": [
    "len(mnist_loader)"
   ]
  },
  {
   "cell_type": "markdown",
   "metadata": {},
   "source": [
    "Пример данных (при каждом повторении прохода по мнисту пример будет случайным):"
   ]
  },
  {
   "cell_type": "code",
   "execution_count": 32,
   "metadata": {},
   "outputs": [
    {
     "data": {
      "image/png": "[encoded data removed]",
      "text/plain": [
       "<Figure size 432x288 with 1 Axes>"
      ]
     },
     "metadata": {
      "needs_background": "light"
     },
     "output_type": "display_data"
    }
   ],
   "source": [
    "plt.imshow(images[0][0].numpy(), 'gray')\n",
    "plt.show()"
   ]
  },
  {
   "cell_type": "code",
   "execution_count": 34,
   "metadata": {},
   "outputs": [
    {
     "name": "stdout",
     "output_type": "stream",
     "text": [
      "tensor(5)\n"
     ]
    }
   ],
   "source": [
    "print(targets[0])"
   ]
  },
  {
   "cell_type": "markdown",
   "metadata": {},
   "source": [
    "## Создание моделей\n",
    "\n",
    "Для создания моделей наследуемся от `torch.nn.Module`, `torch.nn` также содержит стандартные \"кирпичики\" моделей.\n",
    "\n",
    "Функциональные версии кирпичей скрыты в `torch.nn.functional`."
   ]
  },
  {
   "cell_type": "code",
   "execution_count": 35,
   "metadata": {},
   "outputs": [],
   "source": [
    "import torch.nn as nn\n",
    "import torch.nn.functional as F"
   ]
  },
  {
   "cell_type": "markdown",
   "metadata": {},
   "source": [
    "Для макспулинга, активаций, апсемплинга и некоторых других операций есть как \"модульные\", так и \"функциональные\" версии:\n",
    "* `nn.MaxPool2d` / `F.max_pool2d`\n",
    "* `nn.ReLU` / `F.relu`\n",
    "* `nn.Upsample(mode='bilinar')` / `F.upsample(mode='bilinar')` — **deprecated** в пользу `F.interpolate`\n",
    "\n",
    "При использовании модульных версий слоев во время создания простой модели можно обходиться `nn.Sequential` для их \"склейки\":"
   ]
  },
  {
   "cell_type": "code",
   "execution_count": 27,
   "metadata": {},
   "outputs": [
    {
     "name": "stdout",
     "output_type": "stream",
     "text": [
      "Sequential(\n",
      "  (0): Conv2d(3, 64, kernel_size=(3, 3), stride=(1, 1), padding=(1, 1))\n",
      "  (1): ReLU()\n",
      "  (2): Conv2d(64, 64, kernel_size=(3, 3), stride=(1, 1), padding=(1, 1))\n",
      "  (3): ReLU()\n",
      ")\n"
     ]
    }
   ],
   "source": [
    "layers = [\n",
    "    nn.Conv2d(3, 64, 3, padding=1),\n",
    "    nn.ReLU(),\n",
    "    nn.Conv2d(64, 64, 3, padding=1),\n",
    "    nn.ReLU()\n",
    "]\n",
    "unet_down1 = nn.Sequential(*layers)\n",
    "print(unet_down1)"
   ]
  },
  {
   "cell_type": "markdown",
   "metadata": {},
   "source": [
    "## Обучение моделей\n",
    "\n",
    "Для обучения моделей необходимо определить функцию потерь, их примеры содержатся все в том же модуле `torch.nn`:\n",
    "\n",
    "```python\n",
    "output = model(torch.cat(x, 1))\n",
    "target = torch.arange(1, 1001)\n",
    "criterion = nn.MSELoss()\n",
    "\n",
    "loss = criterion(output, target)\n",
    "print(loss)\n",
    "```"
   ]
  },
  {
   "cell_type": "markdown",
   "metadata": {},
   "source": [
    "Веса обновлять можно как вручную (или воспользоваться реализованным ранее оптимизатором):\n",
    "\n",
    "```python\n",
    "learning_rate = 0.01\n",
    "for f in net.parameters():\n",
    "    f.data.sub_(f.grad.data * learning_rate)\n",
    "```"
   ]
  },
  {
   "cell_type": "markdown",
   "metadata": {},
   "source": [
    "Так и пользоваться стандартным оптимизатором из модуля `torch.optim`:\n",
    "```python\n",
    "import torch.optim as optim\n",
    "\n",
    "optimizer = optim.SGD(net.parameters(), lr=0.01)\n",
    "```"
   ]
  },
  {
   "cell_type": "markdown",
   "metadata": {},
   "source": [
    "Для зануления градиентов теперь можно обращаться к оптимизатору:\n",
    "```python\n",
    "optimizer.zero_grad()\n",
    "```"
   ]
  },
  {
   "cell_type": "markdown",
   "metadata": {},
   "source": [
    "Инференс, подсчет ошибки и бэкпроп делаем как раньше:\n",
    "```python\n",
    "output = net(x)\n",
    "loss = criterion(output, target)\n",
    "loss.backward()\n",
    "```"
   ]
  },
  {
   "cell_type": "markdown",
   "metadata": {},
   "source": [
    "А для обновления весов используем оптимизатор:\n",
    "```python\n",
    "optimizer.step()\n",
    "```"
   ]
  },
  {
   "cell_type": "markdown",
   "metadata": {},
   "source": [
    "Для работы с шагом обучения в **`optim`** есть подмодуль **`torch.optim.lr_scheduler`**:\n",
    "```python\n",
    "from torch.optim import lr_scheduler\n",
    "```"
   ]
  },
  {
   "cell_type": "markdown",
   "metadata": {},
   "source": [
    "Например, обучение ResNet на ImageNet по стандартной схеме будет работать примерно так:\n",
    "```python\n",
    "scheduler = lr_scheduler.StepLR(optimizer, step_size=30, gamma=0.1)\n",
    "for epoch in range(100):\n",
    "     scheduler.step()  # == scheduler.step(epoch)\n",
    "     # train(...)\n",
    "     # validate(...)\n",
    "```"
   ]
  },
  {
   "cell_type": "markdown",
   "metadata": {},
   "source": [
    "# Pytorch в бою"
   ]
  },
  {
   "cell_type": "markdown",
   "metadata": {},
   "source": [
    "## Создание модели сегментации на примере U-Net\n",
    "\n",
    "![img](https://lmb.informatik.uni-freiburg.de/people/ronneber/u-net/u-net-architecture.png)"
   ]
  },
  {
   "cell_type": "code",
   "execution_count": 36,
   "metadata": {},
   "outputs": [],
   "source": [
    "import torch\n",
    "from torch import nn"
   ]
  },
  {
   "cell_type": "markdown",
   "metadata": {},
   "source": [
    "Часто используемые свертки:"
   ]
  },
  {
   "cell_type": "code",
   "execution_count": 37,
   "metadata": {},
   "outputs": [],
   "source": [
    "def conv3x3(in_channels, out_channels, dilation=1):\n",
    "    return nn.Conv2d(in_channels, out_channels, 3, padding=dilation, dilation=dilation)"
   ]
  },
  {
   "cell_type": "markdown",
   "metadata": {},
   "source": [
    "Один **блок кодировщика** состоит из двух последовательных сверток, активаций и опционального батчнорма:"
   ]
  },
  {
   "cell_type": "code",
   "execution_count": 38,
   "metadata": {},
   "outputs": [],
   "source": [
    "class EncoderBlock(nn.Module):\n",
    "    def __init__(self, in_channels, out_channels, batch_norm=False):\n",
    "        super().__init__()\n",
    "\n",
    "        self.batch_norm = batch_norm\n",
    "\n",
    "        self.conv1 = conv3x3(in_channels, out_channels)\n",
    "        if self.batch_norm:\n",
    "            self.bn1 = nn.BatchNorm2d(out_channels)\n",
    "        self.relu1 = nn.ReLU()\n",
    "        self.conv2 = conv3x3(out_channels, out_channels)\n",
    "        if self.batch_norm:\n",
    "            self.bn2 = nn.BatchNorm2d(out_channels)\n",
    "        self.relu2 = nn.ReLU()\n",
    "\n",
    "    def forward(self, x):\n",
    "        x = self.conv1(x)\n",
    "        if self.batch_norm:\n",
    "            x = self.bn1(x)\n",
    "        x = self.relu1(x)\n",
    "        x = self.conv2(x)\n",
    "        if self.batch_norm:\n",
    "            x = self.bn2(x)\n",
    "        x = self.relu2(x)\n",
    "        return x"
   ]
  },
  {
   "cell_type": "code",
   "execution_count": 39,
   "metadata": {},
   "outputs": [
    {
     "data": {
      "text/plain": [
       "EncoderBlock(\n",
       "  (conv1): Conv2d(3, 64, kernel_size=(3, 3), stride=(1, 1), padding=(1, 1))\n",
       "  (relu1): ReLU()\n",
       "  (conv2): Conv2d(64, 64, kernel_size=(3, 3), stride=(1, 1), padding=(1, 1))\n",
       "  (relu2): ReLU()\n",
       ")"
      ]
     },
     "execution_count": 39,
     "metadata": {},
     "output_type": "execute_result"
    }
   ],
   "source": [
    "block = EncoderBlock(3, 64)\n",
    "block"
   ]
  },
  {
   "cell_type": "code",
   "execution_count": 40,
   "metadata": {},
   "outputs": [
    {
     "name": "stdout",
     "output_type": "stream",
     "text": [
      "torch.Size([4, 64, 128, 128])\n"
     ]
    }
   ],
   "source": [
    "x = torch.zeros(4, 3, 128, 128)\n",
    "\n",
    "with torch.no_grad():\n",
    "    print(block(x).shape)"
   ]
  },
  {
   "cell_type": "markdown",
   "metadata": {},
   "source": [
    "Альтернативное объявление:"
   ]
  },
  {
   "cell_type": "code",
   "execution_count": 41,
   "metadata": {},
   "outputs": [],
   "source": [
    "class EncoderBlock(nn.Module):\n",
    "    def __init__(self, in_channels, out_channels, batch_norm=False):\n",
    "        super().__init__()\n",
    "\n",
    "        self.block = nn.Sequential()\n",
    "        self.block.add_module('conv1', conv3x3(in_channels, out_channels))\n",
    "        if batch_norm:\n",
    "            self.block.add_module('bn1', nn.BatchNorm2d(out_channels))\n",
    "        self.block.add_module('relu1', nn.ReLU())\n",
    "        self.block.add_module('conv2', conv3x3(out_channels, out_channels))\n",
    "        if batch_norm:\n",
    "            self.block.add_module('bn2', nn.BatchNorm2d(out_channels))\n",
    "        self.block.add_module('relu2', nn.ReLU())\n",
    "\n",
    "    def forward(self, x):\n",
    "        return self.block(x)"
   ]
  },
  {
   "cell_type": "code",
   "execution_count": 42,
   "metadata": {},
   "outputs": [
    {
     "data": {
      "text/plain": [
       "EncoderBlock(\n",
       "  (block): Sequential(\n",
       "    (conv1): Conv2d(3, 64, kernel_size=(3, 3), stride=(1, 1), padding=(1, 1))\n",
       "    (relu1): ReLU()\n",
       "    (conv2): Conv2d(64, 64, kernel_size=(3, 3), stride=(1, 1), padding=(1, 1))\n",
       "    (relu2): ReLU()\n",
       "  )\n",
       ")"
      ]
     },
     "execution_count": 42,
     "metadata": {},
     "output_type": "execute_result"
    }
   ],
   "source": [
    "block = EncoderBlock(3, 64)\n",
    "block"
   ]
  },
  {
   "cell_type": "code",
   "execution_count": 43,
   "metadata": {},
   "outputs": [
    {
     "name": "stdout",
     "output_type": "stream",
     "text": [
      "torch.Size([4, 64, 128, 128])\n"
     ]
    }
   ],
   "source": [
    "x = torch.zeros(4, 3, 128, 128)\n",
    "\n",
    "with torch.no_grad():\n",
    "    print(block(x).shape)"
   ]
  },
  {
   "cell_type": "markdown",
   "metadata": {},
   "source": [
    "И \"функциональная версия\":"
   ]
  },
  {
   "cell_type": "code",
   "execution_count": 44,
   "metadata": {},
   "outputs": [],
   "source": [
    "def encoder_block(in_channels, out_channels, batch_norm=False):\n",
    "    block = nn.Sequential()\n",
    "    block.add_module('conv1', conv3x3(in_channels, out_channels))\n",
    "    if batch_norm:\n",
    "        block.add_module('bn1', nn.BatchNorm2d(out_channels))\n",
    "    block.add_module('relu1', nn.ReLU())\n",
    "    block.add_module('conv2', conv3x3(out_channels, out_channels))\n",
    "    if batch_norm:\n",
    "        block.add_module('bn2', nn.BatchNorm2d(out_channels))\n",
    "    block.add_module('relu2', nn.ReLU())\n",
    "    return block"
   ]
  },
  {
   "cell_type": "code",
   "execution_count": 45,
   "metadata": {},
   "outputs": [
    {
     "data": {
      "text/plain": [
       "Sequential(\n",
       "  (conv1): Conv2d(3, 64, kernel_size=(3, 3), stride=(1, 1), padding=(1, 1))\n",
       "  (relu1): ReLU()\n",
       "  (conv2): Conv2d(64, 64, kernel_size=(3, 3), stride=(1, 1), padding=(1, 1))\n",
       "  (relu2): ReLU()\n",
       ")"
      ]
     },
     "execution_count": 45,
     "metadata": {},
     "output_type": "execute_result"
    }
   ],
   "source": [
    "block = encoder_block(3, 64)\n",
    "block"
   ]
  },
  {
   "cell_type": "code",
   "execution_count": 46,
   "metadata": {},
   "outputs": [
    {
     "name": "stdout",
     "output_type": "stream",
     "text": [
      "torch.Size([4, 64, 128, 128])\n"
     ]
    }
   ],
   "source": [
    "x = torch.zeros(4, 3, 128, 128)\n",
    "\n",
    "with torch.no_grad():\n",
    "    print(block(x).shape)"
   ]
  },
  {
   "cell_type": "markdown",
   "metadata": {},
   "source": [
    "Кодировщик в целом состоит из рассмотренных блоков.\n",
    "\n",
    "Его конструкция определяется входными каналами, количеством фильтров в первом блоке и количеством блоков.\n",
    "\n",
    "Помним также, что для работы сети нам нужно запоминать промежуточные активации."
   ]
  },
  {
   "cell_type": "code",
   "execution_count": 47,
   "metadata": {},
   "outputs": [],
   "source": [
    "class Encoder(nn.Module):\n",
    "    def __init__(self, in_channels, num_filters, num_blocks):\n",
    "        super().__init__()\n",
    "\n",
    "        self.num_blocks = num_blocks\n",
    "        for i in range(num_blocks):\n",
    "            in_channels = in_channels if not i else num_filters * 2 ** (i - 1)\n",
    "            out_channels = num_filters * 2**i\n",
    "            self.add_module(f'block{i + 1}', encoder_block(in_channels, out_channels))\n",
    "            if i != num_blocks - 1:\n",
    "                self.add_module(f'pool{i + 1}', nn.MaxPool2d(2, 2))\n",
    "\n",
    "    def forward(self, x):\n",
    "        acts = []\n",
    "        for i in range(self.num_blocks):\n",
    "            x = self.__getattr__(f'block{i + 1}')(x)\n",
    "            acts.append(x)\n",
    "            if i != self.num_blocks - 1:\n",
    "                x = self.__getattr__(f'pool{i + 1}')(x)\n",
    "        return acts"
   ]
  },
  {
   "cell_type": "markdown",
   "metadata": {},
   "source": [
    "Здесь как раз помогает подход к построению через с **`add_module`**, т.к. их количество переменно."
   ]
  },
  {
   "cell_type": "code",
   "execution_count": 49,
   "metadata": {},
   "outputs": [
    {
     "data": {
      "text/plain": [
       "Encoder(\n",
       "  (block1): Sequential(\n",
       "    (conv1): Conv2d(3, 8, kernel_size=(3, 3), stride=(1, 1), padding=(1, 1))\n",
       "    (relu1): ReLU()\n",
       "    (conv2): Conv2d(8, 8, kernel_size=(3, 3), stride=(1, 1), padding=(1, 1))\n",
       "    (relu2): ReLU()\n",
       "  )\n",
       "  (pool1): MaxPool2d(kernel_size=2, stride=2, padding=0, dilation=1, ceil_mode=False)\n",
       "  (block2): Sequential(\n",
       "    (conv1): Conv2d(8, 16, kernel_size=(3, 3), stride=(1, 1), padding=(1, 1))\n",
       "    (relu1): ReLU()\n",
       "    (conv2): Conv2d(16, 16, kernel_size=(3, 3), stride=(1, 1), padding=(1, 1))\n",
       "    (relu2): ReLU()\n",
       "  )\n",
       "  (pool2): MaxPool2d(kernel_size=2, stride=2, padding=0, dilation=1, ceil_mode=False)\n",
       "  (block3): Sequential(\n",
       "    (conv1): Conv2d(16, 32, kernel_size=(3, 3), stride=(1, 1), padding=(1, 1))\n",
       "    (relu1): ReLU()\n",
       "    (conv2): Conv2d(32, 32, kernel_size=(3, 3), stride=(1, 1), padding=(1, 1))\n",
       "    (relu2): ReLU()\n",
       "  )\n",
       "  (pool3): MaxPool2d(kernel_size=2, stride=2, padding=0, dilation=1, ceil_mode=False)\n",
       "  (block4): Sequential(\n",
       "    (conv1): Conv2d(32, 64, kernel_size=(3, 3), stride=(1, 1), padding=(1, 1))\n",
       "    (relu1): ReLU()\n",
       "    (conv2): Conv2d(64, 64, kernel_size=(3, 3), stride=(1, 1), padding=(1, 1))\n",
       "    (relu2): ReLU()\n",
       "  )\n",
       ")"
      ]
     },
     "execution_count": 49,
     "metadata": {},
     "output_type": "execute_result"
    }
   ],
   "source": [
    "encoder = Encoder(in_channels=3, num_filters=8, num_blocks=4)\n",
    "encoder"
   ]
  },
  {
   "cell_type": "code",
   "execution_count": 50,
   "metadata": {},
   "outputs": [
    {
     "data": {
      "text/plain": [
       "[torch.Size([4, 8, 512, 512]),\n",
       " torch.Size([4, 16, 256, 256]),\n",
       " torch.Size([4, 32, 128, 128]),\n",
       " torch.Size([4, 64, 64, 64])]"
      ]
     },
     "execution_count": 50,
     "metadata": {},
     "output_type": "execute_result"
    }
   ],
   "source": [
    "x = torch.zeros(4, 3, 512, 512)\n",
    "\n",
    "[_.shape for _ in encoder(x)]"
   ]
  },
  {
   "cell_type": "markdown",
   "metadata": {},
   "source": [
    "Блок декодировщика состоит из апскейлинга входа \"снизу\", объединения двух входов и сверток как в кодировщике:"
   ]
  },
  {
   "cell_type": "code",
   "execution_count": 55,
   "metadata": {},
   "outputs": [],
   "source": [
    "class DecoderBlock(nn.Module):\n",
    "    def __init__(self, out_channels):\n",
    "        super().__init__()\n",
    "\n",
    "        self.uppool = nn.Upsample(scale_factor=2, mode='bilinear')\n",
    "        self.upconv = conv3x3(out_channels * 2, out_channels)\n",
    "        self.conv1 = conv3x3(out_channels * 2, out_channels)\n",
    "        self.conv2 = conv3x3(out_channels, out_channels)\n",
    "\n",
    "    def forward(self, down, left):\n",
    "        x = self.uppool(down)\n",
    "        x = self.upconv(x)\n",
    "        x = torch.cat([left, x], 1)\n",
    "        x = self.conv1(x)\n",
    "        x = self.conv2(x)\n",
    "        return x"
   ]
  },
  {
   "cell_type": "code",
   "execution_count": 56,
   "metadata": {},
   "outputs": [],
   "source": [
    "block = DecoderBlock(8)"
   ]
  },
  {
   "cell_type": "code",
   "execution_count": 57,
   "metadata": {},
   "outputs": [],
   "source": [
    "y = encoder(x)"
   ]
  },
  {
   "cell_type": "code",
   "execution_count": 58,
   "metadata": {},
   "outputs": [
    {
     "data": {
      "text/plain": [
       "(torch.Size([4, 16, 256, 256]), torch.Size([4, 8, 512, 512]))"
      ]
     },
     "execution_count": 58,
     "metadata": {},
     "output_type": "execute_result"
    }
   ],
   "source": [
    "y[1].shape, y[0].shape"
   ]
  },
  {
   "cell_type": "code",
   "execution_count": 59,
   "metadata": {},
   "outputs": [
    {
     "name": "stderr",
     "output_type": "stream",
     "text": [
      "/home/serega/anaconda3/lib/python3.7/site-packages/torch/nn/functional.py:3121: UserWarning: Default upsampling behavior when mode=bilinear is changed to align_corners=False since 0.4.0. Please specify align_corners=True if the old behavior is desired. See the documentation of nn.Upsample for details.\n",
      "  \"See the documentation of nn.Upsample for details.\".format(mode))\n"
     ]
    },
    {
     "data": {
      "text/plain": [
       "torch.Size([4, 8, 512, 512])"
      ]
     },
     "execution_count": 59,
     "metadata": {},
     "output_type": "execute_result"
    }
   ],
   "source": [
    "block(y[1], y[0]).shape"
   ]
  },
  {
   "cell_type": "markdown",
   "metadata": {},
   "source": [
    "Декодировщик собираем из таких блоков:"
   ]
  },
  {
   "cell_type": "code",
   "execution_count": 47,
   "metadata": {},
   "outputs": [],
   "source": [
    "class Decoder(nn.Module):\n",
    "    def __init__(self, num_filters, num_blocks):\n",
    "        super().__init__()\n",
    "\n",
    "        for i in range(num_blocks):\n",
    "            self.add_module(f'block{num_blocks - i}', DecoderBlock(num_filters * 2**i))\n",
    "\n",
    "    def forward(self, acts):\n",
    "        up = acts[-1]\n",
    "        for i, left in enumerate(acts[-2::-1]):\n",
    "            up = self.__getattr__(f'block{i + 1}')(up, left)\n",
    "        return up"
   ]
  },
  {
   "cell_type": "code",
   "execution_count": 48,
   "metadata": {},
   "outputs": [],
   "source": [
    "decoder = Decoder(8, 3)"
   ]
  },
  {
   "cell_type": "code",
   "execution_count": 49,
   "metadata": {},
   "outputs": [
    {
     "data": {
      "text/plain": [
       "torch.Size([4, 3, 512, 512])"
      ]
     },
     "execution_count": 49,
     "metadata": {},
     "output_type": "execute_result"
    }
   ],
   "source": [
    "x.shape"
   ]
  },
  {
   "cell_type": "code",
   "execution_count": 50,
   "metadata": {},
   "outputs": [
    {
     "data": {
      "text/plain": [
       "[torch.Size([4, 8, 512, 512]),\n",
       " torch.Size([4, 16, 256, 256]),\n",
       " torch.Size([4, 32, 128, 128]),\n",
       " torch.Size([4, 64, 64, 64])]"
      ]
     },
     "execution_count": 50,
     "metadata": {},
     "output_type": "execute_result"
    }
   ],
   "source": [
    "[_.shape for _ in encoder(x)]"
   ]
  },
  {
   "cell_type": "code",
   "execution_count": 51,
   "metadata": {},
   "outputs": [
    {
     "name": "stderr",
     "output_type": "stream",
     "text": [
      "/home/nizhib/.anaconda3/lib/python3.6/site-packages/torch/nn/modules/upsampling.py:122: UserWarning: nn.Upsampling is deprecated. Use nn.functional.interpolate instead.\n",
      "  warnings.warn(\"nn.Upsampling is deprecated. Use nn.functional.interpolate instead.\")\n",
      "/home/nizhib/.anaconda3/lib/python3.6/site-packages/torch/nn/functional.py:1961: UserWarning: Default upsampling behavior when mode=bilinear is changed to align_corners=False since 0.4.0. Please specify align_corners=True if the old behavior is desired. See the documentation of nn.Upsample for details.\n",
      "  \"See the documentation of nn.Upsample for details.\".format(mode))\n"
     ]
    },
    {
     "data": {
      "text/plain": [
       "torch.Size([4, 8, 512, 512])"
      ]
     },
     "execution_count": 51,
     "metadata": {},
     "output_type": "execute_result"
    }
   ],
   "source": [
    "decoder(encoder(x)).shape"
   ]
  },
  {
   "cell_type": "markdown",
   "metadata": {},
   "source": [
    "U-Net состоит из такого кодировщика и декодировщика, а также финального слоя классификации:"
   ]
  },
  {
   "cell_type": "code",
   "execution_count": 52,
   "metadata": {},
   "outputs": [],
   "source": [
    "class UNet(nn.Module):\n",
    "    def __init__(self, num_classes, in_channels=3, num_filters=64, num_blocks=4):\n",
    "        super().__init__()\n",
    "\n",
    "        print(f'=> Building {num_blocks}-blocks {num_filters}-filter U-Net')\n",
    "\n",
    "        self.encoder = Encoder(in_channels, num_filters, num_blocks)\n",
    "        self.decoder = Decoder(num_filters, num_blocks - 1)\n",
    "        self.final = nn.Conv2d(num_filters, num_classes, 1)\n",
    "\n",
    "    def forward(self, x):\n",
    "        acts = self.encoder(x)\n",
    "        x = self.decoder(acts)\n",
    "        x = self.final(x)\n",
    "        return x"
   ]
  },
  {
   "cell_type": "markdown",
   "metadata": {},
   "source": [
    "\"Интеграционное тестирование\" (pytorch 0.3):"
   ]
  },
  {
   "cell_type": "code",
   "execution_count": 53,
   "metadata": {},
   "outputs": [
    {
     "name": "stdout",
     "output_type": "stream",
     "text": [
      "=> Building 4-blocks 64-filter U-Net\n"
     ]
    },
    {
     "name": "stderr",
     "output_type": "stream",
     "text": [
      "/home/nizhib/.anaconda3/lib/python3.6/site-packages/ipykernel_launcher.py:7: UserWarning: volatile was removed and now has no effect. Use `with torch.no_grad():` instead.\n",
      "  import sys\n",
      "/home/nizhib/.anaconda3/lib/python3.6/site-packages/torch/nn/modules/upsampling.py:122: UserWarning: nn.Upsampling is deprecated. Use nn.functional.interpolate instead.\n",
      "  warnings.warn(\"nn.Upsampling is deprecated. Use nn.functional.interpolate instead.\")\n",
      "/home/nizhib/.anaconda3/lib/python3.6/site-packages/torch/nn/functional.py:1961: UserWarning: Default upsampling behavior when mode=bilinear is changed to align_corners=False since 0.4.0. Please specify align_corners=True if the old behavior is desired. See the documentation of nn.Upsample for details.\n",
      "  \"See the documentation of nn.Upsample for details.\".format(mode))\n"
     ]
    },
    {
     "data": {
      "text/plain": [
       "torch.Size([4, 1, 416, 416])"
      ]
     },
     "execution_count": 53,
     "metadata": {},
     "output_type": "execute_result"
    }
   ],
   "source": [
    "from torch.autograd import Variable\n",
    "\n",
    "model = UNet(num_classes=1)\n",
    "if torch.cuda.is_available():\n",
    "    model.cuda()\n",
    "\n",
    "images = Variable(torch.randn(4, 3, 416, 416), volatile=True)\n",
    "if torch.cuda.is_available():\n",
    "    images = images.cuda()\n",
    "\n",
    "model.forward(images).shape"
   ]
  },
  {
   "cell_type": "markdown",
   "metadata": {},
   "source": [
    "То же для **pytorch 0.4+**:"
   ]
  },
  {
   "cell_type": "code",
   "execution_count": 54,
   "metadata": {},
   "outputs": [
    {
     "name": "stderr",
     "output_type": "stream",
     "text": [
      "/home/nizhib/.anaconda3/lib/python3.6/site-packages/torch/nn/modules/upsampling.py:122: UserWarning: nn.Upsampling is deprecated. Use nn.functional.interpolate instead.\n",
      "  warnings.warn(\"nn.Upsampling is deprecated. Use nn.functional.interpolate instead.\")\n",
      "/home/nizhib/.anaconda3/lib/python3.6/site-packages/torch/nn/functional.py:1961: UserWarning: Default upsampling behavior when mode=bilinear is changed to align_corners=False since 0.4.0. Please specify align_corners=True if the old behavior is desired. See the documentation of nn.Upsample for details.\n",
      "  \"See the documentation of nn.Upsample for details.\".format(mode))\n"
     ]
    },
    {
     "data": {
      "text/plain": [
       "torch.Size([4, 1, 416, 416])"
      ]
     },
     "execution_count": 54,
     "metadata": {},
     "output_type": "execute_result"
    }
   ],
   "source": [
    "device = torch.device('cuda' if torch.cuda.is_available() else 'cpu')\n",
    "\n",
    "model.to(device)\n",
    "\n",
    "images = torch.randn(4, 3, 416, 416).to(device)\n",
    "\n",
    "model.forward(images).shape"
   ]
  },
  {
   "cell_type": "markdown",
   "metadata": {},
   "source": [
    "На выходе получаем бинарную маску из линейных активаций.\n",
    "\n",
    "Для обучения такой модели используются функции потерь с **WithLogits** в названии.\n",
    "\n",
    "В вероятности их можно превращать с помощью `torch.sigmoid` (**0.4.1+**) (`torch.nn.functional.sigmoid` ранее)"
   ]
  },
  {
   "cell_type": "markdown",
   "metadata": {},
   "source": [
    "## Использование готового кодировщика"
   ]
  },
  {
   "cell_type": "markdown",
   "metadata": {},
   "source": [
    "Структура блоков кодировщика рассмотренной только что сети сильно походит на таковую в сетях VGG:\n",
    "\n",
    "![img](https://www.pyimagesearch.com/wp-content/uploads/2017/03/imagenet_vgg16.png)\n",
    "\n",
    "Посмотрим на неё же из недр `torchvision`:"
   ]
  },
  {
   "cell_type": "code",
   "execution_count": 55,
   "metadata": {},
   "outputs": [],
   "source": [
    "from torchvision.models import vgg13"
   ]
  },
  {
   "cell_type": "markdown",
   "metadata": {},
   "source": [
    "VGG13 - версия сети с 2 сверткаим на каждый блок:"
   ]
  },
  {
   "cell_type": "code",
   "execution_count": 56,
   "metadata": {},
   "outputs": [],
   "source": [
    "model = vgg13()"
   ]
  },
  {
   "cell_type": "code",
   "execution_count": 57,
   "metadata": {},
   "outputs": [
    {
     "data": {
      "text/plain": [
       "VGG(\n",
       "  (features): Sequential(\n",
       "    (0): Conv2d(3, 64, kernel_size=(3, 3), stride=(1, 1), padding=(1, 1))\n",
       "    (1): ReLU(inplace)\n",
       "    (2): Conv2d(64, 64, kernel_size=(3, 3), stride=(1, 1), padding=(1, 1))\n",
       "    (3): ReLU(inplace)\n",
       "    (4): MaxPool2d(kernel_size=2, stride=2, padding=0, dilation=1, ceil_mode=False)\n",
       "    (5): Conv2d(64, 128, kernel_size=(3, 3), stride=(1, 1), padding=(1, 1))\n",
       "    (6): ReLU(inplace)\n",
       "    (7): Conv2d(128, 128, kernel_size=(3, 3), stride=(1, 1), padding=(1, 1))\n",
       "    (8): ReLU(inplace)\n",
       "    (9): MaxPool2d(kernel_size=2, stride=2, padding=0, dilation=1, ceil_mode=False)\n",
       "    (10): Conv2d(128, 256, kernel_size=(3, 3), stride=(1, 1), padding=(1, 1))\n",
       "    (11): ReLU(inplace)\n",
       "    (12): Conv2d(256, 256, kernel_size=(3, 3), stride=(1, 1), padding=(1, 1))\n",
       "    (13): ReLU(inplace)\n",
       "    (14): MaxPool2d(kernel_size=2, stride=2, padding=0, dilation=1, ceil_mode=False)\n",
       "    (15): Conv2d(256, 512, kernel_size=(3, 3), stride=(1, 1), padding=(1, 1))\n",
       "    (16): ReLU(inplace)\n",
       "    (17): Conv2d(512, 512, kernel_size=(3, 3), stride=(1, 1), padding=(1, 1))\n",
       "    (18): ReLU(inplace)\n",
       "    (19): MaxPool2d(kernel_size=2, stride=2, padding=0, dilation=1, ceil_mode=False)\n",
       "    (20): Conv2d(512, 512, kernel_size=(3, 3), stride=(1, 1), padding=(1, 1))\n",
       "    (21): ReLU(inplace)\n",
       "    (22): Conv2d(512, 512, kernel_size=(3, 3), stride=(1, 1), padding=(1, 1))\n",
       "    (23): ReLU(inplace)\n",
       "    (24): MaxPool2d(kernel_size=2, stride=2, padding=0, dilation=1, ceil_mode=False)\n",
       "  )\n",
       "  (classifier): Sequential(\n",
       "    (0): Linear(in_features=25088, out_features=4096, bias=True)\n",
       "    (1): ReLU(inplace)\n",
       "    (2): Dropout(p=0.5)\n",
       "    (3): Linear(in_features=4096, out_features=4096, bias=True)\n",
       "    (4): ReLU(inplace)\n",
       "    (5): Dropout(p=0.5)\n",
       "    (6): Linear(in_features=4096, out_features=1000, bias=True)\n",
       "  )\n",
       ")"
      ]
     },
     "execution_count": 57,
     "metadata": {},
     "output_type": "execute_result"
    }
   ],
   "source": [
    "model"
   ]
  },
  {
   "cell_type": "markdown",
   "metadata": {},
   "source": [
    "Классификатор нам не нужен, интересуют только признаки.\n",
    "\n",
    "Они в свою очередь делятся на блоки conv-relu-conv-relu + maxpooling.\n",
    "\n",
    "Реализуем кодировщик на основе вычленения нужных блоков:"
   ]
  },
  {
   "cell_type": "code",
   "execution_count": 58,
   "metadata": {},
   "outputs": [],
   "source": [
    "class VGG13Encoder(nn.Module):\n",
    "    def __init__(self, num_blocks, pretrained=True):\n",
    "        super().__init__()\n",
    "\n",
    "        backbone = vgg13(pretrained=pretrained).features\n",
    "\n",
    "        self.num_blocks = num_blocks\n",
    "        for i in range(self.num_blocks):\n",
    "            block = nn.Sequential(*[backbone[j] for j in range(i * 5, i * 5 + 4)])\n",
    "            self.add_module(f'block{i + 1}', block)\n",
    "            if i != num_blocks - 1:\n",
    "                self.add_module(f'pool{i + 1}', nn.MaxPool2d(2, 2))\n",
    "\n",
    "    def forward(self, x):\n",
    "        acts = []\n",
    "        for i in range(self.num_blocks):\n",
    "            x = self.__getattr__(f'block{i + 1}')(x)\n",
    "            acts.append(x)\n",
    "            if i != self.num_blocks - 1:\n",
    "                x = self.__getattr__(f'pool{i + 1}')(x)\n",
    "        return acts"
   ]
  },
  {
   "cell_type": "code",
   "execution_count": 59,
   "metadata": {},
   "outputs": [
    {
     "data": {
      "text/plain": [
       "VGG13Encoder(\n",
       "  (block1): Sequential(\n",
       "    (0): Conv2d(3, 64, kernel_size=(3, 3), stride=(1, 1), padding=(1, 1))\n",
       "    (1): ReLU(inplace)\n",
       "    (2): Conv2d(64, 64, kernel_size=(3, 3), stride=(1, 1), padding=(1, 1))\n",
       "    (3): ReLU(inplace)\n",
       "  )\n",
       "  (pool1): MaxPool2d(kernel_size=2, stride=2, padding=0, dilation=1, ceil_mode=False)\n",
       "  (block2): Sequential(\n",
       "    (0): Conv2d(64, 128, kernel_size=(3, 3), stride=(1, 1), padding=(1, 1))\n",
       "    (1): ReLU(inplace)\n",
       "    (2): Conv2d(128, 128, kernel_size=(3, 3), stride=(1, 1), padding=(1, 1))\n",
       "    (3): ReLU(inplace)\n",
       "  )\n",
       "  (pool2): MaxPool2d(kernel_size=2, stride=2, padding=0, dilation=1, ceil_mode=False)\n",
       "  (block3): Sequential(\n",
       "    (0): Conv2d(128, 256, kernel_size=(3, 3), stride=(1, 1), padding=(1, 1))\n",
       "    (1): ReLU(inplace)\n",
       "    (2): Conv2d(256, 256, kernel_size=(3, 3), stride=(1, 1), padding=(1, 1))\n",
       "    (3): ReLU(inplace)\n",
       "  )\n",
       "  (pool3): MaxPool2d(kernel_size=2, stride=2, padding=0, dilation=1, ceil_mode=False)\n",
       "  (block4): Sequential(\n",
       "    (0): Conv2d(256, 512, kernel_size=(3, 3), stride=(1, 1), padding=(1, 1))\n",
       "    (1): ReLU(inplace)\n",
       "    (2): Conv2d(512, 512, kernel_size=(3, 3), stride=(1, 1), padding=(1, 1))\n",
       "    (3): ReLU(inplace)\n",
       "  )\n",
       ")"
      ]
     },
     "execution_count": 59,
     "metadata": {},
     "output_type": "execute_result"
    }
   ],
   "source": [
    "vgg_encoder = VGG13Encoder(num_blocks=4)\n",
    "vgg_encoder"
   ]
  },
  {
   "cell_type": "markdown",
   "metadata": {},
   "source": [
    "Сравним с \"ванильным\" кодировщиком:"
   ]
  },
  {
   "cell_type": "code",
   "execution_count": 60,
   "metadata": {},
   "outputs": [
    {
     "data": {
      "text/plain": [
       "Encoder(\n",
       "  (block1): Sequential(\n",
       "    (conv1): Conv2d(3, 64, kernel_size=(3, 3), stride=(1, 1), padding=(1, 1))\n",
       "    (relu1): ReLU()\n",
       "    (conv2): Conv2d(64, 64, kernel_size=(3, 3), stride=(1, 1), padding=(1, 1))\n",
       "    (relu2): ReLU()\n",
       "  )\n",
       "  (pool1): MaxPool2d(kernel_size=2, stride=2, padding=0, dilation=1, ceil_mode=False)\n",
       "  (block2): Sequential(\n",
       "    (conv1): Conv2d(64, 128, kernel_size=(3, 3), stride=(1, 1), padding=(1, 1))\n",
       "    (relu1): ReLU()\n",
       "    (conv2): Conv2d(128, 128, kernel_size=(3, 3), stride=(1, 1), padding=(1, 1))\n",
       "    (relu2): ReLU()\n",
       "  )\n",
       "  (pool2): MaxPool2d(kernel_size=2, stride=2, padding=0, dilation=1, ceil_mode=False)\n",
       "  (block3): Sequential(\n",
       "    (conv1): Conv2d(128, 256, kernel_size=(3, 3), stride=(1, 1), padding=(1, 1))\n",
       "    (relu1): ReLU()\n",
       "    (conv2): Conv2d(256, 256, kernel_size=(3, 3), stride=(1, 1), padding=(1, 1))\n",
       "    (relu2): ReLU()\n",
       "  )\n",
       "  (pool3): MaxPool2d(kernel_size=2, stride=2, padding=0, dilation=1, ceil_mode=False)\n",
       "  (block4): Sequential(\n",
       "    (conv1): Conv2d(256, 512, kernel_size=(3, 3), stride=(1, 1), padding=(1, 1))\n",
       "    (relu1): ReLU()\n",
       "    (conv2): Conv2d(512, 512, kernel_size=(3, 3), stride=(1, 1), padding=(1, 1))\n",
       "    (relu2): ReLU()\n",
       "  )\n",
       ")"
      ]
     },
     "execution_count": 60,
     "metadata": {},
     "output_type": "execute_result"
    }
   ],
   "source": [
    "encoder = Encoder(in_channels=3, num_filters=64, num_blocks=4)\n",
    "encoder"
   ]
  },
  {
   "cell_type": "markdown",
   "metadata": {},
   "source": [
    "Получили идентичную структуру!\n",
    "\n",
    "Только теперь у нас уже есть предобученные слои для выделения признаков в кодировщике."
   ]
  },
  {
   "cell_type": "markdown",
   "metadata": {},
   "source": [
    "## <font color='#cc6666'>Внимание, задача!</font>\n",
    "\n",
    "\n",
    "**Реализуйте датасет** для игрушечной задачи сегментации, генерирующий такие данные:\n",
    "\n",
    "![img](https://raw.githubusercontent.com/jakeret/tf_unet/master/docs/toy_problem.png)"
   ]
  },
  {
   "cell_type": "markdown",
   "metadata": {},
   "source": [
    "Т.е. необходимо генерировать цветные эллипсы на цветном фоне и к итоговой картинке добавлять шум разной природы.\n",
    "\n",
    "При этом датасет выдает как изображение, так и его бинарную маску."
   ]
  },
  {
   "cell_type": "code",
   "execution_count": 1,
   "metadata": {},
   "outputs": [],
   "source": [
    "import torch\n",
    "import matplotlib.pyplot as plt\n",
    "import cv2\n",
    "import numpy as np\n",
    "from torch.utils.data import Dataset\n",
    "from torchvision import transforms\n",
    "\n",
    "def get_random_ellips(img, target, sz):\n",
    "    center = (np.random.randint(sz[0]), np.random.randint(sz[1]))\n",
    "    axes = (np.random.randint(20, sz[0] / 3), np.random.randint(20, sz[0] / 3))\n",
    "    angle = np.random.randint(180)\n",
    "    color = tuple(map(lambda x: int(x), (np.random.randint(255, size=3))))\n",
    "    return cv2.ellipse(img,center,axes,angle,0,360,color,-1), \\\n",
    "            cv2.ellipse(target,center,axes,angle,0,360, (0,0,0),-1)\n",
    "            \n",
    "\n",
    "class Ellipses(Dataset):\n",
    "    def __init__(self, size_, length, max_num = 7, transform=None):\n",
    "        super().__init__()\n",
    "        self.size_ = size_\n",
    "        self.length = length\n",
    "        self.transform = transform\n",
    "        self.max_num = max_num\n",
    "        \n",
    "    def __getitem__(self, index):\n",
    "        #img = (np.random.rand(*self.size_)*255).astype('uint8')\n",
    "        img = np.full((self.size_), \\\n",
    "                        tuple(map(lambda x: int(x), (np.random.randint(255, size=3)))), dtype=np.uint8)\n",
    "        target = np.ones((self.size_[0], self.size_[1]), dtype=np.uint8)*255\n",
    "        # generate ellipses\n",
    "        for i in range(int(np.random.randint(2, self.max_num))):\n",
    "            img, target = get_random_ellips(img, target, self.size_)\n",
    "        \n",
    "        # add noizes\n",
    "        gaussian_noise = np.zeros((self.size_),dtype=np.uint8)\n",
    "        cv2.randn(gaussian_noise, 128, 20)\n",
    "        uniform_noise = np.zeros((self.size_),dtype=np.uint8)\n",
    "        cv2.randu(uniform_noise,0,255)\n",
    "        gaussian_noise = (gaussian_noise*np.random.rand(1)*2).astype(np.uint8)\n",
    "        uniform_noise = (uniform_noise*np.random.rand(1)*2).astype(np.uint8)\n",
    "        img = cv2.add(img, gaussian_noise)\n",
    "        img = cv2.add(img, uniform_noise)\n",
    "        \n",
    "        img, target = transforms.ToTensor()(img), transforms.ToTensor()(target)\n",
    "        if self.transform is not None:\n",
    "            img = self.transform(img)\n",
    "            target = self.transform(target)\n",
    "        target = target.type(torch.LongTensor).squeeze(0)\n",
    "        return img, target\n",
    "    \n",
    "    def __len__(self):\n",
    "        return self.length\n",
    "        \n",
    "# trainset = Ellipses([512,512,3], 5)       \n",
    "# background, target = trainset[0]\n",
    "# print(background.shape)\n",
    "# print(target.shape)\n",
    "\n",
    "############################################################3\n",
    "# sz = [512, 512, 3]       \n",
    "# background = (np.random.rand(*sz)*255).astype('uint8')\n",
    "# target = np.ones((512, 512), dtype=np.uint8)*255\n",
    "\n",
    "# center = (255,255)\n",
    "# axes = (100,50)\n",
    "# angle = 30\n",
    "# color = (98, 121, 13)\n",
    "\n",
    "# target = cv2.ellipse(target,center,axes,angle,0,360, (0,0,0),-1)\n",
    "# background = cv2.ellipse(background,center,axes,angle,0,360,color,-1)\n",
    "\n",
    "# fig, (ax1, ax2) = plt.subplots(1, 2)\n",
    "# ax1.imshow(background)\n",
    "# ax2.imshow(target)\n"
   ]
  },
  {
   "cell_type": "markdown",
   "metadata": {},
   "source": [
    "Определим вспомогательную функцию:"
   ]
  },
  {
   "cell_type": "code",
   "execution_count": 4,
   "metadata": {},
   "outputs": [
    {
     "name": "stdout",
     "output_type": "stream",
     "text": [
      "0\n"
     ]
    }
   ],
   "source": [
    "import hashlib\n",
    "\n",
    "def moy_variant(surname):\n",
    "    return int(hashlib.md5(surname.encode().lower()).hexdigest()[-1], 16) % 2\n",
    "print(moy_variant('Сахаров'))"
   ]
  },
  {
   "cell_type": "markdown",
   "metadata": {},
   "source": [
    "Для решения этой задачи **реализуйте сеть EDANet** (https://arxiv.org/abs/1809.06323, если `moy_variant` от вашей фамилии на русском языке в именительном падеже выдает 1) **или BiSeNet** (https://arxiv.org/abs/1808.00897, иначе) на основе кодировщика двух предобученных сетей `torchvision` из семейств **ResNet и DenseNet**. В качестве лосса рекомендуется использовать `BCEWithLogitsLoss`."
   ]
  },
  {
   "cell_type": "code",
   "execution_count": 66,
   "metadata": {},
   "outputs": [],
   "source": [
    "import torch\n",
    "from torchvision import models\n",
    "import torch.nn as nn\n",
    "\n",
    "class resnet50(torch.nn.Module):\n",
    "    def __init__(self, pretrained=True):\n",
    "        super().__init__()\n",
    "        self.features = models.resnet50(pretrained=pretrained)\n",
    "        self.conv1 = self.features.conv1\n",
    "        self.bn1 = self.features.bn1\n",
    "        self.relu = self.features.relu\n",
    "        self.maxpool1 = self.features.maxpool\n",
    "        self.layer1 = self.features.layer1\n",
    "        self.layer2 = self.features.layer2\n",
    "        self.layer3 = self.features.layer3\n",
    "        self.layer4 = self.features.layer4\n",
    "        self.pool = nn.AdaptiveAvgPool2d(1)\n",
    "\n",
    "    def forward(self, input):\n",
    "        x = self.conv1(input)\n",
    "        x = self.relu(self.bn1(x))\n",
    "        x = self.maxpool1(x)\n",
    "        feature1 = self.layer1(x)  # 1 / 4\n",
    "        feature2 = self.layer2(feature1)  # 1 / 8\n",
    "        feature3 = self.layer3(feature2)  # 1 / 16\n",
    "        feature4 = self.layer4(feature3)  # 1 / 32\n",
    "        tail = self.pool(feature4)\n",
    "        return feature3, feature4, tail\n",
    "    \n",
    "class densenet121(torch.nn.Module):\n",
    "    def __init__(self, pretrained=True):\n",
    "        super().__init__()\n",
    "        self.features = models.densenet121(pretrained=pretrained).features\n",
    "        self.conv0 = self.features.conv0\n",
    "        self.norm0 = self.features.norm0\n",
    "        self.relu0 = self.features.relu0\n",
    "        self.maxpool0 = self.features.pool0\n",
    "        self.denseblock1 = self.features.denseblock1\n",
    "        self.transition1 = self.features.transition1\n",
    "        self.denseblock2 = self.features.denseblock2\n",
    "        self.transition2 = self.features.transition2\n",
    "        self.denseblock3 = self.features.denseblock3\n",
    "        self.transition3 = self.features.transition3\n",
    "        self.denseblock4 = self.features.denseblock4\n",
    "        self.norm5 = self.features.norm5\n",
    "        self.pool = nn.AdaptiveAvgPool2d(1)\n",
    "\n",
    "    def forward(self, input):\n",
    "        x = self.conv0(input)\n",
    "        x = self.relu0(self.norm0(x))\n",
    "        x = self.maxpool0(x)\n",
    "        x = self.transition1(self.denseblock1(x))\n",
    "        x = self.transition2(self.denseblock2(x))\n",
    "        f = self.denseblock3(x) # 1 / 16\n",
    "        feature3 = self.transition3(f)\n",
    "        feature4 = self.norm5(self.denseblock4(feature3)) # 1 / 32\n",
    "        tail = self.pool(feature4)\n",
    "        return f, feature4, tail\n",
    "\n",
    "class ConvBlock(torch.nn.Module):\n",
    "    def __init__(self, in_channels, out_channels, kernel_size=3, stride=2,padding=1):\n",
    "        super().__init__()\n",
    "        self.conv1 = nn.Conv2d(in_channels, out_channels, kernel_size=kernel_size, stride=stride, padding=padding, bias=False)\n",
    "        self.bn = nn.BatchNorm2d(out_channels)\n",
    "        self.relu = nn.ReLU()\n",
    "\n",
    "    def forward(self, input):\n",
    "        x = self.conv1(input)\n",
    "        return self.relu(self.bn(x))\n",
    "\n",
    "class Spatial_path(torch.nn.Module):\n",
    "    def __init__(self):\n",
    "        super().__init__()\n",
    "        self.convblock1 = ConvBlock(in_channels=3, out_channels=64)\n",
    "        self.convblock2 = ConvBlock(in_channels=64, out_channels=128)\n",
    "        self.convblock3 = ConvBlock(in_channels=128, out_channels=256)\n",
    "\n",
    "    def forward(self, input):\n",
    "        x = self.convblock1(input)\n",
    "        x = self.convblock2(x)\n",
    "        x = self.convblock3(x)\n",
    "        return x\n",
    "\n",
    "class AttentionRefinementModule(torch.nn.Module):\n",
    "    def __init__(self, in_channels, out_channels):\n",
    "        super().__init__()\n",
    "        self.conv = nn.Conv2d(in_channels, out_channels, kernel_size=1)\n",
    "        self.bn = nn.BatchNorm2d(out_channels)\n",
    "        self.sigmoid = nn.Sigmoid()\n",
    "        self.in_channels = in_channels\n",
    "        self.avgpool = nn.AdaptiveAvgPool2d(output_size=(1, 1))\n",
    "\n",
    "    def forward(self, input):\n",
    "        # global average pooling\n",
    "        x = self.avgpool(input)\n",
    "        assert self.in_channels == x.size(1), 'in_channels and out_channels should all be {}'.format(x.size(1))\n",
    "        x = self.conv(x)\n",
    "        # x = self.sigmoid(self.bn(x))\n",
    "        x = self.sigmoid(x)\n",
    "        # channels of input and x should be same\n",
    "        x = torch.mul(input, x)\n",
    "        return x\n",
    "\n",
    "\n",
    "class FeatureFusionModule(torch.nn.Module):\n",
    "    def __init__(self, num_classes, in_channels):\n",
    "        super().__init__()\n",
    "        # self.in_channels = input_1.channels + input_2.channels\n",
    "        # resnet50 3328 = 256(from context path) + 1024(from spatial path) + 2048(from spatial path)\n",
    "        # densenet121  2304 = 256(from context path) + 1024(from spatial path) + 1024(from spatial path)\n",
    "        self.in_channels = in_channels\n",
    "\n",
    "        self.convblock = ConvBlock(in_channels=self.in_channels, out_channels=num_classes, stride=1)\n",
    "        self.conv1 = nn.Conv2d(num_classes, num_classes, kernel_size=1)\n",
    "        self.relu = nn.ReLU()\n",
    "        self.conv2 = nn.Conv2d(num_classes, num_classes, kernel_size=1)\n",
    "        self.sigmoid = nn.Sigmoid()\n",
    "        self.avgpool = nn.AdaptiveAvgPool2d(output_size=(1, 1))\n",
    "\n",
    "\n",
    "    def forward(self, input_1, input_2):\n",
    "        x = torch.cat((input_1, input_2), dim=1)\n",
    "        assert self.in_channels == x.size(1), 'in_channels of ConvBlock should be {}'.format(x.size(1))\n",
    "        feature = self.convblock(x)\n",
    "        x = self.avgpool(feature)\n",
    "\n",
    "        x = self.relu(self.conv1(x))\n",
    "        x = self.sigmoid(self.conv2(x))\n",
    "        x = torch.mul(feature, x)\n",
    "        x = torch.add(x, feature)\n",
    "        return x\n",
    "\n",
    "class BiSeNet(torch.nn.Module):\n",
    "    def __init__(self, num_classes, context_path='resnet50'):\n",
    "        super().__init__()\n",
    "        # build spatial path\n",
    "        self.saptial_path = Spatial_path()\n",
    "\n",
    "        if context_path == 'resnet50':\n",
    "            # build context path\n",
    "            self.context_path = resnet50()\n",
    "\n",
    "            # build attention refinement module  for resnet 50\n",
    "            #if context_path == 'resnet50':\n",
    "            self.attention_module1 = AttentionRefinementModule(1024, 1024)\n",
    "            self.attention_module2 = AttentionRefinementModule(2048, 2048)\n",
    "            # supervision block\n",
    "            self.supervision1 = nn.Conv2d(in_channels=1024, out_channels=num_classes, kernel_size=1)\n",
    "            self.supervision2 = nn.Conv2d(in_channels=2048, out_channels=num_classes, kernel_size=1)\n",
    "            # build feature fusion module\n",
    "            self.feature_fusion_module = FeatureFusionModule(num_classes, 3328)\n",
    "\n",
    "        elif context_path == 'densenet121':\n",
    "            # build context path\n",
    "            self.context_path = densenet121()\n",
    "            \n",
    "            # build attention refinement module for densenet121\n",
    "            self.attention_module1 = AttentionRefinementModule(1024, 1024)\n",
    "            self.attention_module2 = AttentionRefinementModule(1024, 1024)\n",
    "            # supervision block\n",
    "            self.supervision1 = nn.Conv2d(in_channels=1024, out_channels=num_classes, kernel_size=1)\n",
    "            self.supervision2 = nn.Conv2d(in_channels=1024, out_channels=num_classes, kernel_size=1)\n",
    "            # build feature fusion module\n",
    "            self.feature_fusion_module = FeatureFusionModule(num_classes, 2304)\n",
    "        else:\n",
    "            print('Error: unspport context_path network \\n')\n",
    "\n",
    "        # build final convolution\n",
    "        self.conv = nn.Conv2d(in_channels=num_classes, out_channels=num_classes, kernel_size=1)\n",
    "        self.softmax = nn.Softmax(dim=1)\n",
    "\n",
    "   \n",
    "\n",
    "    def forward(self, input):\n",
    "        # output of spatial path\n",
    "        sx = self.saptial_path(input)\n",
    "\n",
    "        # output of context path\n",
    "        cx1, cx2, tail = self.context_path(input)\n",
    "        cx1 = self.attention_module1(cx1)\n",
    "        cx2 = self.attention_module2(cx2)\n",
    "        cx2 = torch.mul(cx2, tail)\n",
    "        # upsampling\n",
    "        cx1 = torch.nn.functional.interpolate(cx1, size=sx.size()[-2:], mode='bilinear')\n",
    "        cx2 = torch.nn.functional.interpolate(cx2, size=sx.size()[-2:], mode='bilinear')\n",
    "        cx = torch.cat((cx1, cx2), dim=1)\n",
    "\n",
    "        if self.training == True:\n",
    "            cx1_sup = self.supervision1(cx1)\n",
    "            cx2_sup = self.supervision2(cx2)\n",
    "            cx1_sup = torch.nn.functional.interpolate(cx1_sup, size=input.size()[-2:], mode='bilinear')\n",
    "            cx2_sup = torch.nn.functional.interpolate(cx2_sup, size=input.size()[-2:], mode='bilinear')\n",
    "\n",
    "        # output of feature fusion module\n",
    "        result = self.feature_fusion_module(sx, cx)\n",
    "\n",
    "        # upsampling\n",
    "        result = torch.nn.functional.interpolate(result, scale_factor=8, mode='bilinear')\n",
    "        result = self.conv(result)\n",
    "        result = self.softmax(result)\n",
    "\n",
    "        if self.training == True:\n",
    "            cx1_sup = self.softmax(cx1_sup)\n",
    "            cx2_sup = self.softmax(cx2_sup)\n",
    "            return result, cx1_sup, cx2_sup\n",
    "\n",
    "        return result"
   ]
  },
  {
   "cell_type": "code",
   "execution_count": 70,
   "metadata": {},
   "outputs": [],
   "source": [
    "from tensorboardX import SummaryWriter\n",
    "from torch.utils.data import DataLoader\n",
    "import os\n",
    "\n",
    "def nanmean(x):\n",
    "    \"\"\"Computes the arithmetic mean ignoring any NaNs.\"\"\"\n",
    "    return torch.mean(x[x == x])\n",
    "\n",
    "EPS = 1e-10\n",
    "\n",
    "def _fast_hist(true, pred, num_classes):\n",
    "    mask = (true >= 0) & (true < num_classes)\n",
    "    k = num_classes * true[mask] + pred[mask]\n",
    "    #k[k<0] = 0\n",
    "    hist = torch.bincount(\n",
    "        k,\n",
    "        minlength=num_classes ** 2,\n",
    "    ).reshape(num_classes, num_classes).float()\n",
    "    return hist\n",
    "\n",
    "def overall_pixel_accuracy(hist):\n",
    "    correct = torch.diag(hist).sum()\n",
    "    total = hist.sum()\n",
    "    overall_acc = correct / (total + EPS)\n",
    "    return overall_acc\n",
    "\n",
    "def eval_metric(targ, pred, num_classes):\n",
    "    '''\n",
    "    targ [b, 1, h, w] or [b, h, w]\n",
    "    pred [b, h, w] (after argmax(dim=1))\n",
    "    '''\n",
    "    #num_classes = 2\n",
    "    hist = torch.zeros((num_classes, num_classes)).to(targ.device)\n",
    "    for t, p in zip(targ, pred):\n",
    "        t = t.type(torch.int64)\n",
    "        p = p.type(torch.int64)\n",
    "        hist += _fast_hist(t.flatten(), p.flatten(), num_classes)\n",
    "    overall_acc = overall_pixel_accuracy(hist)\n",
    "    return overall_acc\n",
    "\n",
    "\n",
    "def val(num_classes, model, dataloader):\n",
    "    print('start val!')\n",
    "    model.eval()\n",
    "    with torch.no_grad():\n",
    "        all_accuracy = []\n",
    "        for i, (data, label) in enumerate(dataloader):\n",
    "            data = data.cuda()\n",
    "            label = label.cuda()\n",
    "            pred = model(data)\n",
    "            accuracy = eval_metric(label, torch.argmax(pred, dim=1), num_classes)\n",
    "            all_accuracy.append(accuracy)\n",
    "        all_accuracy = torch.tensor(all_accuracy).to(data.device)\n",
    "        miou = torch.mean(all_accuracy)\n",
    "    print('mIoU for validation: %.3f' % float(miou))\n",
    "    return float(miou)\n",
    "\n",
    "def poly_lr_scheduler(optimizer, init_lr, iter, lr_decay_iter=1,\n",
    "                      max_iter=100, power=0.9):\n",
    "\tlr = init_lr*(1 - iter/max_iter)**power\n",
    "\toptimizer.param_groups[0]['lr'] = lr\n",
    "\treturn lr  \n",
    "    \n",
    "def train(model, optimizer, dataloader_train, dataloader_val):\n",
    "    loss_func = torch.nn.CrossEntropyLoss()\n",
    "    max_miou = 0\n",
    "    step = 0\n",
    "    writer = SummaryWriter('board')\n",
    "    for epoch in range(100):\n",
    "        print('epoch:', epoch)\n",
    "        lr = poly_lr_scheduler(optimizer, 0.002, iter=epoch, max_iter=100)\n",
    "        model.train()\n",
    "        loss_record = []\n",
    "        for i, (data, label) in enumerate(dataloader_train):\n",
    "            data = data.cuda()\n",
    "            label = label.cuda()\n",
    "            output, output_sup1, output_sup2 = model(data)\n",
    "            loss1 = loss_func(output, label)\n",
    "            loss2 = loss_func(output_sup1, label)\n",
    "            loss3 = loss_func(output_sup2, label)\n",
    "            loss = loss1 + loss2 + loss3\n",
    "            optimizer.zero_grad()\n",
    "            loss.backward()\n",
    "            optimizer.step()\n",
    "            step += 1\n",
    "            writer.add_scalar('loss_step', loss, step)\n",
    "            loss_record.append(loss.item())\n",
    "        loss_train_mean = np.mean(loss_record)\n",
    "        writer.add_scalar('epoch/loss_epoch_train', float(loss_train_mean), epoch)\n",
    "        print('loss for train : %f' % (loss_train_mean))\n",
    "        if epoch % 1 == 0:\n",
    "            if not os.path.isdir('./checkpoint'):\n",
    "                os.mkdir('./checkpoint')\n",
    "            torch.save(model.module.state_dict(),\n",
    "                       os.path.join('./checkpoint', (str(epoch)+'-' +'BiSeNet.pth')))\n",
    "\n",
    "        if epoch % 1 == 0:\n",
    "            miou = val(2, model, dataloader_val)\n",
    "            if miou > max_miou:\n",
    "                max_miou = miou\n",
    "                torch.save(model.module.state_dict(),\n",
    "                           os.path.join('./checkpoint', 'best_model.pth'))\n",
    "            writer.add_scalar('epoch/miou val', miou, epoch)"
   ]
  },
  {
   "cell_type": "code",
   "execution_count": 5,
   "metadata": {},
   "outputs": [],
   "source": [
    "os.environ[\"CUDA_DEVICE_ORDER\"]=\"PCI_BUS_ID\"\n",
    "os.environ[\"CUDA_VISIBLE_DEVICES\"]=\"8,9\""
   ]
  },
  {
   "cell_type": "code",
   "execution_count": 6,
   "metadata": {},
   "outputs": [
    {
     "data": {
      "text/plain": [
       "2"
      ]
     },
     "execution_count": 6,
     "metadata": {},
     "output_type": "execute_result"
    }
   ],
   "source": [
    "torch.cuda.device_count()"
   ]
  },
  {
   "cell_type": "code",
   "execution_count": 80,
   "metadata": {},
   "outputs": [],
   "source": [
    "torch.cuda.empty_cache()"
   ]
  },
  {
   "cell_type": "code",
   "execution_count": 72,
   "metadata": {},
   "outputs": [
    {
     "name": "stdout",
     "output_type": "stream",
     "text": [
      "epoch: 0\n",
      "loss for train : 1.039430\n",
      "start val!\n",
      "mIoU for validation: 0.984\n",
      "epoch: 1\n",
      "loss for train : 0.972672\n",
      "start val!\n",
      "mIoU for validation: 0.991\n",
      "epoch: 2\n",
      "loss for train : 0.962392\n",
      "start val!\n",
      "mIoU for validation: 0.985\n",
      "epoch: 3\n",
      "loss for train : 0.964905\n",
      "start val!\n",
      "mIoU for validation: 0.986\n",
      "epoch: 4\n",
      "loss for train : 0.957192\n",
      "start val!\n",
      "mIoU for validation: 0.993\n",
      "epoch: 5\n",
      "loss for train : 0.957188\n",
      "start val!\n",
      "mIoU for validation: 0.992\n",
      "epoch: 6\n",
      "loss for train : 0.950825\n",
      "start val!\n",
      "mIoU for validation: 0.997\n",
      "epoch: 7\n",
      "loss for train : 0.948451\n",
      "start val!\n",
      "mIoU for validation: 0.992\n",
      "epoch: 8\n",
      "loss for train : 0.953692\n",
      "start val!\n",
      "mIoU for validation: 0.996\n",
      "epoch: 9\n",
      "loss for train : 0.951340\n",
      "start val!\n",
      "mIoU for validation: 0.993\n",
      "epoch: 10\n",
      "loss for train : 0.953223\n",
      "start val!\n",
      "mIoU for validation: 0.997\n",
      "epoch: 11\n",
      "loss for train : 0.950465\n",
      "start val!\n",
      "mIoU for validation: 0.995\n",
      "epoch: 12\n",
      "loss for train : 0.947897\n",
      "start val!\n",
      "mIoU for validation: 0.998\n",
      "epoch: 13\n",
      "loss for train : 0.946625\n",
      "start val!\n",
      "mIoU for validation: 0.998\n",
      "epoch: 14\n",
      "loss for train : 0.948803\n",
      "start val!\n",
      "mIoU for validation: 0.990\n",
      "epoch: 15\n",
      "loss for train : 0.949278\n",
      "start val!\n",
      "mIoU for validation: 0.998\n",
      "epoch: 16\n",
      "loss for train : 0.947931\n",
      "start val!\n",
      "mIoU for validation: 0.997\n",
      "epoch: 17\n",
      "loss for train : 0.948642\n",
      "start val!\n",
      "mIoU for validation: 0.997\n",
      "epoch: 18\n",
      "loss for train : 0.946889\n",
      "start val!\n",
      "mIoU for validation: 0.998\n",
      "epoch: 19\n",
      "loss for train : 0.946482\n",
      "start val!\n",
      "mIoU for validation: 0.997\n",
      "epoch: 20\n",
      "loss for train : 0.948090\n",
      "start val!\n",
      "mIoU for validation: 0.997\n",
      "epoch: 21\n",
      "loss for train : 0.945862\n",
      "start val!\n",
      "mIoU for validation: 0.999\n",
      "epoch: 22\n",
      "loss for train : 0.945092\n",
      "start val!\n",
      "mIoU for validation: 0.999\n",
      "epoch: 23\n",
      "loss for train : 0.944713\n",
      "start val!\n",
      "mIoU for validation: 0.999\n",
      "epoch: 24\n",
      "loss for train : 0.944513\n",
      "start val!\n",
      "mIoU for validation: 0.997\n",
      "epoch: 25\n",
      "loss for train : 0.947363\n",
      "start val!\n",
      "mIoU for validation: 0.998\n",
      "epoch: 26\n",
      "loss for train : 0.947770\n",
      "start val!\n",
      "mIoU for validation: 0.999\n",
      "epoch: 27\n",
      "loss for train : 0.945676\n",
      "start val!\n",
      "mIoU for validation: 0.999\n",
      "epoch: 28\n",
      "loss for train : 0.944889\n",
      "start val!\n",
      "mIoU for validation: 0.998\n",
      "epoch: 29\n",
      "loss for train : 0.944875\n",
      "start val!\n",
      "mIoU for validation: 0.999\n",
      "epoch: 30\n",
      "loss for train : 0.944500\n",
      "start val!\n",
      "mIoU for validation: 0.999\n",
      "epoch: 31\n",
      "loss for train : 0.944242\n",
      "start val!\n",
      "mIoU for validation: 0.999\n",
      "epoch: 32\n",
      "loss for train : 0.944887\n",
      "start val!\n",
      "mIoU for validation: 0.992\n",
      "epoch: 33\n",
      "loss for train : 0.947633\n",
      "start val!\n",
      "mIoU for validation: 0.999\n",
      "epoch: 34\n",
      "loss for train : 0.944739\n",
      "start val!\n",
      "mIoU for validation: 0.999\n",
      "epoch: 35\n",
      "loss for train : 0.944282\n",
      "start val!\n",
      "mIoU for validation: 0.998\n",
      "epoch: 36\n",
      "loss for train : 0.944089\n",
      "start val!\n",
      "mIoU for validation: 0.998\n",
      "epoch: 37\n",
      "loss for train : 0.943955\n",
      "start val!\n",
      "mIoU for validation: 0.997\n",
      "epoch: 38\n",
      "loss for train : 0.943876\n",
      "start val!\n",
      "mIoU for validation: 0.998\n",
      "epoch: 39\n",
      "loss for train : 0.943851\n",
      "start val!\n",
      "mIoU for validation: 0.995\n",
      "epoch: 40\n",
      "loss for train : 0.943968\n",
      "start val!\n",
      "mIoU for validation: 0.998\n",
      "epoch: 41\n",
      "loss for train : 0.945588\n",
      "start val!\n",
      "mIoU for validation: 0.998\n",
      "epoch: 42\n",
      "loss for train : 0.944382\n",
      "start val!\n",
      "mIoU for validation: 0.998\n",
      "epoch: 43\n",
      "loss for train : 0.943883\n",
      "start val!\n",
      "mIoU for validation: 0.998\n",
      "epoch: 44\n",
      "loss for train : 0.943771\n",
      "start val!\n",
      "mIoU for validation: 0.998\n",
      "epoch: 45\n",
      "loss for train : 0.943759\n",
      "start val!\n",
      "mIoU for validation: 0.999\n",
      "epoch: 46\n",
      "loss for train : 0.943670\n",
      "start val!\n",
      "mIoU for validation: 0.998\n",
      "epoch: 47\n",
      "loss for train : 0.943616\n",
      "start val!\n",
      "mIoU for validation: 0.999\n",
      "epoch: 48\n",
      "loss for train : 0.943591\n",
      "start val!\n",
      "mIoU for validation: 0.998\n",
      "epoch: 49\n",
      "loss for train : 0.943541\n",
      "start val!\n",
      "mIoU for validation: 0.999\n",
      "epoch: 50\n",
      "loss for train : 0.944073\n",
      "start val!\n",
      "mIoU for validation: 0.998\n",
      "epoch: 51\n",
      "loss for train : 0.945178\n",
      "start val!\n",
      "mIoU for validation: 0.999\n",
      "epoch: 52\n",
      "loss for train : 0.943974\n",
      "start val!\n",
      "mIoU for validation: 0.993\n",
      "epoch: 53\n",
      "loss for train : 0.943699\n",
      "start val!\n",
      "mIoU for validation: 0.998\n",
      "epoch: 54\n",
      "loss for train : 0.943558\n",
      "start val!\n",
      "mIoU for validation: 0.998\n",
      "epoch: 55\n",
      "loss for train : 0.943499\n",
      "start val!\n",
      "mIoU for validation: 0.998\n",
      "epoch: 56\n",
      "loss for train : 0.943465\n",
      "start val!\n",
      "mIoU for validation: 0.998\n",
      "epoch: 57\n",
      "loss for train : 0.943429\n",
      "start val!\n",
      "mIoU for validation: 0.998\n",
      "epoch: 58\n",
      "loss for train : 0.943408\n",
      "start val!\n",
      "mIoU for validation: 0.998\n",
      "epoch: 59\n",
      "loss for train : 0.943384\n",
      "start val!\n",
      "mIoU for validation: 0.998\n",
      "epoch: 60\n",
      "loss for train : 0.943376\n",
      "start val!\n",
      "mIoU for validation: 0.998\n",
      "epoch: 61\n",
      "loss for train : 0.943345\n",
      "start val!\n",
      "mIoU for validation: 0.998\n",
      "epoch: 62\n",
      "loss for train : 0.943322\n",
      "start val!\n",
      "mIoU for validation: 0.998\n",
      "epoch: 63\n",
      "loss for train : 0.943297\n",
      "start val!\n",
      "mIoU for validation: 0.998\n",
      "epoch: 64\n",
      "loss for train : 0.943287\n",
      "start val!\n",
      "mIoU for validation: 0.998\n",
      "epoch: 65\n",
      "loss for train : 0.943279\n",
      "start val!\n",
      "mIoU for validation: 0.998\n",
      "epoch: 66\n",
      "loss for train : 0.943264\n",
      "start val!\n",
      "mIoU for validation: 0.998\n",
      "epoch: 67\n",
      "loss for train : 0.943233\n",
      "start val!\n",
      "mIoU for validation: 0.998\n",
      "epoch: 68\n",
      "loss for train : 0.943208\n",
      "start val!\n",
      "mIoU for validation: 0.998\n",
      "epoch: 69\n",
      "loss for train : 0.943188\n",
      "start val!\n",
      "mIoU for validation: 0.998\n",
      "epoch: 70\n",
      "loss for train : 0.943173\n",
      "start val!\n",
      "mIoU for validation: 0.998\n",
      "epoch: 71\n",
      "loss for train : 0.943157\n",
      "start val!\n",
      "mIoU for validation: 0.998\n",
      "epoch: 72\n",
      "loss for train : 0.943150\n",
      "start val!\n",
      "mIoU for validation: 0.998\n",
      "epoch: 73\n",
      "loss for train : 0.943146\n",
      "start val!\n",
      "mIoU for validation: 0.998\n",
      "epoch: 74\n",
      "loss for train : 0.943144\n",
      "start val!\n",
      "mIoU for validation: 0.998\n",
      "epoch: 75\n",
      "loss for train : 0.943129\n",
      "start val!\n",
      "mIoU for validation: 0.998\n",
      "epoch: 76\n",
      "loss for train : 0.943121\n",
      "start val!\n",
      "mIoU for validation: 0.998\n",
      "epoch: 77\n",
      "loss for train : 0.943106\n",
      "start val!\n",
      "mIoU for validation: 0.998\n",
      "epoch: 78\n",
      "loss for train : 0.943078\n",
      "start val!\n",
      "mIoU for validation: 0.998\n",
      "epoch: 79\n",
      "loss for train : 0.943079\n",
      "start val!\n",
      "mIoU for validation: 0.998\n",
      "epoch: 80\n",
      "loss for train : 0.943087\n",
      "start val!\n",
      "mIoU for validation: 0.998\n",
      "epoch: 81\n",
      "loss for train : 0.943032\n",
      "start val!\n",
      "mIoU for validation: 0.998\n",
      "epoch: 82\n",
      "loss for train : 0.943011\n",
      "start val!\n",
      "mIoU for validation: 0.998\n",
      "epoch: 83\n",
      "loss for train : 0.942999\n",
      "start val!\n",
      "mIoU for validation: 0.998\n",
      "epoch: 84\n",
      "loss for train : 0.942993\n",
      "start val!\n",
      "mIoU for validation: 0.998\n",
      "epoch: 85\n",
      "loss for train : 0.942992\n",
      "start val!\n",
      "mIoU for validation: 0.998\n",
      "epoch: 86\n",
      "loss for train : 0.942993\n",
      "start val!\n",
      "mIoU for validation: 0.998\n",
      "epoch: 87\n",
      "loss for train : 0.942975\n",
      "start val!\n",
      "mIoU for validation: 0.998\n",
      "epoch: 88\n",
      "loss for train : 0.942960\n",
      "start val!\n",
      "mIoU for validation: 0.998\n",
      "epoch: 89\n",
      "loss for train : 0.942960\n",
      "start val!\n",
      "mIoU for validation: 0.998\n",
      "epoch: 90\n",
      "loss for train : 0.942975\n",
      "start val!\n",
      "mIoU for validation: 0.998\n",
      "epoch: 91\n",
      "loss for train : 0.942993\n",
      "start val!\n",
      "mIoU for validation: 0.998\n",
      "epoch: 92\n",
      "loss for train : 0.942971\n",
      "start val!\n",
      "mIoU for validation: 0.998\n",
      "epoch: 93\n",
      "loss for train : 0.942935\n",
      "start val!\n",
      "mIoU for validation: 0.998\n",
      "epoch: 94\n",
      "loss for train : 0.942901\n",
      "start val!\n",
      "mIoU for validation: 0.998\n",
      "epoch: 95\n",
      "loss for train : 0.942883\n",
      "start val!\n",
      "mIoU for validation: 0.998\n",
      "epoch: 96\n",
      "loss for train : 0.942871\n",
      "start val!\n",
      "mIoU for validation: 0.998\n",
      "epoch: 97\n",
      "loss for train : 0.942865\n",
      "start val!\n",
      "mIoU for validation: 0.998\n",
      "epoch: 98\n",
      "loss for train : 0.942857\n",
      "start val!\n",
      "mIoU for validation: 0.998\n",
      "epoch: 99\n",
      "loss for train : 0.942849\n",
      "start val!\n",
      "mIoU for validation: 0.998\n"
     ]
    }
   ],
   "source": [
    "# net = BiSeNet(2, context_path='resnet50')\n",
    "net = BiSeNet(2, context_path='densenet121')\n",
    "net = net.cuda()\n",
    "net = torch.nn.DataParallel(net)\n",
    "trainset = Ellipses([512,512,3], 10000)\n",
    "valset = Ellipses([512,512,3], 1000)\n",
    "train_loader = DataLoader(trainset, batch_size=16, num_workers=8,\n",
    "                              pin_memory=True)\n",
    "val_loader = DataLoader(valset, batch_size=16, num_workers=8,\n",
    "                              pin_memory=True)\n",
    "optimizer = torch.optim.Adam(net.parameters(), 0.002)\n",
    "train(net, optimizer, train_loader, val_loader)"
   ]
  },
  {
   "cell_type": "markdown",
   "metadata": {},
   "source": [
    "# ResNet50 version"
   ]
  },
  {
   "cell_type": "code",
   "execution_count": 68,
   "metadata": {},
   "outputs": [
    {
     "data": {
      "text/plain": [
       "<matplotlib.image.AxesImage at 0x7f50b560acf8>"
      ]
     },
     "execution_count": 68,
     "metadata": {},
     "output_type": "execute_result"
    },
    {
     "data": {
      "image/png": "[encoded data removed]",
      "text/plain": [
       "<Figure size 432x288 with 3 Axes>"
      ]
     },
     "metadata": {
      "needs_background": "light"
     },
     "output_type": "display_data"
    }
   ],
   "source": [
    "#results of resnet50 backbone\n",
    "from torch.utils.data import DataLoader\n",
    "valset = Ellipses([512,512,3], 10000)\n",
    "\n",
    "num_classes = 2\n",
    "img, targ = valset[0]\n",
    "img = img.unsqueeze(0)\n",
    "targ = targ.unsqueeze(0)\n",
    "img, targ = img.cuda(), targ.cuda()\n",
    "\n",
    "net = BiSeNet(2)\n",
    "net = net.cuda()\n",
    "net.load_state_dict(torch.load('./checkpoint/best_model_resnet50.pth'))\n",
    "net.eval()\n",
    "pred = net(img)\n",
    "pred = torch.argmax(pred, dim=1)\n",
    "fig, (ax0, ax1, ax2) = plt.subplots(1, 3)\n",
    "ax0.imshow(img.squeeze().permute(1,2,0).cpu().detach().numpy())\n",
    "ax1.imshow(pred.squeeze().cpu().detach().numpy())\n",
    "ax2.imshow(targ.squeeze().cpu().detach().numpy())"
   ]
  },
  {
   "cell_type": "code",
   "execution_count": 69,
   "metadata": {},
   "outputs": [
    {
     "name": "stdout",
     "output_type": "stream",
     "text": [
      "start val!\n",
      "mIoU for validation: 0.999\n"
     ]
    }
   ],
   "source": [
    "# resnet50 version\n",
    "fin = val(2, net, val_loader)"
   ]
  },
  {
   "cell_type": "markdown",
   "metadata": {},
   "source": [
    "![title](resnet50.png)"
   ]
  },
  {
   "cell_type": "markdown",
   "metadata": {},
   "source": [
    "# DenseNet121 version"
   ]
  },
  {
   "cell_type": "code",
   "execution_count": 78,
   "metadata": {},
   "outputs": [
    {
     "data": {
      "text/plain": [
       "<matplotlib.image.AxesImage at 0x7f50b2983470>"
      ]
     },
     "execution_count": 78,
     "metadata": {},
     "output_type": "execute_result"
    },
    {
     "data": {
      "image/png": "[encoded data removed]",
      "text/plain": [
       "<Figure size 432x288 with 3 Axes>"
      ]
     },
     "metadata": {
      "needs_background": "light"
     },
     "output_type": "display_data"
    }
   ],
   "source": [
    "#results of densenet121 backbone\n",
    "from torch.utils.data import DataLoader\n",
    "valset = Ellipses([512,512,3], 10000)\n",
    "\n",
    "num_classes = 2\n",
    "img, targ = valset[0]\n",
    "img = img.unsqueeze(0)\n",
    "targ = targ.unsqueeze(0)\n",
    "img, targ = img.cuda(), targ.cuda()\n",
    "\n",
    "net = BiSeNet(2, context_path='densenet121')\n",
    "net = net.cuda()\n",
    "net.load_state_dict(torch.load('./checkpoint/best_model_densenet121.pth'))\n",
    "net.eval()\n",
    "pred = net(img)\n",
    "pred = torch.argmax(pred, dim=1)\n",
    "fig, (ax0, ax1, ax2) = plt.subplots(1, 3)\n",
    "ax0.imshow(img.squeeze().permute(1,2,0).cpu().detach().numpy())\n",
    "ax1.imshow(pred.squeeze().cpu().detach().numpy())\n",
    "ax2.imshow(targ.squeeze().cpu().detach().numpy())"
   ]
  },
  {
   "cell_type": "code",
   "execution_count": 79,
   "metadata": {},
   "outputs": [
    {
     "name": "stdout",
     "output_type": "stream",
     "text": [
      "start val!\n",
      "mIoU for validation: 0.999\n"
     ]
    }
   ],
   "source": [
    "# resnet50 version\n",
    "fin = val(2, net, val_loader)"
   ]
  },
  {
   "cell_type": "markdown",
   "metadata": {},
   "source": [
    "![title](densenet121.png)"
   ]
  },
  {
   "cell_type": "markdown",
   "metadata": {},
   "source": [
    "**Проиллюстрируйте процесс обучения** сети скриншотами из `tensorboard` (см. `lanpa/tensorboardX`).\n",
    "\n",
    "Необходимо в частности отобразить кривую обучения и примеры эволюции качества выдаваемых масок."
   ]
  }
 ],
 "metadata": {
  "kernelspec": {
   "display_name": "Python 3",
   "language": "python",
   "name": "python3"
  },
  "language_info": {
   "codemirror_mode": {
    "name": "ipython",
    "version": 3
   },
   "file_extension": ".py",
   "mimetype": "text/x-python",
   "name": "python",
   "nbconvert_exporter": "python",
   "pygments_lexer": "ipython3",
   "version": "3.7.4"
  }
 },
 "nbformat": 4,
 "nbformat_minor": 4
}
