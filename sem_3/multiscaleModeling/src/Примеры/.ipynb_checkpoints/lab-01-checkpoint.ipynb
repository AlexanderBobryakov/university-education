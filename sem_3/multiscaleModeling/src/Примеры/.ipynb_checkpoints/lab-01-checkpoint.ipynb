{
 "cells": [
  {
   "cell_type": "code",
   "execution_count": null,
   "metadata": {
    "scrolled": true
   },
   "outputs": [
    {
     "name": "stdout",
     "output_type": "stream",
     "text": [
      "Populating the interactive namespace from numpy and matplotlib\n"
     ]
    }
   ],
   "source": [
    "%pylab inline\n",
    "\n",
    "import numpy as np\n",
    "import pandas as pd\n",
    "from matplotlib import pyplot as plt\n",
    "from mpl_toolkits.mplot3d import axes3d\n",
    "\n",
    "#from mpl_toolkits import mplot3d\n",
    "\n",
    "from matplotlib import cm\n",
    "import seaborn as sns\n",
    "import os\n",
    "import json\n",
    "\n",
    "#\n",
    "from keras.layers import Dense, Activation\n",
    "from keras.models import Sequential\n",
    "#\n",
    "from sklearn.preprocessing import StandardScaler, MinMaxScaler\n",
    "from sklearn.ensemble import RandomForestRegressor\n",
    "from sklearn.neural_network import MLPRegressor\n",
    "import math\n",
    "\n",
    "from sklearn import datasets, linear_model\n",
    "from sklearn.model_selection import KFold, StratifiedKFold, cross_val_score\n",
    "from sklearn.metrics import mean_absolute_error, mean_squared_error, r2_score\n",
    "\n",
    "# for Jupyter notebook\n",
    "%matplotlib inline"
   ]
  },
  {
   "cell_type": "code",
   "execution_count": null,
   "metadata": {},
   "outputs": [],
   "source": [
    "DATA_PATH = 'data'"
   ]
  },
  {
   "cell_type": "code",
   "execution_count": null,
   "metadata": {},
   "outputs": [],
   "source": [
    "#!pip install tensorflow keras\n",
    "#!conda install tensorflow keras"
   ]
  },
  {
   "cell_type": "markdown",
   "metadata": {},
   "source": [
    "### Считываем данные экспериментов + базовый EDA"
   ]
  },
  {
   "cell_type": "code",
   "execution_count": null,
   "metadata": {},
   "outputs": [],
   "source": [
    "datafile = os.path.join(DATA_PATH, 'kappa.csv')\n",
    "df = pd.read_csv(datafile)"
   ]
  },
  {
   "cell_type": "code",
   "execution_count": null,
   "metadata": {},
   "outputs": [],
   "source": [
    "df.head()"
   ]
  },
  {
   "cell_type": "code",
   "execution_count": null,
   "metadata": {},
   "outputs": [],
   "source": [
    "df.shape"
   ]
  },
  {
   "cell_type": "code",
   "execution_count": null,
   "metadata": {},
   "outputs": [],
   "source": [
    "columns = list(df.columns)\n",
    "columns"
   ]
  },
  {
   "cell_type": "code",
   "execution_count": null,
   "metadata": {},
   "outputs": [],
   "source": [
    "y_column = 'kappa_bulk'\n",
    "y = df[y_column]\n",
    "y = y.values.reshape(-1,1)\n",
    "\n",
    "if y_column in columns:\n",
    "    columns.remove(y_column)\n",
    "\n",
    "X = df[columns]\n",
    "\n",
    "print(f\"X.shape={X.shape}, y.shape={y.shape}\")"
   ]
  },
  {
   "cell_type": "code",
   "execution_count": null,
   "metadata": {},
   "outputs": [],
   "source": [
    "X.head()"
   ]
  },
  {
   "cell_type": "code",
   "execution_count": null,
   "metadata": {},
   "outputs": [],
   "source": [
    "X_min = np.min(X).rename(\"min\")\n",
    "X_max = np.max(X).rename(\"max\")\n",
    "\n",
    "y_min = np.min(y)\n",
    "y_max = np.max(y)"
   ]
  },
  {
   "cell_type": "code",
   "execution_count": null,
   "metadata": {},
   "outputs": [],
   "source": [
    "pd.concat([X_min, X_max], axis=1)"
   ]
  },
  {
   "cell_type": "code",
   "execution_count": null,
   "metadata": {},
   "outputs": [],
   "source": [
    "def plot_functions(X, y):\n",
    "    \"\"\"\n",
    "    X shape must be (,6)\n",
    "    y shape must be columns vector\n",
    "    X.shape[0] == y.shape\n",
    "    \"\"\"\n",
    "    fig, axs = plt.subplots(nrows=3, ncols=2, figsize = (15,15))\n",
    "\n",
    "    for i in range( len(columns)):\n",
    "        x_label = columns[i]\n",
    "        row = int(i/2)\n",
    "        col = int(i%2)\n",
    "        axs[row, col].plot(X[x_label],y)\n",
    "        axs[row, col].set_xlabel(x_label)\n",
    "        axs[row, col].set_ylabel(y_column)\n",
    "        axs[row, col].grid(True)\n",
    "\n",
    "plot_functions(X, y)"
   ]
  },
  {
   "cell_type": "code",
   "execution_count": null,
   "metadata": {},
   "outputs": [],
   "source": [
    "from matplotlib import cm\n",
    "from matplotlib.ticker import LinearLocator, FormatStrFormatter"
   ]
  },
  {
   "cell_type": "code",
   "execution_count": null,
   "metadata": {},
   "outputs": [],
   "source": [
    "def plot_3d(X, Y, z, X_label, Y_label, z_label, maxlen=1000):\n",
    "    fancy = False\n",
    "\n",
    "    if X.shape[0] > maxlen:\n",
    "        indicies = np.sort( np.random.randint(0, X.shape[0], size=maxlen))\n",
    "        fancy = True\n",
    "    \n",
    "    fig = plt.figure(figsize=(13,9))\n",
    "    ax = fig.gca(projection='3d')\n",
    "\n",
    "    if fancy:\n",
    "        surf = ax.plot_surface(X[indicies], \n",
    "                               Y[indicies], \n",
    "                               z[indicies], \n",
    "                               cmap=cm.coolwarm,\n",
    "                               linewidth=0, \n",
    "                               antialiased=False)\n",
    "    else:\n",
    "        surf = ax.plot_surface(X, Y, z, cmap=cm.coolwarm,\n",
    "                       linewidth=0, antialiased=False)\n",
    "\n",
    "    fig.colorbar(surf, shrink=0.5, aspect=5)\n",
    "    ax.set_xlabel(X_label, fontsize=14)\n",
    "    ax.set_ylabel(Y_label, fontsize=14)\n",
    "    ax.set_zlabel(z_label, fontsize=14)\n",
    "\n",
    "idx1 = 1\n",
    "idx2 = 3\n",
    "plot_3d(X[columns[idx1]], X[columns[idx2]], y, columns[idx1], columns[idx2],  y_column)"
   ]
  },
  {
   "cell_type": "markdown",
   "metadata": {},
   "source": [
    "### Create \"normalized\" (scaled) versions of input vectors"
   ]
  },
  {
   "cell_type": "code",
   "execution_count": null,
   "metadata": {},
   "outputs": [],
   "source": [
    "X_scaler = StandardScaler() #MinMaxScaler()\n",
    "X_scaled = X_scaler.fit_transform(X)\n",
    "y_scaler = StandardScaler() #MinMaxScaler()\n",
    "y_scaled = y_scaler.fit_transform(y).ravel()"
   ]
  },
  {
   "cell_type": "markdown",
   "metadata": {},
   "source": [
    "### Linear Regression"
   ]
  },
  {
   "cell_type": "markdown",
   "metadata": {},
   "source": [
    "<img src=\"images/multivariate-linear-regression.webp\" width=500 height=500>\n",
    "<a href=\"https://xplordat.com/2018/05/31/multivariate-regression-with-neural-networks-unique-exact-and-generic-models/\">https://xplordat.com/2018/05/31/multivariate-regression-with-neural-networks-unique-exact-and-generic-models/</a>"
   ]
  },
  {
   "cell_type": "code",
   "execution_count": null,
   "metadata": {},
   "outputs": [],
   "source": [
    "linreg = linear_model.LinearRegression().fit(X_scaled, y_scaled)"
   ]
  },
  {
   "cell_type": "code",
   "execution_count": null,
   "metadata": {},
   "outputs": [],
   "source": [
    "linreg.score(X_scaled, y_scaled) # Return the coefficient of determination R^2 of the prediction."
   ]
  },
  {
   "cell_type": "code",
   "execution_count": null,
   "metadata": {},
   "outputs": [],
   "source": [
    "linreg.coef_"
   ]
  },
  {
   "cell_type": "code",
   "execution_count": null,
   "metadata": {},
   "outputs": [],
   "source": [
    "y_pred = linreg.predict(X_scaled)"
   ]
  },
  {
   "cell_type": "code",
   "execution_count": null,
   "metadata": {},
   "outputs": [],
   "source": [
    "plot_functions( X, y_scaler.inverse_transform(y_pred))"
   ]
  },
  {
   "cell_type": "code",
   "execution_count": null,
   "metadata": {},
   "outputs": [],
   "source": [
    "def plot_comparision(X1, X2, y1, y2, x_label, y_label, scale=False):\n",
    "    \"\"\"\n",
    "    X1.shape == y1.shape\n",
    "    X2.shape == y2.shape\n",
    "    \"\"\"\n",
    "    fig, axs = plt.subplots(nrows=1, ncols=2, figsize = (15,5))\n",
    "\n",
    "    \n",
    "    if scale:\n",
    "        y_min = min( min(y1), min(y2))\n",
    "        y_max = max( max(y1), max(y2))\n",
    "\n",
    "    col = 0\n",
    "    axs[col].plot(X1,y1)\n",
    "    axs[col].set_xlabel(x_label)\n",
    "    axs[col].set_ylabel(y_label)\n",
    "    axs[col].grid(True)\n",
    "    if scale:\n",
    "        axs[col].set_ylim(y_min, y_max)\n",
    "\n",
    "    col = 1   \n",
    "    axs[col].plot(X2,y2)\n",
    "    axs[col].set_xlabel(x_label)\n",
    "    axs[col].set_ylabel(y_label)\n",
    "    axs[col].grid(True)\n",
    "    if scale:\n",
    "        axs[col].set_ylim(y_min, y_max)"
   ]
  },
  {
   "cell_type": "code",
   "execution_count": null,
   "metadata": {},
   "outputs": [],
   "source": [
    "idx = 3\n",
    "plot_comparision(X[columns[idx]], \n",
    "                 X[columns[idx]], \n",
    "                 y, \n",
    "                 y_scaler.inverse_transform(y_pred), \n",
    "                 columns[idx], \n",
    "                 y_column,\n",
    "                 scale=True)"
   ]
  },
  {
   "cell_type": "code",
   "execution_count": null,
   "metadata": {},
   "outputs": [],
   "source": [
    "# Сделайте то же самое, но с Lasso regression / Ridge regressin\n",
    "\n",
    "# Ваш код\n",
    "\n"
   ]
  },
  {
   "cell_type": "code",
   "execution_count": null,
   "metadata": {},
   "outputs": [],
   "source": [
    "# Сравните качество аппроксимации всех трех видов регрессии\n",
    "\n",
    "# Ваш код\n",
    "\n"
   ]
  },
  {
   "cell_type": "markdown",
   "metadata": {},
   "source": [
    "### Обоснуйте:\n",
    "* выбор метода сравнения\n",
    "* какой метод из 3х лучший и, на Ваш взгляд, чем это объясняется\n",
    "\n",
    "\n",
    "(текст)\n"
   ]
  },
  {
   "cell_type": "markdown",
   "metadata": {},
   "source": [
    "## Kernels ..."
   ]
  },
  {
   "cell_type": "markdown",
   "metadata": {},
   "source": [
    "\n",
    "<img src=\"images/main-qimg-25567815755196bd6837ee1f7eafe435.png\" width=900>\n",
    "<a href=\"https://www.quora.com/How-do-I-intuitively-understand-Kernel-in-kernel-ridge-regression-Gaussian-kernel-regression-and-SVM-kernels-Are-they-all-the-same\">https://www.quora.com/How-do-I-intuitively-understand-Kernel-in-kernel-ridge-regression-Gaussian-kernel-regression-and-SVM-kernels-Are-they-all-the-same</a>"
   ]
  },
  {
   "cell_type": "markdown",
   "metadata": {},
   "source": [
    "<img src=\"images/Illustration-of-kernel-regression-using-a-Gaussian-kernel-of-bandwidth-01-blue-03.png\" width=800>\n",
    "<a href=\"https://www.researchgate.net/figure/Illustration-of-kernel-regression-using-a-Gaussian-kernel-of-bandwidth-01-blue-03_fig3_228884404\">https://www.researchgate.net/figure/Illustration-of-kernel-regression-using-a-Gaussian-kernel-of-bandwidth-01-blue-03_fig3_228884404</a>"
   ]
  },
  {
   "cell_type": "markdown",
   "metadata": {},
   "source": [
    "### Support Vector Regression (SVR) using linear and non-linear kernels"
   ]
  },
  {
   "cell_type": "code",
   "execution_count": null,
   "metadata": {},
   "outputs": [],
   "source": [
    "from sklearn.svm import SVR"
   ]
  },
  {
   "cell_type": "code",
   "execution_count": null,
   "metadata": {},
   "outputs": [],
   "source": [
    "# Fit regression model\n",
    "# C - lambda (Regularization parameter)\n",
    "\n",
    "svr_rbf = SVR(kernel='rbf', C=100, gamma=0.1, epsilon=.1)\n",
    "svr_lin = SVR(kernel='linear', C=100, gamma='auto')\n",
    "svr_poly = SVR(kernel='poly', C=100, gamma='auto', degree=3, epsilon=.1, coef0=1)"
   ]
  },
  {
   "cell_type": "code",
   "execution_count": null,
   "metadata": {},
   "outputs": [],
   "source": [
    "maxlen = 1000\n",
    "indicies = np.sort( np.random.randint(0, X.shape[0], size=maxlen))"
   ]
  },
  {
   "cell_type": "code",
   "execution_count": null,
   "metadata": {},
   "outputs": [],
   "source": [
    "%%time\n",
    "svr_lin.fit(X.values[indicies], y[indicies].ravel())"
   ]
  },
  {
   "cell_type": "code",
   "execution_count": null,
   "metadata": {},
   "outputs": [],
   "source": [
    "y_svr_lin = svr_lin.predict(X)"
   ]
  },
  {
   "cell_type": "code",
   "execution_count": null,
   "metadata": {},
   "outputs": [],
   "source": [
    "idx = 3\n",
    "plot_comparision(X[columns[idx]], \n",
    "                 X[columns[idx]], \n",
    "                 y, \n",
    "                 y_svr_lin, \n",
    "                 columns[idx], \n",
    "                 y_column,\n",
    "                 scale=True)"
   ]
  },
  {
   "cell_type": "code",
   "execution_count": null,
   "metadata": {},
   "outputs": [],
   "source": [
    "%%time\n",
    "maxlen = 10000\n",
    "indicies = np.sort( np.random.randint(0, X.shape[0], size=maxlen))\n",
    "svr_rbf.fit(X.values[indicies], y[indicies].ravel())"
   ]
  },
  {
   "cell_type": "code",
   "execution_count": null,
   "metadata": {},
   "outputs": [],
   "source": [
    "y_svr_rbf = svr_rbf.predict(X)"
   ]
  },
  {
   "cell_type": "code",
   "execution_count": null,
   "metadata": {},
   "outputs": [],
   "source": [
    "idx = 3\n",
    "plot_comparision(X[columns[idx]], \n",
    "                 X[columns[idx]], \n",
    "                 y, \n",
    "                 y_svr_rbf, \n",
    "                 columns[idx], \n",
    "                 y_column,\n",
    "                 scale=True)"
   ]
  },
  {
   "cell_type": "markdown",
   "metadata": {},
   "source": [
    "### Kernel Ridge regression\n"
   ]
  },
  {
   "cell_type": "code",
   "execution_count": null,
   "metadata": {},
   "outputs": [],
   "source": [
    "from sklearn.kernel_ridge import KernelRidge"
   ]
  },
  {
   "cell_type": "code",
   "execution_count": null,
   "metadata": {},
   "outputs": [],
   "source": [
    "maxlen = 20000\n",
    "indicies = np.sort( np.random.randint(0, X.shape[0], size=maxlen))"
   ]
  },
  {
   "cell_type": "code",
   "execution_count": null,
   "metadata": {},
   "outputs": [],
   "source": [
    "%%time\n",
    "krreg = KernelRidge(alpha=1.0)\n",
    "krreg.fit(X_scaled[indicies], y_scaled[indicies])"
   ]
  },
  {
   "cell_type": "code",
   "execution_count": null,
   "metadata": {},
   "outputs": [],
   "source": [
    "%%time\n",
    "y_kridge = krreg.predict(X_scaled)"
   ]
  },
  {
   "cell_type": "code",
   "execution_count": null,
   "metadata": {},
   "outputs": [],
   "source": [
    "idx = 3\n",
    "plot_comparision(X[columns[idx]],\n",
    "                 X[columns[idx]], \n",
    "                 y,\n",
    "                 y_scaler.inverse_transform(y_kridge),\n",
    "                 columns[idx],\n",
    "                 y_column,\n",
    "                 scale=True)"
   ]
  },
  {
   "cell_type": "markdown",
   "metadata": {},
   "source": [
    "## MLP (Multilayer Perceptron) based function approximation"
   ]
  },
  {
   "cell_type": "markdown",
   "metadata": {},
   "source": [
    "<img src=\"images/a-The-building-block-of-deep-neural-networks-artificial-neuron-or-node-Each-input-x.png\" width=600 height=600>\n",
    "\n",
    "<a href=\"https://www.researchgate.net/figure/a-The-building-block-of-deep-neural-networks-artificial-neuron-or-node-Each-input-x_fig1_312205163\">https://www.researchgate.net/figure/a-The-building-block-of-deep-neural-networks-artificial-neuron-or-node-Each-input-x_fig1_312205163</a>"
   ]
  },
  {
   "cell_type": "markdown",
   "metadata": {},
   "source": [
    "### MLPRegressor (scikit-learn)"
   ]
  },
  {
   "cell_type": "code",
   "execution_count": null,
   "metadata": {
    "scrolled": true
   },
   "outputs": [],
   "source": [
    "%%time\n",
    "\n",
    "# количество входных переменных\n",
    "inp_size = X.shape[1]\n",
    "out_size = y.shape[1]\n",
    "\n",
    "base = (inp_size + out_size) * math.log2(X.shape[0])\n",
    "L1_size = int( base * 3 ) \n",
    "L2_size = int( base * 2 )\n",
    "L3_size = int( base * 1 )\n",
    "print(f\"neurons: L1=<{L1_size}>, L2=<{L2_size}>, L3=<{L3_size}>\")\n",
    "\n",
    "mlp = MLPRegressor(solver='adam',\n",
    "                   alpha=1e-4,\n",
    "                   activation='relu',\n",
    "                   learning_rate_init = 0.01,\n",
    "                   max_iter=1000,\n",
    "                   hidden_layer_sizes=(L1_size, L2_size, L3_size, out_size),\n",
    "                   shuffle=True,\n",
    "                   random_state=12)\n",
    "\n",
    "#skf = StratifiedKFold( n_splits=5, shuffle=True, random_state=25)\n",
    "\n",
    "#scores_mse = cross_val_score(mlp, X_scaled, y_scaled, scoring='neg_mean_squared_error', cv=3)\n",
    "\n",
    "print(X_scaled.shape,y_scaled.shape,y_scaled.reshape(-1, 1).shape)\n",
    "\n",
    "mlp =  mlp.fit(X_scaled, y_scaled)"
   ]
  },
  {
   "cell_type": "code",
   "execution_count": null,
   "metadata": {},
   "outputs": [],
   "source": [
    "#test_size = 1000\n",
    "#test_X = np.zeros([test_size, len(columns)])\n",
    "\n",
    "#for i in range(len(columns)):\n",
    "#    test_X[:,i] = np.sort(np.random.uniform(low=X_min[columns[i]],\n",
    "#                                            high=X_max[columns[i]],\n",
    "#                                            size=(test_size,)))   \n",
    "\n",
    "test_y = y_scaler.inverse_transform( mlp.predict(X_scaler.transform(X)))\n"
   ]
  },
  {
   "cell_type": "code",
   "execution_count": null,
   "metadata": {},
   "outputs": [],
   "source": [
    "idx = 3\n",
    "plot_comparision(X[columns[idx]],\n",
    "                 X[columns[idx]], \n",
    "                 y,\n",
    "                 test_y,\n",
    "                 columns[idx],\n",
    "                 y_column,\n",
    "                 scale=True)"
   ]
  },
  {
   "cell_type": "markdown",
   "metadata": {},
   "source": [
    "### Keras model"
   ]
  },
  {
   "cell_type": "code",
   "execution_count": null,
   "metadata": {
    "scrolled": true
   },
   "outputs": [],
   "source": [
    "# Keras model\n",
    "\n",
    "from keras.initializers import RandomNormal\n",
    "from keras.optimizers import Adam\n",
    "from keras.layers.normalization import BatchNormalization\n",
    "\n",
    "base = (inp_size + out_size) * math.log(X.shape[0], 2)\n",
    "L1_size = int( base * 3 )\n",
    "L2_size = int( base * 2 )\n",
    "L3_size = int( base * 1 )\n",
    "\n",
    "# Initialisation of the NN\n",
    "model = Sequential()\n",
    "\n",
    "# Input layer and the first hidden layer\n",
    "model.add(Dense(L1_size, activation = 'relu', input_dim = X.shape[1])) #, kernel_initializer=RandomNormal(stddev=0.001)))\n",
    "\n",
    "# Second hidden layer\n",
    "model.add(Dense(units = L2_size, activation = 'relu')) #, kernel_initializer=RandomNormal(stddev=0.001)))\n",
    "\n",
    "# Third hidden layer\n",
    "model.add(Dense(units = L3_size, activation = 'relu')) #, kernel_initializer=RandomNormal(stddev=0.001)))\n",
    "\n",
    "# Output layer\n",
    "model.add(Dense(units = 1))"
   ]
  },
  {
   "cell_type": "code",
   "execution_count": null,
   "metadata": {},
   "outputs": [],
   "source": [
    "model.summary()"
   ]
  },
  {
   "cell_type": "code",
   "execution_count": null,
   "metadata": {},
   "outputs": [],
   "source": [
    "%%time\n",
    "\n",
    "adam = Adam(lr=0.001)\n",
    "model.compile(optimizer=adam, loss='mean_squared_error', metrics=['mse'])\n",
    "history = model.fit(X, y, epochs=10)"
   ]
  },
  {
   "cell_type": "code",
   "execution_count": null,
   "metadata": {},
   "outputs": [],
   "source": [
    "y_keras = model.predict(X)"
   ]
  },
  {
   "cell_type": "code",
   "execution_count": null,
   "metadata": {},
   "outputs": [],
   "source": [
    "idx = 3\n",
    "plot_comparision(X[columns[idx]],\n",
    "                 X[columns[idx]], \n",
    "                 y,\n",
    "                 y_keras,\n",
    "                 columns[idx],\n",
    "                 y_column,\n",
    "                 scale=True)"
   ]
  },
  {
   "cell_type": "code",
   "execution_count": null,
   "metadata": {},
   "outputs": [],
   "source": [
    "# Запустите эту (возможно, с другим числом слоев и нейронов) сетку с оптимизатором RMSprop\n",
    "\n",
    "# Ваш код\n",
    "\n"
   ]
  },
  {
   "cell_type": "code",
   "execution_count": null,
   "metadata": {},
   "outputs": [],
   "source": [
    "# Подберите параметры сети так, чтобы результат стал более приемлемым ...\n",
    "\n",
    "# Ваш код\n",
    "\n"
   ]
  },
  {
   "cell_type": "markdown",
   "metadata": {},
   "source": [
    "### Почему результаты отличаются, хотя сети +/- одинаковые\n",
    "\n",
    "### Поясните\n",
    "\n",
    "(Ваш текст)"
   ]
  },
  {
   "cell_type": "code",
   "execution_count": null,
   "metadata": {},
   "outputs": [],
   "source": []
  }
 ],
 "metadata": {
  "kernelspec": {
   "display_name": "Python 3",
   "language": "python",
   "name": "python3"
  },
  "language_info": {
   "codemirror_mode": {
    "name": "ipython",
    "version": 3
   },
   "file_extension": ".py",
   "mimetype": "text/x-python",
   "name": "python",
   "nbconvert_exporter": "python",
   "pygments_lexer": "ipython3",
   "version": "3.7.3"
  }
 },
 "nbformat": 4,
 "nbformat_minor": 2
}
