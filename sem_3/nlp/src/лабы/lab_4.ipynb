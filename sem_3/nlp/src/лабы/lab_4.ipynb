{
 "cells": [
  {
   "cell_type": "markdown",
   "metadata": {},
   "source": [
    "# Лабораторная работа 4 \n",
    "\n",
    "# Мультиязычный тематический поиск\n",
    "\n",
    "\n",
    "### Бобряков А.С."
   ]
  },
  {
   "cell_type": "markdown",
   "metadata": {},
   "source": [
    "## Введение\n",
    "\n",
    "### Постановка задачи:\n",
    "\n",
    "В этом задании вам предстоит сделать свою небольшую мультиязычную поисковую систему. Проще всего строить мультиязычные системы, имея \"параллельные\" данные: словари или корпуса параллельных текстов. \n",
    "\n",
    "В задании необходимо, имея англо-русскую и агло-испанскую коллекции, обучить модель поиска модель поиска испанских текстов по русским.\n",
    "\n",
    "Решение этого задания будет основано на тематическом моделировании, а именно подходе аддитивной регуляризации.\n",
    "\n",
    "### Библиотеки\n",
    "\n",
    "Для этого задания вам понадобятся следующие библиотеки:\n",
    " - [bigartm](http://bigartm.org/)\n",
    " - [pymorphy2](https://pymorphy2.readthedocs.io/en/latest/)\n",
    " - [nltk](http://www.nltk.org/)\n",
    "\n",
    "\n",
    "### Данные\n",
    "\n",
    "Данные — записи выступлений конференции TED Talks на трёх языках. \n",
    "\n",
    "Все данные содержатся в архиве `ted_collection`. В папке содержится три подпапки `/en`, `/ru` и `/es`, каждая из которых соответствует коллекции для отдельного языка. Папка `parallel_info`  содержит информацию о связях документов между коллекциями. Файл `titles_file.json` содержит информацию о заголовках документов английской коллекции.\n",
    "\n",
    "Ссылка для скачивания данных: [ссылка на гугл диск](https://drive.google.com/file/d/1B3kDfISvWnVpEet_CDa6oLNp028mEak-/view)"
   ]
  },
  {
   "cell_type": "markdown",
   "metadata": {},
   "source": [
    "#### Импорт важных библиотек"
   ]
  },
  {
   "cell_type": "code",
   "execution_count": 6,
   "metadata": {},
   "outputs": [],
   "source": [
    "# считывание\n",
    "import os\n",
    "import glob\n",
    "import json\n",
    "\n",
    "# предобработка\n",
    "import pymorphy2\n",
    "import nltk\n",
    "import re\n",
    "\n",
    "# тематическое моделирование\n",
    "import artm\n",
    "\n",
    "# change log style for artm\n",
    "lc = artm.messages.ConfigureLoggingArgs()\n",
    "lc.minloglevel = 3\n",
    "lib = artm.wrapper.LibArtm(logging_config=lc)\n",
    "\n",
    "# визуализация\n",
    "import matplotlib.pyplot as plt\n",
    "%matplotlib inline\n",
    "\n",
    "# прочее \n",
    "import numpy as np"
   ]
  },
  {
   "cell_type": "markdown",
   "metadata": {},
   "source": [
    "#### Несколько важных промежуточных функций"
   ]
  },
  {
   "cell_type": "code",
   "execution_count": 7,
   "metadata": {},
   "outputs": [],
   "source": [
    "# загрузка коллекции\n",
    "from lab4_utils import load_collection\n",
    "\n",
    "# загрузка информации о параллельных документах\n",
    "from lab4_utils import load_parallel_documents_info\n",
    "\n",
    "# запись vowpal wabit файла специального формата\n",
    "from lab4_utils import write_vw_lab4\n",
    "\n",
    "# подсчёт позиции в выдаче переводов текстов\n",
    "from lab4_utils import get_indexes_of_relevant_documents"
   ]
  },
  {
   "cell_type": "markdown",
   "metadata": {},
   "source": [
    "## Предобработка данных (3 балла)\n",
    "\n",
    "Перед тем как начать моделировать, необходимо предобработать данные. \n",
    "\n",
    "Заметим, что для английского языка некоторые этапы обработки не оказывают сильного влияния на модель (например, лемматизация). В русском языке одному слову может соответствовать огромное количество различных форм, поэтому без лемматизации невозможно получить модель с хорошим качеством."
   ]
  },
  {
   "cell_type": "markdown",
   "metadata": {},
   "source": [
    "#### Предобработка русских текстов\n"
   ]
  },
  {
   "cell_type": "markdown",
   "metadata": {},
   "source": [
    "Считываем коллекцию:"
   ]
  },
  {
   "cell_type": "code",
   "execution_count": 23,
   "metadata": {},
   "outputs": [
    {
     "name": "stdout",
     "output_type": "stream",
     "text": [
      "Total number of documents: 2731\n",
      "\n",
      "Some document examples: \n",
      "\tСегодня я бы хотел поговорить о перспективной области науки, области спорной, но чрезвычайно интерес...\n",
      "\tТак начинается война: вы живёте обычной жизнью, собираетесь пойти в гости, отводите детей в школу, з...\n",
      "\tЯ опубликовала эту статью в колонке «Современная любовь» газеты «Нью-Йорк Таймс» в январе этого года...\n",
      "\tВплоть до недавнего времени общение человека с машиной ограничивалось сознательными и непосредственн...\n",
      "\tЯ пережила особое удовольствие жизни внутри двух биосфер. Конечно, все мы тут в этом зале живём в Би...\n",
      "\n",
      "Some file names examples: \n",
      "\tru_2291\n",
      "\tru_1320\n",
      "\tru_944\n",
      "\tru_2648\n",
      "\tru_1393\n"
     ]
    }
   ],
   "source": [
    "RU_DATA_PATH = 'ted_collection/ru'\n",
    "ru_collection = load_collection(RU_DATA_PATH, verbose=True)"
   ]
  },
  {
   "cell_type": "markdown",
   "metadata": {},
   "source": [
    "Выведите полностью несколько документов. Подумайте, какую информацию из них можно удалить на этапе предобработки, не ухудшив качество решения задачи."
   ]
  },
  {
   "cell_type": "code",
   "execution_count": 44,
   "metadata": {},
   "outputs": [
    {
     "name": "stdout",
     "output_type": "stream",
     "text": [
      "Удалено 2731 окончаний в 2731 документах.\n"
     ]
    }
   ],
   "source": [
    "# Из конца всех документов можно удалить \n",
    "#'TED.com translations are made possible by volunteer translators.\n",
    "# Learn more about the Open Translation Project.\\n© TED Conferences, LLC. All rights reserved.'\n",
    "\n",
    "num_del = 0\n",
    "s = '\\nTED.com translations are made possible by volunteer translators. Learn more about the Open Translation Project.\\n© TED Conferences, LLC. All rights reserved.'\n",
    "for key, doc in ru_collection.items():\n",
    "    if doc[-len(s):] == s:\n",
    "        ru_collection[key] = doc[:-len(s)]\n",
    "        num_del += 1\n",
    "print(f'Удалено {num_del} окончаний в {len(ru_collection)} документах.')"
   ]
  },
  {
   "cell_type": "markdown",
   "metadata": {},
   "source": [
    "Помимо удаления специфичной информации, вам необходимо провести для русского языка следующие шаги предобработки :\n",
    "\n",
    "1. Приведение документов к нижнему регистру.\n",
    "\n",
    "2. Удаление всех символов кроме букв.\n",
    "    1. Для некоторых способов выделения коллокаций (см. бонусную часть), может быть полезна информация о знаках препинания. Также она полезна при необходимости строить синтаксический разбор предложения.\n",
    "    2. Вам может помочь функция sub из библиотеки re.\n",
    "3. Токенизация документов.\n",
    "    1. Воспользуйтесь стандартным методом .split, функцией split из библиотеки re или одним из токенайзеров библиотеки nltk.\n",
    "4. Лемматизация документов.\n",
    "    1. Воспользуйтесь библиотекой pymorphy2\n",
    "    2. Шаги 3 и 4 можно выполнить вместе, воспользовавшись библиотекой mytem (или её обёрткой на python pymystem)\n",
    "5. Удаление стоп-слов\n",
    "    1. Базовый список стоп слов можно получить из модуля nltk.corpus\n",
    "\n",
    "После выполнения всех шагов сохраните результат в словарь аналогичный ru_collection (ключи - названия файлов, значения - предобработанный документ в формате str).\n",
    "\n"
   ]
  },
  {
   "cell_type": "code",
   "execution_count": 48,
   "metadata": {},
   "outputs": [
    {
     "name": "stderr",
     "output_type": "stream",
     "text": [
      "/home/nick/snap/jupyter/common/lib/python3.7/site-packages/pymorphy2/units/base.py:70: DeprecationWarning: inspect.getargspec() is deprecated since Python 3.0, use inspect.signature() or inspect.getfullargspec()\n",
      "  args, varargs, kw, default = inspect.getargspec(cls.__init__)\n"
     ]
    },
    {
     "data": {
      "application/vnd.jupyter.widget-view+json": {
       "model_id": "e3da801b608e475da651a65da0a676a8",
       "version_major": 2,
       "version_minor": 0
      },
      "text/plain": [
       "HBox(children=(FloatProgress(value=0.0, max=2731.0), HTML(value='')))"
      ]
     },
     "metadata": {},
     "output_type": "display_data"
    },
    {
     "name": "stdout",
     "output_type": "stream",
     "text": [
      "\n"
     ]
    }
   ],
   "source": [
    "from tqdm.notebook import tqdm\n",
    "from nltk.corpus import stopwords\n",
    "import string\n",
    "\n",
    "morph = pymorphy2.MorphAnalyzer()\n",
    "\n",
    "def ru_text_prepare(text):\n",
    "    \"\"\"\n",
    "        text: a string\n",
    "        \n",
    "        return: modified string\n",
    "    \"\"\"\n",
    "    for i in string.punctuation:\n",
    "        text = text.replace(i, ' ')\n",
    "    text = re.sub(r'[^\\w ]+', '', text.lower())\n",
    "    words = text.split()\n",
    "    sw = set(stopwords.words('russian'))\n",
    "    return ' '.join([morph.parse(i)[0].normal_form for i in words if i not in sw])\n",
    "\n",
    "for key, doc in tqdm(ru_collection.items()):\n",
    "    ru_collection[key] = ru_text_prepare(doc)"
   ]
  },
  {
   "cell_type": "markdown",
   "metadata": {},
   "source": [
    "Проанализируйте несколько предобработанных документов. Отметьте, какие неточности работы алгоритмов вы заметили, и как они могут повлиять на итоговую модель."
   ]
  },
  {
   "cell_type": "code",
   "execution_count": 49,
   "metadata": {},
   "outputs": [
    {
     "data": {
      "text/plain": [
       "'сегодня хотеть поговорить перспективный область наука область спорный чрезвычайно интересный безусловно стремительно развивающийся квантовый биология пытаться ответить вопрос мочь закон квантовый механика удивительный теория поведение субатомный частица атом молекула лежать основа многий направление современный физика химия действовать также внутри живой клетка говорить иначе происходить живой организм явление который объяснить помощь квантовый механика итак квантовый биология новый направление возникнуть начало 30 х лишь недавно ход эксперимент применение спектроскопия доказать некоторый явление объясняться помощь квантовый механика квантовый биология интересовать квантовый физик биохимик молекулярный биолог область объединять дисциплина заниматься квантовый физика физик ядерщик потребоваться 30 год освоить принцип квантовый механика основатель квантовый механика нильс бор сказать потрясти её ещё понять рад сей пора восхищать это здорово исследовать мелкий частица вселенная кирпичик реальный представить размер изучать давать взять пример теннисный мяч затем представимый предмет малый размер игольный ушко клетка бактерия фермент это мир размер нано вероятно слово нанотехнология нибыть говорить нанометр миллиардный часть метр область исследование ядро крохотный точка внутри атом оно ещё малый размер таков предмет изучение квантовый механика физика химик давно пытаться привыкнуть биолог ещё повезти нарадоваться палочка шарик пластиковый модель молекула смех шар представлять атом палочка связь атом мочь построить модель лаборатория сегодня распоряжение мощный компьютер создание модель молекула видеть модель белок состоять 100 000 атом объяснить свойство требоваться уравнение квантовый теория квантовый механика зародиться 1920 х это теория точный ёмкий математический уравнение который описывать явление микромир мир похожий наш обыденный реальность состоять триллион атом это мир балансировать возможность вероятность мир неопределённость это мир фантом частица мочь вести волна учесть квантовый механика квантовый физика объяснять основополагающий явление реальность вообще логично предположить квантовый физика объяснять явление органический химия объяснять атом образовать органический молекула органический химия свой очередь связать молекулярный биология живой организм смысл это неудивительный обыденно сказать жизнь должный объясняться закон квантовый механика живой материя также всё остальной например неорганический вещество состоять триллион атом итог квантовый уровень прийтись иметь дело странный теория обыденный жизнь мочь забыть стоить собрать воедино триллион атом весь загадка исчезать квантовый биология это квантовый биология простой квантовый механика описывать свойство живой организм молекулярный уровень квантовый биология рассматривать странный противоречащий логика идея квантовый механика пытаться понять действительно применимый описание процесс происходить внутри живой клетка идеальный пример парадокс квантовый мир квантовый лыжник казаться целый невредимый менее умудриться одновременно проехать оба сторона дерево след снег должный трюк подумать мир квантовый это обычный дело частица мочь место одновременно способный выполнять сразу несколько задача частица демонстрировать свойство хаотичный волна это волшебство столетие физика химик пытаться освоиться это загадочный мир биолог виноватый хотеть хотеть изучать квантовый механика её принцип крайне сложно наблюдать физика стараться весь сила воссоздать нужный условие охлаждать наш система абсолютный нуль проводить эксперимент вакуум пытаться изолировать любой внешний воздействие похоже тёплый хаотичный среда живой клетка казаться биология таковой молекулярный биология стройно описывать процесс происходить внутри живой клетка термин химия химический реакция это упрощённый химический реакция доказывать живой клетка создать материал всё остальной мочь учитывать квантовый теория макромир забыть биология человек согласиться идея эрвин шрёдингер известный свой кот шрёдингер австрийский физик 1920 х стать основатель квантовый механика 1944 м написать книга название жизнь работа стать настоящий прорыв повлиять фрэнсис крик джеймс уотсон открыть структура двойной спираль днк свой книга писать молекулярный уровень живой организм определённый порядок строй присущий отличаться термодинамический хаос атом молекула неживой материя сложность похоже живой материя обнаруживать порядок структура неживой охладить абсолютный нуль больший роль играть квантовый эффект необычный структура порядок внутри живой клетка шрёдингер предположить квантовый механика распространяться живой материя это спорный многообещающий гипотеза оправдать оказаться возложить надежда говорить начало последний десять год проводиться эксперимент подтверждать некоторый биологический процесс объясняться квантовый теория хотеться поделиться некоторый удивительный идея это самый известный явление квантовый мир туннельный эффект левый часть камера находиться волнообразный рассеянный распределение пучок квантовый частица например электрон отличаться мячик отскакивать стена это волна определённый вероятность проходить сквозь сплошной преграда словно фантом перескакивать сторона мочь наблюдать бледный пятно свет правый часть камера туннелирование это микрочастица отскакивать непроницаемый барьер это волшебство исчезать сторона появляться хороший весь объяснить эффект хотеть перебросить мяч стена должный дать мяч достаточно энергия мочь перелететь квантовый мир необязательно перекидывать мяч стена кинуть стена вероятность равный нуль исчезнуть сторона появиться кстати это вовсе гипотеза удовольствие слово удовольствие очень подходить смех изучить это явление смех тунннельный эффект происходить сплошь рядом солнечный свет частица соединяться солнце помощь туннельный эффект превращать водород гелий 70 х80 х понять квантовый туннелирование происходить также живой клетка фермент рабочий лошадка живой система катализатор химический реакция фермент биомолекула ускорять химический реакция живой клетка это делать оставаться загадка итак удаться обнаружить приём который использовать фермент перемещение субатомный частица электрон протон часть молекула посредством квантовый туннелирование это эффективно быстро мочь исчезнуть протон мочь исчезнуть место появиться друг фермент способствовать это вывод научный работа провести 80 х год исследовательский группа беркли руководство джудит клинман британский учёный сегодня также подтверждать выявить факт фермент исследование провести группа говорить физик ядерщик понять мочь использовать принцип квантовый механика область наука хотеть например понять иметь место туннельный эффект мутация днк идея новый впервые прозвучать ещё 60 х нить днк структура двойной спираль связать вместе ступенька словно винтовой лестница ступенька лестница водородный связь протон клей скреплять нить днк увеличить изображение оказаться связывать больший молекула нуклеотид вместе увеличить ещё немного это компьютерный модель белый шарик середина протон это двойной водородный связь предпочитать находиться сторона второй сторона вертикальный нить уходить вниз модель это видно бывать протон меняться место следить белый шарик мочь перескочить сторона нить днк затем разделяться приводить репликация протон находиться свой место мочь случиться мутация знать это полвека вопрос каков вероятность поменяться образ перескакивать мяч стена использовать туннельный эффект недостаточно энергия первый исследование предполагать иметь место туннельный эффект знать насколько важный роль играть пока вопрос оставаться ответ это лишь гипотеза это особенно важный момент квантовый механика причастный мутация разумеется это значительный образ повлиять наш понимание отдельный вид мутация возможно мутация который делать клетка раковый ещё пример квантовый механика биология квантовый когерентность сопутствовать важный процесс биология фотосинтез растение бактерия поглощать свет использовать энергия производить биомасса квантовый когерентность пучок квантовый выполнять сразу несколько задача например квантовый лыжник объект вести волна просто двигаться иной направление мочь одновременно передвигаться несколько траектория пара год назад научный сообщество поразить работа который предоставлять экспериментальный доказательство квантовый когерентность происходить внутри бактерия сопутствовать процесс фотосинтез фотон частица свет солнечный свет квант свет захватить хлорофилльный молекула затем переноситься называть реакционный центр преобразоваться химический энергия путь центр следовать маршрут сразу несколько максимально быстро достигнуть реакционный центр растратить это избыточный тепло квантовый когерентность мочь происходить внутри живой клетка удивительный идея доказательство гипотеза публиковаться еженедельно подтверждать наш догадка верный третий последний пример идея прекрасный изумительный пока уровень домысел хотеться поделиться зарянка каждый осень мигрировать скандинавия средиземноморье многие морской животное насекомое ориентироваться пространство магнитный поле земля однако магнитный поле земля очень очень слабый 100 слабый магнит холодильник оно некий образ влиять химический процесс живой организм это факт 1970 х немецкий орнитолог супруг вольфганг росвита вилчко подтвердить зарянка действительно ориентироваться пространство магнитный поле земля встроить компас загадка это делать единственный иметься теория знать верный это связать явление квантовый запутанность сетчатка зарянка шутить сетчатка зарянка криптохром светочувствительный белок внутри криптохром пара электрон квантовый запутать квантовый запутанность частица находиться далеко друг друг менее взаимозависимый эйнштейн это явление нравиться называть жуткий дальнодействие смех эйнштейн оно нравиться мочь нравиться квантовый запутать электрон внутри молекула танцевать изящный танец зависимость сторона лететь птица относительно магнитный поле земля знать верно это предположение здорово оказаться птица действительно находить дорога помощь квантовый механика квантовый биология пока начинать развиваться пока всё уровень гипотеза уверенный построить бесспорный научный факт также полагать близкий десятилетие понять квантовый явление повсеместно встречаться живой материя живой организм происходить квантовый явление следить спасибо аплодисменты'"
      ]
     },
     "execution_count": 49,
     "metadata": {},
     "output_type": "execute_result"
    }
   ],
   "source": [
    "ru_collection['ru_2291']"
   ]
  },
  {
   "cell_type": "markdown",
   "metadata": {},
   "source": [
    "#### Предобработка английских текстов\n",
    "\n",
    "Считываем коллекцию:"
   ]
  },
  {
   "cell_type": "code",
   "execution_count": 58,
   "metadata": {},
   "outputs": [
    {
     "name": "stdout",
     "output_type": "stream",
     "text": [
      "Total number of documents: 2856\n",
      "\n",
      "Some document examples: \n",
      "\tI am holding something remarkably old. It is older than any human artifact, older than life on Earth...\n",
      "\tI have spent the past 38 years trying to be invisible. I'm a copy editor. I work at The New Yorker, ...\n",
      "\tOnce upon a time, the world was a big, dysfunctional family. It was run by the great and powerful pa...\n",
      "\tWhat I want to talk about today is one idea. It's an idea for a new kind of school, which turns on i...\n",
      "\tThe big residual is always value for money. All the time we are trying to get value for money. What ...\n",
      "\n",
      "Some file names examples: \n",
      "\ten_1874\n",
      "\ten_59\n",
      "\ten_732\n",
      "\ten_2054\n",
      "\ten_2591\n"
     ]
    }
   ],
   "source": [
    "EN_DATA_PATH = 'ted_collection/en'\n",
    "en_collection = load_collection(EN_DATA_PATH, verbose=True)"
   ]
  },
  {
   "cell_type": "markdown",
   "metadata": {},
   "source": [
    "Проведите все этапы предобработки для английского языка (шаг 4 опционален, можно использовать WordNetLemmatizer из nltk):"
   ]
  },
  {
   "cell_type": "code",
   "execution_count": 59,
   "metadata": {},
   "outputs": [
    {
     "name": "stdout",
     "output_type": "stream",
     "text": [
      "Удалено 2856 окончаний в 2856 документах.\n"
     ]
    }
   ],
   "source": [
    "num_del = 0\n",
    "s = '\\nTED.com translations are made possible by volunteer translators. Learn more about the Open Translation Project.\\n© TED Conferences, LLC. All rights reserved.'\n",
    "for key, doc in en_collection.items():\n",
    "    if doc[-len(s):] == s:\n",
    "        en_collection[key] = doc[:-len(s)]\n",
    "        num_del += 1\n",
    "print(f'Удалено {num_del} окончаний в {len(en_collection)} документах.')"
   ]
  },
  {
   "cell_type": "code",
   "execution_count": 60,
   "metadata": {},
   "outputs": [
    {
     "data": {
      "application/vnd.jupyter.widget-view+json": {
       "model_id": "8abaac879d7449ca99e24ae9d7b184d6",
       "version_major": 2,
       "version_minor": 0
      },
      "text/plain": [
       "HBox(children=(FloatProgress(value=0.0, max=2856.0), HTML(value='')))"
      ]
     },
     "metadata": {},
     "output_type": "display_data"
    },
    {
     "name": "stdout",
     "output_type": "stream",
     "text": [
      "\n"
     ]
    }
   ],
   "source": [
    "from nltk import WordNetLemmatizer\n",
    "\n",
    "wnl = WordNetLemmatizer()\n",
    "\n",
    "def en_text_prepare(text):\n",
    "    \"\"\"\n",
    "        text: a string\n",
    "        \n",
    "        return: modified string\n",
    "    \"\"\"\n",
    "    for i in string.punctuation:\n",
    "        text = text.replace(i, ' ')\n",
    "    text = re.sub(r'[^\\w ]+', '', text.lower())\n",
    "    words = text.split()\n",
    "    sw = set(stopwords.words('english'))\n",
    "    return ' '.join([wnl.lemmatize(i) for i in words if i not in sw])\n",
    "\n",
    "for key, doc in tqdm(en_collection.items()):\n",
    "    en_collection[key] = en_text_prepare(doc)"
   ]
  },
  {
   "cell_type": "code",
   "execution_count": 61,
   "metadata": {},
   "outputs": [
    {
     "data": {
      "text/plain": [
       "'know continually amazed think two half billion u around world connected internet point time 30 percent world population go online learn create share amount time u spending also continuing go grow recent study showed young generation alone spending eight hour day online parent nine year old girl number seems awfully low laughter internet opened world every one u also opened every one u world increasingly price asked pay connectedness privacy today many u would love believe internet private place every click mouse every touch screen like hansel gretel leaving breadcrumb personal information everywhere travel digital wood leaving birthday place residence interest preference relationship financial history go get wrong one minute suggesting sharing data bad thing fact know data shared asked explicitly consent want site understand habit help suggest book read movie family watch friend u connect know asked problem arises phenomenon internet today called behavioral tracking big business fact entire industry formed around following u digital wood compiling profile u data held almost whatever want area today regulation even fewer rule except recent announcement united state europe area consumer protection almost entirely naked let expose lurking industry little bit visualization see forming behind called collusion experimental browser add install firefox browser help see web data going tracking red dot see site behavioral tracking navigated following blue dot site actually navigated directly gray dot site also tracking idea connected see form picture web profile let go example something specific personal installed collusion laptop two week ago let follow around pretty typical day like actually start day going online checking email go news site look headline particular case happened like one merit music literacy school shared social network daughter joined u breakfast table asked emphasis music literacy school course naturally nine year old looked said quizzically literacy sent online course look let stop even two bite breakfast already nearly 25 site tracking navigated total four let fast forward rest day go work check email log onto social site blog check news report share news report go look video pretty typical day case actually fairly pedantic end day day wind look profile red dot exploded gray dot grown exponentially 150 site tracking personal information without consent look picture freak nothing stalked across web happening pretty simple huge business revenue top handful company space 39 billion dollar today adult certainly alone time installed collusion profile installed one daughter one single saturday morning two hour internet collusion profile nine year old girl navigating principally child site move freaked enraged longer tech pioneer privacy advocate parent imagine physical world somebody followed child around camera notebook recorded every movement tell person room would sit idly take action may good action would take action laughter sit idly either happening today privacy option price accept getting internet voice matter action matter even today launched collusion download install firefox see tracking across web following digital wood going forward voice need heard know actually hurt u memory internet forever watched time u watch watcher thank applause'"
      ]
     },
     "execution_count": 61,
     "metadata": {},
     "output_type": "execute_result"
    }
   ],
   "source": [
    "en_collection['en_0']"
   ]
  },
  {
   "cell_type": "markdown",
   "metadata": {},
   "source": [
    "#### Предобработка испанских текстов \n",
    "\n",
    "Считываем коллекцию:"
   ]
  },
  {
   "cell_type": "code",
   "execution_count": 62,
   "metadata": {},
   "outputs": [
    {
     "name": "stdout",
     "output_type": "stream",
     "text": [
      "Total number of documents: 2809\n",
      "\n",
      "Some document examples: \n",
      "\tHe estado trabajando en el tema de la pobreza por más de 20 años, y es irónico que el problema y la ...\n",
      "\tSin duda vivimos en un momento de crisis Es posible que los mercados financieros nos hayan fallado y...\n",
      "\tEntonces ¿qué tiene que ver esta imagen con esto? Y tengo que decir, creo que Emeka está intentando ...\n",
      "\tQuiero hablarles hoy de un tema difícil, que me es cercano y quizás más cercano a sus vidas de lo qu...\n",
      "\tHe pasado mi vida entera ya sea en la escuela, en el camino a la escuela o, hablando de lo que pasa ...\n",
      "\n",
      "Some file names examples: \n",
      "\tes_1940\n",
      "\tes_1279\n",
      "\tes_1519\n",
      "\tes_2515\n",
      "\tes_1181\n"
     ]
    }
   ],
   "source": [
    "ES_DATA_PATH = 'ted_collection/es'\n",
    "es_collection = load_collection(ES_DATA_PATH, verbose=True)"
   ]
  },
  {
   "cell_type": "markdown",
   "metadata": {},
   "source": [
    "Проведите все этапы предобработки для испанского языка (шаг 4 опционален, можно использовать SpanishStemmer из nltk). \n",
    "\n",
    "**Замечание.** Регулярное выражение \\w из библиотеки re позволяет выделять буквы (в том числе буквы испанского алфавита)."
   ]
  },
  {
   "cell_type": "code",
   "execution_count": 63,
   "metadata": {},
   "outputs": [
    {
     "name": "stdout",
     "output_type": "stream",
     "text": [
      "Удалено 2809 окончаний в 2809 документах.\n"
     ]
    }
   ],
   "source": [
    "num_del = 0\n",
    "s = '\\nTED.com translations are made possible by volunteer translators. Learn more about the Open Translation Project.\\n© TED Conferences, LLC. All rights reserved.'\n",
    "for key, doc in es_collection.items():\n",
    "    if doc[-len(s):] == s:\n",
    "        es_collection[key] = doc[:-len(s)]\n",
    "        num_del += 1\n",
    "print(f'Удалено {num_del} окончаний в {len(es_collection)} документах.')"
   ]
  },
  {
   "cell_type": "code",
   "execution_count": 70,
   "metadata": {},
   "outputs": [
    {
     "data": {
      "application/vnd.jupyter.widget-view+json": {
       "model_id": "8520d5971b9446ff8fe1410d0076bc2d",
       "version_major": 2,
       "version_minor": 0
      },
      "text/plain": [
       "HBox(children=(FloatProgress(value=0.0, max=2809.0), HTML(value='')))"
      ]
     },
     "metadata": {},
     "output_type": "display_data"
    },
    {
     "name": "stdout",
     "output_type": "stream",
     "text": [
      "\n"
     ]
    }
   ],
   "source": [
    "from nltk.stem.snowball import SpanishStemmer\n",
    "\n",
    "ss = SpanishStemmer()\n",
    "\n",
    "def es_text_prepare(text):\n",
    "    \"\"\"\n",
    "        text: a string\n",
    "        \n",
    "        return: modified string\n",
    "    \"\"\"\n",
    "    for i in string.punctuation:\n",
    "        text = text.replace(i, ' ')\n",
    "    text = re.sub(r'[^\\w ]+', '', text.lower())\n",
    "    words = text.split()\n",
    "    sw = set(stopwords.words('spanish'))\n",
    "    return ' '.join([ss.stem(i) for i in words if i not in sw])\n",
    "\n",
    "for key, doc in tqdm(es_collection.items()):\n",
    "    es_collection[key] = es_text_prepare(doc)"
   ]
  },
  {
   "cell_type": "code",
   "execution_count": 71,
   "metadata": {},
   "outputs": [
    {
     "data": {
      "text/plain": [
       "'se siempr asombr pens 2 000 millon medi mund interconect traves internet cualqui moment 30 poblacion mundial pued line aprend cre compart tiemp cad pas hac cos continu crec estudi recient demostr sol gener jov pas 8 hor dia line padr niñ 9 años cifr parec baj ris asi internet abiert mund muestr mund cad vez preci deb pag hech conect privac hoy dia gust cre internet lug priv cad clic cad toqu pantall hansel gretel dej mig pan inform personal siti visit bosqu digital dej cumpleañ direccion interes preferent relacion histori financ asi suces malinterpret sugir intercambi dat mal hech se cual dat compart doy consent explicit interes siti conozc habit ayud suger libr pelicul ver famili amig quien conect problem surg se ped permis fenomen internet hoy llam seguimient comport gran negoci hech tod industri form torn segu traves bosqu digital compil perfil cad recopil dat pued hac casi quier trat are hoy dia poc regul much men norm excepcion anunci recient aqu unid europ are proteccion consumidor casi explor permitanm habl industri acech imag form detras llam colusion complement experimental naveg pued instal firefox ayud ver dond van dat red quien sigu punt roj ven alli arrib siti seguimient comport naveg sigu punt azul siti naveg direct punt gris siti sigu ide quien conect pued ver form imag red perfil ahor voy pas ejempl cas concret personal hac 2 seman instal colusion propi comput portatil dej sigu tod part dia bastant tipic mayor usted comienz dia line consult corre electron lueg voy siti notici busc titular cas particul gust merit instruccion musical escuel compart red social hij entonc uni desayun pregunt enfasis instruccion musical escuel supuest cualqui niñ 9 años mir pregunt curi instruccion asi dij busc internet supuest permitanm deteng aqu apen tom par boc desayun cerc 25 siti segu naveg total 4 voy ir rapid rest dia voy trabaj revis corre electron conect siti social blogue leo notici compart voy ver vide dia bastant tipic cas realid bastant pedant final dia men activ mir perfil punt roj dispar punt gris aument maner exponencial total 150 siti rastr inform personal mayor consent mir imag asust siend acos red suced sencill gran negoci ingres empres cim espaci 39 000 millon dolar actual adult ciert sol mism tiemp instal propi perfil colusion instal hij sol mañan sab 2 hor internet aqu perfil colusion trat niñ 9 años edad naveg siti principal niñ pas asust enfurec trat pioner tecnolog defensor privac sin padr imaginens si mund real algui sigu hij cam comput portatil registr movimient cre ningun person sal qued braz cruz tom med podr ser buen med har ris pod qued braz cruz aqu tampoc suced hoy dia privac opcion deb ser preci pag simplement usar internet voc import accion aun hoy lanz colusion pued descarg instal firefox ver quien rastre traves red sig bosqu digital adel tod voc deb ser escuch sab pued realment hac dañ memori internet siempr vigil ahor moment vigil acech graci aplaus'"
      ]
     },
     "execution_count": 71,
     "metadata": {},
     "output_type": "execute_result"
    }
   ],
   "source": [
    "es_collection['es_0']"
   ]
  },
  {
   "cell_type": "markdown",
   "metadata": {},
   "source": [
    "Из неточностей алгоритма могу отметить то, что некоторые слова лемматизируются неверно, например слово 'us' превращается в 'u'. Кроме того, некоторые выражения заведомо обрабатываются неверно, чем мы принебрегаем, например выражение 'в 80-х' превращается в '80 x'."
   ]
  },
  {
   "cell_type": "markdown",
   "metadata": {},
   "source": [
    "#### Дополнительная предобработка\n",
    "\n",
    "Библиотека BigARTM имеет собственный формат документов для обработки, называемый батчами. Самый простой способ создать батчи из коллекции файлов - сконвертировать в батчи vowpal wabbit файл с коллекцией (https://github.com/VowpalWabbit/vowpal_wabbit/wiki/Input-format). \n",
    "\n",
    "Тематические модели работают с мешком слов, поэтому в vowpal wabbit файле можно не хранить информацию о порядке слов в документе.\n",
    "\n",
    "Чтобы обучить мультиязычную модель, мы будем использовать апарат модальностей тематической модели. Каждому языку будет соответствовать своя модальность (`@english`, `@russian` и `@spanish` в vowpal wabbit файле). \n",
    "\n",
    "Для экспериментов нам понадобится два файла. Один будет содержать информацию о параллельных документов, а другой нет. В втором файле каждая строчка соответствует конкретному документу. В первом файле, если у документа есть параллельный, он будет располагаться на этой же строчке в рамках другой модальности.\n",
    "\n",
    "Весь код для сохранения файла в vowpal wabbit формате уже написан, вам только необходимо правильно воспользоваться функцией. В частности, проследите, чтобы в ваших документах не содержалось символов ':', '|' и '@'."
   ]
  },
  {
   "cell_type": "markdown",
   "metadata": {},
   "source": [
    "В файлах en_ru_match.txt и en_es_match.txt содержится информация о том, какие документы являются параллельными. "
   ]
  },
  {
   "cell_type": "code",
   "execution_count": 73,
   "metadata": {},
   "outputs": [
    {
     "name": "stdout",
     "output_type": "stream",
     "text": [
      "Total number of pairs: 1000\n",
      "Total number of pairs: 1000\n"
     ]
    }
   ],
   "source": [
    "en_ru_parallel_docs = load_parallel_documents_info('ted_collection/en_ru_match.txt')\n",
    "en_es_parallel_docs = load_parallel_documents_info('ted_collection/en_es_match.txt')"
   ]
  },
  {
   "cell_type": "markdown",
   "metadata": {},
   "source": [
    "Воспользуйтесь функцией write_vw_lab4, чтобы сохранить данные в нужном формате:"
   ]
  },
  {
   "cell_type": "code",
   "execution_count": 74,
   "metadata": {},
   "outputs": [],
   "source": [
    "# vowpal wabbit файлы с коллекцией\n",
    "DATA_PATH_PARALLEL = 'ted_collection/collection_parallel.vw'\n",
    "DATA_PATH_MONO = 'ted_collection/collection_mono.vw'\n",
    "\n",
    "write_vw_lab4(\n",
    "    DATA_PATH_PARALLEL,\n",
    "    en_collection,\n",
    "    ru_collection,\n",
    "    es_collection,\n",
    "    en_ru_parallel_docs,\n",
    "    en_es_parallel_docs,\n",
    "    use_parallel_info=True\n",
    ")\n",
    "\n",
    "\n",
    "write_vw_lab4(\n",
    "    DATA_PATH_MONO,\n",
    "    en_collection,\n",
    "    ru_collection,\n",
    "    es_collection,\n",
    "    en_ru_parallel_docs,\n",
    "    en_es_parallel_docs,\n",
    "    use_parallel_info=False\n",
    ")"
   ]
  },
  {
   "cell_type": "markdown",
   "metadata": {},
   "source": [
    "## Базовая моноязычная тематическая модель (2 балла)\n",
    "\n",
    "Теорию тематического моделирования можно узнать из соответствующей лекции курса.\n",
    "\n",
    "Научиться пользоваться bigartm легче всего по гайду из документации [ссылка](http://docs.bigartm.org/en/stable/tutorials/python_userguide/index.html).\n",
    "\n",
    "#### Подготовка к моделированию\n",
    "\n",
    "Чтобы преобразовать полученный vowpal wabbit файл в батчи, можно воспользоваться стандартным классом BatchVectorizer. Объект этого класса принимает на вход адрес папки с батчами или файл vowpal wabbit, а затем подаётся на вход для обучения методам. В случае, если входные данные не являются батчами, он создаёт их и сохраняет на диск для последующего быстрого использования.\n",
    "\n",
    "В этой части экспериментов, вам предлагается построить моноязычную тематическую модель только для английского языка, поэтому для обучения используйте файл DATA_PATH_MONO."
   ]
  },
  {
   "cell_type": "code",
   "execution_count": 86,
   "metadata": {},
   "outputs": [],
   "source": [
    "# папка с батчами\n",
    "BATCHES_PATH_MONO = 'ted_collection/batches_mono'"
   ]
  },
  {
   "cell_type": "code",
   "execution_count": 87,
   "metadata": {},
   "outputs": [],
   "source": [
    "# если BATCHES_PATH_MONO пуста, батчи будут созданы из файла в DATA_PATH_MONO\n",
    "# иначе использовать BATCHES_PATH_MONO\n",
    "if len(glob.glob(os.path.join(BATCHES_PATH_MONO + '/*.batch'))) < 1:\n",
    "    batch_vectorizer_mono = artm.BatchVectorizer(data_path=DATA_PATH_MONO, \n",
    "                                                 data_format='vowpal_wabbit',\n",
    "                                                 target_folder=BATCHES_PATH_MONO)\n",
    "else:\n",
    "    batch_vectorizer_mono = artm.BatchVectorizer(data_path=BATCHES_PATH_MONO,\n",
    "                                                 data_format='batches')"
   ]
  },
  {
   "cell_type": "markdown",
   "metadata": {},
   "source": [
    "Словарь – это объект BigARTM, содержащий информацию о коллекции (словарь коллекции, различные величины и счётчики, связанные со словами). Создать словарь можно на основе папки с батчами. Затем собранный словарь можно сохранять на диск и позже подгрузить вновь."
   ]
  },
  {
   "cell_type": "code",
   "execution_count": 88,
   "metadata": {},
   "outputs": [],
   "source": [
    "dictionary = artm.Dictionary()\n",
    "dictionary.gather(data_path=BATCHES_PATH_MONO)"
   ]
  },
  {
   "cell_type": "markdown",
   "metadata": {},
   "source": [
    "Словарь в том числе отвечает за то, на какие токены будет настраиваться модель. Редкие слова не оказывают влияние на модель, поэтому их можно удалить используя метод .filter."
   ]
  },
  {
   "cell_type": "code",
   "execution_count": 89,
   "metadata": {},
   "outputs": [
    {
     "data": {
      "text/plain": [
       "artm.Dictionary(name=3b4b3c8d-2ea9-470d-955d-2c5abddf1579, num_entries=51781)"
      ]
     },
     "execution_count": 89,
     "metadata": {},
     "output_type": "execute_result"
    }
   ],
   "source": [
    "MIN_DF = 5\n",
    "\n",
    "dictionary.filter(min_df=MIN_DF)"
   ]
  },
  {
   "cell_type": "markdown",
   "metadata": {},
   "source": [
    "#### Обучение модели\n",
    "\n",
    "Пришло время приступить к моделированию! Начнём с простой одноязычной модели PLSA. Будем учитывать только модальность @english в документах коллекции. Так как коллекция небольшая, используйте небольшое число тем 30-50.\n",
    "\n",
    "Параметр theta_columns_naming='title' отвечает за именование документов лейблами из vowpal wabbit формата при получении матрицы $\\Theta$ (иначе они будут нумероваться в порядке появления в коллекции)."
   ]
  },
  {
   "cell_type": "code",
   "execution_count": 385,
   "metadata": {},
   "outputs": [],
   "source": [
    "model = artm.ARTM(num_topics=30,\n",
    "                  num_processors=7,\n",
    "                  theta_columns_naming='title',\n",
    "                  show_progress_bars=True,\n",
    "                  class_ids={'@english':1})\n",
    "\n",
    "model.initialize(dictionary)"
   ]
  },
  {
   "cell_type": "markdown",
   "metadata": {},
   "source": [
    "Класс artm.ARTM поддерживает различные встроенные метрики качества. Добавьте метрики измерения перплексии, разреженности $\\Phi$, разреженности $\\Theta$ и счётчик топ слов. Не забудьте, что метрики должны соответствовать только модальности @english!"
   ]
  },
  {
   "cell_type": "code",
   "execution_count": 386,
   "metadata": {},
   "outputs": [],
   "source": [
    "model.scores.add(artm.PerplexityScore(name='perplexity_score', \n",
    "                                      dictionary=dictionary, \n",
    "                                      class_ids=['@english']))\n",
    "model.scores.add(artm.SparsityPhiScore(name='sparsity_phi_score',\n",
    "                                       class_id='@english'))\n",
    "model.scores.add(artm.SparsityThetaScore(name='sparsity_theta_score'))\n",
    "model.scores.add(artm.TopTokensScore(name='top_tokens_score',\n",
    "                                     class_id='@english'))"
   ]
  },
  {
   "cell_type": "markdown",
   "metadata": {},
   "source": [
    "Проведите обучение модели с помощью метода fit_offline. Подберите необходимое число операций для сходимости в зависимости от значения перплексии:"
   ]
  },
  {
   "cell_type": "code",
   "execution_count": 387,
   "metadata": {},
   "outputs": [
    {
     "data": {
      "application/vnd.jupyter.widget-view+json": {
       "model_id": "d151aaed143c4f029444bcaf45000891",
       "version_major": 2,
       "version_minor": 0
      },
      "text/plain": [
       "HBox(children=(FloatProgress(value=0.0, description='Pass', max=200.0, style=ProgressStyle(description_width='…"
      ]
     },
     "metadata": {},
     "output_type": "display_data"
    },
    {
     "data": {
      "application/vnd.jupyter.widget-view+json": {
       "model_id": "",
       "version_major": 2,
       "version_minor": 0
      },
      "text/plain": [
       "HBox(children=(FloatProgress(value=0.0, description='Batch', max=9.0, style=ProgressStyle(description_width='i…"
      ]
     },
     "metadata": {},
     "output_type": "display_data"
    },
    {
     "data": {
      "application/vnd.jupyter.widget-view+json": {
       "model_id": "",
       "version_major": 2,
       "version_minor": 0
      },
      "text/plain": [
       "HBox(children=(FloatProgress(value=0.0, description='Batch', max=9.0, style=ProgressStyle(description_width='i…"
      ]
     },
     "metadata": {},
     "output_type": "display_data"
    },
    {
     "data": {
      "application/vnd.jupyter.widget-view+json": {
       "model_id": "",
       "version_major": 2,
       "version_minor": 0
      },
      "text/plain": [
       "HBox(children=(FloatProgress(value=0.0, description='Batch', max=9.0, style=ProgressStyle(description_width='i…"
      ]
     },
     "metadata": {},
     "output_type": "display_data"
    },
    {
     "data": {
      "application/vnd.jupyter.widget-view+json": {
       "model_id": "",
       "version_major": 2,
       "version_minor": 0
      },
      "text/plain": [
       "HBox(children=(FloatProgress(value=0.0, description='Batch', max=9.0, style=ProgressStyle(description_width='i…"
      ]
     },
     "metadata": {},
     "output_type": "display_data"
    },
    {
     "data": {
      "application/vnd.jupyter.widget-view+json": {
       "model_id": "",
       "version_major": 2,
       "version_minor": 0
      },
      "text/plain": [
       "HBox(children=(FloatProgress(value=0.0, description='Batch', max=9.0, style=ProgressStyle(description_width='i…"
      ]
     },
     "metadata": {},
     "output_type": "display_data"
    },
    {
     "data": {
      "application/vnd.jupyter.widget-view+json": {
       "model_id": "",
       "version_major": 2,
       "version_minor": 0
      },
      "text/plain": [
       "HBox(children=(FloatProgress(value=0.0, description='Batch', max=9.0, style=ProgressStyle(description_width='i…"
      ]
     },
     "metadata": {},
     "output_type": "display_data"
    },
    {
     "data": {
      "application/vnd.jupyter.widget-view+json": {
       "model_id": "",
       "version_major": 2,
       "version_minor": 0
      },
      "text/plain": [
       "HBox(children=(FloatProgress(value=0.0, description='Batch', max=9.0, style=ProgressStyle(description_width='i…"
      ]
     },
     "metadata": {},
     "output_type": "display_data"
    },
    {
     "data": {
      "application/vnd.jupyter.widget-view+json": {
       "model_id": "",
       "version_major": 2,
       "version_minor": 0
      },
      "text/plain": [
       "HBox(children=(FloatProgress(value=0.0, description='Batch', max=9.0, style=ProgressStyle(description_width='i…"
      ]
     },
     "metadata": {},
     "output_type": "display_data"
    },
    {
     "data": {
      "application/vnd.jupyter.widget-view+json": {
       "model_id": "",
       "version_major": 2,
       "version_minor": 0
      },
      "text/plain": [
       "HBox(children=(FloatProgress(value=0.0, description='Batch', max=9.0, style=ProgressStyle(description_width='i…"
      ]
     },
     "metadata": {},
     "output_type": "display_data"
    },
    {
     "data": {
      "application/vnd.jupyter.widget-view+json": {
       "model_id": "",
       "version_major": 2,
       "version_minor": 0
      },
      "text/plain": [
       "HBox(children=(FloatProgress(value=0.0, description='Batch', max=9.0, style=ProgressStyle(description_width='i…"
      ]
     },
     "metadata": {},
     "output_type": "display_data"
    },
    {
     "data": {
      "application/vnd.jupyter.widget-view+json": {
       "model_id": "",
       "version_major": 2,
       "version_minor": 0
      },
      "text/plain": [
       "HBox(children=(FloatProgress(value=0.0, description='Batch', max=9.0, style=ProgressStyle(description_width='i…"
      ]
     },
     "metadata": {},
     "output_type": "display_data"
    },
    {
     "data": {
      "application/vnd.jupyter.widget-view+json": {
       "model_id": "",
       "version_major": 2,
       "version_minor": 0
      },
      "text/plain": [
       "HBox(children=(FloatProgress(value=0.0, description='Batch', max=9.0, style=ProgressStyle(description_width='i…"
      ]
     },
     "metadata": {},
     "output_type": "display_data"
    },
    {
     "data": {
      "application/vnd.jupyter.widget-view+json": {
       "model_id": "",
       "version_major": 2,
       "version_minor": 0
      },
      "text/plain": [
       "HBox(children=(FloatProgress(value=0.0, description='Batch', max=9.0, style=ProgressStyle(description_width='i…"
      ]
     },
     "metadata": {},
     "output_type": "display_data"
    },
    {
     "data": {
      "application/vnd.jupyter.widget-view+json": {
       "model_id": "",
       "version_major": 2,
       "version_minor": 0
      },
      "text/plain": [
       "HBox(children=(FloatProgress(value=0.0, description='Batch', max=9.0, style=ProgressStyle(description_width='i…"
      ]
     },
     "metadata": {},
     "output_type": "display_data"
    },
    {
     "data": {
      "application/vnd.jupyter.widget-view+json": {
       "model_id": "",
       "version_major": 2,
       "version_minor": 0
      },
      "text/plain": [
       "HBox(children=(FloatProgress(value=0.0, description='Batch', max=9.0, style=ProgressStyle(description_width='i…"
      ]
     },
     "metadata": {},
     "output_type": "display_data"
    },
    {
     "data": {
      "application/vnd.jupyter.widget-view+json": {
       "model_id": "",
       "version_major": 2,
       "version_minor": 0
      },
      "text/plain": [
       "HBox(children=(FloatProgress(value=0.0, description='Batch', max=9.0, style=ProgressStyle(description_width='i…"
      ]
     },
     "metadata": {},
     "output_type": "display_data"
    },
    {
     "data": {
      "application/vnd.jupyter.widget-view+json": {
       "model_id": "",
       "version_major": 2,
       "version_minor": 0
      },
      "text/plain": [
       "HBox(children=(FloatProgress(value=0.0, description='Batch', max=9.0, style=ProgressStyle(description_width='i…"
      ]
     },
     "metadata": {},
     "output_type": "display_data"
    },
    {
     "data": {
      "application/vnd.jupyter.widget-view+json": {
       "model_id": "",
       "version_major": 2,
       "version_minor": 0
      },
      "text/plain": [
       "HBox(children=(FloatProgress(value=0.0, description='Batch', max=9.0, style=ProgressStyle(description_width='i…"
      ]
     },
     "metadata": {},
     "output_type": "display_data"
    },
    {
     "data": {
      "application/vnd.jupyter.widget-view+json": {
       "model_id": "",
       "version_major": 2,
       "version_minor": 0
      },
      "text/plain": [
       "HBox(children=(FloatProgress(value=0.0, description='Batch', max=9.0, style=ProgressStyle(description_width='i…"
      ]
     },
     "metadata": {},
     "output_type": "display_data"
    },
    {
     "data": {
      "application/vnd.jupyter.widget-view+json": {
       "model_id": "",
       "version_major": 2,
       "version_minor": 0
      },
      "text/plain": [
       "HBox(children=(FloatProgress(value=0.0, description='Batch', max=9.0, style=ProgressStyle(description_width='i…"
      ]
     },
     "metadata": {},
     "output_type": "display_data"
    },
    {
     "data": {
      "application/vnd.jupyter.widget-view+json": {
       "model_id": "",
       "version_major": 2,
       "version_minor": 0
      },
      "text/plain": [
       "HBox(children=(FloatProgress(value=0.0, description='Batch', max=9.0, style=ProgressStyle(description_width='i…"
      ]
     },
     "metadata": {},
     "output_type": "display_data"
    },
    {
     "data": {
      "application/vnd.jupyter.widget-view+json": {
       "model_id": "",
       "version_major": 2,
       "version_minor": 0
      },
      "text/plain": [
       "HBox(children=(FloatProgress(value=0.0, description='Batch', max=9.0, style=ProgressStyle(description_width='i…"
      ]
     },
     "metadata": {},
     "output_type": "display_data"
    },
    {
     "data": {
      "application/vnd.jupyter.widget-view+json": {
       "model_id": "",
       "version_major": 2,
       "version_minor": 0
      },
      "text/plain": [
       "HBox(children=(FloatProgress(value=0.0, description='Batch', max=9.0, style=ProgressStyle(description_width='i…"
      ]
     },
     "metadata": {},
     "output_type": "display_data"
    },
    {
     "data": {
      "application/vnd.jupyter.widget-view+json": {
       "model_id": "",
       "version_major": 2,
       "version_minor": 0
      },
      "text/plain": [
       "HBox(children=(FloatProgress(value=0.0, description='Batch', max=9.0, style=ProgressStyle(description_width='i…"
      ]
     },
     "metadata": {},
     "output_type": "display_data"
    },
    {
     "data": {
      "application/vnd.jupyter.widget-view+json": {
       "model_id": "",
       "version_major": 2,
       "version_minor": 0
      },
      "text/plain": [
       "HBox(children=(FloatProgress(value=0.0, description='Batch', max=9.0, style=ProgressStyle(description_width='i…"
      ]
     },
     "metadata": {},
     "output_type": "display_data"
    },
    {
     "data": {
      "application/vnd.jupyter.widget-view+json": {
       "model_id": "",
       "version_major": 2,
       "version_minor": 0
      },
      "text/plain": [
       "HBox(children=(FloatProgress(value=0.0, description='Batch', max=9.0, style=ProgressStyle(description_width='i…"
      ]
     },
     "metadata": {},
     "output_type": "display_data"
    },
    {
     "data": {
      "application/vnd.jupyter.widget-view+json": {
       "model_id": "",
       "version_major": 2,
       "version_minor": 0
      },
      "text/plain": [
       "HBox(children=(FloatProgress(value=0.0, description='Batch', max=9.0, style=ProgressStyle(description_width='i…"
      ]
     },
     "metadata": {},
     "output_type": "display_data"
    },
    {
     "data": {
      "application/vnd.jupyter.widget-view+json": {
       "model_id": "",
       "version_major": 2,
       "version_minor": 0
      },
      "text/plain": [
       "HBox(children=(FloatProgress(value=0.0, description='Batch', max=9.0, style=ProgressStyle(description_width='i…"
      ]
     },
     "metadata": {},
     "output_type": "display_data"
    },
    {
     "data": {
      "application/vnd.jupyter.widget-view+json": {
       "model_id": "",
       "version_major": 2,
       "version_minor": 0
      },
      "text/plain": [
       "HBox(children=(FloatProgress(value=0.0, description='Batch', max=9.0, style=ProgressStyle(description_width='i…"
      ]
     },
     "metadata": {},
     "output_type": "display_data"
    },
    {
     "data": {
      "application/vnd.jupyter.widget-view+json": {
       "model_id": "",
       "version_major": 2,
       "version_minor": 0
      },
      "text/plain": [
       "HBox(children=(FloatProgress(value=0.0, description='Batch', max=9.0, style=ProgressStyle(description_width='i…"
      ]
     },
     "metadata": {},
     "output_type": "display_data"
    },
    {
     "data": {
      "application/vnd.jupyter.widget-view+json": {
       "model_id": "",
       "version_major": 2,
       "version_minor": 0
      },
      "text/plain": [
       "HBox(children=(FloatProgress(value=0.0, description='Batch', max=9.0, style=ProgressStyle(description_width='i…"
      ]
     },
     "metadata": {},
     "output_type": "display_data"
    },
    {
     "data": {
      "application/vnd.jupyter.widget-view+json": {
       "model_id": "",
       "version_major": 2,
       "version_minor": 0
      },
      "text/plain": [
       "HBox(children=(FloatProgress(value=0.0, description='Batch', max=9.0, style=ProgressStyle(description_width='i…"
      ]
     },
     "metadata": {},
     "output_type": "display_data"
    },
    {
     "data": {
      "application/vnd.jupyter.widget-view+json": {
       "model_id": "",
       "version_major": 2,
       "version_minor": 0
      },
      "text/plain": [
       "HBox(children=(FloatProgress(value=0.0, description='Batch', max=9.0, style=ProgressStyle(description_width='i…"
      ]
     },
     "metadata": {},
     "output_type": "display_data"
    },
    {
     "data": {
      "application/vnd.jupyter.widget-view+json": {
       "model_id": "",
       "version_major": 2,
       "version_minor": 0
      },
      "text/plain": [
       "HBox(children=(FloatProgress(value=0.0, description='Batch', max=9.0, style=ProgressStyle(description_width='i…"
      ]
     },
     "metadata": {},
     "output_type": "display_data"
    },
    {
     "data": {
      "application/vnd.jupyter.widget-view+json": {
       "model_id": "",
       "version_major": 2,
       "version_minor": 0
      },
      "text/plain": [
       "HBox(children=(FloatProgress(value=0.0, description='Batch', max=9.0, style=ProgressStyle(description_width='i…"
      ]
     },
     "metadata": {},
     "output_type": "display_data"
    },
    {
     "data": {
      "application/vnd.jupyter.widget-view+json": {
       "model_id": "",
       "version_major": 2,
       "version_minor": 0
      },
      "text/plain": [
       "HBox(children=(FloatProgress(value=0.0, description='Batch', max=9.0, style=ProgressStyle(description_width='i…"
      ]
     },
     "metadata": {},
     "output_type": "display_data"
    },
    {
     "data": {
      "application/vnd.jupyter.widget-view+json": {
       "model_id": "",
       "version_major": 2,
       "version_minor": 0
      },
      "text/plain": [
       "HBox(children=(FloatProgress(value=0.0, description='Batch', max=9.0, style=ProgressStyle(description_width='i…"
      ]
     },
     "metadata": {},
     "output_type": "display_data"
    },
    {
     "data": {
      "application/vnd.jupyter.widget-view+json": {
       "model_id": "",
       "version_major": 2,
       "version_minor": 0
      },
      "text/plain": [
       "HBox(children=(FloatProgress(value=0.0, description='Batch', max=9.0, style=ProgressStyle(description_width='i…"
      ]
     },
     "metadata": {},
     "output_type": "display_data"
    },
    {
     "data": {
      "application/vnd.jupyter.widget-view+json": {
       "model_id": "",
       "version_major": 2,
       "version_minor": 0
      },
      "text/plain": [
       "HBox(children=(FloatProgress(value=0.0, description='Batch', max=9.0, style=ProgressStyle(description_width='i…"
      ]
     },
     "metadata": {},
     "output_type": "display_data"
    },
    {
     "data": {
      "application/vnd.jupyter.widget-view+json": {
       "model_id": "",
       "version_major": 2,
       "version_minor": 0
      },
      "text/plain": [
       "HBox(children=(FloatProgress(value=0.0, description='Batch', max=9.0, style=ProgressStyle(description_width='i…"
      ]
     },
     "metadata": {},
     "output_type": "display_data"
    },
    {
     "data": {
      "application/vnd.jupyter.widget-view+json": {
       "model_id": "",
       "version_major": 2,
       "version_minor": 0
      },
      "text/plain": [
       "HBox(children=(FloatProgress(value=0.0, description='Batch', max=9.0, style=ProgressStyle(description_width='i…"
      ]
     },
     "metadata": {},
     "output_type": "display_data"
    },
    {
     "data": {
      "application/vnd.jupyter.widget-view+json": {
       "model_id": "",
       "version_major": 2,
       "version_minor": 0
      },
      "text/plain": [
       "HBox(children=(FloatProgress(value=0.0, description='Batch', max=9.0, style=ProgressStyle(description_width='i…"
      ]
     },
     "metadata": {},
     "output_type": "display_data"
    },
    {
     "data": {
      "application/vnd.jupyter.widget-view+json": {
       "model_id": "",
       "version_major": 2,
       "version_minor": 0
      },
      "text/plain": [
       "HBox(children=(FloatProgress(value=0.0, description='Batch', max=9.0, style=ProgressStyle(description_width='i…"
      ]
     },
     "metadata": {},
     "output_type": "display_data"
    },
    {
     "data": {
      "application/vnd.jupyter.widget-view+json": {
       "model_id": "",
       "version_major": 2,
       "version_minor": 0
      },
      "text/plain": [
       "HBox(children=(FloatProgress(value=0.0, description='Batch', max=9.0, style=ProgressStyle(description_width='i…"
      ]
     },
     "metadata": {},
     "output_type": "display_data"
    },
    {
     "data": {
      "application/vnd.jupyter.widget-view+json": {
       "model_id": "",
       "version_major": 2,
       "version_minor": 0
      },
      "text/plain": [
       "HBox(children=(FloatProgress(value=0.0, description='Batch', max=9.0, style=ProgressStyle(description_width='i…"
      ]
     },
     "metadata": {},
     "output_type": "display_data"
    },
    {
     "data": {
      "application/vnd.jupyter.widget-view+json": {
       "model_id": "",
       "version_major": 2,
       "version_minor": 0
      },
      "text/plain": [
       "HBox(children=(FloatProgress(value=0.0, description='Batch', max=9.0, style=ProgressStyle(description_width='i…"
      ]
     },
     "metadata": {},
     "output_type": "display_data"
    },
    {
     "data": {
      "application/vnd.jupyter.widget-view+json": {
       "model_id": "",
       "version_major": 2,
       "version_minor": 0
      },
      "text/plain": [
       "HBox(children=(FloatProgress(value=0.0, description='Batch', max=9.0, style=ProgressStyle(description_width='i…"
      ]
     },
     "metadata": {},
     "output_type": "display_data"
    },
    {
     "data": {
      "application/vnd.jupyter.widget-view+json": {
       "model_id": "",
       "version_major": 2,
       "version_minor": 0
      },
      "text/plain": [
       "HBox(children=(FloatProgress(value=0.0, description='Batch', max=9.0, style=ProgressStyle(description_width='i…"
      ]
     },
     "metadata": {},
     "output_type": "display_data"
    },
    {
     "data": {
      "application/vnd.jupyter.widget-view+json": {
       "model_id": "",
       "version_major": 2,
       "version_minor": 0
      },
      "text/plain": [
       "HBox(children=(FloatProgress(value=0.0, description='Batch', max=9.0, style=ProgressStyle(description_width='i…"
      ]
     },
     "metadata": {},
     "output_type": "display_data"
    },
    {
     "data": {
      "application/vnd.jupyter.widget-view+json": {
       "model_id": "",
       "version_major": 2,
       "version_minor": 0
      },
      "text/plain": [
       "HBox(children=(FloatProgress(value=0.0, description='Batch', max=9.0, style=ProgressStyle(description_width='i…"
      ]
     },
     "metadata": {},
     "output_type": "display_data"
    },
    {
     "data": {
      "application/vnd.jupyter.widget-view+json": {
       "model_id": "",
       "version_major": 2,
       "version_minor": 0
      },
      "text/plain": [
       "HBox(children=(FloatProgress(value=0.0, description='Batch', max=9.0, style=ProgressStyle(description_width='i…"
      ]
     },
     "metadata": {},
     "output_type": "display_data"
    },
    {
     "data": {
      "application/vnd.jupyter.widget-view+json": {
       "model_id": "",
       "version_major": 2,
       "version_minor": 0
      },
      "text/plain": [
       "HBox(children=(FloatProgress(value=0.0, description='Batch', max=9.0, style=ProgressStyle(description_width='i…"
      ]
     },
     "metadata": {},
     "output_type": "display_data"
    },
    {
     "data": {
      "application/vnd.jupyter.widget-view+json": {
       "model_id": "",
       "version_major": 2,
       "version_minor": 0
      },
      "text/plain": [
       "HBox(children=(FloatProgress(value=0.0, description='Batch', max=9.0, style=ProgressStyle(description_width='i…"
      ]
     },
     "metadata": {},
     "output_type": "display_data"
    },
    {
     "data": {
      "application/vnd.jupyter.widget-view+json": {
       "model_id": "",
       "version_major": 2,
       "version_minor": 0
      },
      "text/plain": [
       "HBox(children=(FloatProgress(value=0.0, description='Batch', max=9.0, style=ProgressStyle(description_width='i…"
      ]
     },
     "metadata": {},
     "output_type": "display_data"
    },
    {
     "data": {
      "application/vnd.jupyter.widget-view+json": {
       "model_id": "",
       "version_major": 2,
       "version_minor": 0
      },
      "text/plain": [
       "HBox(children=(FloatProgress(value=0.0, description='Batch', max=9.0, style=ProgressStyle(description_width='i…"
      ]
     },
     "metadata": {},
     "output_type": "display_data"
    },
    {
     "data": {
      "application/vnd.jupyter.widget-view+json": {
       "model_id": "",
       "version_major": 2,
       "version_minor": 0
      },
      "text/plain": [
       "HBox(children=(FloatProgress(value=0.0, description='Batch', max=9.0, style=ProgressStyle(description_width='i…"
      ]
     },
     "metadata": {},
     "output_type": "display_data"
    },
    {
     "data": {
      "application/vnd.jupyter.widget-view+json": {
       "model_id": "",
       "version_major": 2,
       "version_minor": 0
      },
      "text/plain": [
       "HBox(children=(FloatProgress(value=0.0, description='Batch', max=9.0, style=ProgressStyle(description_width='i…"
      ]
     },
     "metadata": {},
     "output_type": "display_data"
    },
    {
     "data": {
      "application/vnd.jupyter.widget-view+json": {
       "model_id": "",
       "version_major": 2,
       "version_minor": 0
      },
      "text/plain": [
       "HBox(children=(FloatProgress(value=0.0, description='Batch', max=9.0, style=ProgressStyle(description_width='i…"
      ]
     },
     "metadata": {},
     "output_type": "display_data"
    },
    {
     "data": {
      "application/vnd.jupyter.widget-view+json": {
       "model_id": "",
       "version_major": 2,
       "version_minor": 0
      },
      "text/plain": [
       "HBox(children=(FloatProgress(value=0.0, description='Batch', max=9.0, style=ProgressStyle(description_width='i…"
      ]
     },
     "metadata": {},
     "output_type": "display_data"
    },
    {
     "data": {
      "application/vnd.jupyter.widget-view+json": {
       "model_id": "",
       "version_major": 2,
       "version_minor": 0
      },
      "text/plain": [
       "HBox(children=(FloatProgress(value=0.0, description='Batch', max=9.0, style=ProgressStyle(description_width='i…"
      ]
     },
     "metadata": {},
     "output_type": "display_data"
    },
    {
     "data": {
      "application/vnd.jupyter.widget-view+json": {
       "model_id": "",
       "version_major": 2,
       "version_minor": 0
      },
      "text/plain": [
       "HBox(children=(FloatProgress(value=0.0, description='Batch', max=9.0, style=ProgressStyle(description_width='i…"
      ]
     },
     "metadata": {},
     "output_type": "display_data"
    },
    {
     "data": {
      "application/vnd.jupyter.widget-view+json": {
       "model_id": "",
       "version_major": 2,
       "version_minor": 0
      },
      "text/plain": [
       "HBox(children=(FloatProgress(value=0.0, description='Batch', max=9.0, style=ProgressStyle(description_width='i…"
      ]
     },
     "metadata": {},
     "output_type": "display_data"
    },
    {
     "data": {
      "application/vnd.jupyter.widget-view+json": {
       "model_id": "",
       "version_major": 2,
       "version_minor": 0
      },
      "text/plain": [
       "HBox(children=(FloatProgress(value=0.0, description='Batch', max=9.0, style=ProgressStyle(description_width='i…"
      ]
     },
     "metadata": {},
     "output_type": "display_data"
    },
    {
     "data": {
      "application/vnd.jupyter.widget-view+json": {
       "model_id": "",
       "version_major": 2,
       "version_minor": 0
      },
      "text/plain": [
       "HBox(children=(FloatProgress(value=0.0, description='Batch', max=9.0, style=ProgressStyle(description_width='i…"
      ]
     },
     "metadata": {},
     "output_type": "display_data"
    },
    {
     "data": {
      "application/vnd.jupyter.widget-view+json": {
       "model_id": "",
       "version_major": 2,
       "version_minor": 0
      },
      "text/plain": [
       "HBox(children=(FloatProgress(value=0.0, description='Batch', max=9.0, style=ProgressStyle(description_width='i…"
      ]
     },
     "metadata": {},
     "output_type": "display_data"
    },
    {
     "data": {
      "application/vnd.jupyter.widget-view+json": {
       "model_id": "",
       "version_major": 2,
       "version_minor": 0
      },
      "text/plain": [
       "HBox(children=(FloatProgress(value=0.0, description='Batch', max=9.0, style=ProgressStyle(description_width='i…"
      ]
     },
     "metadata": {},
     "output_type": "display_data"
    },
    {
     "data": {
      "application/vnd.jupyter.widget-view+json": {
       "model_id": "",
       "version_major": 2,
       "version_minor": 0
      },
      "text/plain": [
       "HBox(children=(FloatProgress(value=0.0, description='Batch', max=9.0, style=ProgressStyle(description_width='i…"
      ]
     },
     "metadata": {},
     "output_type": "display_data"
    },
    {
     "data": {
      "application/vnd.jupyter.widget-view+json": {
       "model_id": "",
       "version_major": 2,
       "version_minor": 0
      },
      "text/plain": [
       "HBox(children=(FloatProgress(value=0.0, description='Batch', max=9.0, style=ProgressStyle(description_width='i…"
      ]
     },
     "metadata": {},
     "output_type": "display_data"
    },
    {
     "data": {
      "application/vnd.jupyter.widget-view+json": {
       "model_id": "",
       "version_major": 2,
       "version_minor": 0
      },
      "text/plain": [
       "HBox(children=(FloatProgress(value=0.0, description='Batch', max=9.0, style=ProgressStyle(description_width='i…"
      ]
     },
     "metadata": {},
     "output_type": "display_data"
    },
    {
     "data": {
      "application/vnd.jupyter.widget-view+json": {
       "model_id": "",
       "version_major": 2,
       "version_minor": 0
      },
      "text/plain": [
       "HBox(children=(FloatProgress(value=0.0, description='Batch', max=9.0, style=ProgressStyle(description_width='i…"
      ]
     },
     "metadata": {},
     "output_type": "display_data"
    },
    {
     "data": {
      "application/vnd.jupyter.widget-view+json": {
       "model_id": "",
       "version_major": 2,
       "version_minor": 0
      },
      "text/plain": [
       "HBox(children=(FloatProgress(value=0.0, description='Batch', max=9.0, style=ProgressStyle(description_width='i…"
      ]
     },
     "metadata": {},
     "output_type": "display_data"
    },
    {
     "data": {
      "application/vnd.jupyter.widget-view+json": {
       "model_id": "",
       "version_major": 2,
       "version_minor": 0
      },
      "text/plain": [
       "HBox(children=(FloatProgress(value=0.0, description='Batch', max=9.0, style=ProgressStyle(description_width='i…"
      ]
     },
     "metadata": {},
     "output_type": "display_data"
    },
    {
     "data": {
      "application/vnd.jupyter.widget-view+json": {
       "model_id": "",
       "version_major": 2,
       "version_minor": 0
      },
      "text/plain": [
       "HBox(children=(FloatProgress(value=0.0, description='Batch', max=9.0, style=ProgressStyle(description_width='i…"
      ]
     },
     "metadata": {},
     "output_type": "display_data"
    },
    {
     "data": {
      "application/vnd.jupyter.widget-view+json": {
       "model_id": "",
       "version_major": 2,
       "version_minor": 0
      },
      "text/plain": [
       "HBox(children=(FloatProgress(value=0.0, description='Batch', max=9.0, style=ProgressStyle(description_width='i…"
      ]
     },
     "metadata": {},
     "output_type": "display_data"
    },
    {
     "data": {
      "application/vnd.jupyter.widget-view+json": {
       "model_id": "",
       "version_major": 2,
       "version_minor": 0
      },
      "text/plain": [
       "HBox(children=(FloatProgress(value=0.0, description='Batch', max=9.0, style=ProgressStyle(description_width='i…"
      ]
     },
     "metadata": {},
     "output_type": "display_data"
    },
    {
     "data": {
      "application/vnd.jupyter.widget-view+json": {
       "model_id": "",
       "version_major": 2,
       "version_minor": 0
      },
      "text/plain": [
       "HBox(children=(FloatProgress(value=0.0, description='Batch', max=9.0, style=ProgressStyle(description_width='i…"
      ]
     },
     "metadata": {},
     "output_type": "display_data"
    },
    {
     "data": {
      "application/vnd.jupyter.widget-view+json": {
       "model_id": "",
       "version_major": 2,
       "version_minor": 0
      },
      "text/plain": [
       "HBox(children=(FloatProgress(value=0.0, description='Batch', max=9.0, style=ProgressStyle(description_width='i…"
      ]
     },
     "metadata": {},
     "output_type": "display_data"
    },
    {
     "data": {
      "application/vnd.jupyter.widget-view+json": {
       "model_id": "",
       "version_major": 2,
       "version_minor": 0
      },
      "text/plain": [
       "HBox(children=(FloatProgress(value=0.0, description='Batch', max=9.0, style=ProgressStyle(description_width='i…"
      ]
     },
     "metadata": {},
     "output_type": "display_data"
    },
    {
     "data": {
      "application/vnd.jupyter.widget-view+json": {
       "model_id": "",
       "version_major": 2,
       "version_minor": 0
      },
      "text/plain": [
       "HBox(children=(FloatProgress(value=0.0, description='Batch', max=9.0, style=ProgressStyle(description_width='i…"
      ]
     },
     "metadata": {},
     "output_type": "display_data"
    },
    {
     "data": {
      "application/vnd.jupyter.widget-view+json": {
       "model_id": "",
       "version_major": 2,
       "version_minor": 0
      },
      "text/plain": [
       "HBox(children=(FloatProgress(value=0.0, description='Batch', max=9.0, style=ProgressStyle(description_width='i…"
      ]
     },
     "metadata": {},
     "output_type": "display_data"
    },
    {
     "data": {
      "application/vnd.jupyter.widget-view+json": {
       "model_id": "",
       "version_major": 2,
       "version_minor": 0
      },
      "text/plain": [
       "HBox(children=(FloatProgress(value=0.0, description='Batch', max=9.0, style=ProgressStyle(description_width='i…"
      ]
     },
     "metadata": {},
     "output_type": "display_data"
    },
    {
     "data": {
      "application/vnd.jupyter.widget-view+json": {
       "model_id": "",
       "version_major": 2,
       "version_minor": 0
      },
      "text/plain": [
       "HBox(children=(FloatProgress(value=0.0, description='Batch', max=9.0, style=ProgressStyle(description_width='i…"
      ]
     },
     "metadata": {},
     "output_type": "display_data"
    },
    {
     "data": {
      "application/vnd.jupyter.widget-view+json": {
       "model_id": "",
       "version_major": 2,
       "version_minor": 0
      },
      "text/plain": [
       "HBox(children=(FloatProgress(value=0.0, description='Batch', max=9.0, style=ProgressStyle(description_width='i…"
      ]
     },
     "metadata": {},
     "output_type": "display_data"
    },
    {
     "data": {
      "application/vnd.jupyter.widget-view+json": {
       "model_id": "",
       "version_major": 2,
       "version_minor": 0
      },
      "text/plain": [
       "HBox(children=(FloatProgress(value=0.0, description='Batch', max=9.0, style=ProgressStyle(description_width='i…"
      ]
     },
     "metadata": {},
     "output_type": "display_data"
    },
    {
     "data": {
      "application/vnd.jupyter.widget-view+json": {
       "model_id": "",
       "version_major": 2,
       "version_minor": 0
      },
      "text/plain": [
       "HBox(children=(FloatProgress(value=0.0, description='Batch', max=9.0, style=ProgressStyle(description_width='i…"
      ]
     },
     "metadata": {},
     "output_type": "display_data"
    },
    {
     "data": {
      "application/vnd.jupyter.widget-view+json": {
       "model_id": "",
       "version_major": 2,
       "version_minor": 0
      },
      "text/plain": [
       "HBox(children=(FloatProgress(value=0.0, description='Batch', max=9.0, style=ProgressStyle(description_width='i…"
      ]
     },
     "metadata": {},
     "output_type": "display_data"
    },
    {
     "data": {
      "application/vnd.jupyter.widget-view+json": {
       "model_id": "",
       "version_major": 2,
       "version_minor": 0
      },
      "text/plain": [
       "HBox(children=(FloatProgress(value=0.0, description='Batch', max=9.0, style=ProgressStyle(description_width='i…"
      ]
     },
     "metadata": {},
     "output_type": "display_data"
    },
    {
     "data": {
      "application/vnd.jupyter.widget-view+json": {
       "model_id": "",
       "version_major": 2,
       "version_minor": 0
      },
      "text/plain": [
       "HBox(children=(FloatProgress(value=0.0, description='Batch', max=9.0, style=ProgressStyle(description_width='i…"
      ]
     },
     "metadata": {},
     "output_type": "display_data"
    },
    {
     "data": {
      "application/vnd.jupyter.widget-view+json": {
       "model_id": "",
       "version_major": 2,
       "version_minor": 0
      },
      "text/plain": [
       "HBox(children=(FloatProgress(value=0.0, description='Batch', max=9.0, style=ProgressStyle(description_width='i…"
      ]
     },
     "metadata": {},
     "output_type": "display_data"
    },
    {
     "data": {
      "application/vnd.jupyter.widget-view+json": {
       "model_id": "",
       "version_major": 2,
       "version_minor": 0
      },
      "text/plain": [
       "HBox(children=(FloatProgress(value=0.0, description='Batch', max=9.0, style=ProgressStyle(description_width='i…"
      ]
     },
     "metadata": {},
     "output_type": "display_data"
    },
    {
     "data": {
      "application/vnd.jupyter.widget-view+json": {
       "model_id": "",
       "version_major": 2,
       "version_minor": 0
      },
      "text/plain": [
       "HBox(children=(FloatProgress(value=0.0, description='Batch', max=9.0, style=ProgressStyle(description_width='i…"
      ]
     },
     "metadata": {},
     "output_type": "display_data"
    },
    {
     "data": {
      "application/vnd.jupyter.widget-view+json": {
       "model_id": "",
       "version_major": 2,
       "version_minor": 0
      },
      "text/plain": [
       "HBox(children=(FloatProgress(value=0.0, description='Batch', max=9.0, style=ProgressStyle(description_width='i…"
      ]
     },
     "metadata": {},
     "output_type": "display_data"
    },
    {
     "data": {
      "application/vnd.jupyter.widget-view+json": {
       "model_id": "",
       "version_major": 2,
       "version_minor": 0
      },
      "text/plain": [
       "HBox(children=(FloatProgress(value=0.0, description='Batch', max=9.0, style=ProgressStyle(description_width='i…"
      ]
     },
     "metadata": {},
     "output_type": "display_data"
    },
    {
     "data": {
      "application/vnd.jupyter.widget-view+json": {
       "model_id": "",
       "version_major": 2,
       "version_minor": 0
      },
      "text/plain": [
       "HBox(children=(FloatProgress(value=0.0, description='Batch', max=9.0, style=ProgressStyle(description_width='i…"
      ]
     },
     "metadata": {},
     "output_type": "display_data"
    },
    {
     "data": {
      "application/vnd.jupyter.widget-view+json": {
       "model_id": "",
       "version_major": 2,
       "version_minor": 0
      },
      "text/plain": [
       "HBox(children=(FloatProgress(value=0.0, description='Batch', max=9.0, style=ProgressStyle(description_width='i…"
      ]
     },
     "metadata": {},
     "output_type": "display_data"
    },
    {
     "data": {
      "application/vnd.jupyter.widget-view+json": {
       "model_id": "",
       "version_major": 2,
       "version_minor": 0
      },
      "text/plain": [
       "HBox(children=(FloatProgress(value=0.0, description='Batch', max=9.0, style=ProgressStyle(description_width='i…"
      ]
     },
     "metadata": {},
     "output_type": "display_data"
    },
    {
     "data": {
      "application/vnd.jupyter.widget-view+json": {
       "model_id": "",
       "version_major": 2,
       "version_minor": 0
      },
      "text/plain": [
       "HBox(children=(FloatProgress(value=0.0, description='Batch', max=9.0, style=ProgressStyle(description_width='i…"
      ]
     },
     "metadata": {},
     "output_type": "display_data"
    },
    {
     "data": {
      "application/vnd.jupyter.widget-view+json": {
       "model_id": "",
       "version_major": 2,
       "version_minor": 0
      },
      "text/plain": [
       "HBox(children=(FloatProgress(value=0.0, description='Batch', max=9.0, style=ProgressStyle(description_width='i…"
      ]
     },
     "metadata": {},
     "output_type": "display_data"
    },
    {
     "data": {
      "application/vnd.jupyter.widget-view+json": {
       "model_id": "",
       "version_major": 2,
       "version_minor": 0
      },
      "text/plain": [
       "HBox(children=(FloatProgress(value=0.0, description='Batch', max=9.0, style=ProgressStyle(description_width='i…"
      ]
     },
     "metadata": {},
     "output_type": "display_data"
    },
    {
     "data": {
      "application/vnd.jupyter.widget-view+json": {
       "model_id": "",
       "version_major": 2,
       "version_minor": 0
      },
      "text/plain": [
       "HBox(children=(FloatProgress(value=0.0, description='Batch', max=9.0, style=ProgressStyle(description_width='i…"
      ]
     },
     "metadata": {},
     "output_type": "display_data"
    },
    {
     "data": {
      "application/vnd.jupyter.widget-view+json": {
       "model_id": "",
       "version_major": 2,
       "version_minor": 0
      },
      "text/plain": [
       "HBox(children=(FloatProgress(value=0.0, description='Batch', max=9.0, style=ProgressStyle(description_width='i…"
      ]
     },
     "metadata": {},
     "output_type": "display_data"
    },
    {
     "data": {
      "application/vnd.jupyter.widget-view+json": {
       "model_id": "",
       "version_major": 2,
       "version_minor": 0
      },
      "text/plain": [
       "HBox(children=(FloatProgress(value=0.0, description='Batch', max=9.0, style=ProgressStyle(description_width='i…"
      ]
     },
     "metadata": {},
     "output_type": "display_data"
    },
    {
     "data": {
      "application/vnd.jupyter.widget-view+json": {
       "model_id": "",
       "version_major": 2,
       "version_minor": 0
      },
      "text/plain": [
       "HBox(children=(FloatProgress(value=0.0, description='Batch', max=9.0, style=ProgressStyle(description_width='i…"
      ]
     },
     "metadata": {},
     "output_type": "display_data"
    },
    {
     "data": {
      "application/vnd.jupyter.widget-view+json": {
       "model_id": "",
       "version_major": 2,
       "version_minor": 0
      },
      "text/plain": [
       "HBox(children=(FloatProgress(value=0.0, description='Batch', max=9.0, style=ProgressStyle(description_width='i…"
      ]
     },
     "metadata": {},
     "output_type": "display_data"
    },
    {
     "data": {
      "application/vnd.jupyter.widget-view+json": {
       "model_id": "",
       "version_major": 2,
       "version_minor": 0
      },
      "text/plain": [
       "HBox(children=(FloatProgress(value=0.0, description='Batch', max=9.0, style=ProgressStyle(description_width='i…"
      ]
     },
     "metadata": {},
     "output_type": "display_data"
    },
    {
     "data": {
      "application/vnd.jupyter.widget-view+json": {
       "model_id": "",
       "version_major": 2,
       "version_minor": 0
      },
      "text/plain": [
       "HBox(children=(FloatProgress(value=0.0, description='Batch', max=9.0, style=ProgressStyle(description_width='i…"
      ]
     },
     "metadata": {},
     "output_type": "display_data"
    },
    {
     "data": {
      "application/vnd.jupyter.widget-view+json": {
       "model_id": "",
       "version_major": 2,
       "version_minor": 0
      },
      "text/plain": [
       "HBox(children=(FloatProgress(value=0.0, description='Batch', max=9.0, style=ProgressStyle(description_width='i…"
      ]
     },
     "metadata": {},
     "output_type": "display_data"
    },
    {
     "data": {
      "application/vnd.jupyter.widget-view+json": {
       "model_id": "",
       "version_major": 2,
       "version_minor": 0
      },
      "text/plain": [
       "HBox(children=(FloatProgress(value=0.0, description='Batch', max=9.0, style=ProgressStyle(description_width='i…"
      ]
     },
     "metadata": {},
     "output_type": "display_data"
    },
    {
     "data": {
      "application/vnd.jupyter.widget-view+json": {
       "model_id": "",
       "version_major": 2,
       "version_minor": 0
      },
      "text/plain": [
       "HBox(children=(FloatProgress(value=0.0, description='Batch', max=9.0, style=ProgressStyle(description_width='i…"
      ]
     },
     "metadata": {},
     "output_type": "display_data"
    },
    {
     "data": {
      "application/vnd.jupyter.widget-view+json": {
       "model_id": "",
       "version_major": 2,
       "version_minor": 0
      },
      "text/plain": [
       "HBox(children=(FloatProgress(value=0.0, description='Batch', max=9.0, style=ProgressStyle(description_width='i…"
      ]
     },
     "metadata": {},
     "output_type": "display_data"
    },
    {
     "data": {
      "application/vnd.jupyter.widget-view+json": {
       "model_id": "",
       "version_major": 2,
       "version_minor": 0
      },
      "text/plain": [
       "HBox(children=(FloatProgress(value=0.0, description='Batch', max=9.0, style=ProgressStyle(description_width='i…"
      ]
     },
     "metadata": {},
     "output_type": "display_data"
    },
    {
     "data": {
      "application/vnd.jupyter.widget-view+json": {
       "model_id": "",
       "version_major": 2,
       "version_minor": 0
      },
      "text/plain": [
       "HBox(children=(FloatProgress(value=0.0, description='Batch', max=9.0, style=ProgressStyle(description_width='i…"
      ]
     },
     "metadata": {},
     "output_type": "display_data"
    },
    {
     "data": {
      "application/vnd.jupyter.widget-view+json": {
       "model_id": "",
       "version_major": 2,
       "version_minor": 0
      },
      "text/plain": [
       "HBox(children=(FloatProgress(value=0.0, description='Batch', max=9.0, style=ProgressStyle(description_width='i…"
      ]
     },
     "metadata": {},
     "output_type": "display_data"
    },
    {
     "data": {
      "application/vnd.jupyter.widget-view+json": {
       "model_id": "",
       "version_major": 2,
       "version_minor": 0
      },
      "text/plain": [
       "HBox(children=(FloatProgress(value=0.0, description='Batch', max=9.0, style=ProgressStyle(description_width='i…"
      ]
     },
     "metadata": {},
     "output_type": "display_data"
    },
    {
     "data": {
      "application/vnd.jupyter.widget-view+json": {
       "model_id": "",
       "version_major": 2,
       "version_minor": 0
      },
      "text/plain": [
       "HBox(children=(FloatProgress(value=0.0, description='Batch', max=9.0, style=ProgressStyle(description_width='i…"
      ]
     },
     "metadata": {},
     "output_type": "display_data"
    },
    {
     "data": {
      "application/vnd.jupyter.widget-view+json": {
       "model_id": "",
       "version_major": 2,
       "version_minor": 0
      },
      "text/plain": [
       "HBox(children=(FloatProgress(value=0.0, description='Batch', max=9.0, style=ProgressStyle(description_width='i…"
      ]
     },
     "metadata": {},
     "output_type": "display_data"
    },
    {
     "data": {
      "application/vnd.jupyter.widget-view+json": {
       "model_id": "",
       "version_major": 2,
       "version_minor": 0
      },
      "text/plain": [
       "HBox(children=(FloatProgress(value=0.0, description='Batch', max=9.0, style=ProgressStyle(description_width='i…"
      ]
     },
     "metadata": {},
     "output_type": "display_data"
    },
    {
     "data": {
      "application/vnd.jupyter.widget-view+json": {
       "model_id": "",
       "version_major": 2,
       "version_minor": 0
      },
      "text/plain": [
       "HBox(children=(FloatProgress(value=0.0, description='Batch', max=9.0, style=ProgressStyle(description_width='i…"
      ]
     },
     "metadata": {},
     "output_type": "display_data"
    },
    {
     "data": {
      "application/vnd.jupyter.widget-view+json": {
       "model_id": "",
       "version_major": 2,
       "version_minor": 0
      },
      "text/plain": [
       "HBox(children=(FloatProgress(value=0.0, description='Batch', max=9.0, style=ProgressStyle(description_width='i…"
      ]
     },
     "metadata": {},
     "output_type": "display_data"
    },
    {
     "data": {
      "application/vnd.jupyter.widget-view+json": {
       "model_id": "",
       "version_major": 2,
       "version_minor": 0
      },
      "text/plain": [
       "HBox(children=(FloatProgress(value=0.0, description='Batch', max=9.0, style=ProgressStyle(description_width='i…"
      ]
     },
     "metadata": {},
     "output_type": "display_data"
    },
    {
     "data": {
      "application/vnd.jupyter.widget-view+json": {
       "model_id": "",
       "version_major": 2,
       "version_minor": 0
      },
      "text/plain": [
       "HBox(children=(FloatProgress(value=0.0, description='Batch', max=9.0, style=ProgressStyle(description_width='i…"
      ]
     },
     "metadata": {},
     "output_type": "display_data"
    },
    {
     "data": {
      "application/vnd.jupyter.widget-view+json": {
       "model_id": "",
       "version_major": 2,
       "version_minor": 0
      },
      "text/plain": [
       "HBox(children=(FloatProgress(value=0.0, description='Batch', max=9.0, style=ProgressStyle(description_width='i…"
      ]
     },
     "metadata": {},
     "output_type": "display_data"
    },
    {
     "data": {
      "application/vnd.jupyter.widget-view+json": {
       "model_id": "",
       "version_major": 2,
       "version_minor": 0
      },
      "text/plain": [
       "HBox(children=(FloatProgress(value=0.0, description='Batch', max=9.0, style=ProgressStyle(description_width='i…"
      ]
     },
     "metadata": {},
     "output_type": "display_data"
    },
    {
     "data": {
      "application/vnd.jupyter.widget-view+json": {
       "model_id": "",
       "version_major": 2,
       "version_minor": 0
      },
      "text/plain": [
       "HBox(children=(FloatProgress(value=0.0, description='Batch', max=9.0, style=ProgressStyle(description_width='i…"
      ]
     },
     "metadata": {},
     "output_type": "display_data"
    },
    {
     "data": {
      "application/vnd.jupyter.widget-view+json": {
       "model_id": "",
       "version_major": 2,
       "version_minor": 0
      },
      "text/plain": [
       "HBox(children=(FloatProgress(value=0.0, description='Batch', max=9.0, style=ProgressStyle(description_width='i…"
      ]
     },
     "metadata": {},
     "output_type": "display_data"
    },
    {
     "data": {
      "application/vnd.jupyter.widget-view+json": {
       "model_id": "",
       "version_major": 2,
       "version_minor": 0
      },
      "text/plain": [
       "HBox(children=(FloatProgress(value=0.0, description='Batch', max=9.0, style=ProgressStyle(description_width='i…"
      ]
     },
     "metadata": {},
     "output_type": "display_data"
    },
    {
     "data": {
      "application/vnd.jupyter.widget-view+json": {
       "model_id": "",
       "version_major": 2,
       "version_minor": 0
      },
      "text/plain": [
       "HBox(children=(FloatProgress(value=0.0, description='Batch', max=9.0, style=ProgressStyle(description_width='i…"
      ]
     },
     "metadata": {},
     "output_type": "display_data"
    },
    {
     "data": {
      "application/vnd.jupyter.widget-view+json": {
       "model_id": "",
       "version_major": 2,
       "version_minor": 0
      },
      "text/plain": [
       "HBox(children=(FloatProgress(value=0.0, description='Batch', max=9.0, style=ProgressStyle(description_width='i…"
      ]
     },
     "metadata": {},
     "output_type": "display_data"
    },
    {
     "data": {
      "application/vnd.jupyter.widget-view+json": {
       "model_id": "",
       "version_major": 2,
       "version_minor": 0
      },
      "text/plain": [
       "HBox(children=(FloatProgress(value=0.0, description='Batch', max=9.0, style=ProgressStyle(description_width='i…"
      ]
     },
     "metadata": {},
     "output_type": "display_data"
    },
    {
     "data": {
      "application/vnd.jupyter.widget-view+json": {
       "model_id": "",
       "version_major": 2,
       "version_minor": 0
      },
      "text/plain": [
       "HBox(children=(FloatProgress(value=0.0, description='Batch', max=9.0, style=ProgressStyle(description_width='i…"
      ]
     },
     "metadata": {},
     "output_type": "display_data"
    },
    {
     "data": {
      "application/vnd.jupyter.widget-view+json": {
       "model_id": "",
       "version_major": 2,
       "version_minor": 0
      },
      "text/plain": [
       "HBox(children=(FloatProgress(value=0.0, description='Batch', max=9.0, style=ProgressStyle(description_width='i…"
      ]
     },
     "metadata": {},
     "output_type": "display_data"
    },
    {
     "data": {
      "application/vnd.jupyter.widget-view+json": {
       "model_id": "",
       "version_major": 2,
       "version_minor": 0
      },
      "text/plain": [
       "HBox(children=(FloatProgress(value=0.0, description='Batch', max=9.0, style=ProgressStyle(description_width='i…"
      ]
     },
     "metadata": {},
     "output_type": "display_data"
    },
    {
     "data": {
      "application/vnd.jupyter.widget-view+json": {
       "model_id": "",
       "version_major": 2,
       "version_minor": 0
      },
      "text/plain": [
       "HBox(children=(FloatProgress(value=0.0, description='Batch', max=9.0, style=ProgressStyle(description_width='i…"
      ]
     },
     "metadata": {},
     "output_type": "display_data"
    },
    {
     "data": {
      "application/vnd.jupyter.widget-view+json": {
       "model_id": "",
       "version_major": 2,
       "version_minor": 0
      },
      "text/plain": [
       "HBox(children=(FloatProgress(value=0.0, description='Batch', max=9.0, style=ProgressStyle(description_width='i…"
      ]
     },
     "metadata": {},
     "output_type": "display_data"
    },
    {
     "data": {
      "application/vnd.jupyter.widget-view+json": {
       "model_id": "",
       "version_major": 2,
       "version_minor": 0
      },
      "text/plain": [
       "HBox(children=(FloatProgress(value=0.0, description='Batch', max=9.0, style=ProgressStyle(description_width='i…"
      ]
     },
     "metadata": {},
     "output_type": "display_data"
    },
    {
     "data": {
      "application/vnd.jupyter.widget-view+json": {
       "model_id": "",
       "version_major": 2,
       "version_minor": 0
      },
      "text/plain": [
       "HBox(children=(FloatProgress(value=0.0, description='Batch', max=9.0, style=ProgressStyle(description_width='i…"
      ]
     },
     "metadata": {},
     "output_type": "display_data"
    },
    {
     "data": {
      "application/vnd.jupyter.widget-view+json": {
       "model_id": "",
       "version_major": 2,
       "version_minor": 0
      },
      "text/plain": [
       "HBox(children=(FloatProgress(value=0.0, description='Batch', max=9.0, style=ProgressStyle(description_width='i…"
      ]
     },
     "metadata": {},
     "output_type": "display_data"
    },
    {
     "data": {
      "application/vnd.jupyter.widget-view+json": {
       "model_id": "",
       "version_major": 2,
       "version_minor": 0
      },
      "text/plain": [
       "HBox(children=(FloatProgress(value=0.0, description='Batch', max=9.0, style=ProgressStyle(description_width='i…"
      ]
     },
     "metadata": {},
     "output_type": "display_data"
    },
    {
     "data": {
      "application/vnd.jupyter.widget-view+json": {
       "model_id": "",
       "version_major": 2,
       "version_minor": 0
      },
      "text/plain": [
       "HBox(children=(FloatProgress(value=0.0, description='Batch', max=9.0, style=ProgressStyle(description_width='i…"
      ]
     },
     "metadata": {},
     "output_type": "display_data"
    },
    {
     "data": {
      "application/vnd.jupyter.widget-view+json": {
       "model_id": "",
       "version_major": 2,
       "version_minor": 0
      },
      "text/plain": [
       "HBox(children=(FloatProgress(value=0.0, description='Batch', max=9.0, style=ProgressStyle(description_width='i…"
      ]
     },
     "metadata": {},
     "output_type": "display_data"
    },
    {
     "data": {
      "application/vnd.jupyter.widget-view+json": {
       "model_id": "",
       "version_major": 2,
       "version_minor": 0
      },
      "text/plain": [
       "HBox(children=(FloatProgress(value=0.0, description='Batch', max=9.0, style=ProgressStyle(description_width='i…"
      ]
     },
     "metadata": {},
     "output_type": "display_data"
    },
    {
     "data": {
      "application/vnd.jupyter.widget-view+json": {
       "model_id": "",
       "version_major": 2,
       "version_minor": 0
      },
      "text/plain": [
       "HBox(children=(FloatProgress(value=0.0, description='Batch', max=9.0, style=ProgressStyle(description_width='i…"
      ]
     },
     "metadata": {},
     "output_type": "display_data"
    },
    {
     "data": {
      "application/vnd.jupyter.widget-view+json": {
       "model_id": "",
       "version_major": 2,
       "version_minor": 0
      },
      "text/plain": [
       "HBox(children=(FloatProgress(value=0.0, description='Batch', max=9.0, style=ProgressStyle(description_width='i…"
      ]
     },
     "metadata": {},
     "output_type": "display_data"
    },
    {
     "data": {
      "application/vnd.jupyter.widget-view+json": {
       "model_id": "",
       "version_major": 2,
       "version_minor": 0
      },
      "text/plain": [
       "HBox(children=(FloatProgress(value=0.0, description='Batch', max=9.0, style=ProgressStyle(description_width='i…"
      ]
     },
     "metadata": {},
     "output_type": "display_data"
    },
    {
     "data": {
      "application/vnd.jupyter.widget-view+json": {
       "model_id": "",
       "version_major": 2,
       "version_minor": 0
      },
      "text/plain": [
       "HBox(children=(FloatProgress(value=0.0, description='Batch', max=9.0, style=ProgressStyle(description_width='i…"
      ]
     },
     "metadata": {},
     "output_type": "display_data"
    },
    {
     "data": {
      "application/vnd.jupyter.widget-view+json": {
       "model_id": "",
       "version_major": 2,
       "version_minor": 0
      },
      "text/plain": [
       "HBox(children=(FloatProgress(value=0.0, description='Batch', max=9.0, style=ProgressStyle(description_width='i…"
      ]
     },
     "metadata": {},
     "output_type": "display_data"
    },
    {
     "data": {
      "application/vnd.jupyter.widget-view+json": {
       "model_id": "",
       "version_major": 2,
       "version_minor": 0
      },
      "text/plain": [
       "HBox(children=(FloatProgress(value=0.0, description='Batch', max=9.0, style=ProgressStyle(description_width='i…"
      ]
     },
     "metadata": {},
     "output_type": "display_data"
    },
    {
     "data": {
      "application/vnd.jupyter.widget-view+json": {
       "model_id": "",
       "version_major": 2,
       "version_minor": 0
      },
      "text/plain": [
       "HBox(children=(FloatProgress(value=0.0, description='Batch', max=9.0, style=ProgressStyle(description_width='i…"
      ]
     },
     "metadata": {},
     "output_type": "display_data"
    },
    {
     "data": {
      "application/vnd.jupyter.widget-view+json": {
       "model_id": "",
       "version_major": 2,
       "version_minor": 0
      },
      "text/plain": [
       "HBox(children=(FloatProgress(value=0.0, description='Batch', max=9.0, style=ProgressStyle(description_width='i…"
      ]
     },
     "metadata": {},
     "output_type": "display_data"
    },
    {
     "data": {
      "application/vnd.jupyter.widget-view+json": {
       "model_id": "",
       "version_major": 2,
       "version_minor": 0
      },
      "text/plain": [
       "HBox(children=(FloatProgress(value=0.0, description='Batch', max=9.0, style=ProgressStyle(description_width='i…"
      ]
     },
     "metadata": {},
     "output_type": "display_data"
    },
    {
     "data": {
      "application/vnd.jupyter.widget-view+json": {
       "model_id": "",
       "version_major": 2,
       "version_minor": 0
      },
      "text/plain": [
       "HBox(children=(FloatProgress(value=0.0, description='Batch', max=9.0, style=ProgressStyle(description_width='i…"
      ]
     },
     "metadata": {},
     "output_type": "display_data"
    },
    {
     "data": {
      "application/vnd.jupyter.widget-view+json": {
       "model_id": "",
       "version_major": 2,
       "version_minor": 0
      },
      "text/plain": [
       "HBox(children=(FloatProgress(value=0.0, description='Batch', max=9.0, style=ProgressStyle(description_width='i…"
      ]
     },
     "metadata": {},
     "output_type": "display_data"
    },
    {
     "data": {
      "application/vnd.jupyter.widget-view+json": {
       "model_id": "",
       "version_major": 2,
       "version_minor": 0
      },
      "text/plain": [
       "HBox(children=(FloatProgress(value=0.0, description='Batch', max=9.0, style=ProgressStyle(description_width='i…"
      ]
     },
     "metadata": {},
     "output_type": "display_data"
    },
    {
     "data": {
      "application/vnd.jupyter.widget-view+json": {
       "model_id": "",
       "version_major": 2,
       "version_minor": 0
      },
      "text/plain": [
       "HBox(children=(FloatProgress(value=0.0, description='Batch', max=9.0, style=ProgressStyle(description_width='i…"
      ]
     },
     "metadata": {},
     "output_type": "display_data"
    },
    {
     "data": {
      "application/vnd.jupyter.widget-view+json": {
       "model_id": "",
       "version_major": 2,
       "version_minor": 0
      },
      "text/plain": [
       "HBox(children=(FloatProgress(value=0.0, description='Batch', max=9.0, style=ProgressStyle(description_width='i…"
      ]
     },
     "metadata": {},
     "output_type": "display_data"
    },
    {
     "data": {
      "application/vnd.jupyter.widget-view+json": {
       "model_id": "",
       "version_major": 2,
       "version_minor": 0
      },
      "text/plain": [
       "HBox(children=(FloatProgress(value=0.0, description='Batch', max=9.0, style=ProgressStyle(description_width='i…"
      ]
     },
     "metadata": {},
     "output_type": "display_data"
    },
    {
     "data": {
      "application/vnd.jupyter.widget-view+json": {
       "model_id": "",
       "version_major": 2,
       "version_minor": 0
      },
      "text/plain": [
       "HBox(children=(FloatProgress(value=0.0, description='Batch', max=9.0, style=ProgressStyle(description_width='i…"
      ]
     },
     "metadata": {},
     "output_type": "display_data"
    },
    {
     "data": {
      "application/vnd.jupyter.widget-view+json": {
       "model_id": "",
       "version_major": 2,
       "version_minor": 0
      },
      "text/plain": [
       "HBox(children=(FloatProgress(value=0.0, description='Batch', max=9.0, style=ProgressStyle(description_width='i…"
      ]
     },
     "metadata": {},
     "output_type": "display_data"
    },
    {
     "data": {
      "application/vnd.jupyter.widget-view+json": {
       "model_id": "",
       "version_major": 2,
       "version_minor": 0
      },
      "text/plain": [
       "HBox(children=(FloatProgress(value=0.0, description='Batch', max=9.0, style=ProgressStyle(description_width='i…"
      ]
     },
     "metadata": {},
     "output_type": "display_data"
    },
    {
     "data": {
      "application/vnd.jupyter.widget-view+json": {
       "model_id": "",
       "version_major": 2,
       "version_minor": 0
      },
      "text/plain": [
       "HBox(children=(FloatProgress(value=0.0, description='Batch', max=9.0, style=ProgressStyle(description_width='i…"
      ]
     },
     "metadata": {},
     "output_type": "display_data"
    },
    {
     "data": {
      "application/vnd.jupyter.widget-view+json": {
       "model_id": "",
       "version_major": 2,
       "version_minor": 0
      },
      "text/plain": [
       "HBox(children=(FloatProgress(value=0.0, description='Batch', max=9.0, style=ProgressStyle(description_width='i…"
      ]
     },
     "metadata": {},
     "output_type": "display_data"
    },
    {
     "data": {
      "application/vnd.jupyter.widget-view+json": {
       "model_id": "",
       "version_major": 2,
       "version_minor": 0
      },
      "text/plain": [
       "HBox(children=(FloatProgress(value=0.0, description='Batch', max=9.0, style=ProgressStyle(description_width='i…"
      ]
     },
     "metadata": {},
     "output_type": "display_data"
    },
    {
     "data": {
      "application/vnd.jupyter.widget-view+json": {
       "model_id": "",
       "version_major": 2,
       "version_minor": 0
      },
      "text/plain": [
       "HBox(children=(FloatProgress(value=0.0, description='Batch', max=9.0, style=ProgressStyle(description_width='i…"
      ]
     },
     "metadata": {},
     "output_type": "display_data"
    },
    {
     "data": {
      "application/vnd.jupyter.widget-view+json": {
       "model_id": "",
       "version_major": 2,
       "version_minor": 0
      },
      "text/plain": [
       "HBox(children=(FloatProgress(value=0.0, description='Batch', max=9.0, style=ProgressStyle(description_width='i…"
      ]
     },
     "metadata": {},
     "output_type": "display_data"
    },
    {
     "data": {
      "application/vnd.jupyter.widget-view+json": {
       "model_id": "",
       "version_major": 2,
       "version_minor": 0
      },
      "text/plain": [
       "HBox(children=(FloatProgress(value=0.0, description='Batch', max=9.0, style=ProgressStyle(description_width='i…"
      ]
     },
     "metadata": {},
     "output_type": "display_data"
    },
    {
     "data": {
      "application/vnd.jupyter.widget-view+json": {
       "model_id": "",
       "version_major": 2,
       "version_minor": 0
      },
      "text/plain": [
       "HBox(children=(FloatProgress(value=0.0, description='Batch', max=9.0, style=ProgressStyle(description_width='i…"
      ]
     },
     "metadata": {},
     "output_type": "display_data"
    },
    {
     "data": {
      "application/vnd.jupyter.widget-view+json": {
       "model_id": "",
       "version_major": 2,
       "version_minor": 0
      },
      "text/plain": [
       "HBox(children=(FloatProgress(value=0.0, description='Batch', max=9.0, style=ProgressStyle(description_width='i…"
      ]
     },
     "metadata": {},
     "output_type": "display_data"
    },
    {
     "data": {
      "application/vnd.jupyter.widget-view+json": {
       "model_id": "",
       "version_major": 2,
       "version_minor": 0
      },
      "text/plain": [
       "HBox(children=(FloatProgress(value=0.0, description='Batch', max=9.0, style=ProgressStyle(description_width='i…"
      ]
     },
     "metadata": {},
     "output_type": "display_data"
    },
    {
     "data": {
      "application/vnd.jupyter.widget-view+json": {
       "model_id": "",
       "version_major": 2,
       "version_minor": 0
      },
      "text/plain": [
       "HBox(children=(FloatProgress(value=0.0, description='Batch', max=9.0, style=ProgressStyle(description_width='i…"
      ]
     },
     "metadata": {},
     "output_type": "display_data"
    },
    {
     "data": {
      "application/vnd.jupyter.widget-view+json": {
       "model_id": "",
       "version_major": 2,
       "version_minor": 0
      },
      "text/plain": [
       "HBox(children=(FloatProgress(value=0.0, description='Batch', max=9.0, style=ProgressStyle(description_width='i…"
      ]
     },
     "metadata": {},
     "output_type": "display_data"
    },
    {
     "data": {
      "application/vnd.jupyter.widget-view+json": {
       "model_id": "",
       "version_major": 2,
       "version_minor": 0
      },
      "text/plain": [
       "HBox(children=(FloatProgress(value=0.0, description='Batch', max=9.0, style=ProgressStyle(description_width='i…"
      ]
     },
     "metadata": {},
     "output_type": "display_data"
    },
    {
     "data": {
      "application/vnd.jupyter.widget-view+json": {
       "model_id": "",
       "version_major": 2,
       "version_minor": 0
      },
      "text/plain": [
       "HBox(children=(FloatProgress(value=0.0, description='Batch', max=9.0, style=ProgressStyle(description_width='i…"
      ]
     },
     "metadata": {},
     "output_type": "display_data"
    },
    {
     "data": {
      "application/vnd.jupyter.widget-view+json": {
       "model_id": "",
       "version_major": 2,
       "version_minor": 0
      },
      "text/plain": [
       "HBox(children=(FloatProgress(value=0.0, description='Batch', max=9.0, style=ProgressStyle(description_width='i…"
      ]
     },
     "metadata": {},
     "output_type": "display_data"
    },
    {
     "data": {
      "application/vnd.jupyter.widget-view+json": {
       "model_id": "",
       "version_major": 2,
       "version_minor": 0
      },
      "text/plain": [
       "HBox(children=(FloatProgress(value=0.0, description='Batch', max=9.0, style=ProgressStyle(description_width='i…"
      ]
     },
     "metadata": {},
     "output_type": "display_data"
    },
    {
     "data": {
      "application/vnd.jupyter.widget-view+json": {
       "model_id": "",
       "version_major": 2,
       "version_minor": 0
      },
      "text/plain": [
       "HBox(children=(FloatProgress(value=0.0, description='Batch', max=9.0, style=ProgressStyle(description_width='i…"
      ]
     },
     "metadata": {},
     "output_type": "display_data"
    },
    {
     "data": {
      "application/vnd.jupyter.widget-view+json": {
       "model_id": "",
       "version_major": 2,
       "version_minor": 0
      },
      "text/plain": [
       "HBox(children=(FloatProgress(value=0.0, description='Batch', max=9.0, style=ProgressStyle(description_width='i…"
      ]
     },
     "metadata": {},
     "output_type": "display_data"
    },
    {
     "data": {
      "application/vnd.jupyter.widget-view+json": {
       "model_id": "",
       "version_major": 2,
       "version_minor": 0
      },
      "text/plain": [
       "HBox(children=(FloatProgress(value=0.0, description='Batch', max=9.0, style=ProgressStyle(description_width='i…"
      ]
     },
     "metadata": {},
     "output_type": "display_data"
    },
    {
     "data": {
      "application/vnd.jupyter.widget-view+json": {
       "model_id": "",
       "version_major": 2,
       "version_minor": 0
      },
      "text/plain": [
       "HBox(children=(FloatProgress(value=0.0, description='Batch', max=9.0, style=ProgressStyle(description_width='i…"
      ]
     },
     "metadata": {},
     "output_type": "display_data"
    },
    {
     "data": {
      "application/vnd.jupyter.widget-view+json": {
       "model_id": "",
       "version_major": 2,
       "version_minor": 0
      },
      "text/plain": [
       "HBox(children=(FloatProgress(value=0.0, description='Batch', max=9.0, style=ProgressStyle(description_width='i…"
      ]
     },
     "metadata": {},
     "output_type": "display_data"
    },
    {
     "data": {
      "application/vnd.jupyter.widget-view+json": {
       "model_id": "",
       "version_major": 2,
       "version_minor": 0
      },
      "text/plain": [
       "HBox(children=(FloatProgress(value=0.0, description='Batch', max=9.0, style=ProgressStyle(description_width='i…"
      ]
     },
     "metadata": {},
     "output_type": "display_data"
    },
    {
     "data": {
      "application/vnd.jupyter.widget-view+json": {
       "model_id": "",
       "version_major": 2,
       "version_minor": 0
      },
      "text/plain": [
       "HBox(children=(FloatProgress(value=0.0, description='Batch', max=9.0, style=ProgressStyle(description_width='i…"
      ]
     },
     "metadata": {},
     "output_type": "display_data"
    },
    {
     "data": {
      "application/vnd.jupyter.widget-view+json": {
       "model_id": "",
       "version_major": 2,
       "version_minor": 0
      },
      "text/plain": [
       "HBox(children=(FloatProgress(value=0.0, description='Batch', max=9.0, style=ProgressStyle(description_width='i…"
      ]
     },
     "metadata": {},
     "output_type": "display_data"
    },
    {
     "data": {
      "application/vnd.jupyter.widget-view+json": {
       "model_id": "",
       "version_major": 2,
       "version_minor": 0
      },
      "text/plain": [
       "HBox(children=(FloatProgress(value=0.0, description='Batch', max=9.0, style=ProgressStyle(description_width='i…"
      ]
     },
     "metadata": {},
     "output_type": "display_data"
    },
    {
     "data": {
      "application/vnd.jupyter.widget-view+json": {
       "model_id": "",
       "version_major": 2,
       "version_minor": 0
      },
      "text/plain": [
       "HBox(children=(FloatProgress(value=0.0, description='Batch', max=9.0, style=ProgressStyle(description_width='i…"
      ]
     },
     "metadata": {},
     "output_type": "display_data"
    },
    {
     "data": {
      "application/vnd.jupyter.widget-view+json": {
       "model_id": "",
       "version_major": 2,
       "version_minor": 0
      },
      "text/plain": [
       "HBox(children=(FloatProgress(value=0.0, description='Batch', max=9.0, style=ProgressStyle(description_width='i…"
      ]
     },
     "metadata": {},
     "output_type": "display_data"
    },
    {
     "data": {
      "application/vnd.jupyter.widget-view+json": {
       "model_id": "",
       "version_major": 2,
       "version_minor": 0
      },
      "text/plain": [
       "HBox(children=(FloatProgress(value=0.0, description='Batch', max=9.0, style=ProgressStyle(description_width='i…"
      ]
     },
     "metadata": {},
     "output_type": "display_data"
    },
    {
     "data": {
      "application/vnd.jupyter.widget-view+json": {
       "model_id": "",
       "version_major": 2,
       "version_minor": 0
      },
      "text/plain": [
       "HBox(children=(FloatProgress(value=0.0, description='Batch', max=9.0, style=ProgressStyle(description_width='i…"
      ]
     },
     "metadata": {},
     "output_type": "display_data"
    },
    {
     "data": {
      "application/vnd.jupyter.widget-view+json": {
       "model_id": "",
       "version_major": 2,
       "version_minor": 0
      },
      "text/plain": [
       "HBox(children=(FloatProgress(value=0.0, description='Batch', max=9.0, style=ProgressStyle(description_width='i…"
      ]
     },
     "metadata": {},
     "output_type": "display_data"
    },
    {
     "data": {
      "application/vnd.jupyter.widget-view+json": {
       "model_id": "",
       "version_major": 2,
       "version_minor": 0
      },
      "text/plain": [
       "HBox(children=(FloatProgress(value=0.0, description='Batch', max=9.0, style=ProgressStyle(description_width='i…"
      ]
     },
     "metadata": {},
     "output_type": "display_data"
    },
    {
     "data": {
      "application/vnd.jupyter.widget-view+json": {
       "model_id": "",
       "version_major": 2,
       "version_minor": 0
      },
      "text/plain": [
       "HBox(children=(FloatProgress(value=0.0, description='Batch', max=9.0, style=ProgressStyle(description_width='i…"
      ]
     },
     "metadata": {},
     "output_type": "display_data"
    },
    {
     "data": {
      "application/vnd.jupyter.widget-view+json": {
       "model_id": "",
       "version_major": 2,
       "version_minor": 0
      },
      "text/plain": [
       "HBox(children=(FloatProgress(value=0.0, description='Batch', max=9.0, style=ProgressStyle(description_width='i…"
      ]
     },
     "metadata": {},
     "output_type": "display_data"
    },
    {
     "data": {
      "application/vnd.jupyter.widget-view+json": {
       "model_id": "",
       "version_major": 2,
       "version_minor": 0
      },
      "text/plain": [
       "HBox(children=(FloatProgress(value=0.0, description='Batch', max=9.0, style=ProgressStyle(description_width='i…"
      ]
     },
     "metadata": {},
     "output_type": "display_data"
    },
    {
     "data": {
      "application/vnd.jupyter.widget-view+json": {
       "model_id": "",
       "version_major": 2,
       "version_minor": 0
      },
      "text/plain": [
       "HBox(children=(FloatProgress(value=0.0, description='Batch', max=9.0, style=ProgressStyle(description_width='i…"
      ]
     },
     "metadata": {},
     "output_type": "display_data"
    },
    {
     "data": {
      "application/vnd.jupyter.widget-view+json": {
       "model_id": "",
       "version_major": 2,
       "version_minor": 0
      },
      "text/plain": [
       "HBox(children=(FloatProgress(value=0.0, description='Batch', max=9.0, style=ProgressStyle(description_width='i…"
      ]
     },
     "metadata": {},
     "output_type": "display_data"
    },
    {
     "data": {
      "application/vnd.jupyter.widget-view+json": {
       "model_id": "",
       "version_major": 2,
       "version_minor": 0
      },
      "text/plain": [
       "HBox(children=(FloatProgress(value=0.0, description='Batch', max=9.0, style=ProgressStyle(description_width='i…"
      ]
     },
     "metadata": {},
     "output_type": "display_data"
    },
    {
     "data": {
      "application/vnd.jupyter.widget-view+json": {
       "model_id": "",
       "version_major": 2,
       "version_minor": 0
      },
      "text/plain": [
       "HBox(children=(FloatProgress(value=0.0, description='Batch', max=9.0, style=ProgressStyle(description_width='i…"
      ]
     },
     "metadata": {},
     "output_type": "display_data"
    },
    {
     "data": {
      "application/vnd.jupyter.widget-view+json": {
       "model_id": "",
       "version_major": 2,
       "version_minor": 0
      },
      "text/plain": [
       "HBox(children=(FloatProgress(value=0.0, description='Batch', max=9.0, style=ProgressStyle(description_width='i…"
      ]
     },
     "metadata": {},
     "output_type": "display_data"
    },
    {
     "data": {
      "application/vnd.jupyter.widget-view+json": {
       "model_id": "",
       "version_major": 2,
       "version_minor": 0
      },
      "text/plain": [
       "HBox(children=(FloatProgress(value=0.0, description='Batch', max=9.0, style=ProgressStyle(description_width='i…"
      ]
     },
     "metadata": {},
     "output_type": "display_data"
    },
    {
     "data": {
      "application/vnd.jupyter.widget-view+json": {
       "model_id": "",
       "version_major": 2,
       "version_minor": 0
      },
      "text/plain": [
       "HBox(children=(FloatProgress(value=0.0, description='Batch', max=9.0, style=ProgressStyle(description_width='i…"
      ]
     },
     "metadata": {},
     "output_type": "display_data"
    },
    {
     "data": {
      "application/vnd.jupyter.widget-view+json": {
       "model_id": "",
       "version_major": 2,
       "version_minor": 0
      },
      "text/plain": [
       "HBox(children=(FloatProgress(value=0.0, description='Batch', max=9.0, style=ProgressStyle(description_width='i…"
      ]
     },
     "metadata": {},
     "output_type": "display_data"
    },
    {
     "name": "stdout",
     "output_type": "stream",
     "text": [
      "\n"
     ]
    }
   ],
   "source": [
    "num_passes = 200\n",
    "model.fit_offline(batch_vectorizer=batch_vectorizer_mono, num_collection_passes=num_passes)"
   ]
  },
  {
   "cell_type": "markdown",
   "metadata": {},
   "source": [
    "Выведите график изменения перплексии в зависимости от итерации алгоритма, чтобы мы знали, что ваш алгоритм точно сошёлся :)"
   ]
  },
  {
   "cell_type": "code",
   "execution_count": 388,
   "metadata": {},
   "outputs": [
    {
     "data": {
      "image/png": "[encoded data removed]",
      "text/plain": [
       "<Figure size 432x288 with 1 Axes>"
      ]
     },
     "metadata": {
      "needs_background": "light"
     },
     "output_type": "display_data"
    }
   ],
   "source": [
    "plt.plot(list(range(1, num_passes)), model.score_tracker['perplexity_score'].value[1:])\n",
    "plt.grid()\n",
    "plt.xlabel('num passes')\n",
    "plt.ylabel('peplexity score')\n",
    "plt.show()"
   ]
  },
  {
   "cell_type": "markdown",
   "metadata": {},
   "source": [
    "#### Интерпретация результатов\n",
    "\n",
    "Основная особенность тематических моделей — интерпретируемость получаемых матриц $\\Phi$ и $\\Theta$. С помощью $\\Phi$ для каждой темы можно узнать топ-слова, а с помощью $\\Theta$ для каждой темы можно узнать топ-документы. \n",
    "Для того, чтобы получить матрицу $\\Theta$, используйте метод .transform.\n",
    "\n",
    "Для каждой темы выведите топ её слов ($\\geq 20$) и топ заголовкой её документов ($\\geq 5$). Попробуйте интерпертировать полученные темы, действительно ли темы получаются осмысленными?"
   ]
  },
  {
   "cell_type": "code",
   "execution_count": 389,
   "metadata": {},
   "outputs": [],
   "source": [
    "file_name_to_title = {}\n",
    "with open('ted_collection/titles_file.json') as f:\n",
    "    for line in f:\n",
    "        file_name_to_title.update(json.loads(line))"
   ]
  },
  {
   "cell_type": "code",
   "execution_count": 390,
   "metadata": {},
   "outputs": [],
   "source": [
    "import pandas as pd\n",
    "\n",
    "phi = model.get_phi()\n",
    "lst = []\n",
    "for topic in phi:\n",
    "    d = dict(phi[topic])\n",
    "    lst.append(sorted(d, reverse=True, key = lambda x: d[x]))\n",
    "top_words = pd.DataFrame(lst, index=[f'topic_{i}' for i in range(30)])"
   ]
  },
  {
   "cell_type": "code",
   "execution_count": 391,
   "metadata": {},
   "outputs": [
    {
     "data": {
      "text/html": [
       "<div>\n",
       "<style scoped>\n",
       "    .dataframe tbody tr th:only-of-type {\n",
       "        vertical-align: middle;\n",
       "    }\n",
       "\n",
       "    .dataframe tbody tr th {\n",
       "        vertical-align: top;\n",
       "    }\n",
       "\n",
       "    .dataframe thead th {\n",
       "        text-align: right;\n",
       "    }\n",
       "</style>\n",
       "<table border=\"1\" class=\"dataframe\">\n",
       "  <thead>\n",
       "    <tr style=\"text-align: right;\">\n",
       "      <th></th>\n",
       "      <th>0</th>\n",
       "      <th>1</th>\n",
       "      <th>2</th>\n",
       "      <th>3</th>\n",
       "      <th>4</th>\n",
       "      <th>5</th>\n",
       "      <th>6</th>\n",
       "      <th>7</th>\n",
       "      <th>8</th>\n",
       "      <th>9</th>\n",
       "      <th>10</th>\n",
       "      <th>11</th>\n",
       "      <th>12</th>\n",
       "      <th>13</th>\n",
       "      <th>14</th>\n",
       "      <th>15</th>\n",
       "      <th>16</th>\n",
       "      <th>17</th>\n",
       "      <th>18</th>\n",
       "      <th>19</th>\n",
       "    </tr>\n",
       "  </thead>\n",
       "  <tbody>\n",
       "    <tr>\n",
       "      <th>topic_0</th>\n",
       "      <td>water</td>\n",
       "      <td>energy</td>\n",
       "      <td>climate</td>\n",
       "      <td>year</td>\n",
       "      <td>change</td>\n",
       "      <td>need</td>\n",
       "      <td>oil</td>\n",
       "      <td>carbon</td>\n",
       "      <td>percent</td>\n",
       "      <td>world</td>\n",
       "      <td>air</td>\n",
       "      <td>fuel</td>\n",
       "      <td>global</td>\n",
       "      <td>gas</td>\n",
       "      <td>problem</td>\n",
       "      <td>system</td>\n",
       "      <td>one</td>\n",
       "      <td>much</td>\n",
       "      <td>use</td>\n",
       "      <td>u</td>\n",
       "    </tr>\n",
       "    <tr>\n",
       "      <th>topic_1</th>\n",
       "      <td>patient</td>\n",
       "      <td>health</td>\n",
       "      <td>disease</td>\n",
       "      <td>cancer</td>\n",
       "      <td>doctor</td>\n",
       "      <td>drug</td>\n",
       "      <td>care</td>\n",
       "      <td>medical</td>\n",
       "      <td>one</td>\n",
       "      <td>hospital</td>\n",
       "      <td>treatment</td>\n",
       "      <td>year</td>\n",
       "      <td>medicine</td>\n",
       "      <td>heart</td>\n",
       "      <td>need</td>\n",
       "      <td>percent</td>\n",
       "      <td>blood</td>\n",
       "      <td>problem</td>\n",
       "      <td>well</td>\n",
       "      <td>get</td>\n",
       "    </tr>\n",
       "    <tr>\n",
       "      <th>topic_2</th>\n",
       "      <td>company</td>\n",
       "      <td>money</td>\n",
       "      <td>dollar</td>\n",
       "      <td>business</td>\n",
       "      <td>market</td>\n",
       "      <td>year</td>\n",
       "      <td>percent</td>\n",
       "      <td>make</td>\n",
       "      <td>work</td>\n",
       "      <td>cost</td>\n",
       "      <td>one</td>\n",
       "      <td>product</td>\n",
       "      <td>would</td>\n",
       "      <td>need</td>\n",
       "      <td>get</td>\n",
       "      <td>buy</td>\n",
       "      <td>job</td>\n",
       "      <td>pay</td>\n",
       "      <td>value</td>\n",
       "      <td>new</td>\n",
       "    </tr>\n",
       "    <tr>\n",
       "      <th>topic_3</th>\n",
       "      <td>data</td>\n",
       "      <td>technology</td>\n",
       "      <td>computer</td>\n",
       "      <td>information</td>\n",
       "      <td>internet</td>\n",
       "      <td>like</td>\n",
       "      <td>use</td>\n",
       "      <td>phone</td>\n",
       "      <td>world</td>\n",
       "      <td>network</td>\n",
       "      <td>one</td>\n",
       "      <td>new</td>\n",
       "      <td>system</td>\n",
       "      <td>digital</td>\n",
       "      <td>using</td>\n",
       "      <td>time</td>\n",
       "      <td>u</td>\n",
       "      <td>could</td>\n",
       "      <td>device</td>\n",
       "      <td>see</td>\n",
       "    </tr>\n",
       "    <tr>\n",
       "      <th>topic_4</th>\n",
       "      <td>woman</td>\n",
       "      <td>men</td>\n",
       "      <td>girl</td>\n",
       "      <td>sex</td>\n",
       "      <td>like</td>\n",
       "      <td>male</td>\n",
       "      <td>female</td>\n",
       "      <td>one</td>\n",
       "      <td>man</td>\n",
       "      <td>gender</td>\n",
       "      <td>want</td>\n",
       "      <td>laughter</td>\n",
       "      <td>boy</td>\n",
       "      <td>would</td>\n",
       "      <td>say</td>\n",
       "      <td>right</td>\n",
       "      <td>young</td>\n",
       "      <td>applause</td>\n",
       "      <td>talk</td>\n",
       "      <td>u</td>\n",
       "    </tr>\n",
       "    <tr>\n",
       "      <th>topic_5</th>\n",
       "      <td>word</td>\n",
       "      <td>language</td>\n",
       "      <td>world</td>\n",
       "      <td>one</td>\n",
       "      <td>god</td>\n",
       "      <td>say</td>\n",
       "      <td>think</td>\n",
       "      <td>u</td>\n",
       "      <td>human</td>\n",
       "      <td>way</td>\n",
       "      <td>book</td>\n",
       "      <td>idea</td>\n",
       "      <td>religion</td>\n",
       "      <td>people</td>\n",
       "      <td>culture</td>\n",
       "      <td>said</td>\n",
       "      <td>would</td>\n",
       "      <td>thing</td>\n",
       "      <td>believe</td>\n",
       "      <td>story</td>\n",
       "    </tr>\n",
       "    <tr>\n",
       "      <th>topic_6</th>\n",
       "      <td>country</td>\n",
       "      <td>world</td>\n",
       "      <td>africa</td>\n",
       "      <td>year</td>\n",
       "      <td>china</td>\n",
       "      <td>percent</td>\n",
       "      <td>people</td>\n",
       "      <td>india</td>\n",
       "      <td>one</td>\n",
       "      <td>state</td>\n",
       "      <td>african</td>\n",
       "      <td>see</td>\n",
       "      <td>today</td>\n",
       "      <td>growth</td>\n",
       "      <td>global</td>\n",
       "      <td>two</td>\n",
       "      <td>million</td>\n",
       "      <td>billion</td>\n",
       "      <td>population</td>\n",
       "      <td>economic</td>\n",
       "    </tr>\n",
       "    <tr>\n",
       "      <th>topic_7</th>\n",
       "      <td>music</td>\n",
       "      <td>sound</td>\n",
       "      <td>applause</td>\n",
       "      <td>play</td>\n",
       "      <td>like</td>\n",
       "      <td>song</td>\n",
       "      <td>hear</td>\n",
       "      <td>one</td>\n",
       "      <td>thank</td>\n",
       "      <td>voice</td>\n",
       "      <td>dance</td>\n",
       "      <td>come</td>\n",
       "      <td>time</td>\n",
       "      <td>way</td>\n",
       "      <td>singing</td>\n",
       "      <td>piece</td>\n",
       "      <td>la</td>\n",
       "      <td>poem</td>\n",
       "      <td>would</td>\n",
       "      <td>end</td>\n",
       "    </tr>\n",
       "    <tr>\n",
       "      <th>topic_8</th>\n",
       "      <td>design</td>\n",
       "      <td>building</td>\n",
       "      <td>material</td>\n",
       "      <td>like</td>\n",
       "      <td>make</td>\n",
       "      <td>one</td>\n",
       "      <td>build</td>\n",
       "      <td>designer</td>\n",
       "      <td>project</td>\n",
       "      <td>architecture</td>\n",
       "      <td>made</td>\n",
       "      <td>space</td>\n",
       "      <td>new</td>\n",
       "      <td>could</td>\n",
       "      <td>built</td>\n",
       "      <td>product</td>\n",
       "      <td>use</td>\n",
       "      <td>plastic</td>\n",
       "      <td>also</td>\n",
       "      <td>would</td>\n",
       "    </tr>\n",
       "    <tr>\n",
       "      <th>topic_9</th>\n",
       "      <td>robot</td>\n",
       "      <td>one</td>\n",
       "      <td>go</td>\n",
       "      <td>time</td>\n",
       "      <td>ca</td>\n",
       "      <td>year</td>\n",
       "      <td>like</td>\n",
       "      <td>fly</td>\n",
       "      <td>get</td>\n",
       "      <td>mar</td>\n",
       "      <td>going</td>\n",
       "      <td>foot</td>\n",
       "      <td>two</td>\n",
       "      <td>could</td>\n",
       "      <td>first</td>\n",
       "      <td>see</td>\n",
       "      <td>space</td>\n",
       "      <td>take</td>\n",
       "      <td>mile</td>\n",
       "      <td>earth</td>\n",
       "    </tr>\n",
       "    <tr>\n",
       "      <th>topic_10</th>\n",
       "      <td>thing</td>\n",
       "      <td>really</td>\n",
       "      <td>think</td>\n",
       "      <td>going</td>\n",
       "      <td>actually</td>\n",
       "      <td>people</td>\n",
       "      <td>get</td>\n",
       "      <td>lot</td>\n",
       "      <td>kind</td>\n",
       "      <td>know</td>\n",
       "      <td>way</td>\n",
       "      <td>something</td>\n",
       "      <td>like</td>\n",
       "      <td>one</td>\n",
       "      <td>want</td>\n",
       "      <td>go</td>\n",
       "      <td>little</td>\n",
       "      <td>well</td>\n",
       "      <td>look</td>\n",
       "      <td>make</td>\n",
       "    </tr>\n",
       "    <tr>\n",
       "      <th>topic_11</th>\n",
       "      <td>government</td>\n",
       "      <td>people</td>\n",
       "      <td>u</td>\n",
       "      <td>political</td>\n",
       "      <td>right</td>\n",
       "      <td>power</td>\n",
       "      <td>democracy</td>\n",
       "      <td>world</td>\n",
       "      <td>one</td>\n",
       "      <td>think</td>\n",
       "      <td>country</td>\n",
       "      <td>would</td>\n",
       "      <td>state</td>\n",
       "      <td>like</td>\n",
       "      <td>citizen</td>\n",
       "      <td>public</td>\n",
       "      <td>election</td>\n",
       "      <td>even</td>\n",
       "      <td>politics</td>\n",
       "      <td>society</td>\n",
       "    </tr>\n",
       "    <tr>\n",
       "      <th>topic_12</th>\n",
       "      <td>ocean</td>\n",
       "      <td>fish</td>\n",
       "      <td>sea</td>\n",
       "      <td>water</td>\n",
       "      <td>see</td>\n",
       "      <td>like</td>\n",
       "      <td>animal</td>\n",
       "      <td>one</td>\n",
       "      <td>year</td>\n",
       "      <td>time</td>\n",
       "      <td>coral</td>\n",
       "      <td>go</td>\n",
       "      <td>know</td>\n",
       "      <td>specie</td>\n",
       "      <td>shark</td>\n",
       "      <td>get</td>\n",
       "      <td>life</td>\n",
       "      <td>back</td>\n",
       "      <td>ant</td>\n",
       "      <td>place</td>\n",
       "    </tr>\n",
       "    <tr>\n",
       "      <th>topic_13</th>\n",
       "      <td>people</td>\n",
       "      <td>community</td>\n",
       "      <td>u</td>\n",
       "      <td>need</td>\n",
       "      <td>world</td>\n",
       "      <td>work</td>\n",
       "      <td>help</td>\n",
       "      <td>change</td>\n",
       "      <td>together</td>\n",
       "      <td>idea</td>\n",
       "      <td>applause</td>\n",
       "      <td>many</td>\n",
       "      <td>way</td>\n",
       "      <td>make</td>\n",
       "      <td>first</td>\n",
       "      <td>started</td>\n",
       "      <td>opportunity</td>\n",
       "      <td>day</td>\n",
       "      <td>place</td>\n",
       "      <td>working</td>\n",
       "    </tr>\n",
       "    <tr>\n",
       "      <th>topic_14</th>\n",
       "      <td>people</td>\n",
       "      <td>one</td>\n",
       "      <td>think</td>\n",
       "      <td>study</td>\n",
       "      <td>good</td>\n",
       "      <td>u</td>\n",
       "      <td>two</td>\n",
       "      <td>social</td>\n",
       "      <td>choice</td>\n",
       "      <td>make</td>\n",
       "      <td>much</td>\n",
       "      <td>well</td>\n",
       "      <td>question</td>\n",
       "      <td>better</td>\n",
       "      <td>would</td>\n",
       "      <td>human</td>\n",
       "      <td>example</td>\n",
       "      <td>time</td>\n",
       "      <td>decision</td>\n",
       "      <td>even</td>\n",
       "    </tr>\n",
       "    <tr>\n",
       "      <th>topic_15</th>\n",
       "      <td>city</td>\n",
       "      <td>car</td>\n",
       "      <td>new</td>\n",
       "      <td>people</td>\n",
       "      <td>place</td>\n",
       "      <td>street</td>\n",
       "      <td>one</td>\n",
       "      <td>like</td>\n",
       "      <td>space</td>\n",
       "      <td>york</td>\n",
       "      <td>urban</td>\n",
       "      <td>map</td>\n",
       "      <td>public</td>\n",
       "      <td>neighborhood</td>\n",
       "      <td>way</td>\n",
       "      <td>live</td>\n",
       "      <td>road</td>\n",
       "      <td>building</td>\n",
       "      <td>park</td>\n",
       "      <td>also</td>\n",
       "    </tr>\n",
       "    <tr>\n",
       "      <th>topic_16</th>\n",
       "      <td>said</td>\n",
       "      <td>day</td>\n",
       "      <td>went</td>\n",
       "      <td>year</td>\n",
       "      <td>would</td>\n",
       "      <td>got</td>\n",
       "      <td>back</td>\n",
       "      <td>one</td>\n",
       "      <td>could</td>\n",
       "      <td>time</td>\n",
       "      <td>came</td>\n",
       "      <td>go</td>\n",
       "      <td>get</td>\n",
       "      <td>thought</td>\n",
       "      <td>started</td>\n",
       "      <td>going</td>\n",
       "      <td>wanted</td>\n",
       "      <td>two</td>\n",
       "      <td>first</td>\n",
       "      <td>never</td>\n",
       "    </tr>\n",
       "    <tr>\n",
       "      <th>topic_17</th>\n",
       "      <td>story</td>\n",
       "      <td>book</td>\n",
       "      <td>year</td>\n",
       "      <td>people</td>\n",
       "      <td>one</td>\n",
       "      <td>film</td>\n",
       "      <td>video</td>\n",
       "      <td>time</td>\n",
       "      <td>medium</td>\n",
       "      <td>movie</td>\n",
       "      <td>new</td>\n",
       "      <td>show</td>\n",
       "      <td>day</td>\n",
       "      <td>first</td>\n",
       "      <td>read</td>\n",
       "      <td>laughter</td>\n",
       "      <td>like</td>\n",
       "      <td>started</td>\n",
       "      <td>character</td>\n",
       "      <td>could</td>\n",
       "    </tr>\n",
       "    <tr>\n",
       "      <th>topic_18</th>\n",
       "      <td>year</td>\n",
       "      <td>tree</td>\n",
       "      <td>animal</td>\n",
       "      <td>human</td>\n",
       "      <td>specie</td>\n",
       "      <td>like</td>\n",
       "      <td>forest</td>\n",
       "      <td>one</td>\n",
       "      <td>world</td>\n",
       "      <td>u</td>\n",
       "      <td>see</td>\n",
       "      <td>river</td>\n",
       "      <td>time</td>\n",
       "      <td>000</td>\n",
       "      <td>find</td>\n",
       "      <td>ago</td>\n",
       "      <td>mountain</td>\n",
       "      <td>back</td>\n",
       "      <td>bird</td>\n",
       "      <td>place</td>\n",
       "    </tr>\n",
       "    <tr>\n",
       "      <th>topic_19</th>\n",
       "      <td>food</td>\n",
       "      <td>plant</td>\n",
       "      <td>eat</td>\n",
       "      <td>like</td>\n",
       "      <td>one</td>\n",
       "      <td>farmer</td>\n",
       "      <td>bee</td>\n",
       "      <td>year</td>\n",
       "      <td>know</td>\n",
       "      <td>need</td>\n",
       "      <td>world</td>\n",
       "      <td>farm</td>\n",
       "      <td>u</td>\n",
       "      <td>feed</td>\n",
       "      <td>also</td>\n",
       "      <td>laughter</td>\n",
       "      <td>way</td>\n",
       "      <td>take</td>\n",
       "      <td>good</td>\n",
       "      <td>crop</td>\n",
       "    </tr>\n",
       "    <tr>\n",
       "      <th>topic_20</th>\n",
       "      <td>universe</td>\n",
       "      <td>planet</td>\n",
       "      <td>see</td>\n",
       "      <td>one</td>\n",
       "      <td>earth</td>\n",
       "      <td>like</td>\n",
       "      <td>space</td>\n",
       "      <td>star</td>\n",
       "      <td>light</td>\n",
       "      <td>u</td>\n",
       "      <td>time</td>\n",
       "      <td>year</td>\n",
       "      <td>would</td>\n",
       "      <td>life</td>\n",
       "      <td>science</td>\n",
       "      <td>theory</td>\n",
       "      <td>galaxy</td>\n",
       "      <td>look</td>\n",
       "      <td>sun</td>\n",
       "      <td>know</td>\n",
       "    </tr>\n",
       "    <tr>\n",
       "      <th>topic_21</th>\n",
       "      <td>people</td>\n",
       "      <td>black</td>\n",
       "      <td>law</td>\n",
       "      <td>police</td>\n",
       "      <td>prison</td>\n",
       "      <td>year</td>\n",
       "      <td>justice</td>\n",
       "      <td>right</td>\n",
       "      <td>time</td>\n",
       "      <td>one</td>\n",
       "      <td>would</td>\n",
       "      <td>state</td>\n",
       "      <td>case</td>\n",
       "      <td>crime</td>\n",
       "      <td>white</td>\n",
       "      <td>american</td>\n",
       "      <td>like</td>\n",
       "      <td>court</td>\n",
       "      <td>u</td>\n",
       "      <td>violence</td>\n",
       "    </tr>\n",
       "    <tr>\n",
       "      <th>topic_22</th>\n",
       "      <td>see</td>\n",
       "      <td>image</td>\n",
       "      <td>art</td>\n",
       "      <td>one</td>\n",
       "      <td>like</td>\n",
       "      <td>look</td>\n",
       "      <td>work</td>\n",
       "      <td>artist</td>\n",
       "      <td>object</td>\n",
       "      <td>actually</td>\n",
       "      <td>also</td>\n",
       "      <td>make</td>\n",
       "      <td>show</td>\n",
       "      <td>way</td>\n",
       "      <td>time</td>\n",
       "      <td>different</td>\n",
       "      <td>color</td>\n",
       "      <td>made</td>\n",
       "      <td>picture</td>\n",
       "      <td>really</td>\n",
       "    </tr>\n",
       "    <tr>\n",
       "      <th>topic_23</th>\n",
       "      <td>war</td>\n",
       "      <td>people</td>\n",
       "      <td>u</td>\n",
       "      <td>one</td>\n",
       "      <td>refugee</td>\n",
       "      <td>world</td>\n",
       "      <td>military</td>\n",
       "      <td>country</td>\n",
       "      <td>conflict</td>\n",
       "      <td>soldier</td>\n",
       "      <td>would</td>\n",
       "      <td>weapon</td>\n",
       "      <td>year</td>\n",
       "      <td>peace</td>\n",
       "      <td>killed</td>\n",
       "      <td>afghanistan</td>\n",
       "      <td>violence</td>\n",
       "      <td>many</td>\n",
       "      <td>muslim</td>\n",
       "      <td>state</td>\n",
       "    </tr>\n",
       "    <tr>\n",
       "      <th>topic_24</th>\n",
       "      <td>child</td>\n",
       "      <td>school</td>\n",
       "      <td>kid</td>\n",
       "      <td>family</td>\n",
       "      <td>year</td>\n",
       "      <td>mother</td>\n",
       "      <td>parent</td>\n",
       "      <td>one</td>\n",
       "      <td>life</td>\n",
       "      <td>old</td>\n",
       "      <td>father</td>\n",
       "      <td>would</td>\n",
       "      <td>home</td>\n",
       "      <td>baby</td>\n",
       "      <td>know</td>\n",
       "      <td>girl</td>\n",
       "      <td>time</td>\n",
       "      <td>day</td>\n",
       "      <td>said</td>\n",
       "      <td>every</td>\n",
       "    </tr>\n",
       "    <tr>\n",
       "      <th>topic_25</th>\n",
       "      <td>life</td>\n",
       "      <td>feel</td>\n",
       "      <td>u</td>\n",
       "      <td>like</td>\n",
       "      <td>love</td>\n",
       "      <td>time</td>\n",
       "      <td>experience</td>\n",
       "      <td>feeling</td>\n",
       "      <td>fear</td>\n",
       "      <td>would</td>\n",
       "      <td>even</td>\n",
       "      <td>one</td>\n",
       "      <td>people</td>\n",
       "      <td>day</td>\n",
       "      <td>know</td>\n",
       "      <td>moment</td>\n",
       "      <td>way</td>\n",
       "      <td>felt</td>\n",
       "      <td>never</td>\n",
       "      <td>could</td>\n",
       "    </tr>\n",
       "    <tr>\n",
       "      <th>topic_26</th>\n",
       "      <td>cell</td>\n",
       "      <td>dna</td>\n",
       "      <td>gene</td>\n",
       "      <td>one</td>\n",
       "      <td>human</td>\n",
       "      <td>body</td>\n",
       "      <td>like</td>\n",
       "      <td>could</td>\n",
       "      <td>actually</td>\n",
       "      <td>year</td>\n",
       "      <td>life</td>\n",
       "      <td>make</td>\n",
       "      <td>molecule</td>\n",
       "      <td>u</td>\n",
       "      <td>take</td>\n",
       "      <td>different</td>\n",
       "      <td>new</td>\n",
       "      <td>technology</td>\n",
       "      <td>genome</td>\n",
       "      <td>genetic</td>\n",
       "    </tr>\n",
       "    <tr>\n",
       "      <th>topic_27</th>\n",
       "      <td>brain</td>\n",
       "      <td>see</td>\n",
       "      <td>going</td>\n",
       "      <td>body</td>\n",
       "      <td>right</td>\n",
       "      <td>one</td>\n",
       "      <td>like</td>\n",
       "      <td>neuron</td>\n",
       "      <td>memory</td>\n",
       "      <td>human</td>\n",
       "      <td>different</td>\n",
       "      <td>time</td>\n",
       "      <td>look</td>\n",
       "      <td>eye</td>\n",
       "      <td>move</td>\n",
       "      <td>let</td>\n",
       "      <td>mind</td>\n",
       "      <td>control</td>\n",
       "      <td>light</td>\n",
       "      <td>two</td>\n",
       "    </tr>\n",
       "    <tr>\n",
       "      <th>topic_28</th>\n",
       "      <td>game</td>\n",
       "      <td>student</td>\n",
       "      <td>machine</td>\n",
       "      <td>science</td>\n",
       "      <td>human</td>\n",
       "      <td>learning</td>\n",
       "      <td>teacher</td>\n",
       "      <td>play</td>\n",
       "      <td>problem</td>\n",
       "      <td>time</td>\n",
       "      <td>education</td>\n",
       "      <td>one</td>\n",
       "      <td>work</td>\n",
       "      <td>learn</td>\n",
       "      <td>school</td>\n",
       "      <td>would</td>\n",
       "      <td>question</td>\n",
       "      <td>u</td>\n",
       "      <td>math</td>\n",
       "      <td>let</td>\n",
       "    </tr>\n",
       "    <tr>\n",
       "      <th>topic_29</th>\n",
       "      <td>laughter</td>\n",
       "      <td>know</td>\n",
       "      <td>like</td>\n",
       "      <td>say</td>\n",
       "      <td>right</td>\n",
       "      <td>get</td>\n",
       "      <td>said</td>\n",
       "      <td>want</td>\n",
       "      <td>going</td>\n",
       "      <td>go</td>\n",
       "      <td>one</td>\n",
       "      <td>got</td>\n",
       "      <td>good</td>\n",
       "      <td>applause</td>\n",
       "      <td>guy</td>\n",
       "      <td>thing</td>\n",
       "      <td>ok</td>\n",
       "      <td>oh</td>\n",
       "      <td>see</td>\n",
       "      <td>look</td>\n",
       "    </tr>\n",
       "  </tbody>\n",
       "</table>\n",
       "</div>"
      ],
      "text/plain": [
       "                  0           1         2            3         4         5   \\\n",
       "topic_0        water      energy   climate         year    change      need   \n",
       "topic_1      patient      health   disease       cancer    doctor      drug   \n",
       "topic_2      company       money    dollar     business    market      year   \n",
       "topic_3         data  technology  computer  information  internet      like   \n",
       "topic_4        woman         men      girl          sex      like      male   \n",
       "topic_5         word    language     world          one       god       say   \n",
       "topic_6      country       world    africa         year     china   percent   \n",
       "topic_7        music       sound  applause         play      like      song   \n",
       "topic_8       design    building  material         like      make       one   \n",
       "topic_9        robot         one        go         time        ca      year   \n",
       "topic_10       thing      really     think        going  actually    people   \n",
       "topic_11  government      people         u    political     right     power   \n",
       "topic_12       ocean        fish       sea        water       see      like   \n",
       "topic_13      people   community         u         need     world      work   \n",
       "topic_14      people         one     think        study      good         u   \n",
       "topic_15        city         car       new       people     place    street   \n",
       "topic_16        said         day      went         year     would       got   \n",
       "topic_17       story        book      year       people       one      film   \n",
       "topic_18        year        tree    animal        human    specie      like   \n",
       "topic_19        food       plant       eat         like       one    farmer   \n",
       "topic_20    universe      planet       see          one     earth      like   \n",
       "topic_21      people       black       law       police    prison      year   \n",
       "topic_22         see       image       art          one      like      look   \n",
       "topic_23         war      people         u          one   refugee     world   \n",
       "topic_24       child      school       kid       family      year    mother   \n",
       "topic_25        life        feel         u         like      love      time   \n",
       "topic_26        cell         dna      gene          one     human      body   \n",
       "topic_27       brain         see     going         body     right       one   \n",
       "topic_28        game     student   machine      science     human  learning   \n",
       "topic_29    laughter        know      like          say     right       get   \n",
       "\n",
       "                  6         7         8             9          10         11  \\\n",
       "topic_0          oil    carbon   percent         world        air       fuel   \n",
       "topic_1         care   medical       one      hospital  treatment       year   \n",
       "topic_2      percent      make      work          cost        one    product   \n",
       "topic_3          use     phone     world       network        one        new   \n",
       "topic_4       female       one       man        gender       want   laughter   \n",
       "topic_5        think         u     human           way       book       idea   \n",
       "topic_6       people     india       one         state    african        see   \n",
       "topic_7         hear       one     thank         voice      dance       come   \n",
       "topic_8        build  designer   project  architecture       made      space   \n",
       "topic_9         like       fly       get           mar      going       foot   \n",
       "topic_10         get       lot      kind          know        way  something   \n",
       "topic_11   democracy     world       one         think    country      would   \n",
       "topic_12      animal       one      year          time      coral         go   \n",
       "topic_13        help    change  together          idea   applause       many   \n",
       "topic_14         two    social    choice          make       much       well   \n",
       "topic_15         one      like     space          york      urban        map   \n",
       "topic_16        back       one     could          time       came         go   \n",
       "topic_17       video      time    medium         movie        new       show   \n",
       "topic_18      forest       one     world             u        see      river   \n",
       "topic_19         bee      year      know          need      world       farm   \n",
       "topic_20       space      star     light             u       time       year   \n",
       "topic_21     justice     right      time           one      would      state   \n",
       "topic_22        work    artist    object      actually       also       make   \n",
       "topic_23    military   country  conflict       soldier      would     weapon   \n",
       "topic_24      parent       one      life           old     father      would   \n",
       "topic_25  experience   feeling      fear         would       even        one   \n",
       "topic_26        like     could  actually          year       life       make   \n",
       "topic_27        like    neuron    memory         human  different       time   \n",
       "topic_28     teacher      play   problem          time  education        one   \n",
       "topic_29        said      want     going            go        one        got   \n",
       "\n",
       "                12            13       14           15           16  \\\n",
       "topic_0     global           gas  problem       system          one   \n",
       "topic_1   medicine         heart     need      percent        blood   \n",
       "topic_2      would          need      get          buy          job   \n",
       "topic_3     system       digital    using         time            u   \n",
       "topic_4        boy         would      say        right        young   \n",
       "topic_5   religion        people  culture         said        would   \n",
       "topic_6      today        growth   global          two      million   \n",
       "topic_7       time           way  singing        piece           la   \n",
       "topic_8        new         could    built      product          use   \n",
       "topic_9        two         could    first          see        space   \n",
       "topic_10      like           one     want           go       little   \n",
       "topic_11     state          like  citizen       public     election   \n",
       "topic_12      know        specie    shark          get         life   \n",
       "topic_13       way          make    first      started  opportunity   \n",
       "topic_14  question        better    would        human      example   \n",
       "topic_15    public  neighborhood      way         live         road   \n",
       "topic_16       get       thought  started        going       wanted   \n",
       "topic_17       day         first     read     laughter         like   \n",
       "topic_18      time           000     find          ago     mountain   \n",
       "topic_19         u          feed     also     laughter          way   \n",
       "topic_20     would          life  science       theory       galaxy   \n",
       "topic_21      case         crime    white     american         like   \n",
       "topic_22      show           way     time    different        color   \n",
       "topic_23      year         peace   killed  afghanistan     violence   \n",
       "topic_24      home          baby     know         girl         time   \n",
       "topic_25    people           day     know       moment          way   \n",
       "topic_26  molecule             u     take    different          new   \n",
       "topic_27      look           eye     move          let         mind   \n",
       "topic_28      work         learn   school        would     question   \n",
       "topic_29      good      applause      guy        thing           ok   \n",
       "\n",
       "                  17          18        19  \n",
       "topic_0         much         use         u  \n",
       "topic_1      problem        well       get  \n",
       "topic_2          pay       value       new  \n",
       "topic_3        could      device       see  \n",
       "topic_4     applause        talk         u  \n",
       "topic_5        thing     believe     story  \n",
       "topic_6      billion  population  economic  \n",
       "topic_7         poem       would       end  \n",
       "topic_8      plastic        also     would  \n",
       "topic_9         take        mile     earth  \n",
       "topic_10        well        look      make  \n",
       "topic_11        even    politics   society  \n",
       "topic_12        back         ant     place  \n",
       "topic_13         day       place   working  \n",
       "topic_14        time    decision      even  \n",
       "topic_15    building        park      also  \n",
       "topic_16         two       first     never  \n",
       "topic_17     started   character     could  \n",
       "topic_18        back        bird     place  \n",
       "topic_19        take        good      crop  \n",
       "topic_20        look         sun      know  \n",
       "topic_21       court           u  violence  \n",
       "topic_22        made     picture    really  \n",
       "topic_23        many      muslim     state  \n",
       "topic_24         day        said     every  \n",
       "topic_25        felt       never     could  \n",
       "topic_26  technology      genome   genetic  \n",
       "topic_27     control       light       two  \n",
       "topic_28           u        math       let  \n",
       "topic_29          oh         see      look  "
      ]
     },
     "execution_count": 391,
     "metadata": {},
     "output_type": "execute_result"
    }
   ],
   "source": [
    "top_words.iloc[:, : 20]"
   ]
  },
  {
   "cell_type": "code",
   "execution_count": 392,
   "metadata": {},
   "outputs": [
    {
     "data": {
      "application/vnd.jupyter.widget-view+json": {
       "model_id": "",
       "version_major": 2,
       "version_minor": 0
      },
      "text/plain": [
       "HBox(children=(FloatProgress(value=0.0, description='Batch', max=9.0, style=ProgressStyle(description_width='i…"
      ]
     },
     "metadata": {},
     "output_type": "display_data"
    }
   ],
   "source": [
    "theta = model.transform(batch_vectorizer=batch_vectorizer_mono).T\n",
    "lst = []\n",
    "for topic in theta:\n",
    "    d = dict(theta[topic])\n",
    "    lst.append(sorted(d, reverse=True, key = lambda x: d[x]))\n",
    "top_docs = pd.DataFrame(lst, index=[f'topic_{i}' for i in range(30)])"
   ]
  },
  {
   "cell_type": "code",
   "execution_count": 393,
   "metadata": {},
   "outputs": [
    {
     "data": {
      "text/html": [
       "<div>\n",
       "<style scoped>\n",
       "    .dataframe tbody tr th:only-of-type {\n",
       "        vertical-align: middle;\n",
       "    }\n",
       "\n",
       "    .dataframe tbody tr th {\n",
       "        vertical-align: top;\n",
       "    }\n",
       "\n",
       "    .dataframe thead th {\n",
       "        text-align: right;\n",
       "    }\n",
       "</style>\n",
       "<table border=\"1\" class=\"dataframe\">\n",
       "  <thead>\n",
       "    <tr style=\"text-align: right;\">\n",
       "      <th></th>\n",
       "      <th>0</th>\n",
       "      <th>1</th>\n",
       "      <th>2</th>\n",
       "      <th>3</th>\n",
       "      <th>4</th>\n",
       "    </tr>\n",
       "  </thead>\n",
       "  <tbody>\n",
       "    <tr>\n",
       "      <th>topic_0</th>\n",
       "      <td>James Hansen: Why I must speak out about clima...</td>\n",
       "      <td>Johan Rockström: Let the environment guide our...</td>\n",
       "      <td>Alice Bows-Larkin: Climate change is happening...</td>\n",
       "      <td>Al Gore: What comes after An Inconvenient Truth?</td>\n",
       "      <td>Jennifer Wilcox: A new way to remove CO2 from ...</td>\n",
       "    </tr>\n",
       "    <tr>\n",
       "      <th>topic_1</th>\n",
       "      <td>Matthias Müllenbeck: What if we paid doctors t...</td>\n",
       "      <td>Laura Indolfi: Good news in the fight against ...</td>\n",
       "      <td>Romina Libster: The power of herd immunity</td>\n",
       "      <td>Joshua Smith: New nanotech to detect cancer early</td>\n",
       "      <td>Boghuma Kabisen Titanji: Ethical riddles in HI...</td>\n",
       "    </tr>\n",
       "    <tr>\n",
       "      <th>topic_2</th>\n",
       "      <td>Ashwini Anburajan: How cryptocurrency can help...</td>\n",
       "      <td>William Black: How to rob a bank (from the ins...</td>\n",
       "      <td>Dan Pallotta: The way we think about charity i...</td>\n",
       "      <td>Wendy Woods: The business benefits of doing good</td>\n",
       "      <td>Niti Bhan: The hidden opportunities of the inf...</td>\n",
       "    </tr>\n",
       "    <tr>\n",
       "      <th>topic_3</th>\n",
       "      <td>Ryan Merkley: Online video -- annotated, remix...</td>\n",
       "      <td>Vikram Sharma: How quantum physics can make en...</td>\n",
       "      <td>Christopher Soghoian: How to avoid surveillanc...</td>\n",
       "      <td>Avi Rubin: All your devices can be hacked</td>\n",
       "      <td>Ian Ritchie: The day I turned down Tim Berners...</td>\n",
       "    </tr>\n",
       "    <tr>\n",
       "      <th>topic_4</th>\n",
       "      <td>Sofia Jawed-Wessel: The lies we tell pregnant ...</td>\n",
       "      <td>Stew: \"Black Men Ski\"</td>\n",
       "      <td>Jackson Katz: Violence against women -- it's a...</td>\n",
       "      <td>Chimamanda Ngozi Adichie: We should all be fem...</td>\n",
       "      <td>Roxane Gay: Confessions of a bad feminist</td>\n",
       "    </tr>\n",
       "    <tr>\n",
       "      <th>topic_5</th>\n",
       "      <td>Feisal Abdul Rauf: Lose your ego, find your co...</td>\n",
       "      <td>David Brooks: Should you live for your résumé ...</td>\n",
       "      <td>Karina Galperin: Should we simplify spelling?</td>\n",
       "      <td>Kwame Anthony Appiah: Is religion good or bad?...</td>\n",
       "      <td>Lesley Hazleton: On reading the Koran</td>\n",
       "    </tr>\n",
       "    <tr>\n",
       "      <th>topic_6</th>\n",
       "      <td>Hans Rosling: Let my dataset change your mindset</td>\n",
       "      <td>Hans Rosling: Asia's rise -- how and when</td>\n",
       "      <td>Yasheng Huang: Does democracy stifle economic ...</td>\n",
       "      <td>Thomas Piketty: New thoughts on capital in the...</td>\n",
       "      <td>Charles Robertson: Africa's next boom</td>\n",
       "    </tr>\n",
       "    <tr>\n",
       "      <th>topic_7</th>\n",
       "      <td>Herbie Hancock: An all-star set</td>\n",
       "      <td>Kaki King: A musical escape into a world of li...</td>\n",
       "      <td>The Soul Rebels: \"Rebelosis\" / \"Rebel Rock\" / ...</td>\n",
       "      <td>Sleepy Man Banjo Boys: Teen wonders play blueg...</td>\n",
       "      <td>Danielle de Niese: A flirtatious aria</td>\n",
       "    </tr>\n",
       "    <tr>\n",
       "      <th>topic_8</th>\n",
       "      <td>Skylar Tibbits: The emergence of \"4D printing\"</td>\n",
       "      <td>Joseph DeSimone: What if 3D printing was 100x ...</td>\n",
       "      <td>Greg Lynn: Organic algorithms in architecture</td>\n",
       "      <td>Amit Kalra: 3 creative ways to fix fashion's w...</td>\n",
       "      <td>Lisa Harouni: A primer on 3D printing</td>\n",
       "    </tr>\n",
       "    <tr>\n",
       "      <th>topic_9</th>\n",
       "      <td>Yves Rossy: Fly with the Jetman</td>\n",
       "      <td>Markus Fischer: A robot that flies like a bird</td>\n",
       "      <td>Steve Truglia: A leap from the edge of space</td>\n",
       "      <td>Saul Griffith: High-altitude wind energy from ...</td>\n",
       "      <td>Joel Levine: Why we need to go back to Mars</td>\n",
       "    </tr>\n",
       "    <tr>\n",
       "      <th>topic_10</th>\n",
       "      <td>Shonda Rhimes and Cyndi Stivers: The future of...</td>\n",
       "      <td>Jason Fried: Why work doesn't happen at work</td>\n",
       "      <td>Laurie Santos: A monkey economy as irrational ...</td>\n",
       "      <td>Larry Page: Where's Google going next?</td>\n",
       "      <td>Julian Baggini: Is there a real you?</td>\n",
       "    </tr>\n",
       "    <tr>\n",
       "      <th>topic_11</th>\n",
       "      <td>Noah Feldman: Hamilton vs. Madison and the bir...</td>\n",
       "      <td>David Bismark: E-voting without fraud</td>\n",
       "      <td>Rebecca MacKinnon: Let's take back the Internet!</td>\n",
       "      <td>Laura Galante: How (and why) Russia hacked the...</td>\n",
       "      <td>Edward Snowden: Here's how we take back the In...</td>\n",
       "    </tr>\n",
       "    <tr>\n",
       "      <th>topic_12</th>\n",
       "      <td>Tierney Thys and Plankton Chronicles Project: ...</td>\n",
       "      <td>Deborah Gordon: The emergent genius of ant col...</td>\n",
       "      <td>Simon Berrow: How do you save a shark you know...</td>\n",
       "      <td>Barbara Block: Tagging tuna in the deep ocean</td>\n",
       "      <td>Mei Lin Neo: The fascinating secret lives of g...</td>\n",
       "    </tr>\n",
       "    <tr>\n",
       "      <th>topic_13</th>\n",
       "      <td>Henrietta Fore: How we can help young people b...</td>\n",
       "      <td>Musimbi Kanyoro: To solve the world's biggest ...</td>\n",
       "      <td>Mohamed Ali: The link between unemployment and...</td>\n",
       "      <td>Roselinde Torres: What it takes to be a great ...</td>\n",
       "      <td>Kare Anderson: Be an opportunity maker</td>\n",
       "    </tr>\n",
       "    <tr>\n",
       "      <th>topic_14</th>\n",
       "      <td>Tali Sharot: The optimism bias</td>\n",
       "      <td>Baba Shiv: Sometimes it's good to give up the ...</td>\n",
       "      <td>David Pizarro: The strange politics of disgust</td>\n",
       "      <td>Ruth Chang: How to make hard choices</td>\n",
       "      <td>Dan Gilbert: The psychology of your future self</td>\n",
       "    </tr>\n",
       "    <tr>\n",
       "      <th>topic_15</th>\n",
       "      <td>Jeff Speck: 4 ways to make a city more walkable</td>\n",
       "      <td>Janette Sadik-Khan: New York's streets? Not so...</td>\n",
       "      <td>Ellen Dunham-Jones: Retrofitting suburbia</td>\n",
       "      <td>Teddy Cruz: How architectural innovations migr...</td>\n",
       "      <td>Amanda Burden: How public spaces make cities work</td>\n",
       "    </tr>\n",
       "    <tr>\n",
       "      <th>topic_16</th>\n",
       "      <td>Janine Shepherd: A broken body isn't a broken ...</td>\n",
       "      <td>Aimee Mullins: Changing my legs - and my mindset</td>\n",
       "      <td>Boy Girl Banjo: \"Dead Romance\"</td>\n",
       "      <td>David Blaine: How I held my breath for 17 minutes</td>\n",
       "      <td>Minda Dentler: What I learned when I conquered...</td>\n",
       "    </tr>\n",
       "    <tr>\n",
       "      <th>topic_17</th>\n",
       "      <td>Rives: The Museum of Four in the Morning</td>\n",
       "      <td>Kevin Allocca: Why videos go viral</td>\n",
       "      <td>Andrew Fitzgerald: Adventures in Twitter fiction</td>\n",
       "      <td>Thomas Hellum: The world's most boring televis...</td>\n",
       "      <td>Jill Sobule + Julia Sweeney: The Jill and Juli...</td>\n",
       "    </tr>\n",
       "    <tr>\n",
       "      <th>topic_18</th>\n",
       "      <td>Kenneth Lacovara: Hunting for dinosaurs showed...</td>\n",
       "      <td>Nizar Ibrahim: How we unearthed the Spinosaurus</td>\n",
       "      <td>Louise Leakey: A dig for humanity's origins</td>\n",
       "      <td>Richard Preston: The mysterious lives of giant...</td>\n",
       "      <td>Steve Boyes: How we're saving one of Earth's l...</td>\n",
       "    </tr>\n",
       "    <tr>\n",
       "      <th>topic_19</th>\n",
       "      <td>Marla Spivak: Why bees are disappearing</td>\n",
       "      <td>Peter Reinhart: The art and craft of bread</td>\n",
       "      <td>Marcel Dicke: Why not eat insects?</td>\n",
       "      <td>Jae Rhim Lee: My mushroom burial suit</td>\n",
       "      <td>Mark Bittman: What's wrong with what we eat</td>\n",
       "    </tr>\n",
       "    <tr>\n",
       "      <th>topic_20</th>\n",
       "      <td>Gian Giudice: Why our universe might exist on ...</td>\n",
       "      <td>Brian Greene: Is our universe the only universe?</td>\n",
       "      <td>Burçin Mutlu-Pakdil: A rare galaxy that's chal...</td>\n",
       "      <td>Jedidah Isler: How I fell in love with quasars...</td>\n",
       "      <td>Anjali Tripathi: Why Earth may someday look li...</td>\n",
       "    </tr>\n",
       "    <tr>\n",
       "      <th>topic_21</th>\n",
       "      <td>Adam Foss: A prosecutor's vision for a better ...</td>\n",
       "      <td>Kym Worthy: What happened when we tested thous...</td>\n",
       "      <td>David R. Dow: Lessons from death row inmates</td>\n",
       "      <td>Eve Abrams: The human stories behind mass inca...</td>\n",
       "      <td>Robin Steinberg: What if we ended the injustic...</td>\n",
       "    </tr>\n",
       "    <tr>\n",
       "      <th>topic_22</th>\n",
       "      <td>Paul Debevec: Animating a photo-real digital face</td>\n",
       "      <td>Aparna Rao: Art that craves your attention</td>\n",
       "      <td>Erik Johansson: Impossible photography</td>\n",
       "      <td>Alexa Meade: Your body is my canvas</td>\n",
       "      <td>Vanessa Ruiz: The spellbinding art of human an...</td>\n",
       "    </tr>\n",
       "    <tr>\n",
       "      <th>topic_23</th>\n",
       "      <td>Bobby Ghosh: Why global jihad is losing</td>\n",
       "      <td>Trita Parsi: Iran and Israel: Peace is possible</td>\n",
       "      <td>Anastasia Taylor-Lind: Fighters and mourners o...</td>\n",
       "      <td>Anjan Sundaram: Why I risked my life to expose...</td>\n",
       "      <td>Sophal Ear: Escaping the Khmer Rouge</td>\n",
       "    </tr>\n",
       "    <tr>\n",
       "      <th>topic_24</th>\n",
       "      <td>Karim Abouelnaga: A summer school kids actuall...</td>\n",
       "      <td>Shukla Bose: Teaching one child at a time</td>\n",
       "      <td>Mary Maker: Why I fight for the education of r...</td>\n",
       "      <td>Tara Winkler: Why we need to end the era of or...</td>\n",
       "      <td>Shabana Basij-Rasikh: Dare to educate Afghan g...</td>\n",
       "    </tr>\n",
       "    <tr>\n",
       "      <th>topic_25</th>\n",
       "      <td>Martin Pistorius: How my mind came back to lif...</td>\n",
       "      <td>Kevin Breel: Confessions of a depressed comic</td>\n",
       "      <td>Esther Perel: Rethinking infidelity ... a talk...</td>\n",
       "      <td>Bill Bernat: How to connect with depressed fri...</td>\n",
       "      <td>Guy Winch: How to fix a broken heart</td>\n",
       "    </tr>\n",
       "    <tr>\n",
       "      <th>topic_26</th>\n",
       "      <td>Jennifer Pluznick: You smell with your body, n...</td>\n",
       "      <td>Kaitlyn Sadtler: How we could teach our bodies...</td>\n",
       "      <td>Jennifer Doudna:  How CRISPR lets us edit our DNA</td>\n",
       "      <td>Anthony Atala: Growing new organs</td>\n",
       "      <td>Craig Venter: Watch me unveil \"synthetic life\"</td>\n",
       "    </tr>\n",
       "    <tr>\n",
       "      <th>topic_27</th>\n",
       "      <td>Miguel Nicolelis: A monkey that controls a rob...</td>\n",
       "      <td>Christopher deCharms: A look inside the brain ...</td>\n",
       "      <td>Mehdi Ordikhani-Seyedlar: What happens in your...</td>\n",
       "      <td>Todd Kuiken: A prosthetic arm that \"feels\"</td>\n",
       "      <td>Michael Merzenich: Growing evidence of brain p...</td>\n",
       "    </tr>\n",
       "    <tr>\n",
       "      <th>topic_28</th>\n",
       "      <td>Eduardo Briceño: How to get better at the thin...</td>\n",
       "      <td>Arthur Benjamin: Teach statistics before calcu...</td>\n",
       "      <td>Daniel Susskind: 3 myths about the future of w...</td>\n",
       "      <td>Daphne Koller: What we're learning from online...</td>\n",
       "      <td>Garry Kasparov: Don't fear intelligent machine...</td>\n",
       "    </tr>\n",
       "    <tr>\n",
       "      <th>topic_29</th>\n",
       "      <td>Lennart Green: Close-up card magic with a twist</td>\n",
       "      <td>Nora York: Singing \"What I Want\"</td>\n",
       "      <td>Maz Jobrani: A Saudi, an Indian and an Iranian...</td>\n",
       "      <td>Keith Barry: Brain magic</td>\n",
       "      <td>Raspyni Brothers: Juggle and jest</td>\n",
       "    </tr>\n",
       "  </tbody>\n",
       "</table>\n",
       "</div>"
      ],
      "text/plain": [
       "                                                          0  \\\n",
       "topic_0   James Hansen: Why I must speak out about clima...   \n",
       "topic_1   Matthias Müllenbeck: What if we paid doctors t...   \n",
       "topic_2   Ashwini Anburajan: How cryptocurrency can help...   \n",
       "topic_3   Ryan Merkley: Online video -- annotated, remix...   \n",
       "topic_4   Sofia Jawed-Wessel: The lies we tell pregnant ...   \n",
       "topic_5   Feisal Abdul Rauf: Lose your ego, find your co...   \n",
       "topic_6    Hans Rosling: Let my dataset change your mindset   \n",
       "topic_7                     Herbie Hancock: An all-star set   \n",
       "topic_8      Skylar Tibbits: The emergence of \"4D printing\"   \n",
       "topic_9                     Yves Rossy: Fly with the Jetman   \n",
       "topic_10  Shonda Rhimes and Cyndi Stivers: The future of...   \n",
       "topic_11  Noah Feldman: Hamilton vs. Madison and the bir...   \n",
       "topic_12  Tierney Thys and Plankton Chronicles Project: ...   \n",
       "topic_13  Henrietta Fore: How we can help young people b...   \n",
       "topic_14                     Tali Sharot: The optimism bias   \n",
       "topic_15    Jeff Speck: 4 ways to make a city more walkable   \n",
       "topic_16  Janine Shepherd: A broken body isn't a broken ...   \n",
       "topic_17           Rives: The Museum of Four in the Morning   \n",
       "topic_18  Kenneth Lacovara: Hunting for dinosaurs showed...   \n",
       "topic_19            Marla Spivak: Why bees are disappearing   \n",
       "topic_20  Gian Giudice: Why our universe might exist on ...   \n",
       "topic_21  Adam Foss: A prosecutor's vision for a better ...   \n",
       "topic_22  Paul Debevec: Animating a photo-real digital face   \n",
       "topic_23            Bobby Ghosh: Why global jihad is losing   \n",
       "topic_24  Karim Abouelnaga: A summer school kids actuall...   \n",
       "topic_25  Martin Pistorius: How my mind came back to lif...   \n",
       "topic_26  Jennifer Pluznick: You smell with your body, n...   \n",
       "topic_27  Miguel Nicolelis: A monkey that controls a rob...   \n",
       "topic_28  Eduardo Briceño: How to get better at the thin...   \n",
       "topic_29    Lennart Green: Close-up card magic with a twist   \n",
       "\n",
       "                                                          1  \\\n",
       "topic_0   Johan Rockström: Let the environment guide our...   \n",
       "topic_1   Laura Indolfi: Good news in the fight against ...   \n",
       "topic_2   William Black: How to rob a bank (from the ins...   \n",
       "topic_3   Vikram Sharma: How quantum physics can make en...   \n",
       "topic_4                               Stew: \"Black Men Ski\"   \n",
       "topic_5   David Brooks: Should you live for your résumé ...   \n",
       "topic_6           Hans Rosling: Asia's rise -- how and when   \n",
       "topic_7   Kaki King: A musical escape into a world of li...   \n",
       "topic_8   Joseph DeSimone: What if 3D printing was 100x ...   \n",
       "topic_9      Markus Fischer: A robot that flies like a bird   \n",
       "topic_10       Jason Fried: Why work doesn't happen at work   \n",
       "topic_11              David Bismark: E-voting without fraud   \n",
       "topic_12  Deborah Gordon: The emergent genius of ant col...   \n",
       "topic_13  Musimbi Kanyoro: To solve the world's biggest ...   \n",
       "topic_14  Baba Shiv: Sometimes it's good to give up the ...   \n",
       "topic_15  Janette Sadik-Khan: New York's streets? Not so...   \n",
       "topic_16   Aimee Mullins: Changing my legs - and my mindset   \n",
       "topic_17                 Kevin Allocca: Why videos go viral   \n",
       "topic_18    Nizar Ibrahim: How we unearthed the Spinosaurus   \n",
       "topic_19         Peter Reinhart: The art and craft of bread   \n",
       "topic_20   Brian Greene: Is our universe the only universe?   \n",
       "topic_21  Kym Worthy: What happened when we tested thous...   \n",
       "topic_22         Aparna Rao: Art that craves your attention   \n",
       "topic_23    Trita Parsi: Iran and Israel: Peace is possible   \n",
       "topic_24          Shukla Bose: Teaching one child at a time   \n",
       "topic_25      Kevin Breel: Confessions of a depressed comic   \n",
       "topic_26  Kaitlyn Sadtler: How we could teach our bodies...   \n",
       "topic_27  Christopher deCharms: A look inside the brain ...   \n",
       "topic_28  Arthur Benjamin: Teach statistics before calcu...   \n",
       "topic_29                   Nora York: Singing \"What I Want\"   \n",
       "\n",
       "                                                          2  \\\n",
       "topic_0   Alice Bows-Larkin: Climate change is happening...   \n",
       "topic_1          Romina Libster: The power of herd immunity   \n",
       "topic_2   Dan Pallotta: The way we think about charity i...   \n",
       "topic_3   Christopher Soghoian: How to avoid surveillanc...   \n",
       "topic_4   Jackson Katz: Violence against women -- it's a...   \n",
       "topic_5       Karina Galperin: Should we simplify spelling?   \n",
       "topic_6   Yasheng Huang: Does democracy stifle economic ...   \n",
       "topic_7   The Soul Rebels: \"Rebelosis\" / \"Rebel Rock\" / ...   \n",
       "topic_8       Greg Lynn: Organic algorithms in architecture   \n",
       "topic_9        Steve Truglia: A leap from the edge of space   \n",
       "topic_10  Laurie Santos: A monkey economy as irrational ...   \n",
       "topic_11   Rebecca MacKinnon: Let's take back the Internet!   \n",
       "topic_12  Simon Berrow: How do you save a shark you know...   \n",
       "topic_13  Mohamed Ali: The link between unemployment and...   \n",
       "topic_14     David Pizarro: The strange politics of disgust   \n",
       "topic_15          Ellen Dunham-Jones: Retrofitting suburbia   \n",
       "topic_16                     Boy Girl Banjo: \"Dead Romance\"   \n",
       "topic_17   Andrew Fitzgerald: Adventures in Twitter fiction   \n",
       "topic_18        Louise Leakey: A dig for humanity's origins   \n",
       "topic_19                 Marcel Dicke: Why not eat insects?   \n",
       "topic_20  Burçin Mutlu-Pakdil: A rare galaxy that's chal...   \n",
       "topic_21       David R. Dow: Lessons from death row inmates   \n",
       "topic_22             Erik Johansson: Impossible photography   \n",
       "topic_23  Anastasia Taylor-Lind: Fighters and mourners o...   \n",
       "topic_24  Mary Maker: Why I fight for the education of r...   \n",
       "topic_25  Esther Perel: Rethinking infidelity ... a talk...   \n",
       "topic_26  Jennifer Doudna:  How CRISPR lets us edit our DNA   \n",
       "topic_27  Mehdi Ordikhani-Seyedlar: What happens in your...   \n",
       "topic_28  Daniel Susskind: 3 myths about the future of w...   \n",
       "topic_29  Maz Jobrani: A Saudi, an Indian and an Iranian...   \n",
       "\n",
       "                                                          3  \\\n",
       "topic_0    Al Gore: What comes after An Inconvenient Truth?   \n",
       "topic_1   Joshua Smith: New nanotech to detect cancer early   \n",
       "topic_2    Wendy Woods: The business benefits of doing good   \n",
       "topic_3           Avi Rubin: All your devices can be hacked   \n",
       "topic_4   Chimamanda Ngozi Adichie: We should all be fem...   \n",
       "topic_5   Kwame Anthony Appiah: Is religion good or bad?...   \n",
       "topic_6   Thomas Piketty: New thoughts on capital in the...   \n",
       "topic_7   Sleepy Man Banjo Boys: Teen wonders play blueg...   \n",
       "topic_8   Amit Kalra: 3 creative ways to fix fashion's w...   \n",
       "topic_9   Saul Griffith: High-altitude wind energy from ...   \n",
       "topic_10             Larry Page: Where's Google going next?   \n",
       "topic_11  Laura Galante: How (and why) Russia hacked the...   \n",
       "topic_12      Barbara Block: Tagging tuna in the deep ocean   \n",
       "topic_13  Roselinde Torres: What it takes to be a great ...   \n",
       "topic_14               Ruth Chang: How to make hard choices   \n",
       "topic_15  Teddy Cruz: How architectural innovations migr...   \n",
       "topic_16  David Blaine: How I held my breath for 17 minutes   \n",
       "topic_17  Thomas Hellum: The world's most boring televis...   \n",
       "topic_18  Richard Preston: The mysterious lives of giant...   \n",
       "topic_19              Jae Rhim Lee: My mushroom burial suit   \n",
       "topic_20  Jedidah Isler: How I fell in love with quasars...   \n",
       "topic_21  Eve Abrams: The human stories behind mass inca...   \n",
       "topic_22                Alexa Meade: Your body is my canvas   \n",
       "topic_23  Anjan Sundaram: Why I risked my life to expose...   \n",
       "topic_24  Tara Winkler: Why we need to end the era of or...   \n",
       "topic_25  Bill Bernat: How to connect with depressed fri...   \n",
       "topic_26                  Anthony Atala: Growing new organs   \n",
       "topic_27         Todd Kuiken: A prosthetic arm that \"feels\"   \n",
       "topic_28  Daphne Koller: What we're learning from online...   \n",
       "topic_29                           Keith Barry: Brain magic   \n",
       "\n",
       "                                                          4  \n",
       "topic_0   Jennifer Wilcox: A new way to remove CO2 from ...  \n",
       "topic_1   Boghuma Kabisen Titanji: Ethical riddles in HI...  \n",
       "topic_2   Niti Bhan: The hidden opportunities of the inf...  \n",
       "topic_3   Ian Ritchie: The day I turned down Tim Berners...  \n",
       "topic_4           Roxane Gay: Confessions of a bad feminist  \n",
       "topic_5               Lesley Hazleton: On reading the Koran  \n",
       "topic_6               Charles Robertson: Africa's next boom  \n",
       "topic_7               Danielle de Niese: A flirtatious aria  \n",
       "topic_8               Lisa Harouni: A primer on 3D printing  \n",
       "topic_9         Joel Levine: Why we need to go back to Mars  \n",
       "topic_10               Julian Baggini: Is there a real you?  \n",
       "topic_11  Edward Snowden: Here's how we take back the In...  \n",
       "topic_12  Mei Lin Neo: The fascinating secret lives of g...  \n",
       "topic_13             Kare Anderson: Be an opportunity maker  \n",
       "topic_14    Dan Gilbert: The psychology of your future self  \n",
       "topic_15  Amanda Burden: How public spaces make cities work  \n",
       "topic_16  Minda Dentler: What I learned when I conquered...  \n",
       "topic_17  Jill Sobule + Julia Sweeney: The Jill and Juli...  \n",
       "topic_18  Steve Boyes: How we're saving one of Earth's l...  \n",
       "topic_19        Mark Bittman: What's wrong with what we eat  \n",
       "topic_20  Anjali Tripathi: Why Earth may someday look li...  \n",
       "topic_21  Robin Steinberg: What if we ended the injustic...  \n",
       "topic_22  Vanessa Ruiz: The spellbinding art of human an...  \n",
       "topic_23               Sophal Ear: Escaping the Khmer Rouge  \n",
       "topic_24  Shabana Basij-Rasikh: Dare to educate Afghan g...  \n",
       "topic_25               Guy Winch: How to fix a broken heart  \n",
       "topic_26     Craig Venter: Watch me unveil \"synthetic life\"  \n",
       "topic_27  Michael Merzenich: Growing evidence of brain p...  \n",
       "topic_28  Garry Kasparov: Don't fear intelligent machine...  \n",
       "topic_29                  Raspyni Brothers: Juggle and jest  "
      ]
     },
     "execution_count": 393,
     "metadata": {},
     "output_type": "execute_result"
    }
   ],
   "source": [
    "top_docs.iloc[:, : 5].applymap(lambda x: file_name_to_title[x])"
   ]
  },
  {
   "cell_type": "markdown",
   "metadata": {},
   "source": [
    "Как можно увидеть, темы получились довольно осмысленными:   \n",
    "    \n",
    "    1) Проблема изменения климата\n",
    "    2) Медицина, онкологические заболевания\n",
    "    3) Финансы, бизнес\n",
    "    4) Хакеры, шифры, шпионаж\n",
    "    5) Феминизм\n",
    "    и т. д."
   ]
  },
  {
   "cell_type": "code",
   "execution_count": 406,
   "metadata": {},
   "outputs": [
    {
     "name": "stdout",
     "output_type": "stream",
     "text": [
      "Sofia Jawed-Wessel: The lies we tell pregnant women\n",
      "Stew: \"Black Men Ski\"\n",
      "Jackson Katz: Violence against women -- it's a men's issue\n",
      "Chimamanda Ngozi Adichie: We should all be feminists\n",
      "Roxane Gay: Confessions of a bad feminist\n"
     ]
    }
   ],
   "source": [
    "# Ячейка для вывода полных названий, а то в таблицу не помещаются\n",
    "for i in range(5):\n",
    "    print(file_name_to_title[top_docs.T['topic_4'][i]])"
   ]
  },
  {
   "cell_type": "markdown",
   "metadata": {},
   "source": [
    "## Мультиязычная тематическая модель (5 баллов)\n",
    "\n",
    "В этом пункте задания вам будет необходимо обучить мультиязычную тематическую модель.\n",
    "\n",
    "В данном пункте вы будете реализовывать модель ML-TD (MultiLingual Parallel).\n",
    "\n",
    "* каждый язык — отдельная модальность\n",
    "* $\\theta_{td}$ — общая для всех параллельных документов\n",
    "\n",
    "Таким образом на обучении все параллельные документы записываются в одну строку в vowpal wabbit файле.\n",
    "\n",
    "Оценивать качество модели мы будем на задаче поиска перевода текста. Вам будет необходимо оценить качество трёх переводов: с русского на английский, с испанского на английский и с русского на испанский.\n",
    "\n",
    "Поиск документов будет устроен следующим образом. Будем для документа d на языке A считать близости со всеми документами на языке B и ранжировать документы языка B по этой близости. Для каждого документа посчитаем позицию истинного перевода документа в выдаче. Итоговая метрика — медиана или среднее таких позиций по всем документам."
   ]
  },
  {
   "cell_type": "markdown",
   "metadata": {},
   "source": [
    "Выделим множества документов, для которых не было известно информации об их переводе:"
   ]
  },
  {
   "cell_type": "code",
   "execution_count": 186,
   "metadata": {},
   "outputs": [],
   "source": [
    "ru_es_parallel_docs_test = load_parallel_documents_info('ted_collection/ru_es_match_test.txt', verbose=False)\n",
    "ru_en_parallel_docs_test = load_parallel_documents_info('ted_collection/ru_en_match_test.txt', verbose=False)\n",
    "es_en_parallel_docs_test = load_parallel_documents_info('ted_collection/es_en_match_test.txt', verbose=False)"
   ]
  },
  {
   "cell_type": "markdown",
   "metadata": {},
   "source": [
    "Проведите подготовительный этап (создание батчей и словарей) для мультиязычной коллекции DATA_PATH_PARALLEL."
   ]
  },
  {
   "cell_type": "code",
   "execution_count": 195,
   "metadata": {},
   "outputs": [],
   "source": [
    "# папка с батчами\n",
    "BATCHES_PATH_PARALLEL = 'ted_collection/batches_parallel'"
   ]
  },
  {
   "cell_type": "code",
   "execution_count": 196,
   "metadata": {},
   "outputs": [],
   "source": [
    "# если BATCHES_PATH_PARALLEL пуста, батчи будут созданы из файла в DATA_PATH_PARALLEL\n",
    "# иначе использовать BATCHES_PATH_PARALLEL\n",
    "if len(glob.glob(os.path.join(BATCHES_PATH_PARALLEL + '/*.batch'))) < 1:\n",
    "    batch_vectorizer_parallel = artm.BatchVectorizer(data_path=DATA_PATH_PARALLEL, \n",
    "                                                 data_format='vowpal_wabbit',\n",
    "                                                 target_folder=BATCHES_PATH_PARALLEL)\n",
    "else:\n",
    "    batch_vectorizer_parallel = artm.BatchVectorizer(data_path=BATCHES_PATH_PARALLEL,\n",
    "                                                 data_format='batches')"
   ]
  },
  {
   "cell_type": "code",
   "execution_count": 197,
   "metadata": {},
   "outputs": [],
   "source": [
    "dict_parallel = artm.Dictionary()\n",
    "dict_parallel.gather(data_path=BATCHES_PATH_PARALLEL)"
   ]
  },
  {
   "cell_type": "code",
   "execution_count": 198,
   "metadata": {},
   "outputs": [
    {
     "data": {
      "text/plain": [
       "artm.Dictionary(name=4aec8b1f-bf7f-4f87-99ad-278810711301, num_entries=51781)"
      ]
     },
     "execution_count": 198,
     "metadata": {},
     "output_type": "execute_result"
    }
   ],
   "source": [
    "MIN_DF = 5\n",
    "\n",
    "dict_parallel.filter(min_df=MIN_DF)"
   ]
  },
  {
   "cell_type": "markdown",
   "metadata": {},
   "source": [
    "Обучите мультиязычную модель и проинтерпертируйте полученные темы. Если вы всё сделали правильно, то топ-слова различных языков для одной темы должны получиться достаточно похожими."
   ]
  },
  {
   "cell_type": "code",
   "execution_count": 371,
   "metadata": {},
   "outputs": [],
   "source": [
    "model_parallel = artm.ARTM(num_topics=30,\n",
    "                  num_processors=7,\n",
    "                  theta_columns_naming='title',\n",
    "                  show_progress_bars=True,\n",
    "                  class_ids={'@english':10, '@russian':5, '@spanish':1})\n",
    "\n",
    "model_parallel.initialize(dict_parallel)"
   ]
  },
  {
   "cell_type": "code",
   "execution_count": 372,
   "metadata": {},
   "outputs": [],
   "source": [
    "model_parallel.scores.add(artm.PerplexityScore(name='perplexity_score', \n",
    "                                      dictionary=dict_parallel, \n",
    "                                      class_ids=['@english', 'russian', 'spanish']))\n",
    "\n",
    "model_parallel.scores.add(artm.SparsityPhiScore(name='en_sparsity_phi_score',\n",
    "                                       class_id='@english'))\n",
    "model_parallel.scores.add(artm.SparsityPhiScore(name='ru_sparsity_phi_score',\n",
    "                                       class_id='@russian'))\n",
    "model_parallel.scores.add(artm.SparsityPhiScore(name='es_sparsity_phi_score',\n",
    "                                       class_id='@spanish'))\n",
    "\n",
    "model_parallel.scores.add(artm.SparsityThetaScore(name='sparsity_theta_score'))\n",
    "\n",
    "model_parallel.scores.add(artm.TopTokensScore(name='en_top_tokens_score',\n",
    "                                     class_id='@english'))\n",
    "model_parallel.scores.add(artm.TopTokensScore(name='ru_top_tokens_score',\n",
    "                                     class_id='@russian'))\n",
    "model_parallel.scores.add(artm.TopTokensScore(name='es_top_tokens_score',\n",
    "                                     class_id='@spanish'))"
   ]
  },
  {
   "cell_type": "code",
   "execution_count": 373,
   "metadata": {},
   "outputs": [
    {
     "data": {
      "application/vnd.jupyter.widget-view+json": {
       "model_id": "8a49372cc2c5442598ebeacfe200ccad",
       "version_major": 2,
       "version_minor": 0
      },
      "text/plain": [
       "HBox(children=(FloatProgress(value=0.0, description='Pass', max=300.0, style=ProgressStyle(description_width='…"
      ]
     },
     "metadata": {},
     "output_type": "display_data"
    },
    {
     "data": {
      "application/vnd.jupyter.widget-view+json": {
       "model_id": "",
       "version_major": 2,
       "version_minor": 0
      },
      "text/plain": [
       "HBox(children=(FloatProgress(value=0.0, description='Batch', max=7.0, style=ProgressStyle(description_width='i…"
      ]
     },
     "metadata": {},
     "output_type": "display_data"
    },
    {
     "data": {
      "application/vnd.jupyter.widget-view+json": {
       "model_id": "",
       "version_major": 2,
       "version_minor": 0
      },
      "text/plain": [
       "HBox(children=(FloatProgress(value=0.0, description='Batch', max=7.0, style=ProgressStyle(description_width='i…"
      ]
     },
     "metadata": {},
     "output_type": "display_data"
    },
    {
     "data": {
      "application/vnd.jupyter.widget-view+json": {
       "model_id": "",
       "version_major": 2,
       "version_minor": 0
      },
      "text/plain": [
       "HBox(children=(FloatProgress(value=0.0, description='Batch', max=7.0, style=ProgressStyle(description_width='i…"
      ]
     },
     "metadata": {},
     "output_type": "display_data"
    },
    {
     "data": {
      "application/vnd.jupyter.widget-view+json": {
       "model_id": "",
       "version_major": 2,
       "version_minor": 0
      },
      "text/plain": [
       "HBox(children=(FloatProgress(value=0.0, description='Batch', max=7.0, style=ProgressStyle(description_width='i…"
      ]
     },
     "metadata": {},
     "output_type": "display_data"
    },
    {
     "data": {
      "application/vnd.jupyter.widget-view+json": {
       "model_id": "",
       "version_major": 2,
       "version_minor": 0
      },
      "text/plain": [
       "HBox(children=(FloatProgress(value=0.0, description='Batch', max=7.0, style=ProgressStyle(description_width='i…"
      ]
     },
     "metadata": {},
     "output_type": "display_data"
    },
    {
     "data": {
      "application/vnd.jupyter.widget-view+json": {
       "model_id": "",
       "version_major": 2,
       "version_minor": 0
      },
      "text/plain": [
       "HBox(children=(FloatProgress(value=0.0, description='Batch', max=7.0, style=ProgressStyle(description_width='i…"
      ]
     },
     "metadata": {},
     "output_type": "display_data"
    },
    {
     "data": {
      "application/vnd.jupyter.widget-view+json": {
       "model_id": "",
       "version_major": 2,
       "version_minor": 0
      },
      "text/plain": [
       "HBox(children=(FloatProgress(value=0.0, description='Batch', max=7.0, style=ProgressStyle(description_width='i…"
      ]
     },
     "metadata": {},
     "output_type": "display_data"
    },
    {
     "data": {
      "application/vnd.jupyter.widget-view+json": {
       "model_id": "",
       "version_major": 2,
       "version_minor": 0
      },
      "text/plain": [
       "HBox(children=(FloatProgress(value=0.0, description='Batch', max=7.0, style=ProgressStyle(description_width='i…"
      ]
     },
     "metadata": {},
     "output_type": "display_data"
    },
    {
     "data": {
      "application/vnd.jupyter.widget-view+json": {
       "model_id": "",
       "version_major": 2,
       "version_minor": 0
      },
      "text/plain": [
       "HBox(children=(FloatProgress(value=0.0, description='Batch', max=7.0, style=ProgressStyle(description_width='i…"
      ]
     },
     "metadata": {},
     "output_type": "display_data"
    },
    {
     "data": {
      "application/vnd.jupyter.widget-view+json": {
       "model_id": "",
       "version_major": 2,
       "version_minor": 0
      },
      "text/plain": [
       "HBox(children=(FloatProgress(value=0.0, description='Batch', max=7.0, style=ProgressStyle(description_width='i…"
      ]
     },
     "metadata": {},
     "output_type": "display_data"
    },
    {
     "data": {
      "application/vnd.jupyter.widget-view+json": {
       "model_id": "",
       "version_major": 2,
       "version_minor": 0
      },
      "text/plain": [
       "HBox(children=(FloatProgress(value=0.0, description='Batch', max=7.0, style=ProgressStyle(description_width='i…"
      ]
     },
     "metadata": {},
     "output_type": "display_data"
    },
    {
     "data": {
      "application/vnd.jupyter.widget-view+json": {
       "model_id": "",
       "version_major": 2,
       "version_minor": 0
      },
      "text/plain": [
       "HBox(children=(FloatProgress(value=0.0, description='Batch', max=7.0, style=ProgressStyle(description_width='i…"
      ]
     },
     "metadata": {},
     "output_type": "display_data"
    },
    {
     "data": {
      "application/vnd.jupyter.widget-view+json": {
       "model_id": "",
       "version_major": 2,
       "version_minor": 0
      },
      "text/plain": [
       "HBox(children=(FloatProgress(value=0.0, description='Batch', max=7.0, style=ProgressStyle(description_width='i…"
      ]
     },
     "metadata": {},
     "output_type": "display_data"
    },
    {
     "data": {
      "application/vnd.jupyter.widget-view+json": {
       "model_id": "",
       "version_major": 2,
       "version_minor": 0
      },
      "text/plain": [
       "HBox(children=(FloatProgress(value=0.0, description='Batch', max=7.0, style=ProgressStyle(description_width='i…"
      ]
     },
     "metadata": {},
     "output_type": "display_data"
    },
    {
     "data": {
      "application/vnd.jupyter.widget-view+json": {
       "model_id": "",
       "version_major": 2,
       "version_minor": 0
      },
      "text/plain": [
       "HBox(children=(FloatProgress(value=0.0, description='Batch', max=7.0, style=ProgressStyle(description_width='i…"
      ]
     },
     "metadata": {},
     "output_type": "display_data"
    },
    {
     "data": {
      "application/vnd.jupyter.widget-view+json": {
       "model_id": "",
       "version_major": 2,
       "version_minor": 0
      },
      "text/plain": [
       "HBox(children=(FloatProgress(value=0.0, description='Batch', max=7.0, style=ProgressStyle(description_width='i…"
      ]
     },
     "metadata": {},
     "output_type": "display_data"
    },
    {
     "data": {
      "application/vnd.jupyter.widget-view+json": {
       "model_id": "",
       "version_major": 2,
       "version_minor": 0
      },
      "text/plain": [
       "HBox(children=(FloatProgress(value=0.0, description='Batch', max=7.0, style=ProgressStyle(description_width='i…"
      ]
     },
     "metadata": {},
     "output_type": "display_data"
    },
    {
     "data": {
      "application/vnd.jupyter.widget-view+json": {
       "model_id": "",
       "version_major": 2,
       "version_minor": 0
      },
      "text/plain": [
       "HBox(children=(FloatProgress(value=0.0, description='Batch', max=7.0, style=ProgressStyle(description_width='i…"
      ]
     },
     "metadata": {},
     "output_type": "display_data"
    },
    {
     "data": {
      "application/vnd.jupyter.widget-view+json": {
       "model_id": "",
       "version_major": 2,
       "version_minor": 0
      },
      "text/plain": [
       "HBox(children=(FloatProgress(value=0.0, description='Batch', max=7.0, style=ProgressStyle(description_width='i…"
      ]
     },
     "metadata": {},
     "output_type": "display_data"
    },
    {
     "data": {
      "application/vnd.jupyter.widget-view+json": {
       "model_id": "",
       "version_major": 2,
       "version_minor": 0
      },
      "text/plain": [
       "HBox(children=(FloatProgress(value=0.0, description='Batch', max=7.0, style=ProgressStyle(description_width='i…"
      ]
     },
     "metadata": {},
     "output_type": "display_data"
    },
    {
     "data": {
      "application/vnd.jupyter.widget-view+json": {
       "model_id": "",
       "version_major": 2,
       "version_minor": 0
      },
      "text/plain": [
       "HBox(children=(FloatProgress(value=0.0, description='Batch', max=7.0, style=ProgressStyle(description_width='i…"
      ]
     },
     "metadata": {},
     "output_type": "display_data"
    },
    {
     "data": {
      "application/vnd.jupyter.widget-view+json": {
       "model_id": "",
       "version_major": 2,
       "version_minor": 0
      },
      "text/plain": [
       "HBox(children=(FloatProgress(value=0.0, description='Batch', max=7.0, style=ProgressStyle(description_width='i…"
      ]
     },
     "metadata": {},
     "output_type": "display_data"
    },
    {
     "data": {
      "application/vnd.jupyter.widget-view+json": {
       "model_id": "",
       "version_major": 2,
       "version_minor": 0
      },
      "text/plain": [
       "HBox(children=(FloatProgress(value=0.0, description='Batch', max=7.0, style=ProgressStyle(description_width='i…"
      ]
     },
     "metadata": {},
     "output_type": "display_data"
    },
    {
     "data": {
      "application/vnd.jupyter.widget-view+json": {
       "model_id": "",
       "version_major": 2,
       "version_minor": 0
      },
      "text/plain": [
       "HBox(children=(FloatProgress(value=0.0, description='Batch', max=7.0, style=ProgressStyle(description_width='i…"
      ]
     },
     "metadata": {},
     "output_type": "display_data"
    },
    {
     "data": {
      "application/vnd.jupyter.widget-view+json": {
       "model_id": "",
       "version_major": 2,
       "version_minor": 0
      },
      "text/plain": [
       "HBox(children=(FloatProgress(value=0.0, description='Batch', max=7.0, style=ProgressStyle(description_width='i…"
      ]
     },
     "metadata": {},
     "output_type": "display_data"
    },
    {
     "data": {
      "application/vnd.jupyter.widget-view+json": {
       "model_id": "",
       "version_major": 2,
       "version_minor": 0
      },
      "text/plain": [
       "HBox(children=(FloatProgress(value=0.0, description='Batch', max=7.0, style=ProgressStyle(description_width='i…"
      ]
     },
     "metadata": {},
     "output_type": "display_data"
    },
    {
     "data": {
      "application/vnd.jupyter.widget-view+json": {
       "model_id": "",
       "version_major": 2,
       "version_minor": 0
      },
      "text/plain": [
       "HBox(children=(FloatProgress(value=0.0, description='Batch', max=7.0, style=ProgressStyle(description_width='i…"
      ]
     },
     "metadata": {},
     "output_type": "display_data"
    },
    {
     "data": {
      "application/vnd.jupyter.widget-view+json": {
       "model_id": "",
       "version_major": 2,
       "version_minor": 0
      },
      "text/plain": [
       "HBox(children=(FloatProgress(value=0.0, description='Batch', max=7.0, style=ProgressStyle(description_width='i…"
      ]
     },
     "metadata": {},
     "output_type": "display_data"
    },
    {
     "data": {
      "application/vnd.jupyter.widget-view+json": {
       "model_id": "",
       "version_major": 2,
       "version_minor": 0
      },
      "text/plain": [
       "HBox(children=(FloatProgress(value=0.0, description='Batch', max=7.0, style=ProgressStyle(description_width='i…"
      ]
     },
     "metadata": {},
     "output_type": "display_data"
    },
    {
     "data": {
      "application/vnd.jupyter.widget-view+json": {
       "model_id": "",
       "version_major": 2,
       "version_minor": 0
      },
      "text/plain": [
       "HBox(children=(FloatProgress(value=0.0, description='Batch', max=7.0, style=ProgressStyle(description_width='i…"
      ]
     },
     "metadata": {},
     "output_type": "display_data"
    },
    {
     "data": {
      "application/vnd.jupyter.widget-view+json": {
       "model_id": "",
       "version_major": 2,
       "version_minor": 0
      },
      "text/plain": [
       "HBox(children=(FloatProgress(value=0.0, description='Batch', max=7.0, style=ProgressStyle(description_width='i…"
      ]
     },
     "metadata": {},
     "output_type": "display_data"
    },
    {
     "data": {
      "application/vnd.jupyter.widget-view+json": {
       "model_id": "",
       "version_major": 2,
       "version_minor": 0
      },
      "text/plain": [
       "HBox(children=(FloatProgress(value=0.0, description='Batch', max=7.0, style=ProgressStyle(description_width='i…"
      ]
     },
     "metadata": {},
     "output_type": "display_data"
    },
    {
     "data": {
      "application/vnd.jupyter.widget-view+json": {
       "model_id": "",
       "version_major": 2,
       "version_minor": 0
      },
      "text/plain": [
       "HBox(children=(FloatProgress(value=0.0, description='Batch', max=7.0, style=ProgressStyle(description_width='i…"
      ]
     },
     "metadata": {},
     "output_type": "display_data"
    },
    {
     "data": {
      "application/vnd.jupyter.widget-view+json": {
       "model_id": "",
       "version_major": 2,
       "version_minor": 0
      },
      "text/plain": [
       "HBox(children=(FloatProgress(value=0.0, description='Batch', max=7.0, style=ProgressStyle(description_width='i…"
      ]
     },
     "metadata": {},
     "output_type": "display_data"
    },
    {
     "data": {
      "application/vnd.jupyter.widget-view+json": {
       "model_id": "",
       "version_major": 2,
       "version_minor": 0
      },
      "text/plain": [
       "HBox(children=(FloatProgress(value=0.0, description='Batch', max=7.0, style=ProgressStyle(description_width='i…"
      ]
     },
     "metadata": {},
     "output_type": "display_data"
    },
    {
     "data": {
      "application/vnd.jupyter.widget-view+json": {
       "model_id": "",
       "version_major": 2,
       "version_minor": 0
      },
      "text/plain": [
       "HBox(children=(FloatProgress(value=0.0, description='Batch', max=7.0, style=ProgressStyle(description_width='i…"
      ]
     },
     "metadata": {},
     "output_type": "display_data"
    },
    {
     "data": {
      "application/vnd.jupyter.widget-view+json": {
       "model_id": "",
       "version_major": 2,
       "version_minor": 0
      },
      "text/plain": [
       "HBox(children=(FloatProgress(value=0.0, description='Batch', max=7.0, style=ProgressStyle(description_width='i…"
      ]
     },
     "metadata": {},
     "output_type": "display_data"
    },
    {
     "data": {
      "application/vnd.jupyter.widget-view+json": {
       "model_id": "",
       "version_major": 2,
       "version_minor": 0
      },
      "text/plain": [
       "HBox(children=(FloatProgress(value=0.0, description='Batch', max=7.0, style=ProgressStyle(description_width='i…"
      ]
     },
     "metadata": {},
     "output_type": "display_data"
    },
    {
     "data": {
      "application/vnd.jupyter.widget-view+json": {
       "model_id": "",
       "version_major": 2,
       "version_minor": 0
      },
      "text/plain": [
       "HBox(children=(FloatProgress(value=0.0, description='Batch', max=7.0, style=ProgressStyle(description_width='i…"
      ]
     },
     "metadata": {},
     "output_type": "display_data"
    },
    {
     "data": {
      "application/vnd.jupyter.widget-view+json": {
       "model_id": "",
       "version_major": 2,
       "version_minor": 0
      },
      "text/plain": [
       "HBox(children=(FloatProgress(value=0.0, description='Batch', max=7.0, style=ProgressStyle(description_width='i…"
      ]
     },
     "metadata": {},
     "output_type": "display_data"
    },
    {
     "data": {
      "application/vnd.jupyter.widget-view+json": {
       "model_id": "",
       "version_major": 2,
       "version_minor": 0
      },
      "text/plain": [
       "HBox(children=(FloatProgress(value=0.0, description='Batch', max=7.0, style=ProgressStyle(description_width='i…"
      ]
     },
     "metadata": {},
     "output_type": "display_data"
    },
    {
     "data": {
      "application/vnd.jupyter.widget-view+json": {
       "model_id": "",
       "version_major": 2,
       "version_minor": 0
      },
      "text/plain": [
       "HBox(children=(FloatProgress(value=0.0, description='Batch', max=7.0, style=ProgressStyle(description_width='i…"
      ]
     },
     "metadata": {},
     "output_type": "display_data"
    },
    {
     "data": {
      "application/vnd.jupyter.widget-view+json": {
       "model_id": "",
       "version_major": 2,
       "version_minor": 0
      },
      "text/plain": [
       "HBox(children=(FloatProgress(value=0.0, description='Batch', max=7.0, style=ProgressStyle(description_width='i…"
      ]
     },
     "metadata": {},
     "output_type": "display_data"
    },
    {
     "data": {
      "application/vnd.jupyter.widget-view+json": {
       "model_id": "",
       "version_major": 2,
       "version_minor": 0
      },
      "text/plain": [
       "HBox(children=(FloatProgress(value=0.0, description='Batch', max=7.0, style=ProgressStyle(description_width='i…"
      ]
     },
     "metadata": {},
     "output_type": "display_data"
    },
    {
     "data": {
      "application/vnd.jupyter.widget-view+json": {
       "model_id": "",
       "version_major": 2,
       "version_minor": 0
      },
      "text/plain": [
       "HBox(children=(FloatProgress(value=0.0, description='Batch', max=7.0, style=ProgressStyle(description_width='i…"
      ]
     },
     "metadata": {},
     "output_type": "display_data"
    },
    {
     "data": {
      "application/vnd.jupyter.widget-view+json": {
       "model_id": "",
       "version_major": 2,
       "version_minor": 0
      },
      "text/plain": [
       "HBox(children=(FloatProgress(value=0.0, description='Batch', max=7.0, style=ProgressStyle(description_width='i…"
      ]
     },
     "metadata": {},
     "output_type": "display_data"
    },
    {
     "data": {
      "application/vnd.jupyter.widget-view+json": {
       "model_id": "",
       "version_major": 2,
       "version_minor": 0
      },
      "text/plain": [
       "HBox(children=(FloatProgress(value=0.0, description='Batch', max=7.0, style=ProgressStyle(description_width='i…"
      ]
     },
     "metadata": {},
     "output_type": "display_data"
    },
    {
     "data": {
      "application/vnd.jupyter.widget-view+json": {
       "model_id": "",
       "version_major": 2,
       "version_minor": 0
      },
      "text/plain": [
       "HBox(children=(FloatProgress(value=0.0, description='Batch', max=7.0, style=ProgressStyle(description_width='i…"
      ]
     },
     "metadata": {},
     "output_type": "display_data"
    },
    {
     "data": {
      "application/vnd.jupyter.widget-view+json": {
       "model_id": "",
       "version_major": 2,
       "version_minor": 0
      },
      "text/plain": [
       "HBox(children=(FloatProgress(value=0.0, description='Batch', max=7.0, style=ProgressStyle(description_width='i…"
      ]
     },
     "metadata": {},
     "output_type": "display_data"
    },
    {
     "data": {
      "application/vnd.jupyter.widget-view+json": {
       "model_id": "",
       "version_major": 2,
       "version_minor": 0
      },
      "text/plain": [
       "HBox(children=(FloatProgress(value=0.0, description='Batch', max=7.0, style=ProgressStyle(description_width='i…"
      ]
     },
     "metadata": {},
     "output_type": "display_data"
    },
    {
     "data": {
      "application/vnd.jupyter.widget-view+json": {
       "model_id": "",
       "version_major": 2,
       "version_minor": 0
      },
      "text/plain": [
       "HBox(children=(FloatProgress(value=0.0, description='Batch', max=7.0, style=ProgressStyle(description_width='i…"
      ]
     },
     "metadata": {},
     "output_type": "display_data"
    },
    {
     "data": {
      "application/vnd.jupyter.widget-view+json": {
       "model_id": "",
       "version_major": 2,
       "version_minor": 0
      },
      "text/plain": [
       "HBox(children=(FloatProgress(value=0.0, description='Batch', max=7.0, style=ProgressStyle(description_width='i…"
      ]
     },
     "metadata": {},
     "output_type": "display_data"
    },
    {
     "data": {
      "application/vnd.jupyter.widget-view+json": {
       "model_id": "",
       "version_major": 2,
       "version_minor": 0
      },
      "text/plain": [
       "HBox(children=(FloatProgress(value=0.0, description='Batch', max=7.0, style=ProgressStyle(description_width='i…"
      ]
     },
     "metadata": {},
     "output_type": "display_data"
    },
    {
     "data": {
      "application/vnd.jupyter.widget-view+json": {
       "model_id": "",
       "version_major": 2,
       "version_minor": 0
      },
      "text/plain": [
       "HBox(children=(FloatProgress(value=0.0, description='Batch', max=7.0, style=ProgressStyle(description_width='i…"
      ]
     },
     "metadata": {},
     "output_type": "display_data"
    },
    {
     "data": {
      "application/vnd.jupyter.widget-view+json": {
       "model_id": "",
       "version_major": 2,
       "version_minor": 0
      },
      "text/plain": [
       "HBox(children=(FloatProgress(value=0.0, description='Batch', max=7.0, style=ProgressStyle(description_width='i…"
      ]
     },
     "metadata": {},
     "output_type": "display_data"
    },
    {
     "data": {
      "application/vnd.jupyter.widget-view+json": {
       "model_id": "",
       "version_major": 2,
       "version_minor": 0
      },
      "text/plain": [
       "HBox(children=(FloatProgress(value=0.0, description='Batch', max=7.0, style=ProgressStyle(description_width='i…"
      ]
     },
     "metadata": {},
     "output_type": "display_data"
    },
    {
     "data": {
      "application/vnd.jupyter.widget-view+json": {
       "model_id": "",
       "version_major": 2,
       "version_minor": 0
      },
      "text/plain": [
       "HBox(children=(FloatProgress(value=0.0, description='Batch', max=7.0, style=ProgressStyle(description_width='i…"
      ]
     },
     "metadata": {},
     "output_type": "display_data"
    },
    {
     "data": {
      "application/vnd.jupyter.widget-view+json": {
       "model_id": "",
       "version_major": 2,
       "version_minor": 0
      },
      "text/plain": [
       "HBox(children=(FloatProgress(value=0.0, description='Batch', max=7.0, style=ProgressStyle(description_width='i…"
      ]
     },
     "metadata": {},
     "output_type": "display_data"
    },
    {
     "data": {
      "application/vnd.jupyter.widget-view+json": {
       "model_id": "",
       "version_major": 2,
       "version_minor": 0
      },
      "text/plain": [
       "HBox(children=(FloatProgress(value=0.0, description='Batch', max=7.0, style=ProgressStyle(description_width='i…"
      ]
     },
     "metadata": {},
     "output_type": "display_data"
    },
    {
     "data": {
      "application/vnd.jupyter.widget-view+json": {
       "model_id": "",
       "version_major": 2,
       "version_minor": 0
      },
      "text/plain": [
       "HBox(children=(FloatProgress(value=0.0, description='Batch', max=7.0, style=ProgressStyle(description_width='i…"
      ]
     },
     "metadata": {},
     "output_type": "display_data"
    },
    {
     "data": {
      "application/vnd.jupyter.widget-view+json": {
       "model_id": "",
       "version_major": 2,
       "version_minor": 0
      },
      "text/plain": [
       "HBox(children=(FloatProgress(value=0.0, description='Batch', max=7.0, style=ProgressStyle(description_width='i…"
      ]
     },
     "metadata": {},
     "output_type": "display_data"
    },
    {
     "data": {
      "application/vnd.jupyter.widget-view+json": {
       "model_id": "",
       "version_major": 2,
       "version_minor": 0
      },
      "text/plain": [
       "HBox(children=(FloatProgress(value=0.0, description='Batch', max=7.0, style=ProgressStyle(description_width='i…"
      ]
     },
     "metadata": {},
     "output_type": "display_data"
    },
    {
     "data": {
      "application/vnd.jupyter.widget-view+json": {
       "model_id": "",
       "version_major": 2,
       "version_minor": 0
      },
      "text/plain": [
       "HBox(children=(FloatProgress(value=0.0, description='Batch', max=7.0, style=ProgressStyle(description_width='i…"
      ]
     },
     "metadata": {},
     "output_type": "display_data"
    },
    {
     "data": {
      "application/vnd.jupyter.widget-view+json": {
       "model_id": "",
       "version_major": 2,
       "version_minor": 0
      },
      "text/plain": [
       "HBox(children=(FloatProgress(value=0.0, description='Batch', max=7.0, style=ProgressStyle(description_width='i…"
      ]
     },
     "metadata": {},
     "output_type": "display_data"
    },
    {
     "data": {
      "application/vnd.jupyter.widget-view+json": {
       "model_id": "",
       "version_major": 2,
       "version_minor": 0
      },
      "text/plain": [
       "HBox(children=(FloatProgress(value=0.0, description='Batch', max=7.0, style=ProgressStyle(description_width='i…"
      ]
     },
     "metadata": {},
     "output_type": "display_data"
    },
    {
     "data": {
      "application/vnd.jupyter.widget-view+json": {
       "model_id": "",
       "version_major": 2,
       "version_minor": 0
      },
      "text/plain": [
       "HBox(children=(FloatProgress(value=0.0, description='Batch', max=7.0, style=ProgressStyle(description_width='i…"
      ]
     },
     "metadata": {},
     "output_type": "display_data"
    },
    {
     "data": {
      "application/vnd.jupyter.widget-view+json": {
       "model_id": "",
       "version_major": 2,
       "version_minor": 0
      },
      "text/plain": [
       "HBox(children=(FloatProgress(value=0.0, description='Batch', max=7.0, style=ProgressStyle(description_width='i…"
      ]
     },
     "metadata": {},
     "output_type": "display_data"
    },
    {
     "data": {
      "application/vnd.jupyter.widget-view+json": {
       "model_id": "",
       "version_major": 2,
       "version_minor": 0
      },
      "text/plain": [
       "HBox(children=(FloatProgress(value=0.0, description='Batch', max=7.0, style=ProgressStyle(description_width='i…"
      ]
     },
     "metadata": {},
     "output_type": "display_data"
    },
    {
     "data": {
      "application/vnd.jupyter.widget-view+json": {
       "model_id": "",
       "version_major": 2,
       "version_minor": 0
      },
      "text/plain": [
       "HBox(children=(FloatProgress(value=0.0, description='Batch', max=7.0, style=ProgressStyle(description_width='i…"
      ]
     },
     "metadata": {},
     "output_type": "display_data"
    },
    {
     "data": {
      "application/vnd.jupyter.widget-view+json": {
       "model_id": "",
       "version_major": 2,
       "version_minor": 0
      },
      "text/plain": [
       "HBox(children=(FloatProgress(value=0.0, description='Batch', max=7.0, style=ProgressStyle(description_width='i…"
      ]
     },
     "metadata": {},
     "output_type": "display_data"
    },
    {
     "data": {
      "application/vnd.jupyter.widget-view+json": {
       "model_id": "",
       "version_major": 2,
       "version_minor": 0
      },
      "text/plain": [
       "HBox(children=(FloatProgress(value=0.0, description='Batch', max=7.0, style=ProgressStyle(description_width='i…"
      ]
     },
     "metadata": {},
     "output_type": "display_data"
    },
    {
     "data": {
      "application/vnd.jupyter.widget-view+json": {
       "model_id": "",
       "version_major": 2,
       "version_minor": 0
      },
      "text/plain": [
       "HBox(children=(FloatProgress(value=0.0, description='Batch', max=7.0, style=ProgressStyle(description_width='i…"
      ]
     },
     "metadata": {},
     "output_type": "display_data"
    },
    {
     "data": {
      "application/vnd.jupyter.widget-view+json": {
       "model_id": "",
       "version_major": 2,
       "version_minor": 0
      },
      "text/plain": [
       "HBox(children=(FloatProgress(value=0.0, description='Batch', max=7.0, style=ProgressStyle(description_width='i…"
      ]
     },
     "metadata": {},
     "output_type": "display_data"
    },
    {
     "data": {
      "application/vnd.jupyter.widget-view+json": {
       "model_id": "",
       "version_major": 2,
       "version_minor": 0
      },
      "text/plain": [
       "HBox(children=(FloatProgress(value=0.0, description='Batch', max=7.0, style=ProgressStyle(description_width='i…"
      ]
     },
     "metadata": {},
     "output_type": "display_data"
    },
    {
     "data": {
      "application/vnd.jupyter.widget-view+json": {
       "model_id": "",
       "version_major": 2,
       "version_minor": 0
      },
      "text/plain": [
       "HBox(children=(FloatProgress(value=0.0, description='Batch', max=7.0, style=ProgressStyle(description_width='i…"
      ]
     },
     "metadata": {},
     "output_type": "display_data"
    },
    {
     "data": {
      "application/vnd.jupyter.widget-view+json": {
       "model_id": "",
       "version_major": 2,
       "version_minor": 0
      },
      "text/plain": [
       "HBox(children=(FloatProgress(value=0.0, description='Batch', max=7.0, style=ProgressStyle(description_width='i…"
      ]
     },
     "metadata": {},
     "output_type": "display_data"
    },
    {
     "data": {
      "application/vnd.jupyter.widget-view+json": {
       "model_id": "",
       "version_major": 2,
       "version_minor": 0
      },
      "text/plain": [
       "HBox(children=(FloatProgress(value=0.0, description='Batch', max=7.0, style=ProgressStyle(description_width='i…"
      ]
     },
     "metadata": {},
     "output_type": "display_data"
    },
    {
     "data": {
      "application/vnd.jupyter.widget-view+json": {
       "model_id": "",
       "version_major": 2,
       "version_minor": 0
      },
      "text/plain": [
       "HBox(children=(FloatProgress(value=0.0, description='Batch', max=7.0, style=ProgressStyle(description_width='i…"
      ]
     },
     "metadata": {},
     "output_type": "display_data"
    },
    {
     "data": {
      "application/vnd.jupyter.widget-view+json": {
       "model_id": "",
       "version_major": 2,
       "version_minor": 0
      },
      "text/plain": [
       "HBox(children=(FloatProgress(value=0.0, description='Batch', max=7.0, style=ProgressStyle(description_width='i…"
      ]
     },
     "metadata": {},
     "output_type": "display_data"
    },
    {
     "data": {
      "application/vnd.jupyter.widget-view+json": {
       "model_id": "",
       "version_major": 2,
       "version_minor": 0
      },
      "text/plain": [
       "HBox(children=(FloatProgress(value=0.0, description='Batch', max=7.0, style=ProgressStyle(description_width='i…"
      ]
     },
     "metadata": {},
     "output_type": "display_data"
    },
    {
     "data": {
      "application/vnd.jupyter.widget-view+json": {
       "model_id": "",
       "version_major": 2,
       "version_minor": 0
      },
      "text/plain": [
       "HBox(children=(FloatProgress(value=0.0, description='Batch', max=7.0, style=ProgressStyle(description_width='i…"
      ]
     },
     "metadata": {},
     "output_type": "display_data"
    },
    {
     "data": {
      "application/vnd.jupyter.widget-view+json": {
       "model_id": "",
       "version_major": 2,
       "version_minor": 0
      },
      "text/plain": [
       "HBox(children=(FloatProgress(value=0.0, description='Batch', max=7.0, style=ProgressStyle(description_width='i…"
      ]
     },
     "metadata": {},
     "output_type": "display_data"
    },
    {
     "data": {
      "application/vnd.jupyter.widget-view+json": {
       "model_id": "",
       "version_major": 2,
       "version_minor": 0
      },
      "text/plain": [
       "HBox(children=(FloatProgress(value=0.0, description='Batch', max=7.0, style=ProgressStyle(description_width='i…"
      ]
     },
     "metadata": {},
     "output_type": "display_data"
    },
    {
     "data": {
      "application/vnd.jupyter.widget-view+json": {
       "model_id": "",
       "version_major": 2,
       "version_minor": 0
      },
      "text/plain": [
       "HBox(children=(FloatProgress(value=0.0, description='Batch', max=7.0, style=ProgressStyle(description_width='i…"
      ]
     },
     "metadata": {},
     "output_type": "display_data"
    },
    {
     "data": {
      "application/vnd.jupyter.widget-view+json": {
       "model_id": "",
       "version_major": 2,
       "version_minor": 0
      },
      "text/plain": [
       "HBox(children=(FloatProgress(value=0.0, description='Batch', max=7.0, style=ProgressStyle(description_width='i…"
      ]
     },
     "metadata": {},
     "output_type": "display_data"
    },
    {
     "data": {
      "application/vnd.jupyter.widget-view+json": {
       "model_id": "",
       "version_major": 2,
       "version_minor": 0
      },
      "text/plain": [
       "HBox(children=(FloatProgress(value=0.0, description='Batch', max=7.0, style=ProgressStyle(description_width='i…"
      ]
     },
     "metadata": {},
     "output_type": "display_data"
    },
    {
     "data": {
      "application/vnd.jupyter.widget-view+json": {
       "model_id": "",
       "version_major": 2,
       "version_minor": 0
      },
      "text/plain": [
       "HBox(children=(FloatProgress(value=0.0, description='Batch', max=7.0, style=ProgressStyle(description_width='i…"
      ]
     },
     "metadata": {},
     "output_type": "display_data"
    },
    {
     "data": {
      "application/vnd.jupyter.widget-view+json": {
       "model_id": "",
       "version_major": 2,
       "version_minor": 0
      },
      "text/plain": [
       "HBox(children=(FloatProgress(value=0.0, description='Batch', max=7.0, style=ProgressStyle(description_width='i…"
      ]
     },
     "metadata": {},
     "output_type": "display_data"
    },
    {
     "data": {
      "application/vnd.jupyter.widget-view+json": {
       "model_id": "",
       "version_major": 2,
       "version_minor": 0
      },
      "text/plain": [
       "HBox(children=(FloatProgress(value=0.0, description='Batch', max=7.0, style=ProgressStyle(description_width='i…"
      ]
     },
     "metadata": {},
     "output_type": "display_data"
    },
    {
     "data": {
      "application/vnd.jupyter.widget-view+json": {
       "model_id": "",
       "version_major": 2,
       "version_minor": 0
      },
      "text/plain": [
       "HBox(children=(FloatProgress(value=0.0, description='Batch', max=7.0, style=ProgressStyle(description_width='i…"
      ]
     },
     "metadata": {},
     "output_type": "display_data"
    },
    {
     "data": {
      "application/vnd.jupyter.widget-view+json": {
       "model_id": "",
       "version_major": 2,
       "version_minor": 0
      },
      "text/plain": [
       "HBox(children=(FloatProgress(value=0.0, description='Batch', max=7.0, style=ProgressStyle(description_width='i…"
      ]
     },
     "metadata": {},
     "output_type": "display_data"
    },
    {
     "data": {
      "application/vnd.jupyter.widget-view+json": {
       "model_id": "",
       "version_major": 2,
       "version_minor": 0
      },
      "text/plain": [
       "HBox(children=(FloatProgress(value=0.0, description='Batch', max=7.0, style=ProgressStyle(description_width='i…"
      ]
     },
     "metadata": {},
     "output_type": "display_data"
    },
    {
     "data": {
      "application/vnd.jupyter.widget-view+json": {
       "model_id": "",
       "version_major": 2,
       "version_minor": 0
      },
      "text/plain": [
       "HBox(children=(FloatProgress(value=0.0, description='Batch', max=7.0, style=ProgressStyle(description_width='i…"
      ]
     },
     "metadata": {},
     "output_type": "display_data"
    },
    {
     "data": {
      "application/vnd.jupyter.widget-view+json": {
       "model_id": "",
       "version_major": 2,
       "version_minor": 0
      },
      "text/plain": [
       "HBox(children=(FloatProgress(value=0.0, description='Batch', max=7.0, style=ProgressStyle(description_width='i…"
      ]
     },
     "metadata": {},
     "output_type": "display_data"
    },
    {
     "data": {
      "application/vnd.jupyter.widget-view+json": {
       "model_id": "",
       "version_major": 2,
       "version_minor": 0
      },
      "text/plain": [
       "HBox(children=(FloatProgress(value=0.0, description='Batch', max=7.0, style=ProgressStyle(description_width='i…"
      ]
     },
     "metadata": {},
     "output_type": "display_data"
    },
    {
     "data": {
      "application/vnd.jupyter.widget-view+json": {
       "model_id": "",
       "version_major": 2,
       "version_minor": 0
      },
      "text/plain": [
       "HBox(children=(FloatProgress(value=0.0, description='Batch', max=7.0, style=ProgressStyle(description_width='i…"
      ]
     },
     "metadata": {},
     "output_type": "display_data"
    },
    {
     "data": {
      "application/vnd.jupyter.widget-view+json": {
       "model_id": "",
       "version_major": 2,
       "version_minor": 0
      },
      "text/plain": [
       "HBox(children=(FloatProgress(value=0.0, description='Batch', max=7.0, style=ProgressStyle(description_width='i…"
      ]
     },
     "metadata": {},
     "output_type": "display_data"
    },
    {
     "data": {
      "application/vnd.jupyter.widget-view+json": {
       "model_id": "",
       "version_major": 2,
       "version_minor": 0
      },
      "text/plain": [
       "HBox(children=(FloatProgress(value=0.0, description='Batch', max=7.0, style=ProgressStyle(description_width='i…"
      ]
     },
     "metadata": {},
     "output_type": "display_data"
    },
    {
     "data": {
      "application/vnd.jupyter.widget-view+json": {
       "model_id": "",
       "version_major": 2,
       "version_minor": 0
      },
      "text/plain": [
       "HBox(children=(FloatProgress(value=0.0, description='Batch', max=7.0, style=ProgressStyle(description_width='i…"
      ]
     },
     "metadata": {},
     "output_type": "display_data"
    },
    {
     "data": {
      "application/vnd.jupyter.widget-view+json": {
       "model_id": "",
       "version_major": 2,
       "version_minor": 0
      },
      "text/plain": [
       "HBox(children=(FloatProgress(value=0.0, description='Batch', max=7.0, style=ProgressStyle(description_width='i…"
      ]
     },
     "metadata": {},
     "output_type": "display_data"
    },
    {
     "data": {
      "application/vnd.jupyter.widget-view+json": {
       "model_id": "",
       "version_major": 2,
       "version_minor": 0
      },
      "text/plain": [
       "HBox(children=(FloatProgress(value=0.0, description='Batch', max=7.0, style=ProgressStyle(description_width='i…"
      ]
     },
     "metadata": {},
     "output_type": "display_data"
    },
    {
     "data": {
      "application/vnd.jupyter.widget-view+json": {
       "model_id": "",
       "version_major": 2,
       "version_minor": 0
      },
      "text/plain": [
       "HBox(children=(FloatProgress(value=0.0, description='Batch', max=7.0, style=ProgressStyle(description_width='i…"
      ]
     },
     "metadata": {},
     "output_type": "display_data"
    },
    {
     "data": {
      "application/vnd.jupyter.widget-view+json": {
       "model_id": "",
       "version_major": 2,
       "version_minor": 0
      },
      "text/plain": [
       "HBox(children=(FloatProgress(value=0.0, description='Batch', max=7.0, style=ProgressStyle(description_width='i…"
      ]
     },
     "metadata": {},
     "output_type": "display_data"
    },
    {
     "data": {
      "application/vnd.jupyter.widget-view+json": {
       "model_id": "",
       "version_major": 2,
       "version_minor": 0
      },
      "text/plain": [
       "HBox(children=(FloatProgress(value=0.0, description='Batch', max=7.0, style=ProgressStyle(description_width='i…"
      ]
     },
     "metadata": {},
     "output_type": "display_data"
    },
    {
     "data": {
      "application/vnd.jupyter.widget-view+json": {
       "model_id": "",
       "version_major": 2,
       "version_minor": 0
      },
      "text/plain": [
       "HBox(children=(FloatProgress(value=0.0, description='Batch', max=7.0, style=ProgressStyle(description_width='i…"
      ]
     },
     "metadata": {},
     "output_type": "display_data"
    },
    {
     "data": {
      "application/vnd.jupyter.widget-view+json": {
       "model_id": "",
       "version_major": 2,
       "version_minor": 0
      },
      "text/plain": [
       "HBox(children=(FloatProgress(value=0.0, description='Batch', max=7.0, style=ProgressStyle(description_width='i…"
      ]
     },
     "metadata": {},
     "output_type": "display_data"
    },
    {
     "data": {
      "application/vnd.jupyter.widget-view+json": {
       "model_id": "",
       "version_major": 2,
       "version_minor": 0
      },
      "text/plain": [
       "HBox(children=(FloatProgress(value=0.0, description='Batch', max=7.0, style=ProgressStyle(description_width='i…"
      ]
     },
     "metadata": {},
     "output_type": "display_data"
    },
    {
     "data": {
      "application/vnd.jupyter.widget-view+json": {
       "model_id": "",
       "version_major": 2,
       "version_minor": 0
      },
      "text/plain": [
       "HBox(children=(FloatProgress(value=0.0, description='Batch', max=7.0, style=ProgressStyle(description_width='i…"
      ]
     },
     "metadata": {},
     "output_type": "display_data"
    },
    {
     "data": {
      "application/vnd.jupyter.widget-view+json": {
       "model_id": "",
       "version_major": 2,
       "version_minor": 0
      },
      "text/plain": [
       "HBox(children=(FloatProgress(value=0.0, description='Batch', max=7.0, style=ProgressStyle(description_width='i…"
      ]
     },
     "metadata": {},
     "output_type": "display_data"
    },
    {
     "data": {
      "application/vnd.jupyter.widget-view+json": {
       "model_id": "",
       "version_major": 2,
       "version_minor": 0
      },
      "text/plain": [
       "HBox(children=(FloatProgress(value=0.0, description='Batch', max=7.0, style=ProgressStyle(description_width='i…"
      ]
     },
     "metadata": {},
     "output_type": "display_data"
    },
    {
     "data": {
      "application/vnd.jupyter.widget-view+json": {
       "model_id": "",
       "version_major": 2,
       "version_minor": 0
      },
      "text/plain": [
       "HBox(children=(FloatProgress(value=0.0, description='Batch', max=7.0, style=ProgressStyle(description_width='i…"
      ]
     },
     "metadata": {},
     "output_type": "display_data"
    },
    {
     "data": {
      "application/vnd.jupyter.widget-view+json": {
       "model_id": "",
       "version_major": 2,
       "version_minor": 0
      },
      "text/plain": [
       "HBox(children=(FloatProgress(value=0.0, description='Batch', max=7.0, style=ProgressStyle(description_width='i…"
      ]
     },
     "metadata": {},
     "output_type": "display_data"
    },
    {
     "data": {
      "application/vnd.jupyter.widget-view+json": {
       "model_id": "",
       "version_major": 2,
       "version_minor": 0
      },
      "text/plain": [
       "HBox(children=(FloatProgress(value=0.0, description='Batch', max=7.0, style=ProgressStyle(description_width='i…"
      ]
     },
     "metadata": {},
     "output_type": "display_data"
    },
    {
     "data": {
      "application/vnd.jupyter.widget-view+json": {
       "model_id": "",
       "version_major": 2,
       "version_minor": 0
      },
      "text/plain": [
       "HBox(children=(FloatProgress(value=0.0, description='Batch', max=7.0, style=ProgressStyle(description_width='i…"
      ]
     },
     "metadata": {},
     "output_type": "display_data"
    },
    {
     "data": {
      "application/vnd.jupyter.widget-view+json": {
       "model_id": "",
       "version_major": 2,
       "version_minor": 0
      },
      "text/plain": [
       "HBox(children=(FloatProgress(value=0.0, description='Batch', max=7.0, style=ProgressStyle(description_width='i…"
      ]
     },
     "metadata": {},
     "output_type": "display_data"
    },
    {
     "data": {
      "application/vnd.jupyter.widget-view+json": {
       "model_id": "",
       "version_major": 2,
       "version_minor": 0
      },
      "text/plain": [
       "HBox(children=(FloatProgress(value=0.0, description='Batch', max=7.0, style=ProgressStyle(description_width='i…"
      ]
     },
     "metadata": {},
     "output_type": "display_data"
    },
    {
     "data": {
      "application/vnd.jupyter.widget-view+json": {
       "model_id": "",
       "version_major": 2,
       "version_minor": 0
      },
      "text/plain": [
       "HBox(children=(FloatProgress(value=0.0, description='Batch', max=7.0, style=ProgressStyle(description_width='i…"
      ]
     },
     "metadata": {},
     "output_type": "display_data"
    },
    {
     "data": {
      "application/vnd.jupyter.widget-view+json": {
       "model_id": "",
       "version_major": 2,
       "version_minor": 0
      },
      "text/plain": [
       "HBox(children=(FloatProgress(value=0.0, description='Batch', max=7.0, style=ProgressStyle(description_width='i…"
      ]
     },
     "metadata": {},
     "output_type": "display_data"
    },
    {
     "data": {
      "application/vnd.jupyter.widget-view+json": {
       "model_id": "",
       "version_major": 2,
       "version_minor": 0
      },
      "text/plain": [
       "HBox(children=(FloatProgress(value=0.0, description='Batch', max=7.0, style=ProgressStyle(description_width='i…"
      ]
     },
     "metadata": {},
     "output_type": "display_data"
    },
    {
     "data": {
      "application/vnd.jupyter.widget-view+json": {
       "model_id": "",
       "version_major": 2,
       "version_minor": 0
      },
      "text/plain": [
       "HBox(children=(FloatProgress(value=0.0, description='Batch', max=7.0, style=ProgressStyle(description_width='i…"
      ]
     },
     "metadata": {},
     "output_type": "display_data"
    },
    {
     "data": {
      "application/vnd.jupyter.widget-view+json": {
       "model_id": "",
       "version_major": 2,
       "version_minor": 0
      },
      "text/plain": [
       "HBox(children=(FloatProgress(value=0.0, description='Batch', max=7.0, style=ProgressStyle(description_width='i…"
      ]
     },
     "metadata": {},
     "output_type": "display_data"
    },
    {
     "data": {
      "application/vnd.jupyter.widget-view+json": {
       "model_id": "",
       "version_major": 2,
       "version_minor": 0
      },
      "text/plain": [
       "HBox(children=(FloatProgress(value=0.0, description='Batch', max=7.0, style=ProgressStyle(description_width='i…"
      ]
     },
     "metadata": {},
     "output_type": "display_data"
    },
    {
     "data": {
      "application/vnd.jupyter.widget-view+json": {
       "model_id": "",
       "version_major": 2,
       "version_minor": 0
      },
      "text/plain": [
       "HBox(children=(FloatProgress(value=0.0, description='Batch', max=7.0, style=ProgressStyle(description_width='i…"
      ]
     },
     "metadata": {},
     "output_type": "display_data"
    },
    {
     "data": {
      "application/vnd.jupyter.widget-view+json": {
       "model_id": "",
       "version_major": 2,
       "version_minor": 0
      },
      "text/plain": [
       "HBox(children=(FloatProgress(value=0.0, description='Batch', max=7.0, style=ProgressStyle(description_width='i…"
      ]
     },
     "metadata": {},
     "output_type": "display_data"
    },
    {
     "data": {
      "application/vnd.jupyter.widget-view+json": {
       "model_id": "",
       "version_major": 2,
       "version_minor": 0
      },
      "text/plain": [
       "HBox(children=(FloatProgress(value=0.0, description='Batch', max=7.0, style=ProgressStyle(description_width='i…"
      ]
     },
     "metadata": {},
     "output_type": "display_data"
    },
    {
     "data": {
      "application/vnd.jupyter.widget-view+json": {
       "model_id": "",
       "version_major": 2,
       "version_minor": 0
      },
      "text/plain": [
       "HBox(children=(FloatProgress(value=0.0, description='Batch', max=7.0, style=ProgressStyle(description_width='i…"
      ]
     },
     "metadata": {},
     "output_type": "display_data"
    },
    {
     "data": {
      "application/vnd.jupyter.widget-view+json": {
       "model_id": "",
       "version_major": 2,
       "version_minor": 0
      },
      "text/plain": [
       "HBox(children=(FloatProgress(value=0.0, description='Batch', max=7.0, style=ProgressStyle(description_width='i…"
      ]
     },
     "metadata": {},
     "output_type": "display_data"
    },
    {
     "data": {
      "application/vnd.jupyter.widget-view+json": {
       "model_id": "",
       "version_major": 2,
       "version_minor": 0
      },
      "text/plain": [
       "HBox(children=(FloatProgress(value=0.0, description='Batch', max=7.0, style=ProgressStyle(description_width='i…"
      ]
     },
     "metadata": {},
     "output_type": "display_data"
    },
    {
     "data": {
      "application/vnd.jupyter.widget-view+json": {
       "model_id": "",
       "version_major": 2,
       "version_minor": 0
      },
      "text/plain": [
       "HBox(children=(FloatProgress(value=0.0, description='Batch', max=7.0, style=ProgressStyle(description_width='i…"
      ]
     },
     "metadata": {},
     "output_type": "display_data"
    },
    {
     "data": {
      "application/vnd.jupyter.widget-view+json": {
       "model_id": "",
       "version_major": 2,
       "version_minor": 0
      },
      "text/plain": [
       "HBox(children=(FloatProgress(value=0.0, description='Batch', max=7.0, style=ProgressStyle(description_width='i…"
      ]
     },
     "metadata": {},
     "output_type": "display_data"
    },
    {
     "data": {
      "application/vnd.jupyter.widget-view+json": {
       "model_id": "",
       "version_major": 2,
       "version_minor": 0
      },
      "text/plain": [
       "HBox(children=(FloatProgress(value=0.0, description='Batch', max=7.0, style=ProgressStyle(description_width='i…"
      ]
     },
     "metadata": {},
     "output_type": "display_data"
    },
    {
     "data": {
      "application/vnd.jupyter.widget-view+json": {
       "model_id": "",
       "version_major": 2,
       "version_minor": 0
      },
      "text/plain": [
       "HBox(children=(FloatProgress(value=0.0, description='Batch', max=7.0, style=ProgressStyle(description_width='i…"
      ]
     },
     "metadata": {},
     "output_type": "display_data"
    },
    {
     "data": {
      "application/vnd.jupyter.widget-view+json": {
       "model_id": "",
       "version_major": 2,
       "version_minor": 0
      },
      "text/plain": [
       "HBox(children=(FloatProgress(value=0.0, description='Batch', max=7.0, style=ProgressStyle(description_width='i…"
      ]
     },
     "metadata": {},
     "output_type": "display_data"
    },
    {
     "data": {
      "application/vnd.jupyter.widget-view+json": {
       "model_id": "",
       "version_major": 2,
       "version_minor": 0
      },
      "text/plain": [
       "HBox(children=(FloatProgress(value=0.0, description='Batch', max=7.0, style=ProgressStyle(description_width='i…"
      ]
     },
     "metadata": {},
     "output_type": "display_data"
    },
    {
     "data": {
      "application/vnd.jupyter.widget-view+json": {
       "model_id": "",
       "version_major": 2,
       "version_minor": 0
      },
      "text/plain": [
       "HBox(children=(FloatProgress(value=0.0, description='Batch', max=7.0, style=ProgressStyle(description_width='i…"
      ]
     },
     "metadata": {},
     "output_type": "display_data"
    },
    {
     "data": {
      "application/vnd.jupyter.widget-view+json": {
       "model_id": "",
       "version_major": 2,
       "version_minor": 0
      },
      "text/plain": [
       "HBox(children=(FloatProgress(value=0.0, description='Batch', max=7.0, style=ProgressStyle(description_width='i…"
      ]
     },
     "metadata": {},
     "output_type": "display_data"
    },
    {
     "data": {
      "application/vnd.jupyter.widget-view+json": {
       "model_id": "",
       "version_major": 2,
       "version_minor": 0
      },
      "text/plain": [
       "HBox(children=(FloatProgress(value=0.0, description='Batch', max=7.0, style=ProgressStyle(description_width='i…"
      ]
     },
     "metadata": {},
     "output_type": "display_data"
    },
    {
     "data": {
      "application/vnd.jupyter.widget-view+json": {
       "model_id": "",
       "version_major": 2,
       "version_minor": 0
      },
      "text/plain": [
       "HBox(children=(FloatProgress(value=0.0, description='Batch', max=7.0, style=ProgressStyle(description_width='i…"
      ]
     },
     "metadata": {},
     "output_type": "display_data"
    },
    {
     "data": {
      "application/vnd.jupyter.widget-view+json": {
       "model_id": "",
       "version_major": 2,
       "version_minor": 0
      },
      "text/plain": [
       "HBox(children=(FloatProgress(value=0.0, description='Batch', max=7.0, style=ProgressStyle(description_width='i…"
      ]
     },
     "metadata": {},
     "output_type": "display_data"
    },
    {
     "data": {
      "application/vnd.jupyter.widget-view+json": {
       "model_id": "",
       "version_major": 2,
       "version_minor": 0
      },
      "text/plain": [
       "HBox(children=(FloatProgress(value=0.0, description='Batch', max=7.0, style=ProgressStyle(description_width='i…"
      ]
     },
     "metadata": {},
     "output_type": "display_data"
    },
    {
     "data": {
      "application/vnd.jupyter.widget-view+json": {
       "model_id": "",
       "version_major": 2,
       "version_minor": 0
      },
      "text/plain": [
       "HBox(children=(FloatProgress(value=0.0, description='Batch', max=7.0, style=ProgressStyle(description_width='i…"
      ]
     },
     "metadata": {},
     "output_type": "display_data"
    },
    {
     "data": {
      "application/vnd.jupyter.widget-view+json": {
       "model_id": "",
       "version_major": 2,
       "version_minor": 0
      },
      "text/plain": [
       "HBox(children=(FloatProgress(value=0.0, description='Batch', max=7.0, style=ProgressStyle(description_width='i…"
      ]
     },
     "metadata": {},
     "output_type": "display_data"
    },
    {
     "data": {
      "application/vnd.jupyter.widget-view+json": {
       "model_id": "",
       "version_major": 2,
       "version_minor": 0
      },
      "text/plain": [
       "HBox(children=(FloatProgress(value=0.0, description='Batch', max=7.0, style=ProgressStyle(description_width='i…"
      ]
     },
     "metadata": {},
     "output_type": "display_data"
    },
    {
     "data": {
      "application/vnd.jupyter.widget-view+json": {
       "model_id": "",
       "version_major": 2,
       "version_minor": 0
      },
      "text/plain": [
       "HBox(children=(FloatProgress(value=0.0, description='Batch', max=7.0, style=ProgressStyle(description_width='i…"
      ]
     },
     "metadata": {},
     "output_type": "display_data"
    },
    {
     "data": {
      "application/vnd.jupyter.widget-view+json": {
       "model_id": "",
       "version_major": 2,
       "version_minor": 0
      },
      "text/plain": [
       "HBox(children=(FloatProgress(value=0.0, description='Batch', max=7.0, style=ProgressStyle(description_width='i…"
      ]
     },
     "metadata": {},
     "output_type": "display_data"
    },
    {
     "data": {
      "application/vnd.jupyter.widget-view+json": {
       "model_id": "",
       "version_major": 2,
       "version_minor": 0
      },
      "text/plain": [
       "HBox(children=(FloatProgress(value=0.0, description='Batch', max=7.0, style=ProgressStyle(description_width='i…"
      ]
     },
     "metadata": {},
     "output_type": "display_data"
    },
    {
     "data": {
      "application/vnd.jupyter.widget-view+json": {
       "model_id": "",
       "version_major": 2,
       "version_minor": 0
      },
      "text/plain": [
       "HBox(children=(FloatProgress(value=0.0, description='Batch', max=7.0, style=ProgressStyle(description_width='i…"
      ]
     },
     "metadata": {},
     "output_type": "display_data"
    },
    {
     "data": {
      "application/vnd.jupyter.widget-view+json": {
       "model_id": "",
       "version_major": 2,
       "version_minor": 0
      },
      "text/plain": [
       "HBox(children=(FloatProgress(value=0.0, description='Batch', max=7.0, style=ProgressStyle(description_width='i…"
      ]
     },
     "metadata": {},
     "output_type": "display_data"
    },
    {
     "data": {
      "application/vnd.jupyter.widget-view+json": {
       "model_id": "",
       "version_major": 2,
       "version_minor": 0
      },
      "text/plain": [
       "HBox(children=(FloatProgress(value=0.0, description='Batch', max=7.0, style=ProgressStyle(description_width='i…"
      ]
     },
     "metadata": {},
     "output_type": "display_data"
    },
    {
     "data": {
      "application/vnd.jupyter.widget-view+json": {
       "model_id": "",
       "version_major": 2,
       "version_minor": 0
      },
      "text/plain": [
       "HBox(children=(FloatProgress(value=0.0, description='Batch', max=7.0, style=ProgressStyle(description_width='i…"
      ]
     },
     "metadata": {},
     "output_type": "display_data"
    },
    {
     "data": {
      "application/vnd.jupyter.widget-view+json": {
       "model_id": "",
       "version_major": 2,
       "version_minor": 0
      },
      "text/plain": [
       "HBox(children=(FloatProgress(value=0.0, description='Batch', max=7.0, style=ProgressStyle(description_width='i…"
      ]
     },
     "metadata": {},
     "output_type": "display_data"
    },
    {
     "data": {
      "application/vnd.jupyter.widget-view+json": {
       "model_id": "",
       "version_major": 2,
       "version_minor": 0
      },
      "text/plain": [
       "HBox(children=(FloatProgress(value=0.0, description='Batch', max=7.0, style=ProgressStyle(description_width='i…"
      ]
     },
     "metadata": {},
     "output_type": "display_data"
    },
    {
     "data": {
      "application/vnd.jupyter.widget-view+json": {
       "model_id": "",
       "version_major": 2,
       "version_minor": 0
      },
      "text/plain": [
       "HBox(children=(FloatProgress(value=0.0, description='Batch', max=7.0, style=ProgressStyle(description_width='i…"
      ]
     },
     "metadata": {},
     "output_type": "display_data"
    },
    {
     "data": {
      "application/vnd.jupyter.widget-view+json": {
       "model_id": "",
       "version_major": 2,
       "version_minor": 0
      },
      "text/plain": [
       "HBox(children=(FloatProgress(value=0.0, description='Batch', max=7.0, style=ProgressStyle(description_width='i…"
      ]
     },
     "metadata": {},
     "output_type": "display_data"
    },
    {
     "data": {
      "application/vnd.jupyter.widget-view+json": {
       "model_id": "",
       "version_major": 2,
       "version_minor": 0
      },
      "text/plain": [
       "HBox(children=(FloatProgress(value=0.0, description='Batch', max=7.0, style=ProgressStyle(description_width='i…"
      ]
     },
     "metadata": {},
     "output_type": "display_data"
    },
    {
     "data": {
      "application/vnd.jupyter.widget-view+json": {
       "model_id": "",
       "version_major": 2,
       "version_minor": 0
      },
      "text/plain": [
       "HBox(children=(FloatProgress(value=0.0, description='Batch', max=7.0, style=ProgressStyle(description_width='i…"
      ]
     },
     "metadata": {},
     "output_type": "display_data"
    },
    {
     "data": {
      "application/vnd.jupyter.widget-view+json": {
       "model_id": "",
       "version_major": 2,
       "version_minor": 0
      },
      "text/plain": [
       "HBox(children=(FloatProgress(value=0.0, description='Batch', max=7.0, style=ProgressStyle(description_width='i…"
      ]
     },
     "metadata": {},
     "output_type": "display_data"
    },
    {
     "data": {
      "application/vnd.jupyter.widget-view+json": {
       "model_id": "",
       "version_major": 2,
       "version_minor": 0
      },
      "text/plain": [
       "HBox(children=(FloatProgress(value=0.0, description='Batch', max=7.0, style=ProgressStyle(description_width='i…"
      ]
     },
     "metadata": {},
     "output_type": "display_data"
    },
    {
     "data": {
      "application/vnd.jupyter.widget-view+json": {
       "model_id": "",
       "version_major": 2,
       "version_minor": 0
      },
      "text/plain": [
       "HBox(children=(FloatProgress(value=0.0, description='Batch', max=7.0, style=ProgressStyle(description_width='i…"
      ]
     },
     "metadata": {},
     "output_type": "display_data"
    },
    {
     "data": {
      "application/vnd.jupyter.widget-view+json": {
       "model_id": "",
       "version_major": 2,
       "version_minor": 0
      },
      "text/plain": [
       "HBox(children=(FloatProgress(value=0.0, description='Batch', max=7.0, style=ProgressStyle(description_width='i…"
      ]
     },
     "metadata": {},
     "output_type": "display_data"
    },
    {
     "data": {
      "application/vnd.jupyter.widget-view+json": {
       "model_id": "",
       "version_major": 2,
       "version_minor": 0
      },
      "text/plain": [
       "HBox(children=(FloatProgress(value=0.0, description='Batch', max=7.0, style=ProgressStyle(description_width='i…"
      ]
     },
     "metadata": {},
     "output_type": "display_data"
    },
    {
     "data": {
      "application/vnd.jupyter.widget-view+json": {
       "model_id": "",
       "version_major": 2,
       "version_minor": 0
      },
      "text/plain": [
       "HBox(children=(FloatProgress(value=0.0, description='Batch', max=7.0, style=ProgressStyle(description_width='i…"
      ]
     },
     "metadata": {},
     "output_type": "display_data"
    },
    {
     "data": {
      "application/vnd.jupyter.widget-view+json": {
       "model_id": "",
       "version_major": 2,
       "version_minor": 0
      },
      "text/plain": [
       "HBox(children=(FloatProgress(value=0.0, description='Batch', max=7.0, style=ProgressStyle(description_width='i…"
      ]
     },
     "metadata": {},
     "output_type": "display_data"
    },
    {
     "data": {
      "application/vnd.jupyter.widget-view+json": {
       "model_id": "",
       "version_major": 2,
       "version_minor": 0
      },
      "text/plain": [
       "HBox(children=(FloatProgress(value=0.0, description='Batch', max=7.0, style=ProgressStyle(description_width='i…"
      ]
     },
     "metadata": {},
     "output_type": "display_data"
    },
    {
     "data": {
      "application/vnd.jupyter.widget-view+json": {
       "model_id": "",
       "version_major": 2,
       "version_minor": 0
      },
      "text/plain": [
       "HBox(children=(FloatProgress(value=0.0, description='Batch', max=7.0, style=ProgressStyle(description_width='i…"
      ]
     },
     "metadata": {},
     "output_type": "display_data"
    },
    {
     "data": {
      "application/vnd.jupyter.widget-view+json": {
       "model_id": "",
       "version_major": 2,
       "version_minor": 0
      },
      "text/plain": [
       "HBox(children=(FloatProgress(value=0.0, description='Batch', max=7.0, style=ProgressStyle(description_width='i…"
      ]
     },
     "metadata": {},
     "output_type": "display_data"
    },
    {
     "data": {
      "application/vnd.jupyter.widget-view+json": {
       "model_id": "",
       "version_major": 2,
       "version_minor": 0
      },
      "text/plain": [
       "HBox(children=(FloatProgress(value=0.0, description='Batch', max=7.0, style=ProgressStyle(description_width='i…"
      ]
     },
     "metadata": {},
     "output_type": "display_data"
    },
    {
     "data": {
      "application/vnd.jupyter.widget-view+json": {
       "model_id": "",
       "version_major": 2,
       "version_minor": 0
      },
      "text/plain": [
       "HBox(children=(FloatProgress(value=0.0, description='Batch', max=7.0, style=ProgressStyle(description_width='i…"
      ]
     },
     "metadata": {},
     "output_type": "display_data"
    },
    {
     "data": {
      "application/vnd.jupyter.widget-view+json": {
       "model_id": "",
       "version_major": 2,
       "version_minor": 0
      },
      "text/plain": [
       "HBox(children=(FloatProgress(value=0.0, description='Batch', max=7.0, style=ProgressStyle(description_width='i…"
      ]
     },
     "metadata": {},
     "output_type": "display_data"
    },
    {
     "data": {
      "application/vnd.jupyter.widget-view+json": {
       "model_id": "",
       "version_major": 2,
       "version_minor": 0
      },
      "text/plain": [
       "HBox(children=(FloatProgress(value=0.0, description='Batch', max=7.0, style=ProgressStyle(description_width='i…"
      ]
     },
     "metadata": {},
     "output_type": "display_data"
    },
    {
     "data": {
      "application/vnd.jupyter.widget-view+json": {
       "model_id": "",
       "version_major": 2,
       "version_minor": 0
      },
      "text/plain": [
       "HBox(children=(FloatProgress(value=0.0, description='Batch', max=7.0, style=ProgressStyle(description_width='i…"
      ]
     },
     "metadata": {},
     "output_type": "display_data"
    },
    {
     "data": {
      "application/vnd.jupyter.widget-view+json": {
       "model_id": "",
       "version_major": 2,
       "version_minor": 0
      },
      "text/plain": [
       "HBox(children=(FloatProgress(value=0.0, description='Batch', max=7.0, style=ProgressStyle(description_width='i…"
      ]
     },
     "metadata": {},
     "output_type": "display_data"
    },
    {
     "data": {
      "application/vnd.jupyter.widget-view+json": {
       "model_id": "",
       "version_major": 2,
       "version_minor": 0
      },
      "text/plain": [
       "HBox(children=(FloatProgress(value=0.0, description='Batch', max=7.0, style=ProgressStyle(description_width='i…"
      ]
     },
     "metadata": {},
     "output_type": "display_data"
    },
    {
     "data": {
      "application/vnd.jupyter.widget-view+json": {
       "model_id": "",
       "version_major": 2,
       "version_minor": 0
      },
      "text/plain": [
       "HBox(children=(FloatProgress(value=0.0, description='Batch', max=7.0, style=ProgressStyle(description_width='i…"
      ]
     },
     "metadata": {},
     "output_type": "display_data"
    },
    {
     "data": {
      "application/vnd.jupyter.widget-view+json": {
       "model_id": "",
       "version_major": 2,
       "version_minor": 0
      },
      "text/plain": [
       "HBox(children=(FloatProgress(value=0.0, description='Batch', max=7.0, style=ProgressStyle(description_width='i…"
      ]
     },
     "metadata": {},
     "output_type": "display_data"
    },
    {
     "data": {
      "application/vnd.jupyter.widget-view+json": {
       "model_id": "",
       "version_major": 2,
       "version_minor": 0
      },
      "text/plain": [
       "HBox(children=(FloatProgress(value=0.0, description='Batch', max=7.0, style=ProgressStyle(description_width='i…"
      ]
     },
     "metadata": {},
     "output_type": "display_data"
    },
    {
     "data": {
      "application/vnd.jupyter.widget-view+json": {
       "model_id": "",
       "version_major": 2,
       "version_minor": 0
      },
      "text/plain": [
       "HBox(children=(FloatProgress(value=0.0, description='Batch', max=7.0, style=ProgressStyle(description_width='i…"
      ]
     },
     "metadata": {},
     "output_type": "display_data"
    },
    {
     "data": {
      "application/vnd.jupyter.widget-view+json": {
       "model_id": "",
       "version_major": 2,
       "version_minor": 0
      },
      "text/plain": [
       "HBox(children=(FloatProgress(value=0.0, description='Batch', max=7.0, style=ProgressStyle(description_width='i…"
      ]
     },
     "metadata": {},
     "output_type": "display_data"
    },
    {
     "data": {
      "application/vnd.jupyter.widget-view+json": {
       "model_id": "",
       "version_major": 2,
       "version_minor": 0
      },
      "text/plain": [
       "HBox(children=(FloatProgress(value=0.0, description='Batch', max=7.0, style=ProgressStyle(description_width='i…"
      ]
     },
     "metadata": {},
     "output_type": "display_data"
    },
    {
     "data": {
      "application/vnd.jupyter.widget-view+json": {
       "model_id": "",
       "version_major": 2,
       "version_minor": 0
      },
      "text/plain": [
       "HBox(children=(FloatProgress(value=0.0, description='Batch', max=7.0, style=ProgressStyle(description_width='i…"
      ]
     },
     "metadata": {},
     "output_type": "display_data"
    },
    {
     "data": {
      "application/vnd.jupyter.widget-view+json": {
       "model_id": "",
       "version_major": 2,
       "version_minor": 0
      },
      "text/plain": [
       "HBox(children=(FloatProgress(value=0.0, description='Batch', max=7.0, style=ProgressStyle(description_width='i…"
      ]
     },
     "metadata": {},
     "output_type": "display_data"
    },
    {
     "data": {
      "application/vnd.jupyter.widget-view+json": {
       "model_id": "",
       "version_major": 2,
       "version_minor": 0
      },
      "text/plain": [
       "HBox(children=(FloatProgress(value=0.0, description='Batch', max=7.0, style=ProgressStyle(description_width='i…"
      ]
     },
     "metadata": {},
     "output_type": "display_data"
    },
    {
     "data": {
      "application/vnd.jupyter.widget-view+json": {
       "model_id": "",
       "version_major": 2,
       "version_minor": 0
      },
      "text/plain": [
       "HBox(children=(FloatProgress(value=0.0, description='Batch', max=7.0, style=ProgressStyle(description_width='i…"
      ]
     },
     "metadata": {},
     "output_type": "display_data"
    },
    {
     "data": {
      "application/vnd.jupyter.widget-view+json": {
       "model_id": "",
       "version_major": 2,
       "version_minor": 0
      },
      "text/plain": [
       "HBox(children=(FloatProgress(value=0.0, description='Batch', max=7.0, style=ProgressStyle(description_width='i…"
      ]
     },
     "metadata": {},
     "output_type": "display_data"
    },
    {
     "data": {
      "application/vnd.jupyter.widget-view+json": {
       "model_id": "",
       "version_major": 2,
       "version_minor": 0
      },
      "text/plain": [
       "HBox(children=(FloatProgress(value=0.0, description='Batch', max=7.0, style=ProgressStyle(description_width='i…"
      ]
     },
     "metadata": {},
     "output_type": "display_data"
    },
    {
     "data": {
      "application/vnd.jupyter.widget-view+json": {
       "model_id": "",
       "version_major": 2,
       "version_minor": 0
      },
      "text/plain": [
       "HBox(children=(FloatProgress(value=0.0, description='Batch', max=7.0, style=ProgressStyle(description_width='i…"
      ]
     },
     "metadata": {},
     "output_type": "display_data"
    },
    {
     "data": {
      "application/vnd.jupyter.widget-view+json": {
       "model_id": "",
       "version_major": 2,
       "version_minor": 0
      },
      "text/plain": [
       "HBox(children=(FloatProgress(value=0.0, description='Batch', max=7.0, style=ProgressStyle(description_width='i…"
      ]
     },
     "metadata": {},
     "output_type": "display_data"
    },
    {
     "data": {
      "application/vnd.jupyter.widget-view+json": {
       "model_id": "",
       "version_major": 2,
       "version_minor": 0
      },
      "text/plain": [
       "HBox(children=(FloatProgress(value=0.0, description='Batch', max=7.0, style=ProgressStyle(description_width='i…"
      ]
     },
     "metadata": {},
     "output_type": "display_data"
    },
    {
     "data": {
      "application/vnd.jupyter.widget-view+json": {
       "model_id": "",
       "version_major": 2,
       "version_minor": 0
      },
      "text/plain": [
       "HBox(children=(FloatProgress(value=0.0, description='Batch', max=7.0, style=ProgressStyle(description_width='i…"
      ]
     },
     "metadata": {},
     "output_type": "display_data"
    },
    {
     "data": {
      "application/vnd.jupyter.widget-view+json": {
       "model_id": "",
       "version_major": 2,
       "version_minor": 0
      },
      "text/plain": [
       "HBox(children=(FloatProgress(value=0.0, description='Batch', max=7.0, style=ProgressStyle(description_width='i…"
      ]
     },
     "metadata": {},
     "output_type": "display_data"
    },
    {
     "data": {
      "application/vnd.jupyter.widget-view+json": {
       "model_id": "",
       "version_major": 2,
       "version_minor": 0
      },
      "text/plain": [
       "HBox(children=(FloatProgress(value=0.0, description='Batch', max=7.0, style=ProgressStyle(description_width='i…"
      ]
     },
     "metadata": {},
     "output_type": "display_data"
    },
    {
     "data": {
      "application/vnd.jupyter.widget-view+json": {
       "model_id": "",
       "version_major": 2,
       "version_minor": 0
      },
      "text/plain": [
       "HBox(children=(FloatProgress(value=0.0, description='Batch', max=7.0, style=ProgressStyle(description_width='i…"
      ]
     },
     "metadata": {},
     "output_type": "display_data"
    },
    {
     "data": {
      "application/vnd.jupyter.widget-view+json": {
       "model_id": "",
       "version_major": 2,
       "version_minor": 0
      },
      "text/plain": [
       "HBox(children=(FloatProgress(value=0.0, description='Batch', max=7.0, style=ProgressStyle(description_width='i…"
      ]
     },
     "metadata": {},
     "output_type": "display_data"
    },
    {
     "data": {
      "application/vnd.jupyter.widget-view+json": {
       "model_id": "",
       "version_major": 2,
       "version_minor": 0
      },
      "text/plain": [
       "HBox(children=(FloatProgress(value=0.0, description='Batch', max=7.0, style=ProgressStyle(description_width='i…"
      ]
     },
     "metadata": {},
     "output_type": "display_data"
    },
    {
     "data": {
      "application/vnd.jupyter.widget-view+json": {
       "model_id": "",
       "version_major": 2,
       "version_minor": 0
      },
      "text/plain": [
       "HBox(children=(FloatProgress(value=0.0, description='Batch', max=7.0, style=ProgressStyle(description_width='i…"
      ]
     },
     "metadata": {},
     "output_type": "display_data"
    },
    {
     "data": {
      "application/vnd.jupyter.widget-view+json": {
       "model_id": "",
       "version_major": 2,
       "version_minor": 0
      },
      "text/plain": [
       "HBox(children=(FloatProgress(value=0.0, description='Batch', max=7.0, style=ProgressStyle(description_width='i…"
      ]
     },
     "metadata": {},
     "output_type": "display_data"
    },
    {
     "data": {
      "application/vnd.jupyter.widget-view+json": {
       "model_id": "",
       "version_major": 2,
       "version_minor": 0
      },
      "text/plain": [
       "HBox(children=(FloatProgress(value=0.0, description='Batch', max=7.0, style=ProgressStyle(description_width='i…"
      ]
     },
     "metadata": {},
     "output_type": "display_data"
    },
    {
     "data": {
      "application/vnd.jupyter.widget-view+json": {
       "model_id": "",
       "version_major": 2,
       "version_minor": 0
      },
      "text/plain": [
       "HBox(children=(FloatProgress(value=0.0, description='Batch', max=7.0, style=ProgressStyle(description_width='i…"
      ]
     },
     "metadata": {},
     "output_type": "display_data"
    },
    {
     "data": {
      "application/vnd.jupyter.widget-view+json": {
       "model_id": "",
       "version_major": 2,
       "version_minor": 0
      },
      "text/plain": [
       "HBox(children=(FloatProgress(value=0.0, description='Batch', max=7.0, style=ProgressStyle(description_width='i…"
      ]
     },
     "metadata": {},
     "output_type": "display_data"
    },
    {
     "data": {
      "application/vnd.jupyter.widget-view+json": {
       "model_id": "",
       "version_major": 2,
       "version_minor": 0
      },
      "text/plain": [
       "HBox(children=(FloatProgress(value=0.0, description='Batch', max=7.0, style=ProgressStyle(description_width='i…"
      ]
     },
     "metadata": {},
     "output_type": "display_data"
    },
    {
     "data": {
      "application/vnd.jupyter.widget-view+json": {
       "model_id": "",
       "version_major": 2,
       "version_minor": 0
      },
      "text/plain": [
       "HBox(children=(FloatProgress(value=0.0, description='Batch', max=7.0, style=ProgressStyle(description_width='i…"
      ]
     },
     "metadata": {},
     "output_type": "display_data"
    },
    {
     "data": {
      "application/vnd.jupyter.widget-view+json": {
       "model_id": "",
       "version_major": 2,
       "version_minor": 0
      },
      "text/plain": [
       "HBox(children=(FloatProgress(value=0.0, description='Batch', max=7.0, style=ProgressStyle(description_width='i…"
      ]
     },
     "metadata": {},
     "output_type": "display_data"
    },
    {
     "data": {
      "application/vnd.jupyter.widget-view+json": {
       "model_id": "",
       "version_major": 2,
       "version_minor": 0
      },
      "text/plain": [
       "HBox(children=(FloatProgress(value=0.0, description='Batch', max=7.0, style=ProgressStyle(description_width='i…"
      ]
     },
     "metadata": {},
     "output_type": "display_data"
    },
    {
     "data": {
      "application/vnd.jupyter.widget-view+json": {
       "model_id": "",
       "version_major": 2,
       "version_minor": 0
      },
      "text/plain": [
       "HBox(children=(FloatProgress(value=0.0, description='Batch', max=7.0, style=ProgressStyle(description_width='i…"
      ]
     },
     "metadata": {},
     "output_type": "display_data"
    },
    {
     "data": {
      "application/vnd.jupyter.widget-view+json": {
       "model_id": "",
       "version_major": 2,
       "version_minor": 0
      },
      "text/plain": [
       "HBox(children=(FloatProgress(value=0.0, description='Batch', max=7.0, style=ProgressStyle(description_width='i…"
      ]
     },
     "metadata": {},
     "output_type": "display_data"
    },
    {
     "data": {
      "application/vnd.jupyter.widget-view+json": {
       "model_id": "",
       "version_major": 2,
       "version_minor": 0
      },
      "text/plain": [
       "HBox(children=(FloatProgress(value=0.0, description='Batch', max=7.0, style=ProgressStyle(description_width='i…"
      ]
     },
     "metadata": {},
     "output_type": "display_data"
    },
    {
     "data": {
      "application/vnd.jupyter.widget-view+json": {
       "model_id": "",
       "version_major": 2,
       "version_minor": 0
      },
      "text/plain": [
       "HBox(children=(FloatProgress(value=0.0, description='Batch', max=7.0, style=ProgressStyle(description_width='i…"
      ]
     },
     "metadata": {},
     "output_type": "display_data"
    },
    {
     "data": {
      "application/vnd.jupyter.widget-view+json": {
       "model_id": "",
       "version_major": 2,
       "version_minor": 0
      },
      "text/plain": [
       "HBox(children=(FloatProgress(value=0.0, description='Batch', max=7.0, style=ProgressStyle(description_width='i…"
      ]
     },
     "metadata": {},
     "output_type": "display_data"
    },
    {
     "data": {
      "application/vnd.jupyter.widget-view+json": {
       "model_id": "",
       "version_major": 2,
       "version_minor": 0
      },
      "text/plain": [
       "HBox(children=(FloatProgress(value=0.0, description='Batch', max=7.0, style=ProgressStyle(description_width='i…"
      ]
     },
     "metadata": {},
     "output_type": "display_data"
    },
    {
     "data": {
      "application/vnd.jupyter.widget-view+json": {
       "model_id": "",
       "version_major": 2,
       "version_minor": 0
      },
      "text/plain": [
       "HBox(children=(FloatProgress(value=0.0, description='Batch', max=7.0, style=ProgressStyle(description_width='i…"
      ]
     },
     "metadata": {},
     "output_type": "display_data"
    },
    {
     "data": {
      "application/vnd.jupyter.widget-view+json": {
       "model_id": "",
       "version_major": 2,
       "version_minor": 0
      },
      "text/plain": [
       "HBox(children=(FloatProgress(value=0.0, description='Batch', max=7.0, style=ProgressStyle(description_width='i…"
      ]
     },
     "metadata": {},
     "output_type": "display_data"
    },
    {
     "data": {
      "application/vnd.jupyter.widget-view+json": {
       "model_id": "",
       "version_major": 2,
       "version_minor": 0
      },
      "text/plain": [
       "HBox(children=(FloatProgress(value=0.0, description='Batch', max=7.0, style=ProgressStyle(description_width='i…"
      ]
     },
     "metadata": {},
     "output_type": "display_data"
    },
    {
     "data": {
      "application/vnd.jupyter.widget-view+json": {
       "model_id": "",
       "version_major": 2,
       "version_minor": 0
      },
      "text/plain": [
       "HBox(children=(FloatProgress(value=0.0, description='Batch', max=7.0, style=ProgressStyle(description_width='i…"
      ]
     },
     "metadata": {},
     "output_type": "display_data"
    },
    {
     "data": {
      "application/vnd.jupyter.widget-view+json": {
       "model_id": "",
       "version_major": 2,
       "version_minor": 0
      },
      "text/plain": [
       "HBox(children=(FloatProgress(value=0.0, description='Batch', max=7.0, style=ProgressStyle(description_width='i…"
      ]
     },
     "metadata": {},
     "output_type": "display_data"
    },
    {
     "data": {
      "application/vnd.jupyter.widget-view+json": {
       "model_id": "",
       "version_major": 2,
       "version_minor": 0
      },
      "text/plain": [
       "HBox(children=(FloatProgress(value=0.0, description='Batch', max=7.0, style=ProgressStyle(description_width='i…"
      ]
     },
     "metadata": {},
     "output_type": "display_data"
    },
    {
     "data": {
      "application/vnd.jupyter.widget-view+json": {
       "model_id": "",
       "version_major": 2,
       "version_minor": 0
      },
      "text/plain": [
       "HBox(children=(FloatProgress(value=0.0, description='Batch', max=7.0, style=ProgressStyle(description_width='i…"
      ]
     },
     "metadata": {},
     "output_type": "display_data"
    },
    {
     "data": {
      "application/vnd.jupyter.widget-view+json": {
       "model_id": "",
       "version_major": 2,
       "version_minor": 0
      },
      "text/plain": [
       "HBox(children=(FloatProgress(value=0.0, description='Batch', max=7.0, style=ProgressStyle(description_width='i…"
      ]
     },
     "metadata": {},
     "output_type": "display_data"
    },
    {
     "data": {
      "application/vnd.jupyter.widget-view+json": {
       "model_id": "",
       "version_major": 2,
       "version_minor": 0
      },
      "text/plain": [
       "HBox(children=(FloatProgress(value=0.0, description='Batch', max=7.0, style=ProgressStyle(description_width='i…"
      ]
     },
     "metadata": {},
     "output_type": "display_data"
    },
    {
     "data": {
      "application/vnd.jupyter.widget-view+json": {
       "model_id": "",
       "version_major": 2,
       "version_minor": 0
      },
      "text/plain": [
       "HBox(children=(FloatProgress(value=0.0, description='Batch', max=7.0, style=ProgressStyle(description_width='i…"
      ]
     },
     "metadata": {},
     "output_type": "display_data"
    },
    {
     "data": {
      "application/vnd.jupyter.widget-view+json": {
       "model_id": "",
       "version_major": 2,
       "version_minor": 0
      },
      "text/plain": [
       "HBox(children=(FloatProgress(value=0.0, description='Batch', max=7.0, style=ProgressStyle(description_width='i…"
      ]
     },
     "metadata": {},
     "output_type": "display_data"
    },
    {
     "data": {
      "application/vnd.jupyter.widget-view+json": {
       "model_id": "",
       "version_major": 2,
       "version_minor": 0
      },
      "text/plain": [
       "HBox(children=(FloatProgress(value=0.0, description='Batch', max=7.0, style=ProgressStyle(description_width='i…"
      ]
     },
     "metadata": {},
     "output_type": "display_data"
    },
    {
     "data": {
      "application/vnd.jupyter.widget-view+json": {
       "model_id": "",
       "version_major": 2,
       "version_minor": 0
      },
      "text/plain": [
       "HBox(children=(FloatProgress(value=0.0, description='Batch', max=7.0, style=ProgressStyle(description_width='i…"
      ]
     },
     "metadata": {},
     "output_type": "display_data"
    },
    {
     "data": {
      "application/vnd.jupyter.widget-view+json": {
       "model_id": "",
       "version_major": 2,
       "version_minor": 0
      },
      "text/plain": [
       "HBox(children=(FloatProgress(value=0.0, description='Batch', max=7.0, style=ProgressStyle(description_width='i…"
      ]
     },
     "metadata": {},
     "output_type": "display_data"
    },
    {
     "data": {
      "application/vnd.jupyter.widget-view+json": {
       "model_id": "",
       "version_major": 2,
       "version_minor": 0
      },
      "text/plain": [
       "HBox(children=(FloatProgress(value=0.0, description='Batch', max=7.0, style=ProgressStyle(description_width='i…"
      ]
     },
     "metadata": {},
     "output_type": "display_data"
    },
    {
     "data": {
      "application/vnd.jupyter.widget-view+json": {
       "model_id": "",
       "version_major": 2,
       "version_minor": 0
      },
      "text/plain": [
       "HBox(children=(FloatProgress(value=0.0, description='Batch', max=7.0, style=ProgressStyle(description_width='i…"
      ]
     },
     "metadata": {},
     "output_type": "display_data"
    },
    {
     "data": {
      "application/vnd.jupyter.widget-view+json": {
       "model_id": "",
       "version_major": 2,
       "version_minor": 0
      },
      "text/plain": [
       "HBox(children=(FloatProgress(value=0.0, description='Batch', max=7.0, style=ProgressStyle(description_width='i…"
      ]
     },
     "metadata": {},
     "output_type": "display_data"
    },
    {
     "data": {
      "application/vnd.jupyter.widget-view+json": {
       "model_id": "",
       "version_major": 2,
       "version_minor": 0
      },
      "text/plain": [
       "HBox(children=(FloatProgress(value=0.0, description='Batch', max=7.0, style=ProgressStyle(description_width='i…"
      ]
     },
     "metadata": {},
     "output_type": "display_data"
    },
    {
     "data": {
      "application/vnd.jupyter.widget-view+json": {
       "model_id": "",
       "version_major": 2,
       "version_minor": 0
      },
      "text/plain": [
       "HBox(children=(FloatProgress(value=0.0, description='Batch', max=7.0, style=ProgressStyle(description_width='i…"
      ]
     },
     "metadata": {},
     "output_type": "display_data"
    },
    {
     "data": {
      "application/vnd.jupyter.widget-view+json": {
       "model_id": "",
       "version_major": 2,
       "version_minor": 0
      },
      "text/plain": [
       "HBox(children=(FloatProgress(value=0.0, description='Batch', max=7.0, style=ProgressStyle(description_width='i…"
      ]
     },
     "metadata": {},
     "output_type": "display_data"
    },
    {
     "data": {
      "application/vnd.jupyter.widget-view+json": {
       "model_id": "",
       "version_major": 2,
       "version_minor": 0
      },
      "text/plain": [
       "HBox(children=(FloatProgress(value=0.0, description='Batch', max=7.0, style=ProgressStyle(description_width='i…"
      ]
     },
     "metadata": {},
     "output_type": "display_data"
    },
    {
     "data": {
      "application/vnd.jupyter.widget-view+json": {
       "model_id": "",
       "version_major": 2,
       "version_minor": 0
      },
      "text/plain": [
       "HBox(children=(FloatProgress(value=0.0, description='Batch', max=7.0, style=ProgressStyle(description_width='i…"
      ]
     },
     "metadata": {},
     "output_type": "display_data"
    },
    {
     "data": {
      "application/vnd.jupyter.widget-view+json": {
       "model_id": "",
       "version_major": 2,
       "version_minor": 0
      },
      "text/plain": [
       "HBox(children=(FloatProgress(value=0.0, description='Batch', max=7.0, style=ProgressStyle(description_width='i…"
      ]
     },
     "metadata": {},
     "output_type": "display_data"
    },
    {
     "data": {
      "application/vnd.jupyter.widget-view+json": {
       "model_id": "",
       "version_major": 2,
       "version_minor": 0
      },
      "text/plain": [
       "HBox(children=(FloatProgress(value=0.0, description='Batch', max=7.0, style=ProgressStyle(description_width='i…"
      ]
     },
     "metadata": {},
     "output_type": "display_data"
    },
    {
     "data": {
      "application/vnd.jupyter.widget-view+json": {
       "model_id": "",
       "version_major": 2,
       "version_minor": 0
      },
      "text/plain": [
       "HBox(children=(FloatProgress(value=0.0, description='Batch', max=7.0, style=ProgressStyle(description_width='i…"
      ]
     },
     "metadata": {},
     "output_type": "display_data"
    },
    {
     "data": {
      "application/vnd.jupyter.widget-view+json": {
       "model_id": "",
       "version_major": 2,
       "version_minor": 0
      },
      "text/plain": [
       "HBox(children=(FloatProgress(value=0.0, description='Batch', max=7.0, style=ProgressStyle(description_width='i…"
      ]
     },
     "metadata": {},
     "output_type": "display_data"
    },
    {
     "data": {
      "application/vnd.jupyter.widget-view+json": {
       "model_id": "",
       "version_major": 2,
       "version_minor": 0
      },
      "text/plain": [
       "HBox(children=(FloatProgress(value=0.0, description='Batch', max=7.0, style=ProgressStyle(description_width='i…"
      ]
     },
     "metadata": {},
     "output_type": "display_data"
    },
    {
     "data": {
      "application/vnd.jupyter.widget-view+json": {
       "model_id": "",
       "version_major": 2,
       "version_minor": 0
      },
      "text/plain": [
       "HBox(children=(FloatProgress(value=0.0, description='Batch', max=7.0, style=ProgressStyle(description_width='i…"
      ]
     },
     "metadata": {},
     "output_type": "display_data"
    },
    {
     "data": {
      "application/vnd.jupyter.widget-view+json": {
       "model_id": "",
       "version_major": 2,
       "version_minor": 0
      },
      "text/plain": [
       "HBox(children=(FloatProgress(value=0.0, description='Batch', max=7.0, style=ProgressStyle(description_width='i…"
      ]
     },
     "metadata": {},
     "output_type": "display_data"
    },
    {
     "data": {
      "application/vnd.jupyter.widget-view+json": {
       "model_id": "",
       "version_major": 2,
       "version_minor": 0
      },
      "text/plain": [
       "HBox(children=(FloatProgress(value=0.0, description='Batch', max=7.0, style=ProgressStyle(description_width='i…"
      ]
     },
     "metadata": {},
     "output_type": "display_data"
    },
    {
     "data": {
      "application/vnd.jupyter.widget-view+json": {
       "model_id": "",
       "version_major": 2,
       "version_minor": 0
      },
      "text/plain": [
       "HBox(children=(FloatProgress(value=0.0, description='Batch', max=7.0, style=ProgressStyle(description_width='i…"
      ]
     },
     "metadata": {},
     "output_type": "display_data"
    },
    {
     "data": {
      "application/vnd.jupyter.widget-view+json": {
       "model_id": "",
       "version_major": 2,
       "version_minor": 0
      },
      "text/plain": [
       "HBox(children=(FloatProgress(value=0.0, description='Batch', max=7.0, style=ProgressStyle(description_width='i…"
      ]
     },
     "metadata": {},
     "output_type": "display_data"
    },
    {
     "data": {
      "application/vnd.jupyter.widget-view+json": {
       "model_id": "",
       "version_major": 2,
       "version_minor": 0
      },
      "text/plain": [
       "HBox(children=(FloatProgress(value=0.0, description='Batch', max=7.0, style=ProgressStyle(description_width='i…"
      ]
     },
     "metadata": {},
     "output_type": "display_data"
    },
    {
     "data": {
      "application/vnd.jupyter.widget-view+json": {
       "model_id": "",
       "version_major": 2,
       "version_minor": 0
      },
      "text/plain": [
       "HBox(children=(FloatProgress(value=0.0, description='Batch', max=7.0, style=ProgressStyle(description_width='i…"
      ]
     },
     "metadata": {},
     "output_type": "display_data"
    },
    {
     "data": {
      "application/vnd.jupyter.widget-view+json": {
       "model_id": "",
       "version_major": 2,
       "version_minor": 0
      },
      "text/plain": [
       "HBox(children=(FloatProgress(value=0.0, description='Batch', max=7.0, style=ProgressStyle(description_width='i…"
      ]
     },
     "metadata": {},
     "output_type": "display_data"
    },
    {
     "data": {
      "application/vnd.jupyter.widget-view+json": {
       "model_id": "",
       "version_major": 2,
       "version_minor": 0
      },
      "text/plain": [
       "HBox(children=(FloatProgress(value=0.0, description='Batch', max=7.0, style=ProgressStyle(description_width='i…"
      ]
     },
     "metadata": {},
     "output_type": "display_data"
    },
    {
     "data": {
      "application/vnd.jupyter.widget-view+json": {
       "model_id": "",
       "version_major": 2,
       "version_minor": 0
      },
      "text/plain": [
       "HBox(children=(FloatProgress(value=0.0, description='Batch', max=7.0, style=ProgressStyle(description_width='i…"
      ]
     },
     "metadata": {},
     "output_type": "display_data"
    },
    {
     "data": {
      "application/vnd.jupyter.widget-view+json": {
       "model_id": "",
       "version_major": 2,
       "version_minor": 0
      },
      "text/plain": [
       "HBox(children=(FloatProgress(value=0.0, description='Batch', max=7.0, style=ProgressStyle(description_width='i…"
      ]
     },
     "metadata": {},
     "output_type": "display_data"
    },
    {
     "data": {
      "application/vnd.jupyter.widget-view+json": {
       "model_id": "",
       "version_major": 2,
       "version_minor": 0
      },
      "text/plain": [
       "HBox(children=(FloatProgress(value=0.0, description='Batch', max=7.0, style=ProgressStyle(description_width='i…"
      ]
     },
     "metadata": {},
     "output_type": "display_data"
    },
    {
     "data": {
      "application/vnd.jupyter.widget-view+json": {
       "model_id": "",
       "version_major": 2,
       "version_minor": 0
      },
      "text/plain": [
       "HBox(children=(FloatProgress(value=0.0, description='Batch', max=7.0, style=ProgressStyle(description_width='i…"
      ]
     },
     "metadata": {},
     "output_type": "display_data"
    },
    {
     "data": {
      "application/vnd.jupyter.widget-view+json": {
       "model_id": "",
       "version_major": 2,
       "version_minor": 0
      },
      "text/plain": [
       "HBox(children=(FloatProgress(value=0.0, description='Batch', max=7.0, style=ProgressStyle(description_width='i…"
      ]
     },
     "metadata": {},
     "output_type": "display_data"
    },
    {
     "data": {
      "application/vnd.jupyter.widget-view+json": {
       "model_id": "",
       "version_major": 2,
       "version_minor": 0
      },
      "text/plain": [
       "HBox(children=(FloatProgress(value=0.0, description='Batch', max=7.0, style=ProgressStyle(description_width='i…"
      ]
     },
     "metadata": {},
     "output_type": "display_data"
    },
    {
     "data": {
      "application/vnd.jupyter.widget-view+json": {
       "model_id": "",
       "version_major": 2,
       "version_minor": 0
      },
      "text/plain": [
       "HBox(children=(FloatProgress(value=0.0, description='Batch', max=7.0, style=ProgressStyle(description_width='i…"
      ]
     },
     "metadata": {},
     "output_type": "display_data"
    },
    {
     "data": {
      "application/vnd.jupyter.widget-view+json": {
       "model_id": "",
       "version_major": 2,
       "version_minor": 0
      },
      "text/plain": [
       "HBox(children=(FloatProgress(value=0.0, description='Batch', max=7.0, style=ProgressStyle(description_width='i…"
      ]
     },
     "metadata": {},
     "output_type": "display_data"
    },
    {
     "data": {
      "application/vnd.jupyter.widget-view+json": {
       "model_id": "",
       "version_major": 2,
       "version_minor": 0
      },
      "text/plain": [
       "HBox(children=(FloatProgress(value=0.0, description='Batch', max=7.0, style=ProgressStyle(description_width='i…"
      ]
     },
     "metadata": {},
     "output_type": "display_data"
    },
    {
     "data": {
      "application/vnd.jupyter.widget-view+json": {
       "model_id": "",
       "version_major": 2,
       "version_minor": 0
      },
      "text/plain": [
       "HBox(children=(FloatProgress(value=0.0, description='Batch', max=7.0, style=ProgressStyle(description_width='i…"
      ]
     },
     "metadata": {},
     "output_type": "display_data"
    },
    {
     "data": {
      "application/vnd.jupyter.widget-view+json": {
       "model_id": "",
       "version_major": 2,
       "version_minor": 0
      },
      "text/plain": [
       "HBox(children=(FloatProgress(value=0.0, description='Batch', max=7.0, style=ProgressStyle(description_width='i…"
      ]
     },
     "metadata": {},
     "output_type": "display_data"
    },
    {
     "data": {
      "application/vnd.jupyter.widget-view+json": {
       "model_id": "",
       "version_major": 2,
       "version_minor": 0
      },
      "text/plain": [
       "HBox(children=(FloatProgress(value=0.0, description='Batch', max=7.0, style=ProgressStyle(description_width='i…"
      ]
     },
     "metadata": {},
     "output_type": "display_data"
    },
    {
     "data": {
      "application/vnd.jupyter.widget-view+json": {
       "model_id": "",
       "version_major": 2,
       "version_minor": 0
      },
      "text/plain": [
       "HBox(children=(FloatProgress(value=0.0, description='Batch', max=7.0, style=ProgressStyle(description_width='i…"
      ]
     },
     "metadata": {},
     "output_type": "display_data"
    },
    {
     "data": {
      "application/vnd.jupyter.widget-view+json": {
       "model_id": "",
       "version_major": 2,
       "version_minor": 0
      },
      "text/plain": [
       "HBox(children=(FloatProgress(value=0.0, description='Batch', max=7.0, style=ProgressStyle(description_width='i…"
      ]
     },
     "metadata": {},
     "output_type": "display_data"
    },
    {
     "data": {
      "application/vnd.jupyter.widget-view+json": {
       "model_id": "",
       "version_major": 2,
       "version_minor": 0
      },
      "text/plain": [
       "HBox(children=(FloatProgress(value=0.0, description='Batch', max=7.0, style=ProgressStyle(description_width='i…"
      ]
     },
     "metadata": {},
     "output_type": "display_data"
    },
    {
     "data": {
      "application/vnd.jupyter.widget-view+json": {
       "model_id": "",
       "version_major": 2,
       "version_minor": 0
      },
      "text/plain": [
       "HBox(children=(FloatProgress(value=0.0, description='Batch', max=7.0, style=ProgressStyle(description_width='i…"
      ]
     },
     "metadata": {},
     "output_type": "display_data"
    },
    {
     "data": {
      "application/vnd.jupyter.widget-view+json": {
       "model_id": "",
       "version_major": 2,
       "version_minor": 0
      },
      "text/plain": [
       "HBox(children=(FloatProgress(value=0.0, description='Batch', max=7.0, style=ProgressStyle(description_width='i…"
      ]
     },
     "metadata": {},
     "output_type": "display_data"
    },
    {
     "data": {
      "application/vnd.jupyter.widget-view+json": {
       "model_id": "",
       "version_major": 2,
       "version_minor": 0
      },
      "text/plain": [
       "HBox(children=(FloatProgress(value=0.0, description='Batch', max=7.0, style=ProgressStyle(description_width='i…"
      ]
     },
     "metadata": {},
     "output_type": "display_data"
    },
    {
     "data": {
      "application/vnd.jupyter.widget-view+json": {
       "model_id": "",
       "version_major": 2,
       "version_minor": 0
      },
      "text/plain": [
       "HBox(children=(FloatProgress(value=0.0, description='Batch', max=7.0, style=ProgressStyle(description_width='i…"
      ]
     },
     "metadata": {},
     "output_type": "display_data"
    },
    {
     "data": {
      "application/vnd.jupyter.widget-view+json": {
       "model_id": "",
       "version_major": 2,
       "version_minor": 0
      },
      "text/plain": [
       "HBox(children=(FloatProgress(value=0.0, description='Batch', max=7.0, style=ProgressStyle(description_width='i…"
      ]
     },
     "metadata": {},
     "output_type": "display_data"
    },
    {
     "data": {
      "application/vnd.jupyter.widget-view+json": {
       "model_id": "",
       "version_major": 2,
       "version_minor": 0
      },
      "text/plain": [
       "HBox(children=(FloatProgress(value=0.0, description='Batch', max=7.0, style=ProgressStyle(description_width='i…"
      ]
     },
     "metadata": {},
     "output_type": "display_data"
    },
    {
     "data": {
      "application/vnd.jupyter.widget-view+json": {
       "model_id": "",
       "version_major": 2,
       "version_minor": 0
      },
      "text/plain": [
       "HBox(children=(FloatProgress(value=0.0, description='Batch', max=7.0, style=ProgressStyle(description_width='i…"
      ]
     },
     "metadata": {},
     "output_type": "display_data"
    },
    {
     "data": {
      "application/vnd.jupyter.widget-view+json": {
       "model_id": "",
       "version_major": 2,
       "version_minor": 0
      },
      "text/plain": [
       "HBox(children=(FloatProgress(value=0.0, description='Batch', max=7.0, style=ProgressStyle(description_width='i…"
      ]
     },
     "metadata": {},
     "output_type": "display_data"
    },
    {
     "data": {
      "application/vnd.jupyter.widget-view+json": {
       "model_id": "",
       "version_major": 2,
       "version_minor": 0
      },
      "text/plain": [
       "HBox(children=(FloatProgress(value=0.0, description='Batch', max=7.0, style=ProgressStyle(description_width='i…"
      ]
     },
     "metadata": {},
     "output_type": "display_data"
    },
    {
     "data": {
      "application/vnd.jupyter.widget-view+json": {
       "model_id": "",
       "version_major": 2,
       "version_minor": 0
      },
      "text/plain": [
       "HBox(children=(FloatProgress(value=0.0, description='Batch', max=7.0, style=ProgressStyle(description_width='i…"
      ]
     },
     "metadata": {},
     "output_type": "display_data"
    },
    {
     "data": {
      "application/vnd.jupyter.widget-view+json": {
       "model_id": "",
       "version_major": 2,
       "version_minor": 0
      },
      "text/plain": [
       "HBox(children=(FloatProgress(value=0.0, description='Batch', max=7.0, style=ProgressStyle(description_width='i…"
      ]
     },
     "metadata": {},
     "output_type": "display_data"
    },
    {
     "data": {
      "application/vnd.jupyter.widget-view+json": {
       "model_id": "",
       "version_major": 2,
       "version_minor": 0
      },
      "text/plain": [
       "HBox(children=(FloatProgress(value=0.0, description='Batch', max=7.0, style=ProgressStyle(description_width='i…"
      ]
     },
     "metadata": {},
     "output_type": "display_data"
    },
    {
     "data": {
      "application/vnd.jupyter.widget-view+json": {
       "model_id": "",
       "version_major": 2,
       "version_minor": 0
      },
      "text/plain": [
       "HBox(children=(FloatProgress(value=0.0, description='Batch', max=7.0, style=ProgressStyle(description_width='i…"
      ]
     },
     "metadata": {},
     "output_type": "display_data"
    },
    {
     "data": {
      "application/vnd.jupyter.widget-view+json": {
       "model_id": "",
       "version_major": 2,
       "version_minor": 0
      },
      "text/plain": [
       "HBox(children=(FloatProgress(value=0.0, description='Batch', max=7.0, style=ProgressStyle(description_width='i…"
      ]
     },
     "metadata": {},
     "output_type": "display_data"
    },
    {
     "data": {
      "application/vnd.jupyter.widget-view+json": {
       "model_id": "",
       "version_major": 2,
       "version_minor": 0
      },
      "text/plain": [
       "HBox(children=(FloatProgress(value=0.0, description='Batch', max=7.0, style=ProgressStyle(description_width='i…"
      ]
     },
     "metadata": {},
     "output_type": "display_data"
    },
    {
     "data": {
      "application/vnd.jupyter.widget-view+json": {
       "model_id": "",
       "version_major": 2,
       "version_minor": 0
      },
      "text/plain": [
       "HBox(children=(FloatProgress(value=0.0, description='Batch', max=7.0, style=ProgressStyle(description_width='i…"
      ]
     },
     "metadata": {},
     "output_type": "display_data"
    },
    {
     "data": {
      "application/vnd.jupyter.widget-view+json": {
       "model_id": "",
       "version_major": 2,
       "version_minor": 0
      },
      "text/plain": [
       "HBox(children=(FloatProgress(value=0.0, description='Batch', max=7.0, style=ProgressStyle(description_width='i…"
      ]
     },
     "metadata": {},
     "output_type": "display_data"
    },
    {
     "data": {
      "application/vnd.jupyter.widget-view+json": {
       "model_id": "",
       "version_major": 2,
       "version_minor": 0
      },
      "text/plain": [
       "HBox(children=(FloatProgress(value=0.0, description='Batch', max=7.0, style=ProgressStyle(description_width='i…"
      ]
     },
     "metadata": {},
     "output_type": "display_data"
    },
    {
     "data": {
      "application/vnd.jupyter.widget-view+json": {
       "model_id": "",
       "version_major": 2,
       "version_minor": 0
      },
      "text/plain": [
       "HBox(children=(FloatProgress(value=0.0, description='Batch', max=7.0, style=ProgressStyle(description_width='i…"
      ]
     },
     "metadata": {},
     "output_type": "display_data"
    },
    {
     "data": {
      "application/vnd.jupyter.widget-view+json": {
       "model_id": "",
       "version_major": 2,
       "version_minor": 0
      },
      "text/plain": [
       "HBox(children=(FloatProgress(value=0.0, description='Batch', max=7.0, style=ProgressStyle(description_width='i…"
      ]
     },
     "metadata": {},
     "output_type": "display_data"
    },
    {
     "data": {
      "application/vnd.jupyter.widget-view+json": {
       "model_id": "",
       "version_major": 2,
       "version_minor": 0
      },
      "text/plain": [
       "HBox(children=(FloatProgress(value=0.0, description='Batch', max=7.0, style=ProgressStyle(description_width='i…"
      ]
     },
     "metadata": {},
     "output_type": "display_data"
    },
    {
     "data": {
      "application/vnd.jupyter.widget-view+json": {
       "model_id": "",
       "version_major": 2,
       "version_minor": 0
      },
      "text/plain": [
       "HBox(children=(FloatProgress(value=0.0, description='Batch', max=7.0, style=ProgressStyle(description_width='i…"
      ]
     },
     "metadata": {},
     "output_type": "display_data"
    },
    {
     "data": {
      "application/vnd.jupyter.widget-view+json": {
       "model_id": "",
       "version_major": 2,
       "version_minor": 0
      },
      "text/plain": [
       "HBox(children=(FloatProgress(value=0.0, description='Batch', max=7.0, style=ProgressStyle(description_width='i…"
      ]
     },
     "metadata": {},
     "output_type": "display_data"
    },
    {
     "data": {
      "application/vnd.jupyter.widget-view+json": {
       "model_id": "",
       "version_major": 2,
       "version_minor": 0
      },
      "text/plain": [
       "HBox(children=(FloatProgress(value=0.0, description='Batch', max=7.0, style=ProgressStyle(description_width='i…"
      ]
     },
     "metadata": {},
     "output_type": "display_data"
    },
    {
     "data": {
      "application/vnd.jupyter.widget-view+json": {
       "model_id": "",
       "version_major": 2,
       "version_minor": 0
      },
      "text/plain": [
       "HBox(children=(FloatProgress(value=0.0, description='Batch', max=7.0, style=ProgressStyle(description_width='i…"
      ]
     },
     "metadata": {},
     "output_type": "display_data"
    },
    {
     "data": {
      "application/vnd.jupyter.widget-view+json": {
       "model_id": "",
       "version_major": 2,
       "version_minor": 0
      },
      "text/plain": [
       "HBox(children=(FloatProgress(value=0.0, description='Batch', max=7.0, style=ProgressStyle(description_width='i…"
      ]
     },
     "metadata": {},
     "output_type": "display_data"
    },
    {
     "data": {
      "application/vnd.jupyter.widget-view+json": {
       "model_id": "",
       "version_major": 2,
       "version_minor": 0
      },
      "text/plain": [
       "HBox(children=(FloatProgress(value=0.0, description='Batch', max=7.0, style=ProgressStyle(description_width='i…"
      ]
     },
     "metadata": {},
     "output_type": "display_data"
    },
    {
     "data": {
      "application/vnd.jupyter.widget-view+json": {
       "model_id": "",
       "version_major": 2,
       "version_minor": 0
      },
      "text/plain": [
       "HBox(children=(FloatProgress(value=0.0, description='Batch', max=7.0, style=ProgressStyle(description_width='i…"
      ]
     },
     "metadata": {},
     "output_type": "display_data"
    },
    {
     "data": {
      "application/vnd.jupyter.widget-view+json": {
       "model_id": "",
       "version_major": 2,
       "version_minor": 0
      },
      "text/plain": [
       "HBox(children=(FloatProgress(value=0.0, description='Batch', max=7.0, style=ProgressStyle(description_width='i…"
      ]
     },
     "metadata": {},
     "output_type": "display_data"
    },
    {
     "data": {
      "application/vnd.jupyter.widget-view+json": {
       "model_id": "",
       "version_major": 2,
       "version_minor": 0
      },
      "text/plain": [
       "HBox(children=(FloatProgress(value=0.0, description='Batch', max=7.0, style=ProgressStyle(description_width='i…"
      ]
     },
     "metadata": {},
     "output_type": "display_data"
    },
    {
     "data": {
      "application/vnd.jupyter.widget-view+json": {
       "model_id": "",
       "version_major": 2,
       "version_minor": 0
      },
      "text/plain": [
       "HBox(children=(FloatProgress(value=0.0, description='Batch', max=7.0, style=ProgressStyle(description_width='i…"
      ]
     },
     "metadata": {},
     "output_type": "display_data"
    },
    {
     "data": {
      "application/vnd.jupyter.widget-view+json": {
       "model_id": "",
       "version_major": 2,
       "version_minor": 0
      },
      "text/plain": [
       "HBox(children=(FloatProgress(value=0.0, description='Batch', max=7.0, style=ProgressStyle(description_width='i…"
      ]
     },
     "metadata": {},
     "output_type": "display_data"
    },
    {
     "data": {
      "application/vnd.jupyter.widget-view+json": {
       "model_id": "",
       "version_major": 2,
       "version_minor": 0
      },
      "text/plain": [
       "HBox(children=(FloatProgress(value=0.0, description='Batch', max=7.0, style=ProgressStyle(description_width='i…"
      ]
     },
     "metadata": {},
     "output_type": "display_data"
    },
    {
     "data": {
      "application/vnd.jupyter.widget-view+json": {
       "model_id": "",
       "version_major": 2,
       "version_minor": 0
      },
      "text/plain": [
       "HBox(children=(FloatProgress(value=0.0, description='Batch', max=7.0, style=ProgressStyle(description_width='i…"
      ]
     },
     "metadata": {},
     "output_type": "display_data"
    },
    {
     "data": {
      "application/vnd.jupyter.widget-view+json": {
       "model_id": "",
       "version_major": 2,
       "version_minor": 0
      },
      "text/plain": [
       "HBox(children=(FloatProgress(value=0.0, description='Batch', max=7.0, style=ProgressStyle(description_width='i…"
      ]
     },
     "metadata": {},
     "output_type": "display_data"
    },
    {
     "data": {
      "application/vnd.jupyter.widget-view+json": {
       "model_id": "",
       "version_major": 2,
       "version_minor": 0
      },
      "text/plain": [
       "HBox(children=(FloatProgress(value=0.0, description='Batch', max=7.0, style=ProgressStyle(description_width='i…"
      ]
     },
     "metadata": {},
     "output_type": "display_data"
    },
    {
     "data": {
      "application/vnd.jupyter.widget-view+json": {
       "model_id": "",
       "version_major": 2,
       "version_minor": 0
      },
      "text/plain": [
       "HBox(children=(FloatProgress(value=0.0, description='Batch', max=7.0, style=ProgressStyle(description_width='i…"
      ]
     },
     "metadata": {},
     "output_type": "display_data"
    },
    {
     "data": {
      "application/vnd.jupyter.widget-view+json": {
       "model_id": "",
       "version_major": 2,
       "version_minor": 0
      },
      "text/plain": [
       "HBox(children=(FloatProgress(value=0.0, description='Batch', max=7.0, style=ProgressStyle(description_width='i…"
      ]
     },
     "metadata": {},
     "output_type": "display_data"
    },
    {
     "data": {
      "application/vnd.jupyter.widget-view+json": {
       "model_id": "",
       "version_major": 2,
       "version_minor": 0
      },
      "text/plain": [
       "HBox(children=(FloatProgress(value=0.0, description='Batch', max=7.0, style=ProgressStyle(description_width='i…"
      ]
     },
     "metadata": {},
     "output_type": "display_data"
    },
    {
     "data": {
      "application/vnd.jupyter.widget-view+json": {
       "model_id": "",
       "version_major": 2,
       "version_minor": 0
      },
      "text/plain": [
       "HBox(children=(FloatProgress(value=0.0, description='Batch', max=7.0, style=ProgressStyle(description_width='i…"
      ]
     },
     "metadata": {},
     "output_type": "display_data"
    },
    {
     "name": "stdout",
     "output_type": "stream",
     "text": [
      "\n"
     ]
    }
   ],
   "source": [
    "num_passes = 300\n",
    "model_parallel.fit_offline(batch_vectorizer=batch_vectorizer_parallel, num_collection_passes=num_passes)"
   ]
  },
  {
   "cell_type": "code",
   "execution_count": 376,
   "metadata": {},
   "outputs": [
    {
     "data": {
      "image/png": "[encoded data removed]",
      "text/plain": [
       "<Figure size 432x288 with 1 Axes>"
      ]
     },
     "metadata": {
      "needs_background": "light"
     },
     "output_type": "display_data"
    }
   ],
   "source": [
    "plt.plot(list(range(1, num_passes)), model_parallel.score_tracker['perplexity_score'].value[1:])\n",
    "plt.grid()\n",
    "plt.xlabel('num passes')\n",
    "plt.ylabel('peplexity score')\n",
    "plt.show()"
   ]
  },
  {
   "cell_type": "code",
   "execution_count": 407,
   "metadata": {},
   "outputs": [
    {
     "data": {
      "text/plain": [
       "{'topic_0': ['это',\n",
       "  'энергия',\n",
       "  'вода',\n",
       "  'наш',\n",
       "  'который',\n",
       "  'мочь',\n",
       "  'год',\n",
       "  'проблема',\n",
       "  'весь',\n",
       "  'большой'],\n",
       " 'topic_1': ['это',\n",
       "  'жизнь',\n",
       "  'человек',\n",
       "  'свой',\n",
       "  'наш',\n",
       "  'мочь',\n",
       "  'который',\n",
       "  'друг',\n",
       "  'чувствовать',\n",
       "  'чувство'],\n",
       " 'topic_2': ['это',\n",
       "  'клетка',\n",
       "  'рак',\n",
       "  'который',\n",
       "  'мочь',\n",
       "  'лекарство',\n",
       "  'пациент',\n",
       "  'болезнь',\n",
       "  'исследование',\n",
       "  'лечение'],\n",
       " 'topic_3': ['это',\n",
       "  'технология',\n",
       "  'мочь',\n",
       "  'компьютер',\n",
       "  'дать',\n",
       "  'который',\n",
       "  'машина',\n",
       "  'использовать',\n",
       "  'информация',\n",
       "  'устройство'],\n",
       " 'topic_4': ['женщина',\n",
       "  'это',\n",
       "  'мужчина',\n",
       "  'свой',\n",
       "  'который',\n",
       "  'девочка',\n",
       "  'её',\n",
       "  'весь',\n",
       "  'говорить',\n",
       "  'наш'],\n",
       " 'topic_5': ['ребёнок',\n",
       "  'школа',\n",
       "  'это',\n",
       "  'который',\n",
       "  'образование',\n",
       "  'учитель',\n",
       "  'студент',\n",
       "  'мочь',\n",
       "  'наш',\n",
       "  'учиться'],\n",
       " 'topic_6': ['это',\n",
       "  'страна',\n",
       "  'который',\n",
       "  'африка',\n",
       "  'деньга',\n",
       "  'год',\n",
       "  'экономика',\n",
       "  'рынок',\n",
       "  'мир',\n",
       "  'весь'],\n",
       " 'topic_7': ['смех',\n",
       "  'это',\n",
       "  'всё',\n",
       "  'аплодисменты',\n",
       "  'знать',\n",
       "  'мочь',\n",
       "  'спасибо',\n",
       "  'сказать',\n",
       "  'ещё',\n",
       "  'свой'],\n",
       " 'topic_8': ['это',\n",
       "  'который',\n",
       "  'здание',\n",
       "  'дизайн',\n",
       "  'материал',\n",
       "  'мочь',\n",
       "  'проект',\n",
       "  'всё',\n",
       "  'сделать',\n",
       "  'использовать'],\n",
       " 'topic_9': ['это',\n",
       "  'земля',\n",
       "  'который',\n",
       "  'год',\n",
       "  'мочь',\n",
       "  'планета',\n",
       "  'наш',\n",
       "  'очень',\n",
       "  'весь',\n",
       "  'марс'],\n",
       " 'topic_10': ['музыка',\n",
       "  'это',\n",
       "  'игра',\n",
       "  'звук',\n",
       "  'играть',\n",
       "  'который',\n",
       "  'фильм',\n",
       "  'мочь',\n",
       "  'свой',\n",
       "  'песня'],\n",
       " 'topic_11': ['это',\n",
       "  'который',\n",
       "  'человек',\n",
       "  'интернет',\n",
       "  'мочь',\n",
       "  'сеть',\n",
       "  'весь',\n",
       "  'всё',\n",
       "  'информация',\n",
       "  'дать'],\n",
       " 'topic_12': ['это',\n",
       "  'который',\n",
       "  'мочь',\n",
       "  'днк',\n",
       "  'вид',\n",
       "  'ген',\n",
       "  'жизнь',\n",
       "  'наш',\n",
       "  'растение',\n",
       "  'бактерия'],\n",
       " 'topic_13': ['это',\n",
       "  'который',\n",
       "  'искусство',\n",
       "  'работа',\n",
       "  'фотография',\n",
       "  'книга',\n",
       "  'мочь',\n",
       "  'изображение',\n",
       "  'художник',\n",
       "  'видеть'],\n",
       " 'topic_14': ['человек',\n",
       "  'это',\n",
       "  'мочь',\n",
       "  'вопрос',\n",
       "  'который',\n",
       "  'хороший',\n",
       "  'выбор',\n",
       "  'дать',\n",
       "  'решение',\n",
       "  'результат'],\n",
       " 'topic_15': ['это',\n",
       "  'мир',\n",
       "  'страна',\n",
       "  'который',\n",
       "  'человек',\n",
       "  'война',\n",
       "  'год',\n",
       "  'весь',\n",
       "  'наш',\n",
       "  'политический'],\n",
       " 'topic_16': ['год',\n",
       "  'это',\n",
       "  'человек',\n",
       "  'миллион',\n",
       "  '000',\n",
       "  'весь',\n",
       "  '10',\n",
       "  'всё',\n",
       "  'каждый',\n",
       "  'доллар'],\n",
       " 'topic_17': ['это',\n",
       "  'который',\n",
       "  'человек',\n",
       "  'история',\n",
       "  'мир',\n",
       "  'наш',\n",
       "  'всё',\n",
       "  'свой',\n",
       "  'бог',\n",
       "  'весь'],\n",
       " 'topic_18': ['это',\n",
       "  'который',\n",
       "  'океан',\n",
       "  'животное',\n",
       "  'вода',\n",
       "  'рыба',\n",
       "  'мочь',\n",
       "  'вид',\n",
       "  'лес',\n",
       "  'весь'],\n",
       " 'topic_19': ['мозг',\n",
       "  'это',\n",
       "  'который',\n",
       "  'мочь',\n",
       "  'видеть',\n",
       "  'нейрон',\n",
       "  'наш',\n",
       "  'ваш',\n",
       "  'сознание',\n",
       "  'человек'],\n",
       " 'topic_20': ['это',\n",
       "  'который',\n",
       "  'мочь',\n",
       "  'вселенная',\n",
       "  'наш',\n",
       "  'всё',\n",
       "  'звезда',\n",
       "  'планета',\n",
       "  'свет',\n",
       "  'теория'],\n",
       " 'topic_21': ['город',\n",
       "  'это',\n",
       "  'человек',\n",
       "  'место',\n",
       "  'который',\n",
       "  'наш',\n",
       "  'дом',\n",
       "  'жить',\n",
       "  'улица',\n",
       "  'весь'],\n",
       " 'topic_22': ['это',\n",
       "  'робот',\n",
       "  'мочь',\n",
       "  'который',\n",
       "  'движение',\n",
       "  'нога',\n",
       "  'тело',\n",
       "  'рука',\n",
       "  'очень',\n",
       "  'видеть'],\n",
       " 'topic_23': ['свой',\n",
       "  'сказать',\n",
       "  'год',\n",
       "  'который',\n",
       "  'человек',\n",
       "  'день',\n",
       "  'жизнь',\n",
       "  'всё',\n",
       "  'стать',\n",
       "  'история'],\n",
       " 'topic_24': ['который',\n",
       "  'это',\n",
       "  'человек',\n",
       "  'ребёнок',\n",
       "  'врач',\n",
       "  'мочь',\n",
       "  'медицинский',\n",
       "  'пациент',\n",
       "  'больница',\n",
       "  'здравоохранение'],\n",
       " 'topic_25': ['это',\n",
       "  'человек',\n",
       "  'жизнь',\n",
       "  'год',\n",
       "  'исследование',\n",
       "  'который',\n",
       "  'мочь',\n",
       "  'наш',\n",
       "  'возраст',\n",
       "  'депрессия'],\n",
       " 'topic_26': ['это',\n",
       "  'человек',\n",
       "  'наш',\n",
       "  'работа',\n",
       "  'компания',\n",
       "  'который',\n",
       "  'идея',\n",
       "  'проблема',\n",
       "  'ка',\n",
       "  'работать'],\n",
       " 'topic_27': ['это',\n",
       "  'слово',\n",
       "  'язык',\n",
       "  'который',\n",
       "  'человек',\n",
       "  'говорить',\n",
       "  'всё',\n",
       "  'мочь',\n",
       "  'наш',\n",
       "  'весь'],\n",
       " 'topic_28': ['это',\n",
       "  'который',\n",
       "  'человек',\n",
       "  'мочь',\n",
       "  'закон',\n",
       "  'тюрьма',\n",
       "  'право',\n",
       "  'дело',\n",
       "  'год',\n",
       "  'весь'],\n",
       " 'topic_29': ['это',\n",
       "  'всё',\n",
       "  'мочь',\n",
       "  'который',\n",
       "  'знать',\n",
       "  'очень',\n",
       "  'делать',\n",
       "  'думать',\n",
       "  'хотеть',\n",
       "  'говорить']}"
      ]
     },
     "execution_count": 407,
     "metadata": {},
     "output_type": "execute_result"
    }
   ],
   "source": [
    "model_parallel.score_tracker['ru_top_tokens_score'].last_tokens"
   ]
  },
  {
   "cell_type": "code",
   "execution_count": 408,
   "metadata": {},
   "outputs": [
    {
     "data": {
      "text/plain": [
       "{'topic_0': ['food',\n",
       "  'energy',\n",
       "  'water',\n",
       "  'need',\n",
       "  'climate',\n",
       "  'oil',\n",
       "  'plant',\n",
       "  'world',\n",
       "  'carbon',\n",
       "  'change'],\n",
       " 'topic_1': ['life',\n",
       "  'feel',\n",
       "  'u',\n",
       "  'people',\n",
       "  'love',\n",
       "  'like',\n",
       "  'time',\n",
       "  'experience',\n",
       "  'one',\n",
       "  'way'],\n",
       " 'topic_2': ['cancer',\n",
       "  'cell',\n",
       "  'disease',\n",
       "  'patient',\n",
       "  'drug',\n",
       "  'one',\n",
       "  'blood',\n",
       "  'medicine',\n",
       "  'actually',\n",
       "  'see'],\n",
       " 'topic_3': ['data',\n",
       "  'technology',\n",
       "  'computer',\n",
       "  'car',\n",
       "  'information',\n",
       "  'use',\n",
       "  'phone',\n",
       "  'device',\n",
       "  'world',\n",
       "  'like'],\n",
       " 'topic_4': ['woman',\n",
       "  'men',\n",
       "  'girl',\n",
       "  'sex',\n",
       "  'black',\n",
       "  'like',\n",
       "  'u',\n",
       "  'man',\n",
       "  'boy',\n",
       "  'male'],\n",
       " 'topic_5': ['school',\n",
       "  'kid',\n",
       "  'child',\n",
       "  'student',\n",
       "  'education',\n",
       "  'teacher',\n",
       "  'one',\n",
       "  'learning',\n",
       "  'learn',\n",
       "  'parent'],\n",
       " 'topic_6': ['country',\n",
       "  'money',\n",
       "  'africa',\n",
       "  'world',\n",
       "  'business',\n",
       "  'company',\n",
       "  'market',\n",
       "  'percent',\n",
       "  'economy',\n",
       "  'dollar'],\n",
       " 'topic_7': ['laughter',\n",
       "  'like',\n",
       "  'know',\n",
       "  'applause',\n",
       "  'one',\n",
       "  'right',\n",
       "  'oh',\n",
       "  'say',\n",
       "  'go',\n",
       "  'yeah'],\n",
       " 'topic_8': ['design',\n",
       "  'building',\n",
       "  'material',\n",
       "  'like',\n",
       "  'one',\n",
       "  'project',\n",
       "  'make',\n",
       "  'build',\n",
       "  'space',\n",
       "  'idea'],\n",
       " 'topic_9': ['earth',\n",
       "  'planet',\n",
       "  'ice',\n",
       "  'year',\n",
       "  'time',\n",
       "  'one',\n",
       "  'like',\n",
       "  'mar',\n",
       "  'go',\n",
       "  'see'],\n",
       " 'topic_10': ['music',\n",
       "  'play',\n",
       "  'sound',\n",
       "  'game',\n",
       "  'like',\n",
       "  'film',\n",
       "  'video',\n",
       "  'playing',\n",
       "  'world',\n",
       "  'song'],\n",
       " 'topic_11': ['people',\n",
       "  'internet',\n",
       "  'medium',\n",
       "  'like',\n",
       "  'online',\n",
       "  'one',\n",
       "  'company',\n",
       "  'new',\n",
       "  'world',\n",
       "  'video'],\n",
       " 'topic_12': ['dna',\n",
       "  'one',\n",
       "  'gene',\n",
       "  'life',\n",
       "  'like',\n",
       "  'human',\n",
       "  'cell',\n",
       "  'u',\n",
       "  'specie',\n",
       "  'make'],\n",
       " 'topic_13': ['art',\n",
       "  'image',\n",
       "  'see',\n",
       "  'book',\n",
       "  'one',\n",
       "  'work',\n",
       "  'like',\n",
       "  'artist',\n",
       "  'picture',\n",
       "  'time'],\n",
       " 'topic_14': ['people',\n",
       "  'one',\n",
       "  'think',\n",
       "  'would',\n",
       "  'question',\n",
       "  'good',\n",
       "  'choice',\n",
       "  'make',\n",
       "  'well',\n",
       "  'example'],\n",
       " 'topic_15': ['world',\n",
       "  'country',\n",
       "  'people',\n",
       "  'war',\n",
       "  'u',\n",
       "  'power',\n",
       "  'state',\n",
       "  'political',\n",
       "  'democracy',\n",
       "  'one'],\n",
       " 'topic_16': ['year',\n",
       "  'one',\n",
       "  '000',\n",
       "  'people',\n",
       "  'percent',\n",
       "  'two',\n",
       "  'get',\n",
       "  'million',\n",
       "  'time',\n",
       "  'three'],\n",
       " 'topic_17': ['story',\n",
       "  'world',\n",
       "  'god',\n",
       "  'u',\n",
       "  'one',\n",
       "  'human',\n",
       "  'people',\n",
       "  'say',\n",
       "  'book',\n",
       "  'religion'],\n",
       " 'topic_18': ['ocean',\n",
       "  'animal',\n",
       "  'fish',\n",
       "  'see',\n",
       "  'like',\n",
       "  'water',\n",
       "  'sea',\n",
       "  'specie',\n",
       "  'tree',\n",
       "  'one'],\n",
       " 'topic_19': ['brain',\n",
       "  'see',\n",
       "  'one',\n",
       "  'going',\n",
       "  'like',\n",
       "  'neuron',\n",
       "  'right',\n",
       "  'look',\n",
       "  'different',\n",
       "  'human'],\n",
       " 'topic_20': ['universe',\n",
       "  'see',\n",
       "  'one',\n",
       "  'light',\n",
       "  'like',\n",
       "  'star',\n",
       "  'space',\n",
       "  'planet',\n",
       "  'science',\n",
       "  'time'],\n",
       " 'topic_21': ['city',\n",
       "  'people',\n",
       "  'community',\n",
       "  'new',\n",
       "  'place',\n",
       "  'street',\n",
       "  'like',\n",
       "  'one',\n",
       "  'neighborhood',\n",
       "  'car'],\n",
       " 'topic_22': ['robot',\n",
       "  'see',\n",
       "  'like',\n",
       "  'body',\n",
       "  'one',\n",
       "  'move',\n",
       "  'video',\n",
       "  'leg',\n",
       "  'go',\n",
       "  'use'],\n",
       " 'topic_23': ['said',\n",
       "  'day',\n",
       "  'would',\n",
       "  'year',\n",
       "  'went',\n",
       "  'life',\n",
       "  'one',\n",
       "  'could',\n",
       "  'back',\n",
       "  'story'],\n",
       " 'topic_24': ['health',\n",
       "  'child',\n",
       "  'care',\n",
       "  'hospital',\n",
       "  'people',\n",
       "  'doctor',\n",
       "  'family',\n",
       "  'patient',\n",
       "  'community',\n",
       "  'baby'],\n",
       " 'topic_25': ['people',\n",
       "  'year',\n",
       "  'study',\n",
       "  'life',\n",
       "  'sleep',\n",
       "  'time',\n",
       "  'like',\n",
       "  'age',\n",
       "  'depression',\n",
       "  'stress'],\n",
       " 'topic_26': ['human',\n",
       "  'technology',\n",
       "  'ca',\n",
       "  'u',\n",
       "  'new',\n",
       "  'machine',\n",
       "  'future',\n",
       "  'think',\n",
       "  'work',\n",
       "  'time'],\n",
       " 'topic_27': ['word',\n",
       "  'language',\n",
       "  'people',\n",
       "  'like',\n",
       "  'one',\n",
       "  'think',\n",
       "  'say',\n",
       "  'u',\n",
       "  'english',\n",
       "  'way'],\n",
       " 'topic_28': ['people',\n",
       "  'law',\n",
       "  'u',\n",
       "  'right',\n",
       "  'police',\n",
       "  'government',\n",
       "  'state',\n",
       "  'would',\n",
       "  'one',\n",
       "  'prison'],\n",
       " 'topic_29': ['thing',\n",
       "  'going',\n",
       "  'really',\n",
       "  'know',\n",
       "  'think',\n",
       "  'get',\n",
       "  'people',\n",
       "  'like',\n",
       "  'want',\n",
       "  'go']}"
      ]
     },
     "execution_count": 408,
     "metadata": {},
     "output_type": "execute_result"
    }
   ],
   "source": [
    "model_parallel.score_tracker['en_top_tokens_score'].last_tokens"
   ]
  },
  {
   "cell_type": "markdown",
   "metadata": {},
   "source": [
    "Видим что топ слова тем в русских и английских документах похожи друг на друга."
   ]
  },
  {
   "cell_type": "markdown",
   "metadata": {},
   "source": [
    "Протестируйте качество на трёх задачах перевода. Добейтесь хорошего качества (медиана позиции в выдаче ~ 0, среднее ~ 10). Получить положение в выдаче переводов текстов вам поможет функция get_indexes_of_relevant_documents из модуля lab4_utils. Для того, чтобы всё работало корректно (на тесте не должна быть известна информация о параллельности документов), подавайте в качестве theta результат model.transform(batch_vectorizer_mono).\n",
    "\n",
    "Возможные способы улучшения:\n",
    "* изменять веса модальностей\n",
    "* изменять количество тем, количество итераций обучения\n",
    "* добавлять регуляризаторы (см. бонусную часть)\n",
    "* изменять метрику для поиска ближайших документов\n",
    "* добавлять шаги в предобработку (выделение колокаций)\n",
    "\n",
    "**В первую очередь** рекомендуется подобрать количество тем (в данной задаче хорошо работает небольшое число тем - несколько десятков) и веса модальностей.\n",
    "\n",
    "За нетривиальные подходы могут быть начислены дополнительные бонусные баллы!"
   ]
  },
  {
   "cell_type": "code",
   "execution_count": 409,
   "metadata": {},
   "outputs": [
    {
     "data": {
      "application/vnd.jupyter.widget-view+json": {
       "model_id": "",
       "version_major": 2,
       "version_minor": 0
      },
      "text/plain": [
       "HBox(children=(FloatProgress(value=0.0, description='Batch', max=9.0, style=ProgressStyle(description_width='i…"
      ]
     },
     "metadata": {},
     "output_type": "display_data"
    },
    {
     "data": {
      "application/vnd.jupyter.widget-view+json": {
       "model_id": "",
       "version_major": 2,
       "version_minor": 0
      },
      "text/plain": [
       "HBox(children=(FloatProgress(value=0.0, description='Batch', max=9.0, style=ProgressStyle(description_width='i…"
      ]
     },
     "metadata": {},
     "output_type": "display_data"
    },
    {
     "data": {
      "application/vnd.jupyter.widget-view+json": {
       "model_id": "",
       "version_major": 2,
       "version_minor": 0
      },
      "text/plain": [
       "HBox(children=(FloatProgress(value=0.0, description='Batch', max=9.0, style=ProgressStyle(description_width='i…"
      ]
     },
     "metadata": {},
     "output_type": "display_data"
    }
   ],
   "source": [
    "result = []\n",
    "result.append(get_indexes_of_relevant_documents(model_parallel.transform(batch_vectorizer_mono), ru_es_parallel_docs_test))\n",
    "result.append(get_indexes_of_relevant_documents(model_parallel.transform(batch_vectorizer_mono), ru_en_parallel_docs_test))\n",
    "result.append(get_indexes_of_relevant_documents(model_parallel.transform(batch_vectorizer_mono), es_en_parallel_docs_test))"
   ]
  },
  {
   "cell_type": "code",
   "execution_count": 410,
   "metadata": {},
   "outputs": [
    {
     "name": "stdout",
     "output_type": "stream",
     "text": [
      "Средние значения:\n",
      "ru_es: 10.11625\n",
      "ru_en: 9.19625\n",
      "es_en: 3.56\n"
     ]
    }
   ],
   "source": [
    "print('Средние значения:')\n",
    "print('ru_es:', sum(result[0][0])/len(result[0][0]))\n",
    "print('ru_en:', sum(result[1][0])/len(result[1][0]))\n",
    "print('es_en:', sum(result[2][0])/len(result[2][0]))"
   ]
  },
  {
   "cell_type": "code",
   "execution_count": 411,
   "metadata": {},
   "outputs": [
    {
     "name": "stdout",
     "output_type": "stream",
     "text": [
      "Количество нулевых элементов:\n",
      "ru_es: 455 из 800\n",
      "ru_en: 536 из 800\n",
      "es_en: 654 из 800\n"
     ]
    }
   ],
   "source": [
    "print('Количество нулевых элементов:')\n",
    "print('ru_es:', sum([e == 0 for e in result[0][0]]), 'из', len(result[0][0]))\n",
    "print('ru_en:', sum([e == 0 for e in result[1][0]]), 'из', len(result[1][0]))\n",
    "print('es_en:', sum([e == 0 for e in result[2][0]]), 'из', len(result[2][0]))"
   ]
  },
  {
   "cell_type": "markdown",
   "metadata": {},
   "source": [
    "Проведите анализ ошибок. На каких документах модель отработала лучше всего, на каких хуже всего? Как вы думаете почему?"
   ]
  },
  {
   "cell_type": "markdown",
   "metadata": {},
   "source": [
    "В качестве вывода можно отметить, что модель лучше отработала с английскими и испанскими документами, а вот с русским языком получилось похуже. Это может быть связано с неоптимальным подбором весов модальностей, или же с тем, что английский и испанский языки похожи друг на друга больше, чем на русский язык."
   ]
  }
 ],
 "metadata": {
  "kernelspec": {
   "display_name": "Python 3",
   "language": "python",
   "name": "python3"
  },
  "language_info": {
   "codemirror_mode": {
    "name": "ipython",
    "version": 3
   },
   "file_extension": ".py",
   "mimetype": "text/x-python",
   "name": "python",
   "nbconvert_exporter": "python",
   "pygments_lexer": "ipython3",
   "version": "3.7.3"
  }
 },
 "nbformat": 4,
 "nbformat_minor": 4
}
