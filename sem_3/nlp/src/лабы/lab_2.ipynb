{
 "cells": [
  {
   "cell_type": "markdown",
   "metadata": {},
   "source": [
    "# Лабораторная работа 2 \n",
    "\n",
    "# Распознавание именованных сущностей из Twitter с помощью LSTM\n",
    "\n",
    "### Бобряков А.С."
   ]
  },
  {
   "cell_type": "markdown",
   "metadata": {},
   "source": [
    "## Введение\n",
    "\n",
    "### Постановка задачи\n",
    "\n",
    "В этом задании вы будете использовать рекуррентные нейронные сети для решения проблемы распознавания именованных сущностей (NER). Примерами именованных сущностей являются имена людей, названия организаций, адреса и т.д. В этом задании вы будете работать с данными twitter.\n",
    "\n",
    "Например, вы хотите извлечь имена и названия организаций. Тогда для текста\n",
    "\n",
    "    Yan Goodfellow works for Google Brain\n",
    "\n",
    "модель должна извлечь следующую последовательность:\n",
    "\n",
    "    B-PER I-PER    O     O   B-ORG  I-ORG\n",
    "\n",
    "где префиксы *B-* и *I-* означают начало и конец именованной сущности, *O* означает слово без тега. Такая префиксная система введена, чтобы различать последовательные именованные сущности одного типа.\n",
    "\n",
    "Решение этого задания будет основано на нейронных сетях, а именно на Bi-Directional Long Short-Term Memory Networks (BiLSTMs). В базовой части задания вам также нужно будет улучшить модель при помощи необучаемого пост-процессинга, основанного на алгоритме Витерби и графической модели CRF. В бонусной части вам будем предложено полноценно использовать связку BiLSTM и CRF, обучая обе модели одновременно.\n",
    "\n",
    "### Библиотеки\n",
    "\n",
    "Для этого задания вам понадобятся следующие библиотеки:\n",
    " - [Pytorch](https://pytorch.org/).\n",
    " - [Numpy](http://www.numpy.org).\n",
    " \n",
    "### Данные\n",
    "\n",
    "Все данные содержатся в папке `./data`: `./data/train.txt`, `./data/validation.txt`, `./data/test.txt`.\n",
    "\n",
    "Скачать архив можно здесь: [ссылка на google диск](https://drive.google.com/open?id=1s1rFOFMZTBqtJuQDcIvW-8djA78iUDcx)"
   ]
  },
  {
   "cell_type": "code",
   "execution_count": 1,
   "metadata": {},
   "outputs": [],
   "source": [
    "import numpy as np\n",
    "\n",
    "import torch\n",
    "import torch.nn as nn\n",
    "import torch.optim as optim"
   ]
  },
  {
   "cell_type": "markdown",
   "metadata": {},
   "source": [
    "## Часть 1. Подготовка данных (2 балла)\n",
    "\n",
    "### Загрузка данных\n",
    "\n",
    "Мы будем работать с данными, которые содержат твиты с тегами именованных сущностей. Каждая строка файла содержит пару токен (слово или пунктуация) и тег, разделенные пробелом. Различные твиты разделены пустой строкой.\n",
    "\n",
    "Функция *read_data* считывает корпус из *file_path* и возвращает два списка: один с токенами и один с соответствующими токенам тегами. Также она заменяет все ники (токены, которые начинаются на символ *@*) на токен `<USR>` и url-ы (токены, которые начинаются на *http://* или *https://*) на токен `<URL>`. \n",
    "\n",
    "**<font color='red'>Задание. Реализуйте функцию read_data.</font>**"
   ]
  },
  {
   "cell_type": "code",
   "execution_count": 29,
   "metadata": {},
   "outputs": [],
   "source": [
    "def read_data(file_path):\n",
    "    tokens = []\n",
    "    tags = []\n",
    "    tokens.append([])\n",
    "    tags.append([])\n",
    "    with open(file_path, 'r') as fin:\n",
    "        for s in fin.readlines():\n",
    "            if s != '\\n':                \n",
    "                token, tag = s.split()\n",
    "                if token.startswith('@'):\n",
    "                    token = '<USR>'\n",
    "                if token.startswith('http://') or token.startswith('https://'):\n",
    "                    token = '<URL>'\n",
    "                tokens[-1].append(token)\n",
    "                tags[-1].append(tag)\n",
    "            else:\n",
    "                tokens.append([])\n",
    "                tags.append([])\n",
    "    return tokens, tags"
   ]
  },
  {
   "cell_type": "markdown",
   "metadata": {},
   "source": [
    "Теперь мы можем загрузить 3 части данных:\n",
    " - *train* для тренировки модели;\n",
    " - *validation* для валидации и подбора гиперпараметров;\n",
    " - *test* для финального тестирования."
   ]
  },
  {
   "cell_type": "code",
   "execution_count": 30,
   "metadata": {},
   "outputs": [],
   "source": [
    "train_sentences, train_tags = read_data('data/train.txt')\n",
    "val_sentences, val_tags = read_data('data/validation.txt')\n",
    "test_sentences, test_tags = read_data('data/test.txt')"
   ]
  },
  {
   "cell_type": "markdown",
   "metadata": {},
   "source": [
    "Всегда полезно знать, с какими данными вы работаете. Выведем небольшую часть."
   ]
  },
  {
   "cell_type": "code",
   "execution_count": 32,
   "metadata": {},
   "outputs": [
    {
     "name": "stdout",
     "output_type": "stream",
     "text": [
      "RT\tO\n",
      "<USR>\tO\n",
      ":\tO\n",
      "Online\tO\n",
      "ticket\tO\n",
      "sales\tO\n",
      "for\tO\n",
      "Ghostland\tB-musicartist\n",
      "Observatory\tI-musicartist\n",
      "extended\tO\n",
      "until\tO\n",
      "6\tO\n",
      "PM\tO\n",
      "EST\tO\n",
      "due\tO\n",
      "to\tO\n",
      "high\tO\n",
      "demand\tO\n",
      ".\tO\n",
      "Get\tO\n",
      "them\tO\n",
      "before\tO\n",
      "they\tO\n",
      "sell\tO\n",
      "out\tO\n",
      "...\tO\n",
      "\n",
      "Apple\tB-product\n",
      "MacBook\tI-product\n",
      "Pro\tI-product\n",
      "A1278\tI-product\n",
      "13.3\tI-product\n",
      "\"\tI-product\n",
      "Laptop\tI-product\n",
      "-\tI-product\n",
      "MD101LL/A\tI-product\n",
      "(\tO\n",
      "June\tO\n",
      ",\tO\n",
      "2012\tO\n",
      ")\tO\n",
      "-\tO\n",
      "Full\tO\n",
      "read\tO\n",
      "by\tO\n",
      "eBay\tB-company\n",
      "<URL>\tO\n",
      "<URL>\tO\n",
      "\n",
      "Happy\tO\n",
      "Birthday\tO\n",
      "<USR>\tO\n",
      "!\tO\n",
      "May\tO\n",
      "Allah\tB-person\n",
      "s.w.t\tO\n",
      "bless\tO\n",
      "you\tO\n",
      "with\tO\n",
      "goodness\tO\n",
      "and\tO\n",
      "happiness\tO\n",
      ".\tO\n",
      "\n"
     ]
    }
   ],
   "source": [
    "for i in range(3):\n",
    "    for token, one_tag in zip(train_sentences[i], train_tags[i]):\n",
    "        print('%s\\t%s' % (token, one_tag))\n",
    "    print()"
   ]
  },
  {
   "cell_type": "markdown",
   "metadata": {},
   "source": [
    "### Подготовка словарей\n",
    "\n",
    "Чтобы обучать нейронную сеть, мы будем использовать два отображения.\n",
    "\n",
    "- {token}$\\to${token id}: устанавливает соответствие между токеном и строкой в embedding матрице;\n",
    "- {tag}$\\to${tag id}: one hot encoding тегов.\n",
    "\n",
    "\n",
    "Теперь вам необходимо реализовать функцию *build_dict*, которая должна возвращать словарь {token or tag}$\\to${index} и контейнер, задающий обратное отображение.\n",
    "\n",
    "**<font color='red'>Задание. Реализуйте функцию build_dict.</font>**"
   ]
  },
  {
   "cell_type": "code",
   "execution_count": 41,
   "metadata": {},
   "outputs": [],
   "source": [
    "def build_dict(entities, special_entities):\n",
    "    \"\"\"\n",
    "    Args:\n",
    "        entities: a list of lists of tokens or tags\n",
    "        special_entities: some special tokens\n",
    "        \n",
    "    Returns:\n",
    "        entity_to_idx : mapping to index  \n",
    "        idx_to_entity : mapping from index\n",
    "    \"\"\"\n",
    "    entity_to_idx = dict()\n",
    "    idx_to_entity = []\n",
    "    \n",
    "    # Create mappings from tokens to indices and vice versa\n",
    "    # Add special tokens to dictionaries\n",
    "    # The first special token must have index 0\n",
    "    \n",
    "    idx_to_entity = special_entities\n",
    "    ent_set = set()\n",
    "    for lst in entities:\n",
    "        ent_set.update(lst)\n",
    "    idx_to_entity += list(ent_set)\n",
    "    entity_to_idx = {e: i for i, e in enumerate(idx_to_entity)}\n",
    "    return entity_to_idx, idx_to_entity"
   ]
  },
  {
   "cell_type": "markdown",
   "metadata": {},
   "source": [
    "После реализации функции *build_dict* вы можете создать словари для токенов и тегов. В нашем случае специальными токенами будут:\n",
    " - `<UNK>` токен для обозначаения слов, которых нет в словаре;\n",
    " - `<PAD>` токен для дополнения предложений одного батча до одинаковой длины."
   ]
  },
  {
   "cell_type": "code",
   "execution_count": 42,
   "metadata": {},
   "outputs": [],
   "source": [
    "special_tokens = ['<UNK>', '<PAD>']  # UNK - метка слова которого нет в словаре PAD -для батча слов\n",
    "special_tags = []\n",
    "\n",
    "# Create dictionaries \n",
    "token_to_idx, idx_to_token = build_dict(train_sentences + val_sentences, special_tokens)\n",
    "tag_to_idx, idx_to_tag = build_dict(train_tags, special_tags)"
   ]
  },
  {
   "cell_type": "markdown",
   "metadata": {},
   "source": [
    "### Подготовка датасета и загрузчика\n",
    "\n",
    "Обычно нейронные сети обучаются батчами. Это означает, что каждое обновление весов нейронной сети происходит на основе нескольких последовательностей. Технической деталью является необходимость дополнить все последовательности внутри батча до одной длины. \n",
    "\n",
    "Для начала необходимо реализовать <<датасет>> для хранения ваших данных. Датасет должен наследоваться от стандартного pytorch класса `Dataset` и переопределять методы `__getitem__` и `__len__`. Метод `__getitem__` должен возвращать индексированную последовательность и её теги. Не забудьте про `<UNK>` токен для неизвестных слов!\n",
    "\n",
    "**<font color='red'>Задание. Реализуйте класс TaggingDataset.</font>**"
   ]
  },
  {
   "cell_type": "code",
   "execution_count": 61,
   "metadata": {},
   "outputs": [],
   "source": [
    "from torch.utils.data import Dataset, DataLoader\n",
    "\n",
    "\n",
    "class TaggingDataset(Dataset):\n",
    "    \n",
    "    def __init__(self, sentences, tags, token_to_idx, tag_to_idx):\n",
    "        \"\"\"\n",
    "        Args:\n",
    "            sentences: a list of lists of tokens or tags\n",
    "            tags: some special tokens\n",
    "            token_to_idx: mapping from token to token indexes\n",
    "            tag_to_idx: mapping from tag to tag indexes\n",
    "        \"\"\"\n",
    "        super().__init__()\n",
    "        self.sent_idx = []\n",
    "        self.tag_idx = []\n",
    "        for s in sentences:\n",
    "            self.sent_idx.append(torch.LongTensor([token_to_idx[t if t in token_to_idx else '<UNK>'] for t in s]))\n",
    "        for s in tags:\n",
    "            self.tag_idx.append(torch.LongTensor([tag_to_idx[t] for t in s]))\n",
    "        \n",
    "    def __getitem__(self, idx):\n",
    "        \"\"\"\n",
    "        Args:\n",
    "            idx : int\n",
    "            \n",
    "        Returns:\n",
    "            sentence_idx : torch.tensor of token indexes\n",
    "            tag_idx : torch.tensor of tag indexes\n",
    "        \"\"\"\n",
    "        return self.sent_idx[idx], self.tag_idx[idx]\n",
    "        \n",
    "    \n",
    "    def __len__(self):\n",
    "        return len(self.sent_idx)\n"
   ]
  },
  {
   "cell_type": "markdown",
   "metadata": {},
   "source": [
    "Для того, чтобы дополнять последовательности паддингом, будем использовать параметр `collate_fn` класса `DataLoader`. Принимая последовательность пар тензоров для предложений и тегов, необходимо дополнить все последовательности до последовательности максимальной длины в батче. Используйте специальные теги `<PAD>` и `O` для дополнения.\n",
    "\n",
    "**<font color='red'>Задание. Реализуйте класс PaddingCollator.</font>**"
   ]
  },
  {
   "cell_type": "code",
   "execution_count": 62,
   "metadata": {},
   "outputs": [],
   "source": [
    "from torch.nn.utils.rnn import pad_sequence\n",
    "\n",
    "\n",
    "class PaddingCollator:\n",
    "    def __init__(self,  pad_token_id, pad_tag_id, batch_first=True):\n",
    "        self.pad_token_id = pad_token_id\n",
    "        self.pad_tag_id = pad_tag_id\n",
    "        self.batch_first = batch_first\n",
    "        \n",
    "    def __call__(self, batch):\n",
    "        \"\"\"\n",
    "        Args:\n",
    "            batch: list of tuples of torch.tensors\n",
    "        \n",
    "        Returns:\n",
    "            new_sentences: torch.tensor\n",
    "            new_tags: torch.tensor\n",
    "                Both tensors have the same size \n",
    "        \"\"\"\n",
    "        max_len = max([len(e[0]) for e in batch])\n",
    "        new_sentenses = torch.LongTensor().new_full((len(batch), max_len), self.pad_token_id)\n",
    "        new_tags = torch.LongTensor().new_full((len(batch), max_len), self.pad_tag_id)\n",
    "        for i, e in enumerate(batch):\n",
    "            new_sentenses[i, :len(e[0])] = e[0]\n",
    "            new_tags[i, :len(e[1])] = e[1]\n",
    "        return new_sentenses, new_tags"
   ]
  },
  {
   "cell_type": "markdown",
   "metadata": {},
   "source": [
    "Теперь всё готово, чтобы задать DataLoader. Протестируйте на примере ниже, что всё работает правильно."
   ]
  },
  {
   "cell_type": "code",
   "execution_count": 63,
   "metadata": {},
   "outputs": [],
   "source": [
    "small_dataset = TaggingDataset(\n",
    "    sentences=train_sentences[:7],\n",
    "    tags=train_tags[:7],\n",
    "    token_to_idx=token_to_idx,\n",
    "    tag_to_idx=tag_to_idx,\n",
    ")\n",
    "\n",
    "small_loader = DataLoader(\n",
    "    small_dataset,\n",
    "    batch_size=3,\n",
    "    shuffle=False,\n",
    "    drop_last=False,\n",
    "    collate_fn=PaddingCollator(\n",
    "        pad_token_id=token_to_idx['<PAD>'],\n",
    "        pad_tag_id=tag_to_idx['O'],\n",
    "        batch_first=True,\n",
    "    ),\n",
    ")\n",
    "\n",
    "batch_lengths = [3, 3, 1]\n",
    "sequence_lengths = [26, 25, 8]\n",
    "some_pad_tensor = torch.LongTensor([token_to_idx['<PAD>']] * 12)\n",
    "some_outside_tensor = torch.LongTensor([[tag_to_idx['O']] * 12])\n",
    "\n",
    "for i, (tokens_batch, tags_batch) in enumerate(small_loader):\n",
    "    assert tokens_batch.dtype == torch.int64, 'tokens_batch is not LongTensor'\n",
    "    assert tags_batch.dtype == torch.int64, 'tags_batch is not LongTensor'\n",
    "    \n",
    "    assert len(tokens_batch) == batch_lengths[i], 'wrong batch length'\n",
    "    \n",
    "    for one_token_sequence in tokens_batch:\n",
    "        assert len(one_token_sequence) == sequence_lengths[i], 'wrong length of sequence in batch'\n",
    "    \n",
    "    if i == 0:\n",
    "        assert torch.all(tokens_batch[2][-12:] == some_pad_tensor), \"wrong padding\"       \n",
    "        assert torch.all(tags_batch[2][-12:] == some_outside_tensor), \"wrong O tag\""
   ]
  },
  {
   "cell_type": "markdown",
   "metadata": {},
   "source": [
    "**<font color='red'>Задание. В ячейке ниже задайте датасеты и загрузчики для обучающих, валидационных и тестовых данных.</font>**"
   ]
  },
  {
   "cell_type": "code",
   "execution_count": 67,
   "metadata": {},
   "outputs": [],
   "source": [
    "train_dataset = TaggingDataset(train_sentences, train_tags, token_to_idx, tag_to_idx)\n",
    "val_dataset = TaggingDataset(val_sentences, val_tags, token_to_idx, tag_to_idx)\n",
    "test_dataset = TaggingDataset(test_sentences, test_tags, token_to_idx, tag_to_idx)\n",
    "\n",
    "train_loader = DataLoader(\n",
    "    train_dataset,\n",
    "    batch_size=32,\n",
    "    shuffle=True,\n",
    "    drop_last=False,\n",
    "    collate_fn=PaddingCollator(\n",
    "        pad_token_id=token_to_idx['<PAD>'],\n",
    "        pad_tag_id=tag_to_idx['O'],\n",
    "        batch_first=True,\n",
    "    ),\n",
    ")\n",
    "val_loader = DataLoader(\n",
    "    val_dataset,\n",
    "    batch_size=32,\n",
    "    shuffle=False,\n",
    "    drop_last=False,\n",
    "    collate_fn=PaddingCollator(\n",
    "        pad_token_id=token_to_idx['<PAD>'],\n",
    "        pad_tag_id=tag_to_idx['O'],\n",
    "        batch_first=True,\n",
    "    ),\n",
    ")\n",
    "test_loader = DataLoader(\n",
    "    test_dataset,\n",
    "    batch_size=32,\n",
    "    shuffle=False,\n",
    "    drop_last=False,\n",
    "    collate_fn=PaddingCollator(\n",
    "        pad_token_id=token_to_idx['<PAD>'],\n",
    "        pad_tag_id=tag_to_idx['O'],\n",
    "        batch_first=True,\n",
    "    ),\n",
    ")"
   ]
  },
  {
   "cell_type": "markdown",
   "metadata": {},
   "source": [
    "## Часть 2. BiLSTM-теггер (4 балла)\n",
    "\n",
    "Определите архитектуру сети, используя библиотеку pytorch. \n",
    "\n",
    "Ваша архитектура в этом пункте должна соответствовать стандартному теггеру (см. лекцию):\n",
    "* Embedding слой на входе\n",
    "* Двунаправленный LSTM слой для обработки последовательности\n",
    "* Используйте dropout (заданный отдельно или встроенный в LSTM) для уменьшения переобучения\n",
    "* Linear слой на выходе\n",
    "\n",
    "Для обучения сети используйте поэлементную кросс-энтропийную функцию потерь.\n",
    "**Обратите внимание**, что `<PAD>` токены не должны учавствовать в подсчёте функции потерь. В качестве оптимизатора рекомендуется использовать Adam. Для получения значений предсказаний по выходам модели используйте функцию $\\arg\\max$. \n",
    "\n",
    "**<font color='red'>Задание. Задайте архитектуру сети и требуемые методы.</font>**"
   ]
  },
  {
   "cell_type": "code",
   "execution_count": 139,
   "metadata": {},
   "outputs": [],
   "source": [
    "# LSTM - рекурентная сетка с механизмом забыванием НЕНУЖНЫХ слов. Важность первых слов минимизируются пропорционально длине\n",
    "# предложения входящего\n",
    "\n",
    "# Bi - двунаправленная (пробегает проедлложение в две стороны). Суммирует внутренние числа и подаает на полносвязанный слой\n",
    "class BiLSTMModel(torch.nn.Module):\n",
    "    def __init__(\n",
    "        self,\n",
    "        vocabulary_size,\n",
    "        tag_space_size,\n",
    "        pad_token_idx,\n",
    "        embedding_dim,\n",
    "        lstm_hidden_size,\n",
    "        dropout_zeroed_probability=0.5,\n",
    "        device='cpu'\n",
    "    ):\n",
    "        '''\n",
    "        Defines neural network structure.\n",
    "        \n",
    "        architecture: input -> Embedding -> BiLSTM with Dropout -> Linear\n",
    "        \n",
    "        ----------\n",
    "        Parameters\n",
    "        \n",
    "        vocabulary_size: int, number of words in vocabulary.\n",
    "        tag_space_size: int, number of tags.\n",
    "        pad_token_idx: int, index of padding character. Used for loss masking.\n",
    "        embedding_dim: int, dimension of words' embeddings.\n",
    "        lstm_hidden_size: int, number of hidden units in each LSTM cell\n",
    "        dropout_zeroed_probability: float, dropout zeroed probability for Dropout layer.\n",
    "        device: str, cpu or cuda:x\n",
    "        '''\n",
    "        super().__init__()\n",
    "        self.embedding = nn.Embedding(\n",
    "            vocabulary_size, \n",
    "            embedding_dim, \n",
    "            padding_idx=pad_token_idx,\n",
    "            max_norm=1\n",
    "        )\n",
    "        self.lstm = nn.LSTM(\n",
    "            input_size=embedding_dim,\n",
    "            hidden_size=lstm_hidden_size,\n",
    "            batch_first=True,\n",
    "            bidirectional=True\n",
    "        )\n",
    "        self.dropout = nn.Dropout(dropout_zeroed_probability)\n",
    "        self.linear = nn.Linear(2*lstm_hidden_size, tag_space_size)\n",
    "        \n",
    "    def forward(self, x_batch):\n",
    "        '''\n",
    "        Makes forward pass.\n",
    "        \n",
    "        ----------\n",
    "        Parameters\n",
    "        x_batch: torch.LongTensor with shape (number of samples in batch, number words in sentence).\n",
    "        '''\n",
    "        x = self.embedding(x_batch)\n",
    "        x = self.lstm(x)\n",
    "        bs, max_len, input_size = x[0].shape\n",
    "        x = self.dropout(x[0])\n",
    "        x = self.linear(x.reshape(-1, input_size))\n",
    "        return x.reshape(bs, max_len, -1)\n",
    "    \n",
    "    def predict_for_batch(self, x_batch):\n",
    "        '''\n",
    "        Returns predictions for x_batch. Use argmax function.\n",
    "        \n",
    "        return type: torch.LongTensor\n",
    "        return shape: (number of samples in batch, number words in sentence.\n",
    "        \n",
    "        ----------\n",
    "        Parameters\n",
    "        x_batch: torch.LongTensor with shape (number of samples in batch, number words in sentence).\n",
    "        '''\n",
    "        out = self.forward(x_batch)\n",
    "        return torch.argmax(out, dim=2)"
   ]
  },
  {
   "cell_type": "markdown",
   "metadata": {},
   "source": [
    "Для тестирования сети мы подготовили для вас класс ScoreEvaluator с двумя полезными методами:\n",
    " - *predict_tags*: получает батч данных и трансформирует его в список из токенов и предсказанных тегов;\n",
    " - *eval_conll*: вычисляет метрики precision, recall и F1"
   ]
  },
  {
   "cell_type": "code",
   "execution_count": 87,
   "metadata": {},
   "outputs": [],
   "source": [
    "from evaluation_ner import ScoreEvaluator\n",
    "\n",
    "evaluator = ScoreEvaluator(\n",
    "    token_to_idx=token_to_idx,\n",
    "    idx_to_tag=idx_to_tag,\n",
    "    idx_to_token=idx_to_token,\n",
    ")"
   ]
  },
  {
   "cell_type": "markdown",
   "metadata": {},
   "source": [
    "### Эксперименты\n",
    "\n",
    "Задайте BiLSTMModel. Рекомендуем начать с параметров:\n",
    "- *batch_size*: 32;\n",
    "- начальное значение *learning_rate*: 0.01-0.001\n",
    "- *dropout_zeroed_probability*: 0.5-0.7\n",
    "- *embedding_dim*: 100-200\n",
    "- *rnn_hidden_size*: 150-200"
   ]
  },
  {
   "cell_type": "markdown",
   "metadata": {},
   "source": [
    "Проведите эксперименты на данных. Настраивайте параметры по валидационной выборке, не используя тестовую. Ваше цель — настроить сеть так, чтобы качество модели по F1 мере на валидационной и тестовой выборках было не меньше 0.35. При некотором усердии, можно достичь результата 0.45 по F1 на обоих датасетах.\n",
    "\n",
    "Если сеть плохо обучается, попробуйте использовать следующие модификации:\n",
    "    * используйте gradient clipping \n",
    "    * ограничивайте норму эмбеддингов через параметр max_norm (сопоставляйте с значениями в клиппинге)\n",
    "    * на каждой итерации уменьшайте learning rate (например, в 1.1 раз)\n",
    "    * попробуйте вместо Adam другие оптимизаторы\n",
    "    * используйте l2 регуляризацию\n",
    "    * экспериментируйте с значением dropout\n",
    "\n",
    "Сделайте выводы о качестве модели, переобучении, чувствительности архитектуры к выбору гиперпараметров. Оформите результаты экспериментов в виде мини-отчета (в этом же ipython notebook).\n",
    "\n",
    "**<font color='red'>Задание. Проведите требуемые эксперименты.</font>**"
   ]
  },
  {
   "cell_type": "code",
   "execution_count": 187,
   "metadata": {},
   "outputs": [],
   "source": [
    "model = BiLSTMModel(\n",
    "    vocabulary_size=len(token_to_idx),\n",
    "    tag_space_size=len(tag_to_idx),\n",
    "    pad_token_idx=token_to_idx['<PAD>'],\n",
    "    embedding_dim=150,\n",
    "    lstm_hidden_size=150,\n",
    "    dropout_zeroed_probability=0.7\n",
    ")    "
   ]
  },
  {
   "cell_type": "code",
   "execution_count": 188,
   "metadata": {},
   "outputs": [],
   "source": [
    "optimizer = torch.optim.Adam(model.parameters(), lr=1e-3, weight_decay=1e-4)\n",
    "loss_function = nn.CrossEntropyLoss()"
   ]
  },
  {
   "cell_type": "code",
   "execution_count": 189,
   "metadata": {},
   "outputs": [],
   "source": [
    "all_losses = []"
   ]
  },
  {
   "cell_type": "code",
   "execution_count": 211,
   "metadata": {},
   "outputs": [
    {
     "data": {
      "application/vnd.jupyter.widget-view+json": {
       "model_id": "b929806159f148acb3195a36d8c97e86",
       "version_major": 2,
       "version_minor": 0
      },
      "text/plain": [
       "HBox(children=(FloatProgress(value=0.0, max=5.0), HTML(value='')))"
      ]
     },
     "metadata": {},
     "output_type": "display_data"
    },
    {
     "data": {
      "application/vnd.jupyter.widget-view+json": {
       "model_id": "",
       "version_major": 2,
       "version_minor": 0
      },
      "text/plain": [
       "HBox(children=(FloatProgress(value=0.0, max=182.0), HTML(value='')))"
      ]
     },
     "metadata": {},
     "output_type": "display_data"
    },
    {
     "data": {
      "application/vnd.jupyter.widget-view+json": {
       "model_id": "",
       "version_major": 2,
       "version_minor": 0
      },
      "text/plain": [
       "HBox(children=(FloatProgress(value=0.0, max=182.0), HTML(value='')))"
      ]
     },
     "metadata": {},
     "output_type": "display_data"
    },
    {
     "data": {
      "application/vnd.jupyter.widget-view+json": {
       "model_id": "",
       "version_major": 2,
       "version_minor": 0
      },
      "text/plain": [
       "HBox(children=(FloatProgress(value=0.0, max=182.0), HTML(value='')))"
      ]
     },
     "metadata": {},
     "output_type": "display_data"
    },
    {
     "data": {
      "application/vnd.jupyter.widget-view+json": {
       "model_id": "",
       "version_major": 2,
       "version_minor": 0
      },
      "text/plain": [
       "HBox(children=(FloatProgress(value=0.0, max=182.0), HTML(value='')))"
      ]
     },
     "metadata": {},
     "output_type": "display_data"
    },
    {
     "data": {
      "application/vnd.jupyter.widget-view+json": {
       "model_id": "",
       "version_major": 2,
       "version_minor": 0
      },
      "text/plain": [
       "HBox(children=(FloatProgress(value=0.0, max=182.0), HTML(value='')))"
      ]
     },
     "metadata": {},
     "output_type": "display_data"
    },
    {
     "name": "stdout",
     "output_type": "stream",
     "text": [
      "\n"
     ]
    }
   ],
   "source": [
    "from tqdm.notebook import tqdm\n",
    "\n",
    "model.train()\n",
    "for epoch in tqdm(range(5)):\n",
    "    sum_loss = 0\n",
    "    for sentences, tags in tqdm(train_loader, leave=False):\n",
    "        out = model(sentences)\n",
    "        loss = loss_function(out.permute(0, 2, 1), tags)\n",
    "        optimizer.zero_grad()\n",
    "        loss.backward()\n",
    "        optimizer.step()\n",
    "        sum_loss += loss.detach()\n",
    "    all_losses.append(sum_loss)        "
   ]
  },
  {
   "cell_type": "code",
   "execution_count": 217,
   "metadata": {},
   "outputs": [
    {
     "data": {
      "image/png": "[encoded data removed]",
      "text/plain": [
       "<Figure size 432x288 with 1 Axes>"
      ]
     },
     "metadata": {
      "needs_background": "light"
     },
     "output_type": "display_data"
    }
   ],
   "source": [
    "from matplotlib import pyplot as plt\n",
    "\n",
    "plt.semilogy(all_losses)\n",
    "plt.grid()\n",
    "plt.xlabel('Epoch')\n",
    "plt.title('Sum losses')\n",
    "plt.show()"
   ]
  },
  {
   "cell_type": "code",
   "execution_count": 423,
   "metadata": {},
   "outputs": [
    {
     "data": {
      "text/plain": [
       "{'precision': 48.170731707317074,\n",
       " 'recall': 29.422718808193668,\n",
       " 'f1': 36.53179190751445,\n",
       " 'n_predicted_entities': 328,\n",
       " 'n_true_entities': 537}"
      ]
     },
     "execution_count": 423,
     "metadata": {},
     "output_type": "execute_result"
    }
   ],
   "source": [
    "model.eval()\n",
    "evaluator.eval_conll(model, val_loader)"
   ]
  },
  {
   "cell_type": "code",
   "execution_count": 424,
   "metadata": {},
   "outputs": [
    {
     "data": {
      "text/plain": [
       "{'precision': 48.24120603015076,\n",
       " 'recall': 31.788079470198674,\n",
       " 'f1': 38.32335329341318,\n",
       " 'n_predicted_entities': 398,\n",
       " 'n_true_entities': 604}"
      ]
     },
     "execution_count": 424,
     "metadata": {},
     "output_type": "execute_result"
    }
   ],
   "source": [
    "model.eval()\n",
    "evaluator.eval_conll(model, test_loader)"
   ]
  },
  {
   "cell_type": "code",
   "execution_count": 425,
   "metadata": {},
   "outputs": [
    {
     "data": {
      "text/plain": [
       "{'precision': 84.04947916666667,\n",
       " 'recall': 86.27756738694586,\n",
       " 'f1': 85.14895020336374,\n",
       " 'n_predicted_entities': 4608,\n",
       " 'n_true_entities': 4489}"
      ]
     },
     "execution_count": 425,
     "metadata": {},
     "output_type": "execute_result"
    }
   ],
   "source": [
    "model.eval()\n",
    "evaluator.eval_conll(model, train_loader)"
   ]
  },
  {
   "cell_type": "code",
   "execution_count": 216,
   "metadata": {},
   "outputs": [],
   "source": [
    "import pickle\n",
    "with open('./BiLSTM.bin', 'wb') as fout:\n",
    "    pickle.dump(model, fout)\n",
    "with open('./BiLSTM_losses.bin', 'wb') as fout:\n",
    "    pickle.dump(all_losses, fout)"
   ]
  },
  {
   "cell_type": "markdown",
   "metadata": {},
   "source": [
    "Качество модели получилось удовлетворительным даже без gradient clipping. Архитектура оказалась чувствительной к выбору вероятности dropout. Увеличение этой вероятности помогло сильно повысить качество. После 40 эпох замтно падение качества из-за переобучения."
   ]
  },
  {
   "cell_type": "markdown",
   "metadata": {},
   "source": [
    "## Необучаемый пост-процессинг результата (4 балла).\n",
    "\n",
    "Для обучения нейросетевой модели разметки используется поэлементная кросс-энтропия. При использовании на этапе инференса функции $\\arg \\max$ для получения выходной последовательности, мы не можем гарантировать согласованность предсказаний. Для согласованности необходимо вместо $\\arg \\max$ использовать другие функции получения предсказаний.\n",
    "\n",
    "В модели CRF для получения предсказаний используется алгоритм Витерби. Напомним, что модель CRF моделирует вероятность последовательности $y$ при условии $x$ линейной моделью с вектором весов $w \\in \\mathbb{R}^d$, которая после некоторых преобразований записывается следующим образом:\n",
    "$$\n",
    "p(y|x, w) = \\frac{1}{Z(x, w)} \\exp\\left( \\sum_{i=1}^n \\sum_{j = 1}^d w_j f_j(y_{i-1}, y_i, x_i, i) \\right) =  \\frac{1}{Z(x, w)} \\exp\\left( \\sum_{i=1}^n G_{x, i}[y_{i-1}, y_i] \\right)\n",
    "$$\n",
    "\n",
    "Модель необучаемого пост-процессинга **подробно описана** в приложении к заданию. Она сводится к следующим шагам.\n",
    "\n",
    "1. Реализовать модель CRF с двумя признаками:\n",
    "    \n",
    "    * Лог-софтмакс выходов модели (выход, соответствующий $y_i$ тэгу для i-го токена будем обозначать $S_{i,y_i}$)    \n",
    "    \n",
    "    $$\n",
    "    f_1(y_{i-1}, y_i, x_i, i) = S_{i,y_i}\n",
    "    $$\n",
    "    \n",
    "    * Логарифмы вероятностей переходов\n",
    "\n",
    "    $$\n",
    "    f_2(y_{i-1}, y_i, x_i, i) = \\log A[v=y_{i}, u=y_{i-1}] \\mathbb{I}[i > 1] \\times \\log C[v = y_i] \\mathbb{I}[i = 1], \\quad \\text{где:}\n",
    "    $$\n",
    "\n",
    "    $$A_{vu} = \\frac{\\sum_{y}\\sum_{i=2}^{|y|} \\mathbb{I}[y_{i} = v, y_{i - 1} = u]}{\\sum_{y}\\sum_{i=2}^{|y|} \\mathbb{I}[y_{i-1} = u]}\n",
    "    $$\n",
    "    $$\n",
    "    C_v = \\frac{\\sum_{y}\\mathbb{I}[y_{1} = v]}{\\sum_{y}1}\n",
    "    $$\n",
    "    \n",
    "2. Реализовать процедуру получения оптимальной выходной последовательности, используя алгоритм Витерби\n",
    "\n",
    "3. Подобрать на валидационной выборке веса модели $w_1$ и $w_2$\n",
    "\n",
    "Для исходной модели, дающей на валидационной и тестовой выборке F1 меру 0.408 и 0.46 соответственно, качество после такого пост-процессинга выросло до 0.461 и 0.493. Заметим, что для тестирования модели не нужно переобучать исходную модель. Для более устойчивого поведения модели, используйте сглаживание матрицы $A$ (добавьте перед нормировкой ко всем значениям одинаковое небольшое число).\n",
    "\n",
    "**<font color='red'>Задание. Реализуйте требуемую модель, добейтесь улучшения качества на валидации и тесте, сделайте выводы.</font>**"
   ]
  },
  {
   "cell_type": "code",
   "execution_count": 433,
   "metadata": {},
   "outputs": [],
   "source": [
    "import torch.nn.functional as F\n",
    "\n",
    "# Алгоритм Витерби. Обработка данных после кросс ентропии. \n",
    "class ViterbiPostprocesser:    \n",
    "    def __init__(self, model, tag_space_size, smoothing=1.0, w=1.0):\n",
    "        \"\"\"\n",
    "        model : torch.nn.Module\n",
    "            Tagging model\n",
    "        smoothing : float, constant in add-k-smoothing\n",
    "        w : feature weight\n",
    "             Use w for first feature weight and (1 - w) for second feature.\n",
    "        \"\"\"\n",
    "        self.model = model\n",
    "        self.smoothing = smoothing\n",
    "        self.w = w\n",
    "        self.tss = tag_space_size\n",
    "        \n",
    "    def fit(self, dataset):\n",
    "        \"\"\"\n",
    "        Fit the model using maximum likelihood method.\n",
    "        \n",
    "        dataset: torch.dataset\n",
    "            One element if pair (sentence, tags) \n",
    "        \"\"\"\n",
    "        self.A = torch.Tensor().new_full((self.tss, self.tss), self.smoothing)\n",
    "        self.C = torch.zeros(self.tss)\n",
    "        for sentence, tags in dataset:\n",
    "            if len(tags):\n",
    "                self.C[tags[0]] += 1\n",
    "            for i in range(1, len(tags)):\n",
    "                self.A[tags[i], tags[i-1]] += 1\n",
    "                self.C[tags[i]] += 1\n",
    "        self.A /= self.A.sum(dim=0)\n",
    "        self.C /= self.C.sum()\n",
    "        self.A = self.A.log()\n",
    "        self.C = self.C.log()\n",
    "        \n",
    "    def decode(self, model_logprobs):\n",
    "        \"\"\"\n",
    "        Viterbi decoding for input model output\n",
    "        \n",
    "        model_logprobs : torch.tensor\n",
    "            Shape is (sequence_length, tag_space_size) \n",
    "        \"\"\"\n",
    "        delta = torch.zeros(model_logprobs.shape)\n",
    "        s = torch.zeros(model_logprobs.shape)\n",
    "        delta[0] = self.C + model_logprobs[0]\n",
    "        for i in range(1, len(delta)):\n",
    "            for k in range(delta.shape[1]):\n",
    "                delta[i][k] = (delta[i-1] + (1 - self.w)*self.A[k] + self.w*model_logprobs[i][k]).max()\n",
    "                s[i][k] = (delta[i-1] + (1 - self.w)*self.A[k] + self.w*model_logprobs[i][k]).argmax()\n",
    "        prediction = torch.LongTensor(size=(len(model_logprobs),))\n",
    "        prediction[-1] = delta[-1].argmax()\n",
    "        for i in range(len(model_logprobs)-1):\n",
    "            prediction[-i-2] = s[-i-1, prediction[-i-1]]\n",
    "        return prediction\n",
    "    \n",
    "    def predict_for_batch(self, x_batch):\n",
    "        \"\"\"\n",
    "        Returns predictions for x_batch. Use viterbi decoding.\n",
    "        \n",
    "        return type: torch.LongTensor\n",
    "        return shape: (number of samples in batch, number words in sentence.\n",
    "        \n",
    "        ----------\n",
    "        Parameters\n",
    "        x_batch: torch.LongTensor with shape (number of samples in batch, number words in sentence).\n",
    "        \"\"\"\n",
    "        predictions = torch.LongTensor(x_batch.shape)\n",
    "        log_probs = F.log_softmax(self.model(x_batch), dim=2)\n",
    "        for i, lp in enumerate(log_probs):\n",
    "            predictions[i] = self.decode(lp)\n",
    "        return predictions"
   ]
  },
  {
   "cell_type": "markdown",
   "metadata": {},
   "source": [
    "Место для ваших экспериментов:"
   ]
  },
  {
   "cell_type": "code",
   "execution_count": 442,
   "metadata": {},
   "outputs": [
    {
     "data": {
      "application/vnd.jupyter.widget-view+json": {
       "model_id": "a7bede2511d54167b932a1a2a38be468",
       "version_major": 2,
       "version_minor": 0
      },
      "text/plain": [
       "HBox(children=(FloatProgress(value=0.0, max=6.0), HTML(value='')))"
      ]
     },
     "metadata": {},
     "output_type": "display_data"
    },
    {
     "name": "stdout",
     "output_type": "stream",
     "text": [
      "\n"
     ]
    }
   ],
   "source": [
    "W = [0.5, 0.6, 0.7, 0.8, 0.9, 1]\n",
    "val_f1 = []\n",
    "\n",
    "for w in tqdm(W):\n",
    "    model.eval()\n",
    "    VP = ViterbiPostprocesser(model, len(tag_to_idx), w=w)       \n",
    "    VP.fit(train_dataset)\n",
    "    score = evaluator.eval_conll(VP, val_loader)\n",
    "    val_f1.append(score['f1'])"
   ]
  },
  {
   "cell_type": "code",
   "execution_count": 443,
   "metadata": {},
   "outputs": [
    {
     "data": {
      "text/plain": [
       "[32.20338983050847,\n",
       " 34.45491251682369,\n",
       " 36.69250645994832,\n",
       " 36.523929471032744,\n",
       " 35.960591133004925,\n",
       " 35.11269276393831]"
      ]
     },
     "execution_count": 443,
     "metadata": {},
     "output_type": "execute_result"
    }
   ],
   "source": [
    "val_f1"
   ]
  },
  {
   "cell_type": "code",
   "execution_count": 440,
   "metadata": {},
   "outputs": [
    {
     "data": {
      "application/vnd.jupyter.widget-view+json": {
       "model_id": "126af5f987b54794b1792f0a2a743483",
       "version_major": 2,
       "version_minor": 0
      },
      "text/plain": [
       "HBox(children=(FloatProgress(value=0.0, max=6.0), HTML(value='')))"
      ]
     },
     "metadata": {},
     "output_type": "display_data"
    },
    {
     "name": "stdout",
     "output_type": "stream",
     "text": [
      "\n"
     ]
    }
   ],
   "source": [
    "W = [0.5, 0.6, 0.7, 0.8, 0.9, 1]\n",
    "test_f1 = []\n",
    "\n",
    "for w in tqdm(W):\n",
    "    model.eval()\n",
    "    VP = ViterbiPostprocesser(model, len(tag_to_idx), w=w)       \n",
    "    VP.fit(train_dataset)\n",
    "    score = evaluator.eval_conll(VP, test_loader)\n",
    "    test_f1.append(score['f1'])"
   ]
  },
  {
   "cell_type": "code",
   "execution_count": 441,
   "metadata": {},
   "outputs": [
    {
     "data": {
      "text/plain": [
       "[32.493702770780864,\n",
       " 38.443396226415096,\n",
       " 39.542857142857144,\n",
       " 40.308370044052865,\n",
       " 39.53241232731138,\n",
       " 37.06720977596741]"
      ]
     },
     "execution_count": 441,
     "metadata": {},
     "output_type": "execute_result"
    }
   ],
   "source": [
    "test_f1"
   ]
  }
 ],
 "metadata": {
  "kernelspec": {
   "display_name": "Python 3",
   "language": "python",
   "name": "python3"
  },
  "language_info": {
   "codemirror_mode": {
    "name": "ipython",
    "version": 3
   },
   "file_extension": ".py",
   "mimetype": "text/x-python",
   "name": "python",
   "nbconvert_exporter": "python",
   "pygments_lexer": "ipython3",
   "version": "3.7.3"
  }
 },
 "nbformat": 4,
 "nbformat_minor": 4
}
